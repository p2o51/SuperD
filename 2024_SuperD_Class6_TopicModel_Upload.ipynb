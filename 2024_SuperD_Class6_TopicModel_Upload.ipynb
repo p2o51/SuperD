{
 "cells": [
  {
   "cell_type": "markdown",
   "metadata": {},
   "source": [
    "# Import module"
   ]
  },
  {
   "cell_type": "code",
   "execution_count": 22,
   "metadata": {},
   "outputs": [],
   "source": [
    "import pandas as pd\n",
    "from urllib import request\n",
    "from urllib.error import HTTPError\n",
    "import matplotlib.pyplot as plt\n",
    "import numpy as np\n",
    "from janome.tokenizer import Tokenizer\n",
    "from gensim import corpora, models\n",
    "import re\n",
    "import unicodedata\n",
    "from collections import Counter\n",
    "import requests\n",
    "import datetime\n",
    "\n",
    "#import japanize_matplotlib\n",
    "\n",
    "# Change fontype of pyplot\n",
    "import matplotlib.font_manager\n",
    "#print([f.name for f in matplotlib.font_manager.fontManager.ttflist])\n",
    "plt.rcParams['font.family'] = 'MS Gothic'\n",
    "# For mac use\n",
    "#plt.rcParams['font.family'] = 'AppleGothic'\n"
   ]
  },
  {
   "cell_type": "markdown",
   "metadata": {},
   "source": [
    "# Load"
   ]
  },
  {
   "cell_type": "code",
   "execution_count": 23,
   "metadata": {},
   "outputs": [],
   "source": [
    "# Load\n",
    "df = pd.read_csv(\"SuperD_Class5_keiki.csv\",low_memory=False)\n",
    "# change to datetime format\n",
    "df[\"date\"] = pd.to_datetime(df[\"date\"],format=\"%Y_%m_%d\")\n",
    "cond = df[\"date\"] > datetime.datetime.strptime(\"2017_03_31\",\"%Y_%m_%d\")\n",
    "df = df.loc[cond]"
   ]
  },
  {
   "cell_type": "code",
   "execution_count": 24,
   "metadata": {},
   "outputs": [
    {
     "data": {
      "text/plain": [
       "230070"
      ]
     },
     "execution_count": 24,
     "metadata": {},
     "output_type": "execute_result"
    }
   ],
   "source": [
    "len(df)"
   ]
  },
  {
   "cell_type": "code",
   "execution_count": 25,
   "metadata": {},
   "outputs": [],
   "source": [
    "cond = df[\"text\"] != \"－\"\n",
    "df_tmp = df.loc[cond]"
   ]
  },
  {
   "cell_type": "code",
   "execution_count": 26,
   "metadata": {},
   "outputs": [
    {
     "data": {
      "text/plain": [
       "type\n",
       "future    119890\n",
       "now       104662\n",
       "Name: count, dtype: int64"
      ]
     },
     "execution_count": 26,
     "metadata": {},
     "output_type": "execute_result"
    }
   ],
   "source": [
    "df_tmp[\"type\"].value_counts()"
   ]
  },
  {
   "cell_type": "code",
   "execution_count": null,
   "metadata": {},
   "outputs": [],
   "source": []
  },
  {
   "cell_type": "code",
   "execution_count": null,
   "metadata": {},
   "outputs": [],
   "source": []
  },
  {
   "cell_type": "markdown",
   "metadata": {},
   "source": [
    "# Restrict to region industry pairs that has more than 1000 records"
   ]
  },
  {
   "cell_type": "code",
   "execution_count": 27,
   "metadata": {},
   "outputs": [],
   "source": [
    "cond = df[\"industry\"] != \"－\"\n",
    "df = df.loc[cond].copy()\n",
    "df[\"region-industry\"] = df[\"region\"] + \"-\" + df[\"industry\"]\n",
    "\n",
    "df_reg_ind = pd.DataFrame(df[[\"region\",\"industry\",\"region-industry\"]].value_counts())\n",
    "df_reg_ind.reset_index(inplace=True)\n",
    "df_reg_ind.columns = [\"region\",\"industry\",\"region-industry\",\"count\"]\n",
    "cond = (df_reg_ind[\"count\"] > 999) \n",
    "df_reg_ind_use = df_reg_ind.loc[cond].copy()\n",
    "\n",
    "use_region_industry = dict()\n",
    "for text in df_reg_ind_use[\"region-industry\"]:\n",
    "    use_region_industry.update({text:1})\n",
    "df[\"hantei\"] = df[\"region-industry\"].map(use_region_industry)\n",
    "cond =df[\"hantei\"] == 1\n",
    "\n",
    "df = df.loc[cond].copy()\n",
    "\n",
    "date2index = dict()\n",
    "uni_dates = list(set(df[\"date\"]))\n",
    "uni_dates.sort()\n",
    "for i in range(len(uni_dates)):\n",
    "    date2index.update({uni_dates[i]:i})\n",
    "    \n",
    "df_reg_ind_use.sort_values(by=[\"industry\",\"region\"],ascending=[True,True],inplace=True)"
   ]
  },
  {
   "cell_type": "code",
   "execution_count": null,
   "metadata": {},
   "outputs": [],
   "source": []
  },
  {
   "cell_type": "markdown",
   "metadata": {},
   "source": [
    "# MODIFY: Add something here"
   ]
  },
  {
   "cell_type": "code",
   "execution_count": 29,
   "metadata": {},
   "outputs": [
    {
     "name": "stdout",
     "output_type": "stream",
     "text": [
      "Number of selected region-industry pairs: 3\n"
     ]
    }
   ],
   "source": [
    "# Create select_ind list from df_reg_ind_use\n",
    "select_ind = list(df_reg_ind_use[\"region-industry\"])\n",
    "print(f\"Number of selected region-industry pairs: {len(select_ind)}\")"
   ]
  },
  {
   "cell_type": "code",
   "execution_count": 30,
   "metadata": {},
   "outputs": [
    {
     "name": "stdout",
     "output_type": "stream",
     "text": [
      "CPU times: user 96.4 ms, sys: 6.42 ms, total: 103 ms\n",
      "Wall time: 103 ms\n"
     ]
    }
   ],
   "source": [
    "%%time\n",
    "docs,doc_info = [],[]\n",
    "for i in range(len(select_ind)):  # Changed to use select_ind instead of df_reg_ind_use\n",
    "    region_industry = select_ind[i]  # Get region_industry directly from select_ind\n",
    "    v1 = region_industry.split(\"-\")\n",
    "    region = v1[0]\n",
    "    industry = v1[1]\n",
    "    # Restrict to a region industry pair\n",
    "    cond = df[\"region-industry\"] == region_industry \n",
    "    df_tmp = df.loc[cond].copy()\n",
    "    uni_dates = list(set(df_tmp[\"date\"]))\n",
    "    uni_dates.sort()\n",
    "    for j in range(len(uni_dates)):\n",
    "        cond = df_tmp[\"date\"] == uni_dates[j]\n",
    "        df_tmp_2 = df_tmp.loc[cond].copy()\n",
    "        all_text = \"\"\n",
    "        for k in range(len(df_tmp_2)):\n",
    "            text = df_tmp_2[\"text\"].iloc[k]\n",
    "            text = text.replace(\"\\n\",\"\")\n",
    "            text = text.replace(\" \",\"\")\n",
    "            text = text.replace(\"・\",\"\")\n",
    "            text = re.sub(r'[!\"#$%&\\'\\\\\\\\()*+,-./:;<=>?@[\\\\]^_`{|}~「」〔〕\"\"〈〉『』【】＆＊・（）＄＃＠。、？！｀＋￥％]', '', text)\n",
    "            text = re.sub(r'\\d+', '0', text)\n",
    "            text = unicodedata.normalize('NFKC', text)\n",
    "            text = text.lower()\n",
    "            all_text += text\n",
    "        docs.append(all_text)\n",
    "        doc_info.append([region, industry, uni_dates[j], i, date2index[uni_dates[j]]])"
   ]
  },
  {
   "cell_type": "code",
   "execution_count": null,
   "metadata": {},
   "outputs": [],
   "source": []
  },
  {
   "cell_type": "markdown",
   "metadata": {},
   "source": [
    "# Save for future use"
   ]
  },
  {
   "cell_type": "code",
   "execution_count": 31,
   "metadata": {},
   "outputs": [],
   "source": [
    "df.to_csv(\"SuperD_Class6_region_industry_record.csv\",index=False)"
   ]
  },
  {
   "cell_type": "code",
   "execution_count": null,
   "metadata": {},
   "outputs": [],
   "source": []
  },
  {
   "cell_type": "markdown",
   "metadata": {},
   "source": [
    "# Topic Model"
   ]
  },
  {
   "cell_type": "markdown",
   "metadata": {},
   "source": [
    "# Preprocess"
   ]
  },
  {
   "cell_type": "code",
   "execution_count": 32,
   "metadata": {},
   "outputs": [
    {
     "name": "stdout",
     "output_type": "stream",
     "text": [
      "CPU times: user 5.79 s, sys: 26.7 ms, total: 5.82 s\n",
      "Wall time: 5.9 s\n"
     ]
    }
   ],
   "source": [
    "%%time\n",
    "# Step 3: Tokenize Japanese text\n",
    "\n",
    "# Make sure to import the tokenizer library. Here, we're using Janome's Tokenizer.\n",
    "from janome.tokenizer import Tokenizer\n",
    "# Initialize the tokenizer for performing morphological analysis on Japanese text\n",
    "tokenizer = Tokenizer()\n",
    "\n",
    "# Function to apply the tokenizer to a document and extract specific parts of speech\n",
    "def apply_tokenizer(document):\n",
    "    # Perform morphological analysis, returning the surface form (word) for selected parts of speech\n",
    "    return [token.surface for token in tokenizer.tokenize(document) \n",
    "            if token.part_of_speech.split(',')[0] in ['名詞', '動詞', '形容詞']]  # Extract nouns, verbs, adjectives, adverbs, and auxiliary verbs\n",
    "\n",
    "# Apply the tokenizer to all documents in the 'docs' list\n",
    "texts = [apply_tokenizer(doc) for doc in docs]"
   ]
  },
  {
   "cell_type": "code",
   "execution_count": null,
   "metadata": {},
   "outputs": [],
   "source": []
  },
  {
   "cell_type": "code",
   "execution_count": 33,
   "metadata": {},
   "outputs": [],
   "source": [
    "#ストップワード除去\n",
    "##超高頻度語と超低頻度語の除去\n",
    "def get_frequency_stopwords(texts, n=5, min_freq=1):\n",
    "    \"\"\"\n",
    "    Generates stopwords based on frequency. \n",
    "    Words that appear in the top `n` most common, or appear `min_freq` or fewer times, are considered stopwords.\n",
    "    \n",
    "    n: Number of most common words to treat as stopwords.\n",
    "    min_freq: Words that appear this many times or fewer are considered rare and treated as stopwords.\n",
    "    \"\"\"\n",
    "    fdist = Counter()\n",
    "    for text in texts:\n",
    "        for word in text:\n",
    "            fdist[word] += 1\n",
    "    \n",
    "    # Get the most common `n` words\n",
    "    common_words = {word for word, freq in fdist.most_common(n)} \n",
    "    # Get words with frequency <= min_freq (rare words)\n",
    "    rare_words = {word for word, freq in fdist.items() if freq <= min_freq}\n",
    "    # Combine common and rare words into the stopword list\n",
    "    frequency_stopwords = common_words.union(rare_words)\n",
    "    print(f'Frequency-based stopwords: {len(frequency_stopwords)}/{len(fdist)} total words.')\n",
    "    \n",
    "    return frequency_stopwords\n",
    "\n",
    "##ストップワード辞書に基づく除去\n",
    "def get_dictionary_stopwords(url=\"http://svn.sourceforge.jp/svnroot/slothlib/CSharp/Version1/SlothLib/NLP/Filter/StopWord/word/Japanese.txt\"):\n",
    "    try:\n",
    "        # Fetch the stopwords from the URL\n",
    "        r = requests.get(url)\n",
    "        r.raise_for_status()  # Check if the request was successful (status code 200)\n",
    "    except requests.exceptions.RequestException as e:\n",
    "        # Print error and return an empty set if the request fails\n",
    "        print(f\"Error fetching stopwords from URL: {e}\")\n",
    "        return set()\n",
    "\n",
    "    # Split the response text into individual words based on carriage return and newline characters\n",
    "    tmp = r.text.split('\\r\\n')\n",
    "    dictionary_stopwords = []\n",
    "    \n",
    "    # Filter out empty lines\n",
    "    for word in tmp:\n",
    "        if len(word) > 0:  # Skip empty strings\n",
    "            dictionary_stopwords.append(word)\n",
    "    \n",
    "    # Add single-character Hiragana (ぁ - ゖ) to the stopword list\n",
    "    dictionary_stopwords += [chr(i) for i in range(ord(\"ぁ\"), ord(\"ゖ\")+1)] \n",
    "    \n",
    "    # Add specific words, e.g., auxiliary verbs like 'いる'\n",
    "    dictionary_stopwords.append(\"いる\")\n",
    "    \n",
    "    # Return the stopword list as a set\n",
    "    print(f'Dictionary-based stopwords: {len(dictionary_stopwords)}')\n",
    "    return set(dictionary_stopwords)\n",
    "\n",
    "\n",
    "##2種類のストップワードリストを結合\n",
    "def get_stopwords(texts):\n",
    "    frequency_stopwords = get_frequency_stopwords(texts)\n",
    "    dictionary_stopwords = get_dictionary_stopwords()\n",
    "    stopwords = frequency_stopwords.union(dictionary_stopwords)\n",
    "    return stopwords\n",
    "\n",
    "def remove_stopwords(words, stopwords):\n",
    "    words = [word for word in words if word not in stopwords]\n",
    "    return words\n",
    "\n",
    "###適用###\n",
    "def preprocess(texts):\n",
    "    stopwords = get_stopwords(texts)\n",
    "    preprocessed_texts = [remove_stopwords(text,stopwords) for text in texts]\n",
    "    return preprocessed_texts"
   ]
  },
  {
   "cell_type": "code",
   "execution_count": null,
   "metadata": {},
   "outputs": [],
   "source": []
  },
  {
   "cell_type": "markdown",
   "metadata": {},
   "source": [
    "# MODIFY: DO SOMETHING HERE"
   ]
  },
  {
   "cell_type": "markdown",
   "metadata": {},
   "source": [
    "添加一个过滤步骤来移除过短的文本，并相应地更新 doc_info。"
   ]
  },
  {
   "cell_type": "code",
   "execution_count": 34,
   "metadata": {},
   "outputs": [
    {
     "name": "stdout",
     "output_type": "stream",
     "text": [
      "Frequency-based stopwords: 1577/4133 total words.\n"
     ]
    },
    {
     "name": "stderr",
     "output_type": "stream",
     "text": [
      "findfont: Font family 'MS Gothic' not found.\n",
      "findfont: Font family 'MS Gothic' not found.\n",
      "findfont: Font family 'MS Gothic' not found.\n",
      "findfont: Font family 'MS Gothic' not found.\n",
      "findfont: Font family 'MS Gothic' not found.\n",
      "findfont: Font family 'MS Gothic' not found.\n",
      "findfont: Font family 'MS Gothic' not found.\n",
      "findfont: Font family 'MS Gothic' not found.\n",
      "findfont: Font family 'MS Gothic' not found.\n",
      "findfont: Font family 'MS Gothic' not found.\n",
      "findfont: Font family 'MS Gothic' not found.\n",
      "findfont: Font family 'MS Gothic' not found.\n",
      "findfont: Font family 'MS Gothic' not found.\n",
      "findfont: Font family 'MS Gothic' not found.\n",
      "findfont: Font family 'MS Gothic' not found.\n",
      "findfont: Font family 'MS Gothic' not found.\n",
      "findfont: Font family 'MS Gothic' not found.\n",
      "findfont: Font family 'MS Gothic' not found.\n",
      "findfont: Font family 'MS Gothic' not found.\n",
      "findfont: Font family 'MS Gothic' not found.\n",
      "findfont: Font family 'MS Gothic' not found.\n",
      "findfont: Font family 'MS Gothic' not found.\n",
      "findfont: Font family 'MS Gothic' not found.\n",
      "findfont: Font family 'MS Gothic' not found.\n",
      "findfont: Font family 'MS Gothic' not found.\n",
      "findfont: Font family 'MS Gothic' not found.\n",
      "findfont: Font family 'MS Gothic' not found.\n",
      "findfont: Font family 'MS Gothic' not found.\n",
      "findfont: Font family 'MS Gothic' not found.\n",
      "findfont: Font family 'MS Gothic' not found.\n",
      "findfont: Font family 'MS Gothic' not found.\n",
      "findfont: Font family 'MS Gothic' not found.\n",
      "findfont: Font family 'MS Gothic' not found.\n",
      "findfont: Font family 'MS Gothic' not found.\n",
      "findfont: Font family 'MS Gothic' not found.\n",
      "findfont: Font family 'MS Gothic' not found.\n",
      "findfont: Font family 'MS Gothic' not found.\n",
      "findfont: Font family 'MS Gothic' not found.\n",
      "findfont: Font family 'MS Gothic' not found.\n",
      "findfont: Font family 'MS Gothic' not found.\n",
      "findfont: Font family 'MS Gothic' not found.\n",
      "findfont: Font family 'MS Gothic' not found.\n",
      "findfont: Font family 'MS Gothic' not found.\n",
      "findfont: Font family 'MS Gothic' not found.\n",
      "findfont: Font family 'MS Gothic' not found.\n",
      "findfont: Font family 'MS Gothic' not found.\n",
      "findfont: Font family 'MS Gothic' not found.\n",
      "findfont: Font family 'MS Gothic' not found.\n",
      "findfont: Font family 'MS Gothic' not found.\n",
      "findfont: Font family 'MS Gothic' not found.\n",
      "findfont: Font family 'MS Gothic' not found.\n",
      "findfont: Font family 'MS Gothic' not found.\n"
     ]
    },
    {
     "name": "stdout",
     "output_type": "stream",
     "text": [
      "Dictionary-based stopwords: 397\n",
      "Number of documents after filtering: 252\n",
      "Mean length: 237.48\n",
      "Median length: 233.50\n",
      "Standard deviation: 80.04\n",
      "Min length: 101\n",
      "Max length: 464\n"
     ]
    },
    {
     "data": {
      "image/png": "[encoded data removed]",
      "text/plain": [
       "<Figure size 1000x600 with 1 Axes>"
      ]
     },
     "metadata": {},
     "output_type": "display_data"
    },
    {
     "name": "stdout",
     "output_type": "stream",
     "text": [
      "CPU times: user 283 ms, sys: 18.7 ms, total: 302 ms\n",
      "Wall time: 417 ms\n"
     ]
    }
   ],
   "source": [
    "%%time\n",
    "texts = preprocess(texts)\n",
    "\n",
    "# Filter out texts that are too short (e.g., less than 10 words)\n",
    "min_length = 10\n",
    "filtered_indices = [i for i, text in enumerate(texts) if len(text) >= min_length]\n",
    "texts = [texts[i] for i in filtered_indices]\n",
    "doc_info = [doc_info[i] for i in filtered_indices]\n",
    "\n",
    "# Calculate lengths of remaining texts\n",
    "length_texts = [len(text) for text in texts]\n",
    "\n",
    "# Display basic statistics for the text lengths\n",
    "mean_length = np.mean(length_texts)\n",
    "median_length = np.median(length_texts)\n",
    "std_length = np.std(length_texts)\n",
    "min_length = np.min(length_texts)\n",
    "max_length = np.max(length_texts)\n",
    "\n",
    "print(f\"Number of documents after filtering: {len(texts)}\")\n",
    "print(f\"Mean length: {mean_length:.2f}\")\n",
    "print(f\"Median length: {median_length:.2f}\")\n",
    "print(f\"Standard deviation: {std_length:.2f}\")\n",
    "print(f\"Min length: {min_length}\")\n",
    "print(f\"Max length: {max_length}\")\n",
    "\n",
    "# Plot a histogram to visualize the distribution\n",
    "plt.figure(figsize=(10, 6))\n",
    "plt.hist(length_texts, bins=30, edgecolor='black', alpha=0.7)\n",
    "plt.title('Distribution of Text Lengths After Filtering')\n",
    "plt.xlabel('Text Length')\n",
    "plt.ylabel('Frequency')\n",
    "plt.grid(True)\n",
    "plt.show()"
   ]
  },
  {
   "cell_type": "code",
   "execution_count": null,
   "metadata": {},
   "outputs": [],
   "source": []
  },
  {
   "cell_type": "markdown",
   "metadata": {},
   "source": [
    "# Run"
   ]
  },
  {
   "cell_type": "code",
   "execution_count": 35,
   "metadata": {},
   "outputs": [
    {
     "name": "stdout",
     "output_type": "stream",
     "text": [
      "CPU times: user 91.2 ms, sys: 1.95 ms, total: 93.2 ms\n",
      "Wall time: 97.9 ms\n"
     ]
    }
   ],
   "source": [
    "%%time\n",
    "# Step 4: Create dictionary and corpus\n",
    "dictionary = corpora.Dictionary(texts)\n",
    "corpus = [dictionary.doc2bow(text) for text in texts]\n"
   ]
  },
  {
   "cell_type": "code",
   "execution_count": null,
   "metadata": {},
   "outputs": [],
   "source": []
  },
  {
   "cell_type": "code",
   "execution_count": null,
   "metadata": {},
   "outputs": [],
   "source": []
  },
  {
   "cell_type": "markdown",
   "metadata": {},
   "source": [
    "# MODIFY: CHANGE NUMBER OF TOPICS"
   ]
  },
  {
   "cell_type": "code",
   "execution_count": 36,
   "metadata": {},
   "outputs": [
    {
     "name": "stdout",
     "output_type": "stream",
     "text": [
      "CPU times: user 1min 15s, sys: 14.6 s, total: 1min 30s\n",
      "Wall time: 13.6 s\n"
     ]
    }
   ],
   "source": [
    "%%time\n",
    "# Step 5: Build LDA model\n",
    "# Parameters\n",
    "num_topics = 40  # Increased to 40 for more granular topic discovery\n",
    "passes = 50  # Increased for better convergence\n",
    "alpha = 'symmetric'  # Changed to symmetric for more balanced topic distribution\n",
    "eta = 'auto'  # Auto-optimization of word-topic density\n",
    "update_every = 1  # Update model after every chunk\n",
    "chunksize = 3000  # Increased chunk size for better performance\n",
    "iterations = 100  # Added explicit iterations parameter\n",
    "random_state = 42  # Added for reproducibility\n",
    "\n",
    "# Create the LdaModel with optimized parameters\n",
    "lda_model = models.LdaModel(\n",
    "    corpus=corpus,\n",
    "    num_topics=num_topics,\n",
    "    id2word=dictionary,\n",
    "    passes=passes,\n",
    "    alpha=alpha,\n",
    "    eta=eta,\n",
    "    update_every=update_every,\n",
    "    chunksize=chunksize,\n",
    "    iterations=iterations,\n",
    "    random_state=random_state\n",
    ")"
   ]
  },
  {
   "cell_type": "markdown",
   "metadata": {},
   "source": [
    "增加主题数量到40，以获得更细致的主题划分\n",
    "增加passes到50，让模型有更多时间收敛\n",
    "将alpha改为'symmetric'，使主题分布更均衡\n",
    "将eta改为'auto'，让模型自动优化词-主题密度\n",
    "增加chunk size以提高性能\n",
    "添加iterations参数以控制每个chunk的迭代次数\n",
    "添加random_state以确保结果可重现"
   ]
  },
  {
   "cell_type": "code",
   "execution_count": 37,
   "metadata": {
    "scrolled": false
   },
   "outputs": [
    {
     "name": "stdout",
     "output_type": "stream",
     "text": [
      "(0, '0.023*\"分類\" + 0.023*\"ソフトドリンク\" + 0.023*\"販売\" + 0.022*\"移行\" + 0.022*\"好調\" + 0.021*\"上昇\" + 0.019*\"症\"')\n",
      "(1, '0.039*\"コロナ\" + 0.036*\"新型\" + 0.035*\"ウイルス\" + 0.034*\"感染\" + 0.023*\"東京\" + 0.023*\"(\" + 0.023*\")。\"')\n",
      "(2, '0.021*\"来客\" + 0.021*\"予想\" + 0.020*\"厳しい\" + 0.019*\"減少\" + 0.019*\"状況\" + 0.019*\"続い\" + 0.018*\"帯\"')\n",
      "(3, '0.032*\"街\" + 0.026*\"商店\" + 0.022*\"良く\" + 0.021*\"なっ\" + 0.016*\"来客\" + 0.015*\"状況\" + 0.015*\"客\"')\n",
      "(4, '0.035*\"感染\" + 0.032*\"症\" + 0.028*\"街\" + 0.025*\"増加\" + 0.023*\"商店\" + 0.018*\"新型\" + 0.018*\"景気\"')\n",
      "(5, '0.050*\"コロナ\" + 0.048*\"ウイルス\" + 0.047*\"新型\" + 0.025*\"街\" + 0.020*\"する\" + 0.019*\"影響\" + 0.019*\"状況\"')\n",
      "(6, '0.000*\"ウイルス\" + 0.000*\"コロナ\" + 0.000*\"新型\" + 0.000*\"影響\" + 0.000*\"街\" + 0.000*\"外出\" + 0.000*\"する\"')\n",
      "(7, '0.025*\"なる\" + 0.016*\"客\" + 0.014*\"する\" + 0.014*\"サッカー\" + 0.013*\"景気\" + 0.013*\"減少\" + 0.012*\"落ち\"')\n",
      "(8, '0.040*\"東京\" + 0.029*\"(\" + 0.029*\")。\" + 0.023*\"客\" + 0.018*\"緊急\" + 0.018*\"事態\" + 0.018*\"宣言\"')\n",
      "(9, '0.040*\"街\" + 0.028*\"商店\" + 0.024*\"景気\" + 0.021*\"客\" + 0.021*\"増加\" + 0.020*\"考え\" + 0.018*\"られる\"')\n",
      "(10, '0.041*\"来客\" + 0.022*\"客\" + 0.019*\"なる\" + 0.017*\"単価\" + 0.016*\")。\" + 0.016*\"(\" + 0.016*\"東京\"')\n",
      "(11, '0.000*\"もらい\" + 0.000*\"部門\" + 0.000*\"やる\" + 0.000*\"ドル\" + 0.000*\"飲み屋\" + 0.000*\"遠のい\" + 0.000*\"マインド\"')\n",
      "(12, '0.024*\"客\" + 0.023*\"街\" + 0.023*\"消費\" + 0.020*\"商店\" + 0.018*\"落ち込み\" + 0.016*\"時期\" + 0.015*\"なる\"')\n",
      "(13, '0.049*\"年末\" + 0.021*\"降雨\" + 0.019*\"商戦\" + 0.015*\"来\" + 0.015*\"台風\" + 0.014*\"反動\" + 0.014*\"明け\"')\n",
      "(14, '0.083*\"消費\" + 0.060*\"税\" + 0.031*\"引上げ\" + 0.022*\"影響\" + 0.017*\"する\" + 0.017*\"状況\" + 0.017*\"需要\"')\n",
      "(15, '0.031*\"前年\" + 0.027*\"%\" + 0.026*\"材\" + 0.026*\"商\" + 0.023*\"減少\" + 0.022*\"来客\" + 0.020*\"上がっ\"')\n",
      "(16, '0.000*\"新型\" + 0.000*\"コロナ\" + 0.000*\"ウイルス\" + 0.000*\"街\" + 0.000*\"する\" + 0.000*\"状態\" + 0.000*\"影響\"')\n",
      "(17, '0.046*\"来客\" + 0.023*\"客\" + 0.020*\"天候\" + 0.017*\"前年\" + 0.016*\"なる\" + 0.015*\"東京\" + 0.015*\"増加\"')\n",
      "(18, '0.030*\"なっ\" + 0.027*\")。\" + 0.027*\"(\" + 0.026*\"東京\" + 0.024*\"客\" + 0.020*\"コロナ\" + 0.018*\"ウイルス\"')\n",
      "(19, '0.050*\"来客\" + 0.025*\"客\" + 0.024*\"なっ\" + 0.022*\"東京\" + 0.020*\")。\" + 0.020*\"(\" + 0.020*\"前年\"')\n",
      "(20, '0.061*\"解除\" + 0.053*\"宣言\" + 0.052*\"事態\" + 0.050*\"緊急\" + 0.037*\"営業\" + 0.025*\"提供\" + 0.020*\"酒\"')\n",
      "(21, '0.042*\"新型\" + 0.040*\"ウイルス\" + 0.039*\"コロナ\" + 0.035*\"東京\" + 0.028*\"(\" + 0.028*\")。\" + 0.024*\"影響\"')\n",
      "(22, '0.048*\"緊急\" + 0.048*\"事態\" + 0.047*\"宣言\" + 0.027*\"接種\" + 0.025*\"ワクチン\" + 0.023*\"コロナ\" + 0.021*\"街\"')\n",
      "(23, '0.021*\"する\" + 0.018*\"なっ\" + 0.018*\"景気\" + 0.018*\"動き\" + 0.017*\"増加\" + 0.016*\"消費\" + 0.015*\"客\"')\n",
      "(24, '0.042*\"する\" + 0.034*\"go\" + 0.034*\"to\" + 0.030*\"キャンペーン\" + 0.021*\"予約\" + 0.021*\"パーティー\" + 0.019*\"travel\"')\n",
      "(25, '0.032*\")。\" + 0.032*\"(\" + 0.031*\"東京\" + 0.019*\"なる\" + 0.019*\"客\" + 0.018*\"か月\" + 0.017*\"来客\"')\n",
      "(26, '0.025*\"消費\" + 0.025*\"する\" + 0.019*\"なっ\" + 0.016*\"減少\" + 0.016*\"街\" + 0.013*\"影響\" + 0.013*\"税\"')\n",
      "(27, '0.000*\")。\" + 0.000*\"東京\" + 0.000*\"(\" + 0.000*\"来客\" + 0.000*\"客\" + 0.000*\"なっ\" + 0.000*\"する\"')\n",
      "(28, '0.000*\"ウイルス\" + 0.000*\"コロナ\" + 0.000*\"新型\" + 0.000*\"街\" + 0.000*\"感染\" + 0.000*\"緩和\" + 0.000*\"商店\"')\n",
      "(29, '0.000*\"東京\" + 0.000*\")。\" + 0.000*\"(\" + 0.000*\"なっ\" + 0.000*\"~\" + 0.000*\"忘年会\" + 0.000*\"おり\"')\n",
      "(30, '0.022*\"なっ\" + 0.017*\"消費\" + 0.016*\"上昇\" + 0.015*\"下がっ\" + 0.015*\"単価\" + 0.015*\"景気\" + 0.014*\"状況\"')\n",
      "(31, '0.000*\"防止\" + 0.000*\"ウイルス\" + 0.000*\"重点\" + 0.000*\"コロナ\" + 0.000*\"措置\" + 0.000*\"まん延\" + 0.000*\"解除\"')\n",
      "(32, '0.000*\"コロナ\" + 0.000*\"来客\" + 0.000*\"新型\" + 0.000*\"おり\" + 0.000*\"街\" + 0.000*\"減少\" + 0.000*\"ウイルス\"')\n",
      "(33, '0.051*\"台風\" + 0.050*\"猛暑\" + 0.039*\"暑\" + 0.037*\"商店\" + 0.033*\"街\" + 0.025*\"客\" + 0.022*\"なる\"')\n",
      "(34, '0.025*\"客\" + 0.018*\"なる\" + 0.017*\"なっ\" + 0.014*\")。\" + 0.013*\"(\" + 0.013*\"東京\" + 0.011*\"影響\"')\n",
      "(35, '0.047*\"新型\" + 0.045*\"コロナ\" + 0.043*\"ウイルス\" + 0.032*\"感染\" + 0.020*\"状況\" + 0.020*\"客\" + 0.019*\"街\"')\n",
      "(36, '0.034*\"客\" + 0.020*\"景気\" + 0.019*\"街\" + 0.015*\"商店\" + 0.015*\"なる\" + 0.014*\"減少\" + 0.014*\"状況\"')\n",
      "(37, '0.038*\"東京\" + 0.035*\"(\" + 0.035*\")。\" + 0.019*\"~\" + 0.018*\"か月\" + 0.018*\"客\" + 0.018*\"なっ\"')\n",
      "(38, '0.108*\"防止\" + 0.107*\"まん延\" + 0.104*\"重点\" + 0.102*\"措置\" + 0.053*\"解除\" + 0.034*\"適用\" + 0.022*\"株\"')\n",
      "(39, '0.025*\"街\" + 0.025*\"状況\" + 0.025*\"来客\" + 0.017*\"伸び\" + 0.017*\"なる\" + 0.017*\"客\" + 0.017*\"する\"')\n"
     ]
    }
   ],
   "source": [
    "# Step 6: Print the topics found by the LDA model\n",
    "topics = lda_model.print_topics(num_topics=lda_model.num_topics, num_words=7)\n",
    "for topic in topics:\n",
    "    print(topic)"
   ]
  },
  {
   "cell_type": "code",
   "execution_count": null,
   "metadata": {},
   "outputs": [],
   "source": []
  },
  {
   "cell_type": "markdown",
   "metadata": {},
   "source": [
    "# Colormap"
   ]
  },
  {
   "cell_type": "code",
   "execution_count": 38,
   "metadata": {},
   "outputs": [],
   "source": [
    "if num_topics== 10:\n",
    "    #Red: #FF6347,Green: #32CD32,Blue: #4169E1,Yellow: #FFD700,Orange: #FFA500,Purple: #800080,\n",
    "    #Cyan: #00FFFF,Magenta: #EE82EE,Chocolate: #D2691E,Teal: #008080 \n",
    "    color_list = [\n",
    "        \"#FF6347\",\"#32CD32\",\"#4169E1\",\"#FFD700\",\"#FFA500\",\"#800080\",\n",
    "        \"#00FFFF\",\"#EE82EE\",\"#D2691E\", \"#008080\" \n",
    "    ]\n",
    "        \n",
    "elif num_topics == 20:\n",
    "    ## 20 Colors\n",
    "    #Red: #FF0000,Green: #008000,Blue: #0000FF,Yellow: #FFFF00,Orange: #FFA500,Purple: #800080\n",
    "    #Cyan: #00FFFF,Magenta: #FF00FF,Lime Green: #32CD32,Teal: #008080,Olive: #808000,Maroon: #800000\n",
    "    #Navy: #000080,Coral: #FF7F50,Turquoise: #40E0D0,Medium Slate Blue: #7B68EE,Dark Orange: #FF8C00\n",
    "    #Light Pink: #FFB6C1,Beige: #F5F5DC,Light Gray: #D3D3D3\n",
    "\n",
    "    # List of 20 distinct colors\n",
    "    color_list = [\n",
    "        \"#FF0000\", \"#008000\", \"#0000FF\", \"#FFFF00\", \"#FFA500\",\n",
    "        \"#800080\", \"#00FFFF\", \"#FF00FF\", \"#32CD32\", \"#008080\",\n",
    "        \"#808000\", \"#800000\", \"#000080\", \"#FF7F50\", \"#40E0D0\",\n",
    "        \"#7B68EE\", \"#FF8C00\", \"#FFB6C1\", \"#F5F5DC\", \"#D3D3D3\"\n",
    "    ]\n",
    "\n",
    "elif num_topics == 30:\n",
    "    \n",
    "    #Red: #FF0000,Green: #008000,Blue: #0000FF,Yellow: #FFFF00,Orange: #FFA500,Purple: #800080,\n",
    "    #Cyan: #00FFFF, Magenta: #FF00FF, Lime Green: #32CD32, Teal: #008080, Olive: #808000,Maroon: #800000,\n",
    "    #Navy: #000080,Coral: #FF7F50,Turquoise: #40E0D0,Medium Slate Blue: #7B68EE,Dark Orange: #FF8C00\n",
    "    #Light Pink: #FFB6C1,Beige: #F5F5DC,Light Gray: #D3D3D3,Chocolate: #D2691E,Tomato: #FF6347\n",
    "    #Forest Green: #228B22,Violet: #EE82EE,Sienna: #A0522D,Gold: #FFD700,Deep Sky Blue: #00BFFF\n",
    "    #Sandy Brown: #F4A460,Royal Blue: #4169E1,Mint Cream: #F5FFFA\n",
    "\n",
    "    color_list = [\n",
    "        \"#FF0000\", \"#008000\", \"#0000FF\", \"#FFFF00\", \"#FFA500\",\n",
    "        \"#800080\", \"#00FFFF\", \"#FF00FF\", \"#32CD32\", \"#008080\",\n",
    "        \"#808000\", \"#800000\", \"#000080\", \"#FF7F50\", \"#40E0D0\",\n",
    "        \"#7B68EE\", \"#FF8C00\", \"#FFB6C1\", \"#F5F5DC\", \"#D3D3D3\",\n",
    "        \"#D2691E\", \"#FF6347\", \"#228B22\", \"#EE82EE\", \"#A0522D\",\n",
    "        \"#FFD700\", \"#00BFFF\", \"#F4A460\", \"#4169E1\", \"#F5FFFA\"\n",
    "    ]\n",
    "    \n",
    "else:\n",
    "     \n",
    "    #Red: #FF0000,Green: #008000,Blue: #0000FF,Yellow: #FFFF00,Orange: #FFA500,Purple: #800080\n",
    "    #Cyan: #00FFFF,Magenta: #FF00FF,Lime Green: #32CD32,Teal: #008080,Olive: #808000,Maroon: #800000\n",
    "    #Navy: #000080,Coral: #FF7F50,Turquoise: #40E0D0,Medium Slate Blue: #7B68EE,Dark Orange: #FF8C00\n",
    "    #Light Pink: #FFB6C1,Beige: #F5F5DC,Light Gray: #D3D3D3,Chocolate: #D2691E,Tomato: #FF6347\n",
    "    #Forest Green: #228B22,Violet: #EE82EE,Sienna: #A0522D,Gold: #FFD700,Deep Sky Blue: #00BFFF\n",
    "    #Sandy Brown: #F4A460,Royal Blue: #4169E1,Mint Cream: #F5FFFA,Deep Pink: #FF1493,Aqua: #00FFFF\n",
    "    #Dark Violet: #9400D3,Peach Puff: #FFDAB9,Wheat: #F5DEB3,Cadet Blue: #5F9EA0,Periwinkle: #CCCCFF\n",
    "    #Dark Goldenrod: #B8860B,Pale Green: #98FB98,Orchid: #DA70D6,Light Salmon: #FFA07A,Midnight Blue: #191970\n",
    "    #Plum: #DDA0DD,Indian Red: #CD5C5C,Khaki: #F0E68C,Hot Pink: #FF69B4,Dark Sea Green: #8FBC8F,Cornflower Blue: #6495ED\n",
    "    #Lemon Chiffon: #FFFACD,Thistle: #D8BFD8\n",
    "\n",
    "    color_list = [\n",
    "        \"#FF0000\", \"#008000\", \"#0000FF\", \"#FFFF00\", \"#FFA500\",\n",
    "        \"#800080\", \"#00FFFF\", \"#FF00FF\", \"#32CD32\", \"#008080\",\n",
    "        \"#808000\", \"#800000\", \"#000080\", \"#FF7F50\", \"#40E0D0\",\n",
    "        \"#7B68EE\", \"#FF8C00\", \"#FFB6C1\", \"#F5F5DC\", \"#D3D3D3\",\n",
    "        \"#D2691E\", \"#FF6347\", \"#228B22\", \"#EE82EE\", \"#A0522D\",\n",
    "        \"#FFD700\", \"#00BFFF\", \"#F4A460\", \"#4169E1\", \"#F5FFFA\",\n",
    "        \"#FF1493\", \"#00FFFF\", \"#9400D3\", \"#FFDAB9\", \"#F5DEB3\",\n",
    "        \"#5F9EA0\", \"#CCCCFF\", \"#B8860B\", \"#98FB98\", \"#DA70D6\",\n",
    "        \"#FFA07A\", \"#191970\", \"#DDA0DD\", \"#CD5C5C\", \"#F0E68C\",\n",
    "        \"#FF69B4\", \"#8FBC8F\", \"#6495ED\", \"#FFFACD\", \"#D8BFD8\"\n",
    "    ]\n",
    "\n",
    "def hex_to_rgb(hex_color):\n",
    "    # Convert hex to RGB\n",
    "    return tuple(int(hex_color[i:i+2], 16) for i in (1, 3, 5))\n",
    "\n"
   ]
  },
  {
   "cell_type": "markdown",
   "metadata": {},
   "source": [
    "# Create Color Matrix"
   ]
  },
  {
   "cell_type": "code",
   "execution_count": 39,
   "metadata": {},
   "outputs": [],
   "source": [
    "color2topic = {color: index for index, color in enumerate(color_list)}\n",
    "date2index = {date: index for index, date in enumerate(uni_dates)}\n",
    "color_matrix = np.empty((len(use_region_industry),len(uni_dates)), dtype=object)\n",
    "topic_matrix = np.empty((len(use_region_industry),len(uni_dates)), dtype=int)\n",
    "for i, row in enumerate(lda_model[corpus]):\n",
    "    max_topic = -1\n",
    "    max_value = -1\n",
    "    \n",
    "    for topic_id, prop in row:\n",
    "        if prop > max_value:\n",
    "            max_topic = topic_id\n",
    "            max_value = prop\n",
    "    row = doc_info[i][3]\n",
    "    col = doc_info[i][4]\n",
    " \n",
    "    color_matrix[row,col] = color_list[max_topic]\n",
    "    topic_matrix[row,col] = color2topic[color_matrix[row,col]]\n",
    "    \n",
    "# Convert the color_matrix from hex codes to normalized RGB values\n",
    "rgb_matrix = np.array([[hex_to_rgb(color) for color in row] for row in color_matrix])/255\n"
   ]
  },
  {
   "cell_type": "code",
   "execution_count": null,
   "metadata": {},
   "outputs": [],
   "source": []
  },
  {
   "cell_type": "code",
   "execution_count": null,
   "metadata": {},
   "outputs": [],
   "source": []
  },
  {
   "cell_type": "code",
   "execution_count": null,
   "metadata": {},
   "outputs": [],
   "source": []
  },
  {
   "cell_type": "markdown",
   "metadata": {},
   "source": [
    "# Plot result"
   ]
  },
  {
   "cell_type": "markdown",
   "metadata": {},
   "source": [
    "# MODIFY: Change aspect to 3, \n",
    "# Change to y_ticks = [i for i in range(len(df_reg_ind_use)) if i % 1 == 0]"
   ]
  },
  {
   "cell_type": "code",
   "execution_count": 40,
   "metadata": {
    "scrolled": true
   },
   "outputs": [
    {
     "name": "stderr",
     "output_type": "stream",
     "text": [
      "findfont: Font family 'MS Gothic' not found.\n"
     ]
    },
    {
     "name": "stderr",
     "output_type": "stream",
     "text": [
      "findfont: Font family 'MS Gothic' not found.\n",
      "findfont: Font family 'MS Gothic' not found.\n",
      "findfont: Font family 'MS Gothic' not found.\n",
      "findfont: Font family 'MS Gothic' not found.\n",
      "findfont: Font family 'MS Gothic' not found.\n",
      "findfont: Font family 'MS Gothic' not found.\n",
      "findfont: Font family 'MS Gothic' not found.\n",
      "findfont: Font family 'MS Gothic' not found.\n",
      "findfont: Font family 'MS Gothic' not found.\n",
      "findfont: Font family 'MS Gothic' not found.\n",
      "findfont: Font family 'MS Gothic' not found.\n",
      "findfont: Font family 'MS Gothic' not found.\n",
      "findfont: Font family 'MS Gothic' not found.\n",
      "findfont: Font family 'MS Gothic' not found.\n",
      "findfont: Font family 'MS Gothic' not found.\n",
      "findfont: Font family 'MS Gothic' not found.\n",
      "findfont: Font family 'MS Gothic' not found.\n",
      "findfont: Font family 'MS Gothic' not found.\n",
      "/Users/chenwuyi/Developer/SuperD/.venv/lib/python3.11/site-packages/IPython/core/pylabtools.py:170: UserWarning: Glyph 21335 (\\N{CJK UNIFIED IDEOGRAPH-5357}) missing from font(s) DejaVu Sans.\n",
      "  fig.canvas.print_figure(bytes_io, **kw)\n",
      "/Users/chenwuyi/Developer/SuperD/.venv/lib/python3.11/site-packages/IPython/core/pylabtools.py:170: UserWarning: Glyph 38306 (\\N{CJK UNIFIED IDEOGRAPH-95A2}) missing from font(s) DejaVu Sans.\n",
      "  fig.canvas.print_figure(bytes_io, **kw)\n",
      "/Users/chenwuyi/Developer/SuperD/.venv/lib/python3.11/site-packages/IPython/core/pylabtools.py:170: UserWarning: Glyph 26481 (\\N{CJK UNIFIED IDEOGRAPH-6771}) missing from font(s) DejaVu Sans.\n",
      "  fig.canvas.print_figure(bytes_io, **kw)\n",
      "/Users/chenwuyi/Developer/SuperD/.venv/lib/python3.11/site-packages/IPython/core/pylabtools.py:170: UserWarning: Glyph 12467 (\\N{KATAKANA LETTER KO}) missing from font(s) DejaVu Sans.\n",
      "  fig.canvas.print_figure(bytes_io, **kw)\n",
      "/Users/chenwuyi/Developer/SuperD/.venv/lib/python3.11/site-packages/IPython/core/pylabtools.py:170: UserWarning: Glyph 12531 (\\N{KATAKANA LETTER N}) missing from font(s) DejaVu Sans.\n",
      "  fig.canvas.print_figure(bytes_io, **kw)\n",
      "/Users/chenwuyi/Developer/SuperD/.venv/lib/python3.11/site-packages/IPython/core/pylabtools.py:170: UserWarning: Glyph 12499 (\\N{KATAKANA LETTER BI}) missing from font(s) DejaVu Sans.\n",
      "  fig.canvas.print_figure(bytes_io, **kw)\n",
      "/Users/chenwuyi/Developer/SuperD/.venv/lib/python3.11/site-packages/IPython/core/pylabtools.py:170: UserWarning: Glyph 12491 (\\N{KATAKANA LETTER NI}) missing from font(s) DejaVu Sans.\n",
      "  fig.canvas.print_figure(bytes_io, **kw)\n",
      "/Users/chenwuyi/Developer/SuperD/.venv/lib/python3.11/site-packages/IPython/core/pylabtools.py:170: UserWarning: Glyph 65288 (\\N{FULLWIDTH LEFT PARENTHESIS}) missing from font(s) DejaVu Sans.\n",
      "  fig.canvas.print_figure(bytes_io, **kw)\n",
      "/Users/chenwuyi/Developer/SuperD/.venv/lib/python3.11/site-packages/IPython/core/pylabtools.py:170: UserWarning: Glyph 32076 (\\N{CJK UNIFIED IDEOGRAPH-7D4C}) missing from font(s) DejaVu Sans.\n",
      "  fig.canvas.print_figure(bytes_io, **kw)\n",
      "/Users/chenwuyi/Developer/SuperD/.venv/lib/python3.11/site-packages/IPython/core/pylabtools.py:170: UserWarning: Glyph 21942 (\\N{CJK UNIFIED IDEOGRAPH-55B6}) missing from font(s) DejaVu Sans.\n",
      "  fig.canvas.print_figure(bytes_io, **kw)\n",
      "/Users/chenwuyi/Developer/SuperD/.venv/lib/python3.11/site-packages/IPython/core/pylabtools.py:170: UserWarning: Glyph 32773 (\\N{CJK UNIFIED IDEOGRAPH-8005}) missing from font(s) DejaVu Sans.\n",
      "  fig.canvas.print_figure(bytes_io, **kw)\n",
      "/Users/chenwuyi/Developer/SuperD/.venv/lib/python3.11/site-packages/IPython/core/pylabtools.py:170: UserWarning: Glyph 65289 (\\N{FULLWIDTH RIGHT PARENTHESIS}) missing from font(s) DejaVu Sans.\n",
      "  fig.canvas.print_figure(bytes_io, **kw)\n",
      "findfont: Font family 'MS Gothic' not found.\n",
      "findfont: Font family 'MS Gothic' not found.\n",
      "findfont: Font family 'MS Gothic' not found.\n",
      "findfont: Font family 'MS Gothic' not found.\n",
      "findfont: Font family 'MS Gothic' not found.\n",
      "findfont: Font family 'MS Gothic' not found.\n",
      "findfont: Font family 'MS Gothic' not found.\n",
      "findfont: Font family 'MS Gothic' not found.\n",
      "findfont: Font family 'MS Gothic' not found.\n",
      "findfont: Font family 'MS Gothic' not found.\n",
      "findfont: Font family 'MS Gothic' not found.\n",
      "findfont: Font family 'MS Gothic' not found.\n",
      "findfont: Font family 'MS Gothic' not found.\n",
      "findfont: Font family 'MS Gothic' not found.\n",
      "findfont: Font family 'MS Gothic' not found.\n",
      "findfont: Font family 'MS Gothic' not found.\n",
      "findfont: Font family 'MS Gothic' not found.\n",
      "findfont: Font family 'MS Gothic' not found.\n",
      "findfont: Font family 'MS Gothic' not found.\n",
      "findfont: Font family 'MS Gothic' not found.\n",
      "findfont: Font family 'MS Gothic' not found.\n",
      "findfont: Font family 'MS Gothic' not found.\n",
      "findfont: Font family 'MS Gothic' not found.\n",
      "findfont: Font family 'MS Gothic' not found.\n",
      "findfont: Font family 'MS Gothic' not found.\n",
      "findfont: Font family 'MS Gothic' not found.\n",
      "findfont: Font family 'MS Gothic' not found.\n",
      "findfont: Font family 'MS Gothic' not found.\n",
      "findfont: Font family 'MS Gothic' not found.\n",
      "findfont: Font family 'MS Gothic' not found.\n",
      "findfont: Font family 'MS Gothic' not found.\n",
      "findfont: Font family 'MS Gothic' not found.\n",
      "findfont: Font family 'MS Gothic' not found.\n",
      "findfont: Font family 'MS Gothic' not found.\n",
      "findfont: Font family 'MS Gothic' not found.\n",
      "findfont: Font family 'MS Gothic' not found.\n",
      "findfont: Font family 'MS Gothic' not found.\n"
     ]
    },
    {
     "data": {
      "image/png": "[encoded data removed]",
      "text/plain": [
       "<Figure size 1000x2000 with 1 Axes>"
      ]
     },
     "metadata": {},
     "output_type": "display_data"
    }
   ],
   "source": [
    "# Create a figure and axis with a larger figure size\n",
    "fig, ax = plt.subplots(figsize=(10, 20))  # Adjust figsize for larger y-axis\n",
    "\n",
    "# Create a color matrix visualization with a higher aspect ratio for the y-axis\n",
    "plt.imshow(rgb_matrix, interpolation='nearest', aspect=3)  # Changed aspect to 3\n",
    "\n",
    "# Set tick positions\n",
    "x_ticks = [i for i in range(len(uni_dates)) if i % 5 == 0]\n",
    "use_dates = []\n",
    "for i in x_ticks:\n",
    "    use_dates.append(uni_dates[i].date())\n",
    "ax.set_xticks(x_ticks)\n",
    "ax.set_xticklabels(use_dates)\n",
    "\n",
    "# Rotate x-tick labels if needed\n",
    "plt.xticks(rotation=90)\n",
    "\n",
    "# Set the y-tick positions and labels\n",
    "y_ticks = [i for i in range(len(df_reg_ind_use)) if i % 1 == 0]  # Changed from % 7 to % 1 to show all ticks\n",
    "use_region_industry = []\n",
    "for i in y_ticks:\n",
    "    use_region_industry.append(df_reg_ind_use[\"region-industry\"].iloc[i])\n",
    "ax.set_yticks(y_ticks)\n",
    "ax.set_yticklabels(use_region_industry)\n",
    "\n",
    "plt.show()"
   ]
  },
  {
   "cell_type": "markdown",
   "metadata": {},
   "source": [
    "\n",
    "将 aspect=1 改为 aspect=3，这会使图形在水平方向上拉伸\n",
    "将 y_ticks 的计算从 if i % 7 == 0 改为 if i % 1 == 0，这样会显示所有的y轴刻度标签"
   ]
  },
  {
   "cell_type": "code",
   "execution_count": 41,
   "metadata": {},
   "outputs": [
    {
     "data": {
      "text/plain": [
       "[Timestamp('2017-04-10 00:00:00'),\n",
       " Timestamp('2017-05-11 00:00:00'),\n",
       " Timestamp('2017-06-08 00:00:00'),\n",
       " Timestamp('2017-07-10 00:00:00'),\n",
       " Timestamp('2017-08-08 00:00:00'),\n",
       " Timestamp('2017-09-08 00:00:00'),\n",
       " Timestamp('2017-10-10 00:00:00'),\n",
       " Timestamp('2017-11-09 00:00:00'),\n",
       " Timestamp('2017-12-08 00:00:00'),\n",
       " Timestamp('2018-01-12 00:00:00'),\n",
       " Timestamp('2018-02-08 00:00:00'),\n",
       " Timestamp('2018-03-08 00:00:00'),\n",
       " Timestamp('2018-04-09 00:00:00'),\n",
       " Timestamp('2018-05-10 00:00:00'),\n",
       " Timestamp('2018-06-08 00:00:00'),\n",
       " Timestamp('2018-07-09 00:00:00'),\n",
       " Timestamp('2018-08-08 00:00:00'),\n",
       " Timestamp('2018-09-10 00:00:00'),\n",
       " Timestamp('2018-10-09 00:00:00'),\n",
       " Timestamp('2018-11-08 00:00:00'),\n",
       " Timestamp('2018-12-10 00:00:00'),\n",
       " Timestamp('2019-01-11 00:00:00'),\n",
       " Timestamp('2019-02-08 00:00:00'),\n",
       " Timestamp('2019-03-08 00:00:00'),\n",
       " Timestamp('2019-04-08 00:00:00'),\n",
       " Timestamp('2019-05-14 00:00:00'),\n",
       " Timestamp('2019-06-10 00:00:00'),\n",
       " Timestamp('2019-07-08 00:00:00'),\n",
       " Timestamp('2019-08-08 00:00:00'),\n",
       " Timestamp('2019-09-09 00:00:00'),\n",
       " Timestamp('2019-10-08 00:00:00'),\n",
       " Timestamp('2019-11-11 00:00:00'),\n",
       " Timestamp('2019-12-09 00:00:00'),\n",
       " Timestamp('2020-01-14 00:00:00'),\n",
       " Timestamp('2020-02-10 00:00:00'),\n",
       " Timestamp('2020-03-09 00:00:00'),\n",
       " Timestamp('2020-04-08 00:00:00'),\n",
       " Timestamp('2020-05-13 00:00:00'),\n",
       " Timestamp('2020-06-08 00:00:00'),\n",
       " Timestamp('2020-07-08 00:00:00'),\n",
       " Timestamp('2020-08-11 00:00:00'),\n",
       " Timestamp('2020-09-08 00:00:00'),\n",
       " Timestamp('2020-10-08 00:00:00'),\n",
       " Timestamp('2020-11-10 00:00:00'),\n",
       " Timestamp('2020-12-08 00:00:00'),\n",
       " Timestamp('2021-01-12 00:00:00'),\n",
       " Timestamp('2021-02-08 00:00:00'),\n",
       " Timestamp('2021-03-08 00:00:00'),\n",
       " Timestamp('2021-04-08 00:00:00'),\n",
       " Timestamp('2021-05-13 00:00:00'),\n",
       " Timestamp('2021-06-08 00:00:00'),\n",
       " Timestamp('2021-07-08 00:00:00'),\n",
       " Timestamp('2021-08-10 00:00:00'),\n",
       " Timestamp('2021-09-08 00:00:00'),\n",
       " Timestamp('2021-10-08 00:00:00'),\n",
       " Timestamp('2021-11-09 00:00:00'),\n",
       " Timestamp('2021-12-08 00:00:00'),\n",
       " Timestamp('2022-01-12 00:00:00'),\n",
       " Timestamp('2022-02-08 00:00:00'),\n",
       " Timestamp('2022-03-08 00:00:00'),\n",
       " Timestamp('2022-04-08 00:00:00'),\n",
       " Timestamp('2022-05-12 00:00:00'),\n",
       " Timestamp('2022-06-08 00:00:00'),\n",
       " Timestamp('2022-07-08 00:00:00'),\n",
       " Timestamp('2022-08-08 00:00:00'),\n",
       " Timestamp('2022-09-08 00:00:00'),\n",
       " Timestamp('2022-10-11 00:00:00'),\n",
       " Timestamp('2022-11-09 00:00:00'),\n",
       " Timestamp('2022-12-08 00:00:00'),\n",
       " Timestamp('2023-01-12 00:00:00'),\n",
       " Timestamp('2023-02-08 00:00:00'),\n",
       " Timestamp('2023-03-08 00:00:00'),\n",
       " Timestamp('2023-04-10 00:00:00'),\n",
       " Timestamp('2023-05-11 00:00:00'),\n",
       " Timestamp('2023-06-08 00:00:00'),\n",
       " Timestamp('2023-07-10 00:00:00'),\n",
       " Timestamp('2023-08-08 00:00:00'),\n",
       " Timestamp('2023-09-08 00:00:00'),\n",
       " Timestamp('2023-10-10 00:00:00'),\n",
       " Timestamp('2023-11-09 00:00:00'),\n",
       " Timestamp('2023-12-08 00:00:00'),\n",
       " Timestamp('2024-01-12 00:00:00'),\n",
       " Timestamp('2024-03-08 00:00:00'),\n",
       " Timestamp('2024-07-08 00:00:00')]"
      ]
     },
     "execution_count": 41,
     "metadata": {},
     "output_type": "execute_result"
    }
   ],
   "source": [
    "uni_dates"
   ]
  },
  {
   "cell_type": "code",
   "execution_count": 42,
   "metadata": {},
   "outputs": [
    {
     "data": {
      "text/plain": [
       "array([ 5, 21,  5])"
      ]
     },
     "execution_count": 42,
     "metadata": {},
     "output_type": "execute_result"
    }
   ],
   "source": [
    "find_date = datetime.datetime.strptime(\"2020-04-08\",\"%Y-%m-%d\")\n",
    "topic_matrix[:,date2index[find_date]]"
   ]
  },
  {
   "cell_type": "code",
   "execution_count": null,
   "metadata": {},
   "outputs": [],
   "source": []
  },
  {
   "cell_type": "markdown",
   "metadata": {},
   "source": [
    "# Assignment 4"
   ]
  },
  {
   "cell_type": "code",
   "execution_count": 20,
   "metadata": {},
   "outputs": [],
   "source": [
    "# The easiest way to complete the assignment is not to rewrite everything here, but to modify the code in the areas marked 'MODIFY'.\n",
    "# Here write what you understood by your results"
   ]
  },
  {
   "cell_type": "markdown",
   "metadata": {},
   "source": [
    "# What you have learned"
   ]
  },
  {
   "cell_type": "markdown",
   "metadata": {},
   "source": [
    "# Analysis of Results\n",
    "\n",
    "By analyzing text data from 2017 to 2024 for thematic modeling, we observed some interesting patterns. LDA modeling using 40 themes allowed us to capture the more nuanced thematic changes. From the visualization results, different region-industry pairs show unique patterns of theme evolution in the time dimension. Certain region-industry pairs exhibit a more stable thematic structure (reflected in consistently similar colors), while others show significant thematic variation (significant changes in color). Particularly noteworthy is the possibility of observing abrupt thematic changes during certain periods (e.g., during COVID-19), reflecting the impact of external events on industry development. At the same time, similar regions or similar industries often exhibit similar thematic patterns among themselves, which may suggest regional developmental correlations and the existence of industrial clusters. These findings not only help us understand the dynamic characteristics of regional industrial development, but also provide valuable references for further policy research and business decisions."
   ]
  }
 ],
 "metadata": {
  "kernelspec": {
   "display_name": "Python 3 (ipykernel)",
   "language": "python",
   "name": "python3"
  },
  "language_info": {
   "codemirror_mode": {
    "name": "ipython",
    "version": 3
   },
   "file_extension": ".py",
   "mimetype": "text/x-python",
   "name": "python",
   "nbconvert_exporter": "python",
   "pygments_lexer": "ipython3",
   "version": "3.11.10"
  }
 },
 "nbformat": 4,
 "nbformat_minor": 4
}
