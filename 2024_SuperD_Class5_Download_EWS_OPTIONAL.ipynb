{
 "cells": [
  {
   "cell_type": "markdown",
   "metadata": {},
   "source": [
    "# Import module"
   ]
  },
  {
   "cell_type": "code",
   "execution_count": 3,
   "metadata": {},
   "outputs": [],
   "source": [
    "import pandas as pd\n",
    "import jaconv\n",
    "from bs4 import BeautifulSoup \n",
    "from urllib import request\n",
    "from urllib.error import HTTPError\n",
    "import matplotlib.pyplot as plt\n",
    "import numpy as np\n",
    "import pickle\n",
    "import datetime\n",
    "\n",
    "# Change fontype of pyplot\n",
    "import matplotlib.font_manager\n",
    "#print([f.name for f in matplotlib.font_manager.fontManager.ttflist])\n",
    "plt.rcParams['font.family'] = 'MS Gothic'\n",
    "# For mac use\n",
    "#plt.rcParams['font.family'] = 'AppleGothic'\n",
    "\n",
    "# If you want to downlod the most recent data then you should not skip this.\n",
    "skip = 0"
   ]
  },
  {
   "cell_type": "code",
   "execution_count": null,
   "metadata": {},
   "outputs": [],
   "source": []
  },
  {
   "cell_type": "markdown",
   "metadata": {},
   "source": [
    "# Define urls"
   ]
  },
  {
   "cell_type": "code",
   "execution_count": 4,
   "metadata": {},
   "outputs": [],
   "source": [
    "# url headers\n",
    "url_head = \"https://www5.cao.go.jp/keizai3/\"\n",
    "url_new = \"https://www5.cao.go.jp/keizai3/watcher_index.html\"\n",
    "url_old = \"https://www5.cao.go.jp/keizai3/kako_watcher.html\"\n",
    "url_old_2 = \"https://www5.cao.go.jp/keizai3/kako_csv/kako2_watcher.html\"\n",
    "# \n",
    "kigou2value = {\"◎\":5,\"○\":4,\"□\":3,\"▲\":2,\"×\":1}"
   ]
  },
  {
   "cell_type": "code",
   "execution_count": null,
   "metadata": {},
   "outputs": [],
   "source": []
  },
  {
   "cell_type": "markdown",
   "metadata": {},
   "source": [
    "# Define functions"
   ]
  },
  {
   "cell_type": "code",
   "execution_count": 5,
   "metadata": {},
   "outputs": [],
   "source": [
    "def get_all_url(target):\n",
    "    '''\n",
    "    Description:webページ内の全urlを取得する関数\n",
    "    入力：各調査が一覧になったページ\n",
    "    出力：各調査のcsvがあるurl一覧\n",
    "    '''\n",
    "    data = request.urlopen(target).read()\n",
    "    soup = BeautifulSoup(data, 'html.parser')\n",
    "    tmp_links = soup.find_all(\"a\")\n",
    "    link = []\n",
    "    for a in tmp_links:\n",
    "        try:\n",
    "            if \"/menu.html\" in a.attrs['href']:\n",
    "                \n",
    "                if a.attrs['href'][0:4] < str(2010):\n",
    "                    #print(a.attrs['href'][0:4])\n",
    "                    pass\n",
    "                else:\n",
    "                    link.append(a.attrs['href'])\n",
    "            elif \".csv\" in a.attrs['href']:\n",
    "                link.append(a.attrs['href'])\n",
    "        except:\n",
    "            pass\n",
    "    return link\n",
    "\n",
    "\n",
    "def extract_data(df_in):\n",
    "    '''\n",
    "    Description:各調査のcsvがあるurlからデータフレームを直接作る関数\n",
    "    入力：各調査のcsvに直接アクセスできるurl\n",
    "    出力：データフレーム\n",
    "    '''  \n",
    "    han_numbers = [str(_) for _ in range(10)]\n",
    "    kigou_list = [\"◎\",\"○\",\"□\",\"▲\",\"×\"]\n",
    "    region_list = [\"北海道\",\"東北\",\"北関東\",\"南関東\",\"甲信越\",\n",
    "                   \"東海\",\"北陸\",\"近畿\",\"中国\",\"四国\",\"九州\",\"沖縄\"]\n",
    "    \n",
    "    place = 6\n",
    "    sakiyuki = 0\n",
    "    for l in range(len(df_in)):\n",
    "        if ('景気の現状判断' in str(df_in.iloc[l,:])):\n",
    "            place = l\n",
    "            sakiyuki = 0\n",
    "            break\n",
    "            \n",
    "        if (\"景気の先行き判断\" in str(df_in.iloc[l,:])):\n",
    "            place = l\n",
    "            sakiyuki = 1\n",
    "            break\n",
    "    \n",
    "    col_names = df_in.iloc[place,:]\n",
    "    use_col_names = dict()\n",
    "    for l in range(len(col_names)):\n",
    "        use_col_names.update({col_names[l]:l})\n",
    "        \n",
    "    out_data = []\n",
    "    \n",
    "    # Used to determine which regions\n",
    "    region = \"\"\n",
    "\n",
    "    # Loop through all records\n",
    "    for i in range(len(df_in)):\n",
    "        line = df_in.iloc[i,0]\n",
    "\n",
    "        # Update line headers\n",
    "        if line == line:\n",
    "            new_region = 0\n",
    "            for r in region_list:\n",
    "                if r in line:\n",
    "                    new_region = 1\n",
    "                    break\n",
    "                   \n",
    "            if new_region == 1:\n",
    "                region = r\n",
    "        \n",
    "        line = df_in.iloc[i,2]\n",
    "        if line == line:\n",
    "            for kigou in kigou_list:\n",
    "                if kigou in line:\n",
    "                    if sakiyuki == 0:\n",
    "                    \n",
    "                        if \"判断の理由\" in use_col_names:\n",
    "\n",
    "                            out_data.append([region,\n",
    "                                             df_in.iloc[i,use_col_names[\"景気の現状判断\"]],\n",
    "                                             df_in.iloc[i,use_col_names[\"業種・職種\"]],\n",
    "                                             df_in.iloc[i,use_col_names[\"判断の理由\"]],\n",
    "                                             df_in.iloc[i,use_col_names[\"追加説明及び具体的状況の説明\"]]])\n",
    "                        else:\n",
    "                            out_data.append([region,\n",
    "                                             df_in.iloc[i,use_col_names[\"景気の現状判断\"]],\n",
    "                                             df_in.iloc[i,use_col_names[\"業種・職種\"]],\n",
    "                                             \"\",\n",
    "                                             df_in.iloc[i,use_col_names[\"追加説明及び具体的状況の説明\"]]])\n",
    "                            \n",
    "                    else:\n",
    "                        if \"判断の理由\" in use_col_names:\n",
    "\n",
    "                            out_data.append([region,\n",
    "                                             df_in.iloc[i,use_col_names[\"景気の先行き判断\"]],\n",
    "                                             df_in.iloc[i,use_col_names[\"業種・職種\"]],\n",
    "                                             df_in.iloc[i,use_col_names[\"判断の理由\"]],\n",
    "                                             df_in.iloc[i,use_col_names[\"景気の先行きに対する判断理由\"]]])\n",
    "                        else:\n",
    "                            out_data.append([region,df_in.iloc[i,use_col_names[\"景気の先行き判断\"]],\n",
    "                                             df_in.iloc[i,use_col_names[\"業種・職種\"]],\n",
    "                                             \"\",\n",
    "                                             df_in.iloc[i,use_col_names[\"景気の先行きに対する判断理由\"]]])     \n",
    "                        \n",
    "    df_out = pd.DataFrame(out_data)\n",
    "    df_out.columns = [\"region\",\"symbol\",\"industry\",\"topic\",\"text\"]\n",
    "    \n",
    "    return(df_out)"
   ]
  },
  {
   "cell_type": "code",
   "execution_count": null,
   "metadata": {},
   "outputs": [],
   "source": []
  },
  {
   "cell_type": "markdown",
   "metadata": {},
   "source": [
    "# Get urls"
   ]
  },
  {
   "cell_type": "code",
   "execution_count": 6,
   "metadata": {},
   "outputs": [],
   "source": [
    "# retrieve all urls\n",
    "all_urls = get_all_url(url_new)\n",
    "all_urls.extend(get_all_url(url_old))\n",
    "all_urls.extend(get_all_url(url_old_2))\n",
    "all_urls.sort()"
   ]
  },
  {
   "cell_type": "code",
   "execution_count": 7,
   "metadata": {},
   "outputs": [
    {
     "data": {
      "text/plain": [
       "['2010/0112watcher/menu.html',\n",
       " '2010/0208watcher/menu.html',\n",
       " '2010/0308watcher/menu.html',\n",
       " '2010/0408watcher/menu.html',\n",
       " '2010/0513watcher/menu.html',\n",
       " '2010/0608watcher/menu.html',\n",
       " '2010/0708watcher/menu.html',\n",
       " '2010/0809watcher/menu.html',\n",
       " '2010/0908watcher/menu.html',\n",
       " '2010/1008watcher/menu.html',\n",
       " '2010/1109watcher/menu.html',\n",
       " '2010/1208watcher/menu.html',\n",
       " '2011/0112watcher/menu.html',\n",
       " '2011/0208watcher/menu.html',\n",
       " '2011/0308watcher/menu.html',\n",
       " '2011/0408watcher/menu.html',\n",
       " '2011/0512watcher/menu.html',\n",
       " '2011/0608watcher/menu.html',\n",
       " '2011/0708watcher/menu.html',\n",
       " '2011/0808watcher/menu.html',\n",
       " '2011/0908watcher/menu.html',\n",
       " '2011/1011watcher/menu.html',\n",
       " '2011/1109watcher/menu.html',\n",
       " '2011/1208watcher/menu.html',\n",
       " '2012/0112watcher/menu.html',\n",
       " '2012/0208watcher/menu.html',\n",
       " '2012/0308watcher/menu.html',\n",
       " '2012/0409watcher/menu.html',\n",
       " '2012/0510watcher/menu.html',\n",
       " '2012/0608watcher/menu.html',\n",
       " '2012/0709watcher/menu.html',\n",
       " '2012/0808watcher/menu.html',\n",
       " '2012/0910watcher/menu.html',\n",
       " '2012/1009watcher/menu.html',\n",
       " '2012/1108watcher/menu.html',\n",
       " '2012/1210watcher/menu.html',\n",
       " '2013/0111watcher/menu.html',\n",
       " '2013/0208watcher/menu.html',\n",
       " '2013/0308watcher/menu.html',\n",
       " '2013/0408watcher/menu.html',\n",
       " '2013/0510watcher/menu.html',\n",
       " '2013/0610watcher/menu.html',\n",
       " '2013/0708watcher/menu.html',\n",
       " '2013/0808watcher/menu.html',\n",
       " '2013/0909watcher/menu.html',\n",
       " '2013/1008watcher/menu.html',\n",
       " '2013/1111watcher/menu.html',\n",
       " '2013/1209watcher/menu.html',\n",
       " '2014/0114watcher/menu.html',\n",
       " '2014/0210watcher/menu.html',\n",
       " '2014/0310watcher/menu.html',\n",
       " '2014/0408watcher/menu.html',\n",
       " '2014/0512watcher/menu.html',\n",
       " '2014/0609watcher/menu.html',\n",
       " '2014/0708watcher/menu.html',\n",
       " '2014/0808watcher/menu.html',\n",
       " '2014/0908watcher/menu.html',\n",
       " '2014/1008watcher/menu.html',\n",
       " '2014/1111watcher/menu.html',\n",
       " '2014/1208watcher/menu.html',\n",
       " '2015/0113watcher/menu.html',\n",
       " '2015/0209watcher/menu.html',\n",
       " '2015/0309watcher/menu.html',\n",
       " '2015/0408watcher/menu.html',\n",
       " '2015/0513watcher/menu.html',\n",
       " '2015/0608watcher/menu.html',\n",
       " '2015/0708watcher/menu.html',\n",
       " '2015/0810watcher/menu.html',\n",
       " '2015/0908watcher/menu.html',\n",
       " '2015/1008watcher/menu.html',\n",
       " '2015/1110watcher/menu.html',\n",
       " '2015/1208watcher/menu.html',\n",
       " '2016/0112watcher/menu.html',\n",
       " '2016/0208watcher/menu.html',\n",
       " '2016/0308watcher/menu.html',\n",
       " '2016/0408watcher/menu.html',\n",
       " '2016/0512watcher/menu.html',\n",
       " '2016/0608watcher/menu.html',\n",
       " '2016/0708watcher/menu.html',\n",
       " '2016/0808watcher/menu.html',\n",
       " '2016/0908watcher/menu.html',\n",
       " '2016/1011watcher/menu.html',\n",
       " '2016/1109watcher/menu.html',\n",
       " '2016/1208watcher/menu.html',\n",
       " '2017/0112watcher/menu.html',\n",
       " '2017/0208watcher/menu.html',\n",
       " '2017/0308watcher/menu.html',\n",
       " '2017/0410watcher/menu.html',\n",
       " '2017/0511watcher/menu.html',\n",
       " '2017/0608watcher/menu.html',\n",
       " '2017/0710watcher/menu.html',\n",
       " '2017/0808watcher/menu.html',\n",
       " '2017/0908watcher/menu.html',\n",
       " '2017/1010watcher/menu.html',\n",
       " '2017/1109watcher/menu.html',\n",
       " '2017/1208watcher/menu.html',\n",
       " '2018/0112watcher/menu.html',\n",
       " '2018/0208watcher/menu.html',\n",
       " '2018/0308watcher/menu.html',\n",
       " '2018/0409watcher/menu.html',\n",
       " '2018/0510watcher/menu.html',\n",
       " '2018/0608watcher/menu.html',\n",
       " '2018/0709watcher/menu.html',\n",
       " '2018/0808watcher/menu.html',\n",
       " '2018/0910watcher/menu.html',\n",
       " '2018/1009watcher/menu.html',\n",
       " '2018/1108watcher/menu.html',\n",
       " '2018/1210watcher/menu.html',\n",
       " '2019/0111watcher/menu.html',\n",
       " '2019/0208watcher/menu.html',\n",
       " '2019/0308watcher/menu.html',\n",
       " '2019/0408watcher/menu.html',\n",
       " '2019/0514watcher/menu.html',\n",
       " '2019/0610watcher/menu.html',\n",
       " '2019/0708watcher/menu.html',\n",
       " '2019/0808watcher/menu.html',\n",
       " '2019/0909watcher/menu.html',\n",
       " '2019/1008watcher/menu.html',\n",
       " '2019/1111watcher/menu.html',\n",
       " '2019/1209watcher/menu.html',\n",
       " '2020/0114watcher/menu.html',\n",
       " '2020/0210watcher/menu.html',\n",
       " '2020/0309watcher/menu.html',\n",
       " '2020/0408watcher/menu.html',\n",
       " '2020/0513watcher/menu.html',\n",
       " '2020/0608watcher/menu.html',\n",
       " '2020/0708watcher/menu.html',\n",
       " '2020/0811watcher/menu.html',\n",
       " '2020/0908watcher/menu.html',\n",
       " '2020/1008watcher/menu.html',\n",
       " '2020/1110watcher/menu.html',\n",
       " '2020/1208watcher/menu.html',\n",
       " '2021/0112watcher/menu.html',\n",
       " '2021/0208watcher/menu.html',\n",
       " '2021/0308watcher/menu.html',\n",
       " '2021/0408watcher/menu.html',\n",
       " '2021/0513watcher/menu.html',\n",
       " '2021/0608watcher/menu.html',\n",
       " '2021/0708watcher/menu.html',\n",
       " '2021/0810watcher/menu.html',\n",
       " '2021/0908watcher/menu.html',\n",
       " '2021/1008watcher/menu.html',\n",
       " '2021/1109watcher/menu.html',\n",
       " '2021/1208watcher/menu.html',\n",
       " '2022/0112watcher/menu.html',\n",
       " '2022/0208watcher/menu.html',\n",
       " '2022/0308watcher/menu.html',\n",
       " '2022/0408watcher/menu.html',\n",
       " '2022/0512watcher/menu.html',\n",
       " '2022/0608watcher/menu.html',\n",
       " '2022/0708watcher/menu.html',\n",
       " '2022/0808watcher/menu.html',\n",
       " '2022/0908watcher/menu.html',\n",
       " '2022/1011watcher/menu.html',\n",
       " '2022/1109watcher/menu.html',\n",
       " '2022/1208watcher/menu.html',\n",
       " '2023/0112watcher/menu.html',\n",
       " '2023/0208watcher/menu.html',\n",
       " '2023/0308watcher/menu.html',\n",
       " '2023/0410watcher/menu.html',\n",
       " '2023/0511watcher/menu.html',\n",
       " '2023/0608watcher/menu.html',\n",
       " '2023/0710watcher/menu.html',\n",
       " '2023/0808watcher/menu.html',\n",
       " '2023/0908watcher/menu.html',\n",
       " '2023/1010watcher/menu.html',\n",
       " '2023/1109watcher/menu.html',\n",
       " '2023/1208watcher/menu.html',\n",
       " '2024/0112watcher/menu.html',\n",
       " '2024/0208watcher/menu.html',\n",
       " '2024/0308watcher/menu.html',\n",
       " '2024/0408watcher/menu.html',\n",
       " '2024/0510watcher/menu.html',\n",
       " '2024/0610watcher/menu.html',\n",
       " '2024/0708watcher/menu.html',\n",
       " '2024/0808watcher/menu.html',\n",
       " '2024/0909watcher/menu.html',\n",
       " '2024/1008watcher/menu.html',\n",
       " '2024/1111watcher/menu.html',\n",
       " 'h1201_watcher4.csv',\n",
       " 'h1201_watcher5.csv',\n",
       " 'h1202_watcher4.csv',\n",
       " 'h1202_watcher5.csv',\n",
       " 'h1203_watcher4.csv',\n",
       " 'h1203_watcher5.csv',\n",
       " 'h1204_watcher4.csv',\n",
       " 'h1204_watcher5.csv',\n",
       " 'h1205_watcher4.csv',\n",
       " 'h1205_watcher5.csv',\n",
       " 'h1206_watcher4.csv',\n",
       " 'h1206_watcher5.csv',\n",
       " 'h1207_watcher4.csv',\n",
       " 'h1207_watcher5.csv',\n",
       " 'h1208_watcher4.csv',\n",
       " 'h1208_watcher5.csv',\n",
       " 'h1209_watcher4.csv',\n",
       " 'h1209_watcher5.csv',\n",
       " 'h1210_watcher4.csv',\n",
       " 'h1210_watcher5.csv',\n",
       " 'h1211_watcher4.csv',\n",
       " 'h1211_watcher5.csv',\n",
       " 'h1212_watcher4.csv',\n",
       " 'h1212_watcher5.csv',\n",
       " 'h1301_watcher4.csv',\n",
       " 'h1301_watcher5.csv',\n",
       " 'h1302_watcher4.csv',\n",
       " 'h1302_watcher5.csv',\n",
       " 'h1303_watcher4.csv',\n",
       " 'h1303_watcher5.csv',\n",
       " 'h1304_watcher4.csv',\n",
       " 'h1304_watcher5.csv',\n",
       " 'h1305_watcher4.csv',\n",
       " 'h1305_watcher5.csv',\n",
       " 'h1306_watcher4.csv',\n",
       " 'h1306_watcher5.csv',\n",
       " 'h1307_watcher4.csv',\n",
       " 'h1307_watcher5.csv',\n",
       " 'h1308_watcher4.csv',\n",
       " 'h1308_watcher5.csv',\n",
       " 'h1309_watcher4.csv',\n",
       " 'h1309_watcher5.csv',\n",
       " 'h1310_watcher4.csv',\n",
       " 'h1310_watcher5.csv',\n",
       " 'h1311_watcher4.csv',\n",
       " 'h1311_watcher5.csv',\n",
       " 'h1312_watcher4.csv',\n",
       " 'h1312_watcher5.csv',\n",
       " 'h1401_watcher4.csv',\n",
       " 'h1401_watcher5.csv',\n",
       " 'h1402_watcher4.csv',\n",
       " 'h1402_watcher5.csv',\n",
       " 'h1403_watcher4.csv',\n",
       " 'h1403_watcher5.csv',\n",
       " 'h1404_watcher4.csv',\n",
       " 'h1404_watcher5.csv',\n",
       " 'h1405_watcher4.csv',\n",
       " 'h1405_watcher5.csv',\n",
       " 'h1406_watcher4.csv',\n",
       " 'h1406_watcher5.csv',\n",
       " 'h1407_watcher4.csv',\n",
       " 'h1407_watcher5.csv',\n",
       " 'h1408_watcher4.csv',\n",
       " 'h1408_watcher5.csv',\n",
       " 'h1409_watcher4.csv',\n",
       " 'h1409_watcher5.csv',\n",
       " 'h1410_watcher4.csv',\n",
       " 'h1410_watcher5.csv',\n",
       " 'h1411_watcher4.csv',\n",
       " 'h1411_watcher5.csv',\n",
       " 'h1412_watcher4.csv',\n",
       " 'h1412_watcher5.csv',\n",
       " 'h1501_watcher4.csv',\n",
       " 'h1501_watcher5.csv',\n",
       " 'h1502_watcher4.csv',\n",
       " 'h1502_watcher5.csv',\n",
       " 'h1503_watcher4.csv',\n",
       " 'h1503_watcher5.csv',\n",
       " 'h1504_watcher4.csv',\n",
       " 'h1504_watcher5.csv',\n",
       " 'h1505_watcher4.csv',\n",
       " 'h1505_watcher5.csv',\n",
       " 'h1506_watcher4.csv',\n",
       " 'h1506_watcher5.csv',\n",
       " 'h1507_watcher4.csv',\n",
       " 'h1507_watcher5.csv',\n",
       " 'h1508_watcher4.csv',\n",
       " 'h1508_watcher5.csv',\n",
       " 'h1509_watcher4.csv',\n",
       " 'h1509_watcher5.csv',\n",
       " 'h1510_watcher4.csv',\n",
       " 'h1510_watcher5.csv',\n",
       " 'h1511_watcher4.csv',\n",
       " 'h1511_watcher5.csv',\n",
       " 'h1512_watcher4.csv',\n",
       " 'h1512_watcher5.csv',\n",
       " 'h1601_watcher4.csv',\n",
       " 'h1601_watcher5.csv',\n",
       " 'h1602_watcher4.csv',\n",
       " 'h1602_watcher5.csv',\n",
       " 'h1603_watcher4.csv',\n",
       " 'h1603_watcher5.csv',\n",
       " 'h1604_watcher4.csv',\n",
       " 'h1604_watcher5.csv',\n",
       " 'h1605_watcher4.csv',\n",
       " 'h1605_watcher5.csv',\n",
       " 'h1606_watcher4.csv',\n",
       " 'h1606_watcher5.csv',\n",
       " 'h1607_watcher4.csv',\n",
       " 'h1607_watcher5.csv',\n",
       " 'h1608_watcher4.csv',\n",
       " 'h1608_watcher5.csv',\n",
       " 'h1609_watcher4.csv',\n",
       " 'h1609_watcher5.csv',\n",
       " 'h1610_watcher4.csv',\n",
       " 'h1610_watcher5.csv',\n",
       " 'h1611_watcher4.csv',\n",
       " 'h1611_watcher5.csv',\n",
       " 'h1612_watcher4.csv',\n",
       " 'h1612_watcher5.csv',\n",
       " 'h1701_watcher4.csv',\n",
       " 'h1701_watcher5.csv',\n",
       " 'h1702_watcher4.csv',\n",
       " 'h1702_watcher5.csv',\n",
       " 'h1703_watcher4.csv',\n",
       " 'h1703_watcher5.csv',\n",
       " 'h1704_watcher4.csv',\n",
       " 'h1704_watcher5.csv',\n",
       " 'h1705_watcher4.csv',\n",
       " 'h1705_watcher5.csv',\n",
       " 'h1706_watcher4.csv',\n",
       " 'h1706_watcher5.csv',\n",
       " 'h1707_watcher4.csv',\n",
       " 'h1707_watcher5.csv',\n",
       " 'h1708_watcher4.csv',\n",
       " 'h1708_watcher5.csv',\n",
       " 'h1709_watcher4.csv',\n",
       " 'h1709_watcher5.csv',\n",
       " 'h1710_watcher4.csv',\n",
       " 'h1710_watcher5.csv',\n",
       " 'h1711_watcher4.csv',\n",
       " 'h1711_watcher5.csv',\n",
       " 'h1712_watcher4.csv',\n",
       " 'h1712_watcher5.csv',\n",
       " 'h1801_watcher4.csv',\n",
       " 'h1801_watcher5.csv',\n",
       " 'h1802_watcher4.csv',\n",
       " 'h1802_watcher5.csv',\n",
       " 'h1803_watcher4.csv',\n",
       " 'h1803_watcher5.csv',\n",
       " 'h1804_watcher4.csv',\n",
       " 'h1804_watcher5.csv',\n",
       " 'h1805_watcher4.csv',\n",
       " 'h1805_watcher5.csv',\n",
       " 'h1806_watcher4.csv',\n",
       " 'h1806_watcher5.csv',\n",
       " 'h1807_watcher4.csv',\n",
       " 'h1807_watcher5.csv',\n",
       " 'h1808_watcher4.csv',\n",
       " 'h1808_watcher5.csv',\n",
       " 'h1809_watcher4.csv',\n",
       " 'h1809_watcher5.csv',\n",
       " 'h1810_watcher4.csv',\n",
       " 'h1810_watcher5.csv',\n",
       " 'h1811_watcher4.csv',\n",
       " 'h1811_watcher5.csv',\n",
       " 'h1812_watcher4.csv',\n",
       " 'h1812_watcher5.csv',\n",
       " 'h1901_watcher4.csv',\n",
       " 'h1901_watcher5.csv',\n",
       " 'h1902_watcher4.csv',\n",
       " 'h1902_watcher5.csv',\n",
       " 'h1903_watcher4.csv',\n",
       " 'h1903_watcher5.csv',\n",
       " 'h1904_watcher4.csv',\n",
       " 'h1904_watcher5.csv',\n",
       " 'h1905_watcher4.csv',\n",
       " 'h1905_watcher5.csv',\n",
       " 'h1906_watcher4.csv',\n",
       " 'h1906_watcher5.csv',\n",
       " 'h1907_watcher4.csv',\n",
       " 'h1907_watcher5.csv',\n",
       " 'h1908_watcher4.csv',\n",
       " 'h1908_watcher5.csv',\n",
       " 'h1909_watcher4.csv',\n",
       " 'h1909_watcher5.csv',\n",
       " 'h1910_watcher4.csv',\n",
       " 'h1910_watcher5.csv',\n",
       " 'h1911_watcher4.csv',\n",
       " 'h1911_watcher5.csv',\n",
       " 'h1912_watcher4.csv',\n",
       " 'h1912_watcher5.csv',\n",
       " 'h2001_watcher4.csv',\n",
       " 'h2001_watcher5.csv',\n",
       " 'h2002_watcher4.csv',\n",
       " 'h2002_watcher5.csv',\n",
       " 'h2003_watcher4.csv',\n",
       " 'h2003_watcher5.csv',\n",
       " 'h2004_watcher4.csv',\n",
       " 'h2004_watcher5.csv',\n",
       " 'h2005_watcher4.csv',\n",
       " 'h2005_watcher5.csv',\n",
       " 'h2006_watcher4.csv',\n",
       " 'h2006_watcher5.csv',\n",
       " 'h2007_watcher4.csv',\n",
       " 'h2007_watcher5.csv',\n",
       " 'h2008_watcher4.csv',\n",
       " 'h2008_watcher5.csv',\n",
       " 'h2009_watcher4.csv',\n",
       " 'h2009_watcher5.csv',\n",
       " 'h2010_watcher4.csv',\n",
       " 'h2010_watcher5.csv',\n",
       " 'h2011_watcher4.csv',\n",
       " 'h2011_watcher5.csv',\n",
       " 'h2012_watcher4.csv',\n",
       " 'h2012_watcher5.csv',\n",
       " 'h2101_watcher4.csv',\n",
       " 'h2101_watcher5.csv',\n",
       " 'h2102_watcher4.csv',\n",
       " 'h2102_watcher5.csv',\n",
       " 'h2103_watcher4.csv',\n",
       " 'h2103_watcher5.csv',\n",
       " 'h2104_watcher4.csv',\n",
       " 'h2104_watcher5.csv',\n",
       " 'h2105_watcher4.csv',\n",
       " 'h2105_watcher5.csv',\n",
       " 'h2106_watcher4.csv',\n",
       " 'h2106_watcher5.csv',\n",
       " 'h2107_watcher4.csv',\n",
       " 'h2107_watcher5.csv',\n",
       " 'h2108_watcher4.csv',\n",
       " 'h2108_watcher5.csv',\n",
       " 'h2109_watcher4.csv',\n",
       " 'h2109_watcher5.csv',\n",
       " 'h2110_watcher4.csv',\n",
       " 'h2110_watcher5.csv',\n",
       " 'h2111_watcher4.csv',\n",
       " 'h2111_watcher5.csv',\n",
       " 'h2112_watcher4.csv',\n",
       " 'h2112_watcher5.csv']"
      ]
     },
     "execution_count": 7,
     "metadata": {},
     "output_type": "execute_result"
    }
   ],
   "source": [
    "all_urls"
   ]
  },
  {
   "cell_type": "code",
   "execution_count": null,
   "metadata": {},
   "outputs": [],
   "source": []
  },
  {
   "cell_type": "markdown",
   "metadata": {},
   "source": [
    "# Get all data"
   ]
  },
  {
   "cell_type": "code",
   "execution_count": 8,
   "metadata": {
    "scrolled": true
   },
   "outputs": [
    {
     "name": "stdout",
     "output_type": "stream",
     "text": [
      "0\n",
      "1\n"
     ]
    },
    {
     "name": "stderr",
     "output_type": "stream",
     "text": [
      "/var/folders/xx/46bbfzhs77j5z84b92fz834w0000gn/T/ipykernel_8896/3658594269.py:54: FutureWarning: Series.__getitem__ treating keys as positions is deprecated. In a future version, integer keys will always be treated as labels (consistent with DataFrame behavior). To access a value by position, use `ser.iloc[pos]`\n",
      "  use_col_names.update({col_names[l]:l})\n",
      "/var/folders/xx/46bbfzhs77j5z84b92fz834w0000gn/T/ipykernel_8896/3658594269.py:54: FutureWarning: Series.__getitem__ treating keys as positions is deprecated. In a future version, integer keys will always be treated as labels (consistent with DataFrame behavior). To access a value by position, use `ser.iloc[pos]`\n",
      "  use_col_names.update({col_names[l]:l})\n",
      "/var/folders/xx/46bbfzhs77j5z84b92fz834w0000gn/T/ipykernel_8896/3658594269.py:54: FutureWarning: Series.__getitem__ treating keys as positions is deprecated. In a future version, integer keys will always be treated as labels (consistent with DataFrame behavior). To access a value by position, use `ser.iloc[pos]`\n",
      "  use_col_names.update({col_names[l]:l})\n",
      "/var/folders/xx/46bbfzhs77j5z84b92fz834w0000gn/T/ipykernel_8896/3658594269.py:54: FutureWarning: Series.__getitem__ treating keys as positions is deprecated. In a future version, integer keys will always be treated as labels (consistent with DataFrame behavior). To access a value by position, use `ser.iloc[pos]`\n",
      "  use_col_names.update({col_names[l]:l})\n",
      "/var/folders/xx/46bbfzhs77j5z84b92fz834w0000gn/T/ipykernel_8896/3658594269.py:54: FutureWarning: Series.__getitem__ treating keys as positions is deprecated. In a future version, integer keys will always be treated as labels (consistent with DataFrame behavior). To access a value by position, use `ser.iloc[pos]`\n",
      "  use_col_names.update({col_names[l]:l})\n"
     ]
    },
    {
     "name": "stdout",
     "output_type": "stream",
     "text": [
      "2\n"
     ]
    },
    {
     "name": "stderr",
     "output_type": "stream",
     "text": [
      "/var/folders/xx/46bbfzhs77j5z84b92fz834w0000gn/T/ipykernel_8896/3658594269.py:54: FutureWarning: Series.__getitem__ treating keys as positions is deprecated. In a future version, integer keys will always be treated as labels (consistent with DataFrame behavior). To access a value by position, use `ser.iloc[pos]`\n",
      "  use_col_names.update({col_names[l]:l})\n",
      "/var/folders/xx/46bbfzhs77j5z84b92fz834w0000gn/T/ipykernel_8896/3658594269.py:54: FutureWarning: Series.__getitem__ treating keys as positions is deprecated. In a future version, integer keys will always be treated as labels (consistent with DataFrame behavior). To access a value by position, use `ser.iloc[pos]`\n",
      "  use_col_names.update({col_names[l]:l})\n",
      "/var/folders/xx/46bbfzhs77j5z84b92fz834w0000gn/T/ipykernel_8896/3658594269.py:54: FutureWarning: Series.__getitem__ treating keys as positions is deprecated. In a future version, integer keys will always be treated as labels (consistent with DataFrame behavior). To access a value by position, use `ser.iloc[pos]`\n",
      "  use_col_names.update({col_names[l]:l})\n"
     ]
    },
    {
     "name": "stdout",
     "output_type": "stream",
     "text": [
      "3\n"
     ]
    },
    {
     "name": "stderr",
     "output_type": "stream",
     "text": [
      "/var/folders/xx/46bbfzhs77j5z84b92fz834w0000gn/T/ipykernel_8896/3658594269.py:54: FutureWarning: Series.__getitem__ treating keys as positions is deprecated. In a future version, integer keys will always be treated as labels (consistent with DataFrame behavior). To access a value by position, use `ser.iloc[pos]`\n",
      "  use_col_names.update({col_names[l]:l})\n",
      "/var/folders/xx/46bbfzhs77j5z84b92fz834w0000gn/T/ipykernel_8896/3658594269.py:54: FutureWarning: Series.__getitem__ treating keys as positions is deprecated. In a future version, integer keys will always be treated as labels (consistent with DataFrame behavior). To access a value by position, use `ser.iloc[pos]`\n",
      "  use_col_names.update({col_names[l]:l})\n",
      "/var/folders/xx/46bbfzhs77j5z84b92fz834w0000gn/T/ipykernel_8896/3658594269.py:54: FutureWarning: Series.__getitem__ treating keys as positions is deprecated. In a future version, integer keys will always be treated as labels (consistent with DataFrame behavior). To access a value by position, use `ser.iloc[pos]`\n",
      "  use_col_names.update({col_names[l]:l})\n",
      "/var/folders/xx/46bbfzhs77j5z84b92fz834w0000gn/T/ipykernel_8896/3658594269.py:54: FutureWarning: Series.__getitem__ treating keys as positions is deprecated. In a future version, integer keys will always be treated as labels (consistent with DataFrame behavior). To access a value by position, use `ser.iloc[pos]`\n",
      "  use_col_names.update({col_names[l]:l})\n"
     ]
    },
    {
     "name": "stdout",
     "output_type": "stream",
     "text": [
      "4\n"
     ]
    },
    {
     "name": "stderr",
     "output_type": "stream",
     "text": [
      "/var/folders/xx/46bbfzhs77j5z84b92fz834w0000gn/T/ipykernel_8896/3658594269.py:54: FutureWarning: Series.__getitem__ treating keys as positions is deprecated. In a future version, integer keys will always be treated as labels (consistent with DataFrame behavior). To access a value by position, use `ser.iloc[pos]`\n",
      "  use_col_names.update({col_names[l]:l})\n",
      "/var/folders/xx/46bbfzhs77j5z84b92fz834w0000gn/T/ipykernel_8896/3658594269.py:54: FutureWarning: Series.__getitem__ treating keys as positions is deprecated. In a future version, integer keys will always be treated as labels (consistent with DataFrame behavior). To access a value by position, use `ser.iloc[pos]`\n",
      "  use_col_names.update({col_names[l]:l})\n",
      "/var/folders/xx/46bbfzhs77j5z84b92fz834w0000gn/T/ipykernel_8896/3658594269.py:54: FutureWarning: Series.__getitem__ treating keys as positions is deprecated. In a future version, integer keys will always be treated as labels (consistent with DataFrame behavior). To access a value by position, use `ser.iloc[pos]`\n",
      "  use_col_names.update({col_names[l]:l})\n",
      "/var/folders/xx/46bbfzhs77j5z84b92fz834w0000gn/T/ipykernel_8896/3658594269.py:54: FutureWarning: Series.__getitem__ treating keys as positions is deprecated. In a future version, integer keys will always be treated as labels (consistent with DataFrame behavior). To access a value by position, use `ser.iloc[pos]`\n",
      "  use_col_names.update({col_names[l]:l})\n"
     ]
    },
    {
     "name": "stdout",
     "output_type": "stream",
     "text": [
      "5\n"
     ]
    },
    {
     "name": "stderr",
     "output_type": "stream",
     "text": [
      "/var/folders/xx/46bbfzhs77j5z84b92fz834w0000gn/T/ipykernel_8896/3658594269.py:54: FutureWarning: Series.__getitem__ treating keys as positions is deprecated. In a future version, integer keys will always be treated as labels (consistent with DataFrame behavior). To access a value by position, use `ser.iloc[pos]`\n",
      "  use_col_names.update({col_names[l]:l})\n",
      "/var/folders/xx/46bbfzhs77j5z84b92fz834w0000gn/T/ipykernel_8896/3658594269.py:54: FutureWarning: Series.__getitem__ treating keys as positions is deprecated. In a future version, integer keys will always be treated as labels (consistent with DataFrame behavior). To access a value by position, use `ser.iloc[pos]`\n",
      "  use_col_names.update({col_names[l]:l})\n",
      "/var/folders/xx/46bbfzhs77j5z84b92fz834w0000gn/T/ipykernel_8896/3658594269.py:54: FutureWarning: Series.__getitem__ treating keys as positions is deprecated. In a future version, integer keys will always be treated as labels (consistent with DataFrame behavior). To access a value by position, use `ser.iloc[pos]`\n",
      "  use_col_names.update({col_names[l]:l})\n",
      "/var/folders/xx/46bbfzhs77j5z84b92fz834w0000gn/T/ipykernel_8896/3658594269.py:54: FutureWarning: Series.__getitem__ treating keys as positions is deprecated. In a future version, integer keys will always be treated as labels (consistent with DataFrame behavior). To access a value by position, use `ser.iloc[pos]`\n",
      "  use_col_names.update({col_names[l]:l})\n"
     ]
    },
    {
     "name": "stdout",
     "output_type": "stream",
     "text": [
      "6\n"
     ]
    },
    {
     "name": "stderr",
     "output_type": "stream",
     "text": [
      "/var/folders/xx/46bbfzhs77j5z84b92fz834w0000gn/T/ipykernel_8896/3658594269.py:54: FutureWarning: Series.__getitem__ treating keys as positions is deprecated. In a future version, integer keys will always be treated as labels (consistent with DataFrame behavior). To access a value by position, use `ser.iloc[pos]`\n",
      "  use_col_names.update({col_names[l]:l})\n",
      "/var/folders/xx/46bbfzhs77j5z84b92fz834w0000gn/T/ipykernel_8896/3658594269.py:54: FutureWarning: Series.__getitem__ treating keys as positions is deprecated. In a future version, integer keys will always be treated as labels (consistent with DataFrame behavior). To access a value by position, use `ser.iloc[pos]`\n",
      "  use_col_names.update({col_names[l]:l})\n",
      "/var/folders/xx/46bbfzhs77j5z84b92fz834w0000gn/T/ipykernel_8896/3658594269.py:54: FutureWarning: Series.__getitem__ treating keys as positions is deprecated. In a future version, integer keys will always be treated as labels (consistent with DataFrame behavior). To access a value by position, use `ser.iloc[pos]`\n",
      "  use_col_names.update({col_names[l]:l})\n",
      "/var/folders/xx/46bbfzhs77j5z84b92fz834w0000gn/T/ipykernel_8896/3658594269.py:54: FutureWarning: Series.__getitem__ treating keys as positions is deprecated. In a future version, integer keys will always be treated as labels (consistent with DataFrame behavior). To access a value by position, use `ser.iloc[pos]`\n",
      "  use_col_names.update({col_names[l]:l})\n"
     ]
    },
    {
     "name": "stdout",
     "output_type": "stream",
     "text": [
      "7\n"
     ]
    },
    {
     "name": "stderr",
     "output_type": "stream",
     "text": [
      "/var/folders/xx/46bbfzhs77j5z84b92fz834w0000gn/T/ipykernel_8896/3658594269.py:54: FutureWarning: Series.__getitem__ treating keys as positions is deprecated. In a future version, integer keys will always be treated as labels (consistent with DataFrame behavior). To access a value by position, use `ser.iloc[pos]`\n",
      "  use_col_names.update({col_names[l]:l})\n",
      "/var/folders/xx/46bbfzhs77j5z84b92fz834w0000gn/T/ipykernel_8896/3658594269.py:54: FutureWarning: Series.__getitem__ treating keys as positions is deprecated. In a future version, integer keys will always be treated as labels (consistent with DataFrame behavior). To access a value by position, use `ser.iloc[pos]`\n",
      "  use_col_names.update({col_names[l]:l})\n",
      "/var/folders/xx/46bbfzhs77j5z84b92fz834w0000gn/T/ipykernel_8896/3658594269.py:54: FutureWarning: Series.__getitem__ treating keys as positions is deprecated. In a future version, integer keys will always be treated as labels (consistent with DataFrame behavior). To access a value by position, use `ser.iloc[pos]`\n",
      "  use_col_names.update({col_names[l]:l})\n",
      "/var/folders/xx/46bbfzhs77j5z84b92fz834w0000gn/T/ipykernel_8896/3658594269.py:54: FutureWarning: Series.__getitem__ treating keys as positions is deprecated. In a future version, integer keys will always be treated as labels (consistent with DataFrame behavior). To access a value by position, use `ser.iloc[pos]`\n",
      "  use_col_names.update({col_names[l]:l})\n"
     ]
    },
    {
     "name": "stdout",
     "output_type": "stream",
     "text": [
      "8\n"
     ]
    },
    {
     "name": "stderr",
     "output_type": "stream",
     "text": [
      "/var/folders/xx/46bbfzhs77j5z84b92fz834w0000gn/T/ipykernel_8896/3658594269.py:54: FutureWarning: Series.__getitem__ treating keys as positions is deprecated. In a future version, integer keys will always be treated as labels (consistent with DataFrame behavior). To access a value by position, use `ser.iloc[pos]`\n",
      "  use_col_names.update({col_names[l]:l})\n",
      "/var/folders/xx/46bbfzhs77j5z84b92fz834w0000gn/T/ipykernel_8896/3658594269.py:54: FutureWarning: Series.__getitem__ treating keys as positions is deprecated. In a future version, integer keys will always be treated as labels (consistent with DataFrame behavior). To access a value by position, use `ser.iloc[pos]`\n",
      "  use_col_names.update({col_names[l]:l})\n",
      "/var/folders/xx/46bbfzhs77j5z84b92fz834w0000gn/T/ipykernel_8896/3658594269.py:54: FutureWarning: Series.__getitem__ treating keys as positions is deprecated. In a future version, integer keys will always be treated as labels (consistent with DataFrame behavior). To access a value by position, use `ser.iloc[pos]`\n",
      "  use_col_names.update({col_names[l]:l})\n",
      "/var/folders/xx/46bbfzhs77j5z84b92fz834w0000gn/T/ipykernel_8896/3658594269.py:54: FutureWarning: Series.__getitem__ treating keys as positions is deprecated. In a future version, integer keys will always be treated as labels (consistent with DataFrame behavior). To access a value by position, use `ser.iloc[pos]`\n",
      "  use_col_names.update({col_names[l]:l})\n"
     ]
    },
    {
     "name": "stdout",
     "output_type": "stream",
     "text": [
      "9\n"
     ]
    },
    {
     "name": "stderr",
     "output_type": "stream",
     "text": [
      "/var/folders/xx/46bbfzhs77j5z84b92fz834w0000gn/T/ipykernel_8896/3658594269.py:54: FutureWarning: Series.__getitem__ treating keys as positions is deprecated. In a future version, integer keys will always be treated as labels (consistent with DataFrame behavior). To access a value by position, use `ser.iloc[pos]`\n",
      "  use_col_names.update({col_names[l]:l})\n",
      "/var/folders/xx/46bbfzhs77j5z84b92fz834w0000gn/T/ipykernel_8896/3658594269.py:54: FutureWarning: Series.__getitem__ treating keys as positions is deprecated. In a future version, integer keys will always be treated as labels (consistent with DataFrame behavior). To access a value by position, use `ser.iloc[pos]`\n",
      "  use_col_names.update({col_names[l]:l})\n",
      "/var/folders/xx/46bbfzhs77j5z84b92fz834w0000gn/T/ipykernel_8896/3658594269.py:54: FutureWarning: Series.__getitem__ treating keys as positions is deprecated. In a future version, integer keys will always be treated as labels (consistent with DataFrame behavior). To access a value by position, use `ser.iloc[pos]`\n",
      "  use_col_names.update({col_names[l]:l})\n",
      "/var/folders/xx/46bbfzhs77j5z84b92fz834w0000gn/T/ipykernel_8896/3658594269.py:54: FutureWarning: Series.__getitem__ treating keys as positions is deprecated. In a future version, integer keys will always be treated as labels (consistent with DataFrame behavior). To access a value by position, use `ser.iloc[pos]`\n",
      "  use_col_names.update({col_names[l]:l})\n"
     ]
    },
    {
     "name": "stdout",
     "output_type": "stream",
     "text": [
      "10\n"
     ]
    },
    {
     "name": "stderr",
     "output_type": "stream",
     "text": [
      "/var/folders/xx/46bbfzhs77j5z84b92fz834w0000gn/T/ipykernel_8896/3658594269.py:54: FutureWarning: Series.__getitem__ treating keys as positions is deprecated. In a future version, integer keys will always be treated as labels (consistent with DataFrame behavior). To access a value by position, use `ser.iloc[pos]`\n",
      "  use_col_names.update({col_names[l]:l})\n",
      "/var/folders/xx/46bbfzhs77j5z84b92fz834w0000gn/T/ipykernel_8896/3658594269.py:54: FutureWarning: Series.__getitem__ treating keys as positions is deprecated. In a future version, integer keys will always be treated as labels (consistent with DataFrame behavior). To access a value by position, use `ser.iloc[pos]`\n",
      "  use_col_names.update({col_names[l]:l})\n",
      "/var/folders/xx/46bbfzhs77j5z84b92fz834w0000gn/T/ipykernel_8896/3658594269.py:54: FutureWarning: Series.__getitem__ treating keys as positions is deprecated. In a future version, integer keys will always be treated as labels (consistent with DataFrame behavior). To access a value by position, use `ser.iloc[pos]`\n",
      "  use_col_names.update({col_names[l]:l})\n",
      "/var/folders/xx/46bbfzhs77j5z84b92fz834w0000gn/T/ipykernel_8896/3658594269.py:54: FutureWarning: Series.__getitem__ treating keys as positions is deprecated. In a future version, integer keys will always be treated as labels (consistent with DataFrame behavior). To access a value by position, use `ser.iloc[pos]`\n",
      "  use_col_names.update({col_names[l]:l})\n",
      "/var/folders/xx/46bbfzhs77j5z84b92fz834w0000gn/T/ipykernel_8896/3658594269.py:54: FutureWarning: Series.__getitem__ treating keys as positions is deprecated. In a future version, integer keys will always be treated as labels (consistent with DataFrame behavior). To access a value by position, use `ser.iloc[pos]`\n",
      "  use_col_names.update({col_names[l]:l})\n"
     ]
    },
    {
     "name": "stdout",
     "output_type": "stream",
     "text": [
      "11\n"
     ]
    },
    {
     "name": "stderr",
     "output_type": "stream",
     "text": [
      "/var/folders/xx/46bbfzhs77j5z84b92fz834w0000gn/T/ipykernel_8896/3658594269.py:54: FutureWarning: Series.__getitem__ treating keys as positions is deprecated. In a future version, integer keys will always be treated as labels (consistent with DataFrame behavior). To access a value by position, use `ser.iloc[pos]`\n",
      "  use_col_names.update({col_names[l]:l})\n",
      "/var/folders/xx/46bbfzhs77j5z84b92fz834w0000gn/T/ipykernel_8896/3658594269.py:54: FutureWarning: Series.__getitem__ treating keys as positions is deprecated. In a future version, integer keys will always be treated as labels (consistent with DataFrame behavior). To access a value by position, use `ser.iloc[pos]`\n",
      "  use_col_names.update({col_names[l]:l})\n",
      "/var/folders/xx/46bbfzhs77j5z84b92fz834w0000gn/T/ipykernel_8896/3658594269.py:54: FutureWarning: Series.__getitem__ treating keys as positions is deprecated. In a future version, integer keys will always be treated as labels (consistent with DataFrame behavior). To access a value by position, use `ser.iloc[pos]`\n",
      "  use_col_names.update({col_names[l]:l})\n"
     ]
    },
    {
     "name": "stdout",
     "output_type": "stream",
     "text": [
      "12\n"
     ]
    },
    {
     "name": "stderr",
     "output_type": "stream",
     "text": [
      "/var/folders/xx/46bbfzhs77j5z84b92fz834w0000gn/T/ipykernel_8896/3658594269.py:54: FutureWarning: Series.__getitem__ treating keys as positions is deprecated. In a future version, integer keys will always be treated as labels (consistent with DataFrame behavior). To access a value by position, use `ser.iloc[pos]`\n",
      "  use_col_names.update({col_names[l]:l})\n",
      "/var/folders/xx/46bbfzhs77j5z84b92fz834w0000gn/T/ipykernel_8896/3658594269.py:54: FutureWarning: Series.__getitem__ treating keys as positions is deprecated. In a future version, integer keys will always be treated as labels (consistent with DataFrame behavior). To access a value by position, use `ser.iloc[pos]`\n",
      "  use_col_names.update({col_names[l]:l})\n",
      "/var/folders/xx/46bbfzhs77j5z84b92fz834w0000gn/T/ipykernel_8896/3658594269.py:54: FutureWarning: Series.__getitem__ treating keys as positions is deprecated. In a future version, integer keys will always be treated as labels (consistent with DataFrame behavior). To access a value by position, use `ser.iloc[pos]`\n",
      "  use_col_names.update({col_names[l]:l})\n",
      "/var/folders/xx/46bbfzhs77j5z84b92fz834w0000gn/T/ipykernel_8896/3658594269.py:54: FutureWarning: Series.__getitem__ treating keys as positions is deprecated. In a future version, integer keys will always be treated as labels (consistent with DataFrame behavior). To access a value by position, use `ser.iloc[pos]`\n",
      "  use_col_names.update({col_names[l]:l})\n"
     ]
    },
    {
     "name": "stdout",
     "output_type": "stream",
     "text": [
      "13\n"
     ]
    },
    {
     "name": "stderr",
     "output_type": "stream",
     "text": [
      "/var/folders/xx/46bbfzhs77j5z84b92fz834w0000gn/T/ipykernel_8896/3658594269.py:54: FutureWarning: Series.__getitem__ treating keys as positions is deprecated. In a future version, integer keys will always be treated as labels (consistent with DataFrame behavior). To access a value by position, use `ser.iloc[pos]`\n",
      "  use_col_names.update({col_names[l]:l})\n",
      "/var/folders/xx/46bbfzhs77j5z84b92fz834w0000gn/T/ipykernel_8896/3658594269.py:54: FutureWarning: Series.__getitem__ treating keys as positions is deprecated. In a future version, integer keys will always be treated as labels (consistent with DataFrame behavior). To access a value by position, use `ser.iloc[pos]`\n",
      "  use_col_names.update({col_names[l]:l})\n",
      "/var/folders/xx/46bbfzhs77j5z84b92fz834w0000gn/T/ipykernel_8896/3658594269.py:54: FutureWarning: Series.__getitem__ treating keys as positions is deprecated. In a future version, integer keys will always be treated as labels (consistent with DataFrame behavior). To access a value by position, use `ser.iloc[pos]`\n",
      "  use_col_names.update({col_names[l]:l})\n",
      "/var/folders/xx/46bbfzhs77j5z84b92fz834w0000gn/T/ipykernel_8896/3658594269.py:54: FutureWarning: Series.__getitem__ treating keys as positions is deprecated. In a future version, integer keys will always be treated as labels (consistent with DataFrame behavior). To access a value by position, use `ser.iloc[pos]`\n",
      "  use_col_names.update({col_names[l]:l})\n"
     ]
    },
    {
     "name": "stdout",
     "output_type": "stream",
     "text": [
      "14\n"
     ]
    },
    {
     "name": "stderr",
     "output_type": "stream",
     "text": [
      "/var/folders/xx/46bbfzhs77j5z84b92fz834w0000gn/T/ipykernel_8896/3658594269.py:54: FutureWarning: Series.__getitem__ treating keys as positions is deprecated. In a future version, integer keys will always be treated as labels (consistent with DataFrame behavior). To access a value by position, use `ser.iloc[pos]`\n",
      "  use_col_names.update({col_names[l]:l})\n",
      "/var/folders/xx/46bbfzhs77j5z84b92fz834w0000gn/T/ipykernel_8896/3658594269.py:54: FutureWarning: Series.__getitem__ treating keys as positions is deprecated. In a future version, integer keys will always be treated as labels (consistent with DataFrame behavior). To access a value by position, use `ser.iloc[pos]`\n",
      "  use_col_names.update({col_names[l]:l})\n",
      "/var/folders/xx/46bbfzhs77j5z84b92fz834w0000gn/T/ipykernel_8896/3658594269.py:54: FutureWarning: Series.__getitem__ treating keys as positions is deprecated. In a future version, integer keys will always be treated as labels (consistent with DataFrame behavior). To access a value by position, use `ser.iloc[pos]`\n",
      "  use_col_names.update({col_names[l]:l})\n",
      "/var/folders/xx/46bbfzhs77j5z84b92fz834w0000gn/T/ipykernel_8896/3658594269.py:54: FutureWarning: Series.__getitem__ treating keys as positions is deprecated. In a future version, integer keys will always be treated as labels (consistent with DataFrame behavior). To access a value by position, use `ser.iloc[pos]`\n",
      "  use_col_names.update({col_names[l]:l})\n"
     ]
    },
    {
     "name": "stdout",
     "output_type": "stream",
     "text": [
      "15\n"
     ]
    },
    {
     "name": "stderr",
     "output_type": "stream",
     "text": [
      "/var/folders/xx/46bbfzhs77j5z84b92fz834w0000gn/T/ipykernel_8896/3658594269.py:54: FutureWarning: Series.__getitem__ treating keys as positions is deprecated. In a future version, integer keys will always be treated as labels (consistent with DataFrame behavior). To access a value by position, use `ser.iloc[pos]`\n",
      "  use_col_names.update({col_names[l]:l})\n",
      "/var/folders/xx/46bbfzhs77j5z84b92fz834w0000gn/T/ipykernel_8896/3658594269.py:54: FutureWarning: Series.__getitem__ treating keys as positions is deprecated. In a future version, integer keys will always be treated as labels (consistent with DataFrame behavior). To access a value by position, use `ser.iloc[pos]`\n",
      "  use_col_names.update({col_names[l]:l})\n",
      "/var/folders/xx/46bbfzhs77j5z84b92fz834w0000gn/T/ipykernel_8896/3658594269.py:54: FutureWarning: Series.__getitem__ treating keys as positions is deprecated. In a future version, integer keys will always be treated as labels (consistent with DataFrame behavior). To access a value by position, use `ser.iloc[pos]`\n",
      "  use_col_names.update({col_names[l]:l})\n",
      "/var/folders/xx/46bbfzhs77j5z84b92fz834w0000gn/T/ipykernel_8896/3658594269.py:54: FutureWarning: Series.__getitem__ treating keys as positions is deprecated. In a future version, integer keys will always be treated as labels (consistent with DataFrame behavior). To access a value by position, use `ser.iloc[pos]`\n",
      "  use_col_names.update({col_names[l]:l})\n"
     ]
    },
    {
     "name": "stdout",
     "output_type": "stream",
     "text": [
      "16\n"
     ]
    },
    {
     "name": "stderr",
     "output_type": "stream",
     "text": [
      "/var/folders/xx/46bbfzhs77j5z84b92fz834w0000gn/T/ipykernel_8896/3658594269.py:54: FutureWarning: Series.__getitem__ treating keys as positions is deprecated. In a future version, integer keys will always be treated as labels (consistent with DataFrame behavior). To access a value by position, use `ser.iloc[pos]`\n",
      "  use_col_names.update({col_names[l]:l})\n",
      "/var/folders/xx/46bbfzhs77j5z84b92fz834w0000gn/T/ipykernel_8896/3658594269.py:54: FutureWarning: Series.__getitem__ treating keys as positions is deprecated. In a future version, integer keys will always be treated as labels (consistent with DataFrame behavior). To access a value by position, use `ser.iloc[pos]`\n",
      "  use_col_names.update({col_names[l]:l})\n",
      "/var/folders/xx/46bbfzhs77j5z84b92fz834w0000gn/T/ipykernel_8896/3658594269.py:54: FutureWarning: Series.__getitem__ treating keys as positions is deprecated. In a future version, integer keys will always be treated as labels (consistent with DataFrame behavior). To access a value by position, use `ser.iloc[pos]`\n",
      "  use_col_names.update({col_names[l]:l})\n",
      "/var/folders/xx/46bbfzhs77j5z84b92fz834w0000gn/T/ipykernel_8896/3658594269.py:54: FutureWarning: Series.__getitem__ treating keys as positions is deprecated. In a future version, integer keys will always be treated as labels (consistent with DataFrame behavior). To access a value by position, use `ser.iloc[pos]`\n",
      "  use_col_names.update({col_names[l]:l})\n"
     ]
    },
    {
     "name": "stdout",
     "output_type": "stream",
     "text": [
      "17\n"
     ]
    },
    {
     "name": "stderr",
     "output_type": "stream",
     "text": [
      "/var/folders/xx/46bbfzhs77j5z84b92fz834w0000gn/T/ipykernel_8896/3658594269.py:54: FutureWarning: Series.__getitem__ treating keys as positions is deprecated. In a future version, integer keys will always be treated as labels (consistent with DataFrame behavior). To access a value by position, use `ser.iloc[pos]`\n",
      "  use_col_names.update({col_names[l]:l})\n",
      "/var/folders/xx/46bbfzhs77j5z84b92fz834w0000gn/T/ipykernel_8896/3658594269.py:54: FutureWarning: Series.__getitem__ treating keys as positions is deprecated. In a future version, integer keys will always be treated as labels (consistent with DataFrame behavior). To access a value by position, use `ser.iloc[pos]`\n",
      "  use_col_names.update({col_names[l]:l})\n",
      "/var/folders/xx/46bbfzhs77j5z84b92fz834w0000gn/T/ipykernel_8896/3658594269.py:54: FutureWarning: Series.__getitem__ treating keys as positions is deprecated. In a future version, integer keys will always be treated as labels (consistent with DataFrame behavior). To access a value by position, use `ser.iloc[pos]`\n",
      "  use_col_names.update({col_names[l]:l})\n",
      "/var/folders/xx/46bbfzhs77j5z84b92fz834w0000gn/T/ipykernel_8896/3658594269.py:54: FutureWarning: Series.__getitem__ treating keys as positions is deprecated. In a future version, integer keys will always be treated as labels (consistent with DataFrame behavior). To access a value by position, use `ser.iloc[pos]`\n",
      "  use_col_names.update({col_names[l]:l})\n"
     ]
    },
    {
     "name": "stdout",
     "output_type": "stream",
     "text": [
      "18\n"
     ]
    },
    {
     "name": "stderr",
     "output_type": "stream",
     "text": [
      "/var/folders/xx/46bbfzhs77j5z84b92fz834w0000gn/T/ipykernel_8896/3658594269.py:54: FutureWarning: Series.__getitem__ treating keys as positions is deprecated. In a future version, integer keys will always be treated as labels (consistent with DataFrame behavior). To access a value by position, use `ser.iloc[pos]`\n",
      "  use_col_names.update({col_names[l]:l})\n",
      "/var/folders/xx/46bbfzhs77j5z84b92fz834w0000gn/T/ipykernel_8896/3658594269.py:54: FutureWarning: Series.__getitem__ treating keys as positions is deprecated. In a future version, integer keys will always be treated as labels (consistent with DataFrame behavior). To access a value by position, use `ser.iloc[pos]`\n",
      "  use_col_names.update({col_names[l]:l})\n",
      "/var/folders/xx/46bbfzhs77j5z84b92fz834w0000gn/T/ipykernel_8896/3658594269.py:54: FutureWarning: Series.__getitem__ treating keys as positions is deprecated. In a future version, integer keys will always be treated as labels (consistent with DataFrame behavior). To access a value by position, use `ser.iloc[pos]`\n",
      "  use_col_names.update({col_names[l]:l})\n",
      "/var/folders/xx/46bbfzhs77j5z84b92fz834w0000gn/T/ipykernel_8896/3658594269.py:54: FutureWarning: Series.__getitem__ treating keys as positions is deprecated. In a future version, integer keys will always be treated as labels (consistent with DataFrame behavior). To access a value by position, use `ser.iloc[pos]`\n",
      "  use_col_names.update({col_names[l]:l})\n"
     ]
    },
    {
     "name": "stdout",
     "output_type": "stream",
     "text": [
      "19\n"
     ]
    },
    {
     "name": "stderr",
     "output_type": "stream",
     "text": [
      "/var/folders/xx/46bbfzhs77j5z84b92fz834w0000gn/T/ipykernel_8896/3658594269.py:54: FutureWarning: Series.__getitem__ treating keys as positions is deprecated. In a future version, integer keys will always be treated as labels (consistent with DataFrame behavior). To access a value by position, use `ser.iloc[pos]`\n",
      "  use_col_names.update({col_names[l]:l})\n",
      "/var/folders/xx/46bbfzhs77j5z84b92fz834w0000gn/T/ipykernel_8896/3658594269.py:54: FutureWarning: Series.__getitem__ treating keys as positions is deprecated. In a future version, integer keys will always be treated as labels (consistent with DataFrame behavior). To access a value by position, use `ser.iloc[pos]`\n",
      "  use_col_names.update({col_names[l]:l})\n",
      "/var/folders/xx/46bbfzhs77j5z84b92fz834w0000gn/T/ipykernel_8896/3658594269.py:54: FutureWarning: Series.__getitem__ treating keys as positions is deprecated. In a future version, integer keys will always be treated as labels (consistent with DataFrame behavior). To access a value by position, use `ser.iloc[pos]`\n",
      "  use_col_names.update({col_names[l]:l})\n",
      "/var/folders/xx/46bbfzhs77j5z84b92fz834w0000gn/T/ipykernel_8896/3658594269.py:54: FutureWarning: Series.__getitem__ treating keys as positions is deprecated. In a future version, integer keys will always be treated as labels (consistent with DataFrame behavior). To access a value by position, use `ser.iloc[pos]`\n",
      "  use_col_names.update({col_names[l]:l})\n"
     ]
    },
    {
     "name": "stdout",
     "output_type": "stream",
     "text": [
      "20\n"
     ]
    },
    {
     "name": "stderr",
     "output_type": "stream",
     "text": [
      "/var/folders/xx/46bbfzhs77j5z84b92fz834w0000gn/T/ipykernel_8896/3658594269.py:54: FutureWarning: Series.__getitem__ treating keys as positions is deprecated. In a future version, integer keys will always be treated as labels (consistent with DataFrame behavior). To access a value by position, use `ser.iloc[pos]`\n",
      "  use_col_names.update({col_names[l]:l})\n",
      "/var/folders/xx/46bbfzhs77j5z84b92fz834w0000gn/T/ipykernel_8896/3658594269.py:54: FutureWarning: Series.__getitem__ treating keys as positions is deprecated. In a future version, integer keys will always be treated as labels (consistent with DataFrame behavior). To access a value by position, use `ser.iloc[pos]`\n",
      "  use_col_names.update({col_names[l]:l})\n",
      "/var/folders/xx/46bbfzhs77j5z84b92fz834w0000gn/T/ipykernel_8896/3658594269.py:54: FutureWarning: Series.__getitem__ treating keys as positions is deprecated. In a future version, integer keys will always be treated as labels (consistent with DataFrame behavior). To access a value by position, use `ser.iloc[pos]`\n",
      "  use_col_names.update({col_names[l]:l})\n",
      "/var/folders/xx/46bbfzhs77j5z84b92fz834w0000gn/T/ipykernel_8896/3658594269.py:54: FutureWarning: Series.__getitem__ treating keys as positions is deprecated. In a future version, integer keys will always be treated as labels (consistent with DataFrame behavior). To access a value by position, use `ser.iloc[pos]`\n",
      "  use_col_names.update({col_names[l]:l})\n"
     ]
    },
    {
     "name": "stdout",
     "output_type": "stream",
     "text": [
      "21\n"
     ]
    },
    {
     "name": "stderr",
     "output_type": "stream",
     "text": [
      "/var/folders/xx/46bbfzhs77j5z84b92fz834w0000gn/T/ipykernel_8896/3658594269.py:54: FutureWarning: Series.__getitem__ treating keys as positions is deprecated. In a future version, integer keys will always be treated as labels (consistent with DataFrame behavior). To access a value by position, use `ser.iloc[pos]`\n",
      "  use_col_names.update({col_names[l]:l})\n",
      "/var/folders/xx/46bbfzhs77j5z84b92fz834w0000gn/T/ipykernel_8896/3658594269.py:54: FutureWarning: Series.__getitem__ treating keys as positions is deprecated. In a future version, integer keys will always be treated as labels (consistent with DataFrame behavior). To access a value by position, use `ser.iloc[pos]`\n",
      "  use_col_names.update({col_names[l]:l})\n",
      "/var/folders/xx/46bbfzhs77j5z84b92fz834w0000gn/T/ipykernel_8896/3658594269.py:54: FutureWarning: Series.__getitem__ treating keys as positions is deprecated. In a future version, integer keys will always be treated as labels (consistent with DataFrame behavior). To access a value by position, use `ser.iloc[pos]`\n",
      "  use_col_names.update({col_names[l]:l})\n",
      "/var/folders/xx/46bbfzhs77j5z84b92fz834w0000gn/T/ipykernel_8896/3658594269.py:54: FutureWarning: Series.__getitem__ treating keys as positions is deprecated. In a future version, integer keys will always be treated as labels (consistent with DataFrame behavior). To access a value by position, use `ser.iloc[pos]`\n",
      "  use_col_names.update({col_names[l]:l})\n"
     ]
    },
    {
     "name": "stdout",
     "output_type": "stream",
     "text": [
      "22\n"
     ]
    },
    {
     "name": "stderr",
     "output_type": "stream",
     "text": [
      "/var/folders/xx/46bbfzhs77j5z84b92fz834w0000gn/T/ipykernel_8896/3658594269.py:54: FutureWarning: Series.__getitem__ treating keys as positions is deprecated. In a future version, integer keys will always be treated as labels (consistent with DataFrame behavior). To access a value by position, use `ser.iloc[pos]`\n",
      "  use_col_names.update({col_names[l]:l})\n",
      "/var/folders/xx/46bbfzhs77j5z84b92fz834w0000gn/T/ipykernel_8896/3658594269.py:54: FutureWarning: Series.__getitem__ treating keys as positions is deprecated. In a future version, integer keys will always be treated as labels (consistent with DataFrame behavior). To access a value by position, use `ser.iloc[pos]`\n",
      "  use_col_names.update({col_names[l]:l})\n",
      "/var/folders/xx/46bbfzhs77j5z84b92fz834w0000gn/T/ipykernel_8896/3658594269.py:54: FutureWarning: Series.__getitem__ treating keys as positions is deprecated. In a future version, integer keys will always be treated as labels (consistent with DataFrame behavior). To access a value by position, use `ser.iloc[pos]`\n",
      "  use_col_names.update({col_names[l]:l})\n",
      "/var/folders/xx/46bbfzhs77j5z84b92fz834w0000gn/T/ipykernel_8896/3658594269.py:54: FutureWarning: Series.__getitem__ treating keys as positions is deprecated. In a future version, integer keys will always be treated as labels (consistent with DataFrame behavior). To access a value by position, use `ser.iloc[pos]`\n",
      "  use_col_names.update({col_names[l]:l})\n",
      "/var/folders/xx/46bbfzhs77j5z84b92fz834w0000gn/T/ipykernel_8896/3658594269.py:54: FutureWarning: Series.__getitem__ treating keys as positions is deprecated. In a future version, integer keys will always be treated as labels (consistent with DataFrame behavior). To access a value by position, use `ser.iloc[pos]`\n",
      "  use_col_names.update({col_names[l]:l})\n"
     ]
    },
    {
     "name": "stdout",
     "output_type": "stream",
     "text": [
      "23\n"
     ]
    },
    {
     "name": "stderr",
     "output_type": "stream",
     "text": [
      "/var/folders/xx/46bbfzhs77j5z84b92fz834w0000gn/T/ipykernel_8896/3658594269.py:54: FutureWarning: Series.__getitem__ treating keys as positions is deprecated. In a future version, integer keys will always be treated as labels (consistent with DataFrame behavior). To access a value by position, use `ser.iloc[pos]`\n",
      "  use_col_names.update({col_names[l]:l})\n",
      "/var/folders/xx/46bbfzhs77j5z84b92fz834w0000gn/T/ipykernel_8896/3658594269.py:54: FutureWarning: Series.__getitem__ treating keys as positions is deprecated. In a future version, integer keys will always be treated as labels (consistent with DataFrame behavior). To access a value by position, use `ser.iloc[pos]`\n",
      "  use_col_names.update({col_names[l]:l})\n",
      "/var/folders/xx/46bbfzhs77j5z84b92fz834w0000gn/T/ipykernel_8896/3658594269.py:54: FutureWarning: Series.__getitem__ treating keys as positions is deprecated. In a future version, integer keys will always be treated as labels (consistent with DataFrame behavior). To access a value by position, use `ser.iloc[pos]`\n",
      "  use_col_names.update({col_names[l]:l})\n",
      "/var/folders/xx/46bbfzhs77j5z84b92fz834w0000gn/T/ipykernel_8896/3658594269.py:54: FutureWarning: Series.__getitem__ treating keys as positions is deprecated. In a future version, integer keys will always be treated as labels (consistent with DataFrame behavior). To access a value by position, use `ser.iloc[pos]`\n",
      "  use_col_names.update({col_names[l]:l})\n"
     ]
    },
    {
     "name": "stdout",
     "output_type": "stream",
     "text": [
      "24\n"
     ]
    },
    {
     "name": "stderr",
     "output_type": "stream",
     "text": [
      "/var/folders/xx/46bbfzhs77j5z84b92fz834w0000gn/T/ipykernel_8896/3658594269.py:54: FutureWarning: Series.__getitem__ treating keys as positions is deprecated. In a future version, integer keys will always be treated as labels (consistent with DataFrame behavior). To access a value by position, use `ser.iloc[pos]`\n",
      "  use_col_names.update({col_names[l]:l})\n",
      "/var/folders/xx/46bbfzhs77j5z84b92fz834w0000gn/T/ipykernel_8896/3658594269.py:54: FutureWarning: Series.__getitem__ treating keys as positions is deprecated. In a future version, integer keys will always be treated as labels (consistent with DataFrame behavior). To access a value by position, use `ser.iloc[pos]`\n",
      "  use_col_names.update({col_names[l]:l})\n",
      "/var/folders/xx/46bbfzhs77j5z84b92fz834w0000gn/T/ipykernel_8896/3658594269.py:54: FutureWarning: Series.__getitem__ treating keys as positions is deprecated. In a future version, integer keys will always be treated as labels (consistent with DataFrame behavior). To access a value by position, use `ser.iloc[pos]`\n",
      "  use_col_names.update({col_names[l]:l})\n",
      "/var/folders/xx/46bbfzhs77j5z84b92fz834w0000gn/T/ipykernel_8896/3658594269.py:54: FutureWarning: Series.__getitem__ treating keys as positions is deprecated. In a future version, integer keys will always be treated as labels (consistent with DataFrame behavior). To access a value by position, use `ser.iloc[pos]`\n",
      "  use_col_names.update({col_names[l]:l})\n"
     ]
    },
    {
     "name": "stdout",
     "output_type": "stream",
     "text": [
      "25\n"
     ]
    },
    {
     "name": "stderr",
     "output_type": "stream",
     "text": [
      "/var/folders/xx/46bbfzhs77j5z84b92fz834w0000gn/T/ipykernel_8896/3658594269.py:54: FutureWarning: Series.__getitem__ treating keys as positions is deprecated. In a future version, integer keys will always be treated as labels (consistent with DataFrame behavior). To access a value by position, use `ser.iloc[pos]`\n",
      "  use_col_names.update({col_names[l]:l})\n",
      "/var/folders/xx/46bbfzhs77j5z84b92fz834w0000gn/T/ipykernel_8896/3658594269.py:54: FutureWarning: Series.__getitem__ treating keys as positions is deprecated. In a future version, integer keys will always be treated as labels (consistent with DataFrame behavior). To access a value by position, use `ser.iloc[pos]`\n",
      "  use_col_names.update({col_names[l]:l})\n",
      "/var/folders/xx/46bbfzhs77j5z84b92fz834w0000gn/T/ipykernel_8896/3658594269.py:54: FutureWarning: Series.__getitem__ treating keys as positions is deprecated. In a future version, integer keys will always be treated as labels (consistent with DataFrame behavior). To access a value by position, use `ser.iloc[pos]`\n",
      "  use_col_names.update({col_names[l]:l})\n"
     ]
    },
    {
     "name": "stdout",
     "output_type": "stream",
     "text": [
      "26\n"
     ]
    },
    {
     "name": "stderr",
     "output_type": "stream",
     "text": [
      "/var/folders/xx/46bbfzhs77j5z84b92fz834w0000gn/T/ipykernel_8896/3658594269.py:54: FutureWarning: Series.__getitem__ treating keys as positions is deprecated. In a future version, integer keys will always be treated as labels (consistent with DataFrame behavior). To access a value by position, use `ser.iloc[pos]`\n",
      "  use_col_names.update({col_names[l]:l})\n",
      "/var/folders/xx/46bbfzhs77j5z84b92fz834w0000gn/T/ipykernel_8896/3658594269.py:54: FutureWarning: Series.__getitem__ treating keys as positions is deprecated. In a future version, integer keys will always be treated as labels (consistent with DataFrame behavior). To access a value by position, use `ser.iloc[pos]`\n",
      "  use_col_names.update({col_names[l]:l})\n",
      "/var/folders/xx/46bbfzhs77j5z84b92fz834w0000gn/T/ipykernel_8896/3658594269.py:54: FutureWarning: Series.__getitem__ treating keys as positions is deprecated. In a future version, integer keys will always be treated as labels (consistent with DataFrame behavior). To access a value by position, use `ser.iloc[pos]`\n",
      "  use_col_names.update({col_names[l]:l})\n",
      "/var/folders/xx/46bbfzhs77j5z84b92fz834w0000gn/T/ipykernel_8896/3658594269.py:54: FutureWarning: Series.__getitem__ treating keys as positions is deprecated. In a future version, integer keys will always be treated as labels (consistent with DataFrame behavior). To access a value by position, use `ser.iloc[pos]`\n",
      "  use_col_names.update({col_names[l]:l})\n"
     ]
    },
    {
     "name": "stdout",
     "output_type": "stream",
     "text": [
      "27\n"
     ]
    },
    {
     "name": "stderr",
     "output_type": "stream",
     "text": [
      "/var/folders/xx/46bbfzhs77j5z84b92fz834w0000gn/T/ipykernel_8896/3658594269.py:54: FutureWarning: Series.__getitem__ treating keys as positions is deprecated. In a future version, integer keys will always be treated as labels (consistent with DataFrame behavior). To access a value by position, use `ser.iloc[pos]`\n",
      "  use_col_names.update({col_names[l]:l})\n",
      "/var/folders/xx/46bbfzhs77j5z84b92fz834w0000gn/T/ipykernel_8896/3658594269.py:54: FutureWarning: Series.__getitem__ treating keys as positions is deprecated. In a future version, integer keys will always be treated as labels (consistent with DataFrame behavior). To access a value by position, use `ser.iloc[pos]`\n",
      "  use_col_names.update({col_names[l]:l})\n",
      "/var/folders/xx/46bbfzhs77j5z84b92fz834w0000gn/T/ipykernel_8896/3658594269.py:54: FutureWarning: Series.__getitem__ treating keys as positions is deprecated. In a future version, integer keys will always be treated as labels (consistent with DataFrame behavior). To access a value by position, use `ser.iloc[pos]`\n",
      "  use_col_names.update({col_names[l]:l})\n",
      "/var/folders/xx/46bbfzhs77j5z84b92fz834w0000gn/T/ipykernel_8896/3658594269.py:54: FutureWarning: Series.__getitem__ treating keys as positions is deprecated. In a future version, integer keys will always be treated as labels (consistent with DataFrame behavior). To access a value by position, use `ser.iloc[pos]`\n",
      "  use_col_names.update({col_names[l]:l})\n"
     ]
    },
    {
     "name": "stdout",
     "output_type": "stream",
     "text": [
      "28\n"
     ]
    },
    {
     "name": "stderr",
     "output_type": "stream",
     "text": [
      "/var/folders/xx/46bbfzhs77j5z84b92fz834w0000gn/T/ipykernel_8896/3658594269.py:54: FutureWarning: Series.__getitem__ treating keys as positions is deprecated. In a future version, integer keys will always be treated as labels (consistent with DataFrame behavior). To access a value by position, use `ser.iloc[pos]`\n",
      "  use_col_names.update({col_names[l]:l})\n",
      "/var/folders/xx/46bbfzhs77j5z84b92fz834w0000gn/T/ipykernel_8896/3658594269.py:54: FutureWarning: Series.__getitem__ treating keys as positions is deprecated. In a future version, integer keys will always be treated as labels (consistent with DataFrame behavior). To access a value by position, use `ser.iloc[pos]`\n",
      "  use_col_names.update({col_names[l]:l})\n",
      "/var/folders/xx/46bbfzhs77j5z84b92fz834w0000gn/T/ipykernel_8896/3658594269.py:54: FutureWarning: Series.__getitem__ treating keys as positions is deprecated. In a future version, integer keys will always be treated as labels (consistent with DataFrame behavior). To access a value by position, use `ser.iloc[pos]`\n",
      "  use_col_names.update({col_names[l]:l})\n",
      "/var/folders/xx/46bbfzhs77j5z84b92fz834w0000gn/T/ipykernel_8896/3658594269.py:54: FutureWarning: Series.__getitem__ treating keys as positions is deprecated. In a future version, integer keys will always be treated as labels (consistent with DataFrame behavior). To access a value by position, use `ser.iloc[pos]`\n",
      "  use_col_names.update({col_names[l]:l})\n"
     ]
    },
    {
     "name": "stdout",
     "output_type": "stream",
     "text": [
      "29\n"
     ]
    },
    {
     "name": "stderr",
     "output_type": "stream",
     "text": [
      "/var/folders/xx/46bbfzhs77j5z84b92fz834w0000gn/T/ipykernel_8896/3658594269.py:54: FutureWarning: Series.__getitem__ treating keys as positions is deprecated. In a future version, integer keys will always be treated as labels (consistent with DataFrame behavior). To access a value by position, use `ser.iloc[pos]`\n",
      "  use_col_names.update({col_names[l]:l})\n",
      "/var/folders/xx/46bbfzhs77j5z84b92fz834w0000gn/T/ipykernel_8896/3658594269.py:54: FutureWarning: Series.__getitem__ treating keys as positions is deprecated. In a future version, integer keys will always be treated as labels (consistent with DataFrame behavior). To access a value by position, use `ser.iloc[pos]`\n",
      "  use_col_names.update({col_names[l]:l})\n",
      "/var/folders/xx/46bbfzhs77j5z84b92fz834w0000gn/T/ipykernel_8896/3658594269.py:54: FutureWarning: Series.__getitem__ treating keys as positions is deprecated. In a future version, integer keys will always be treated as labels (consistent with DataFrame behavior). To access a value by position, use `ser.iloc[pos]`\n",
      "  use_col_names.update({col_names[l]:l})\n",
      "/var/folders/xx/46bbfzhs77j5z84b92fz834w0000gn/T/ipykernel_8896/3658594269.py:54: FutureWarning: Series.__getitem__ treating keys as positions is deprecated. In a future version, integer keys will always be treated as labels (consistent with DataFrame behavior). To access a value by position, use `ser.iloc[pos]`\n",
      "  use_col_names.update({col_names[l]:l})\n"
     ]
    },
    {
     "name": "stdout",
     "output_type": "stream",
     "text": [
      "30\n"
     ]
    },
    {
     "name": "stderr",
     "output_type": "stream",
     "text": [
      "/var/folders/xx/46bbfzhs77j5z84b92fz834w0000gn/T/ipykernel_8896/3658594269.py:54: FutureWarning: Series.__getitem__ treating keys as positions is deprecated. In a future version, integer keys will always be treated as labels (consistent with DataFrame behavior). To access a value by position, use `ser.iloc[pos]`\n",
      "  use_col_names.update({col_names[l]:l})\n",
      "/var/folders/xx/46bbfzhs77j5z84b92fz834w0000gn/T/ipykernel_8896/3658594269.py:54: FutureWarning: Series.__getitem__ treating keys as positions is deprecated. In a future version, integer keys will always be treated as labels (consistent with DataFrame behavior). To access a value by position, use `ser.iloc[pos]`\n",
      "  use_col_names.update({col_names[l]:l})\n",
      "/var/folders/xx/46bbfzhs77j5z84b92fz834w0000gn/T/ipykernel_8896/3658594269.py:54: FutureWarning: Series.__getitem__ treating keys as positions is deprecated. In a future version, integer keys will always be treated as labels (consistent with DataFrame behavior). To access a value by position, use `ser.iloc[pos]`\n",
      "  use_col_names.update({col_names[l]:l})\n",
      "/var/folders/xx/46bbfzhs77j5z84b92fz834w0000gn/T/ipykernel_8896/3658594269.py:54: FutureWarning: Series.__getitem__ treating keys as positions is deprecated. In a future version, integer keys will always be treated as labels (consistent with DataFrame behavior). To access a value by position, use `ser.iloc[pos]`\n",
      "  use_col_names.update({col_names[l]:l})\n"
     ]
    },
    {
     "name": "stdout",
     "output_type": "stream",
     "text": [
      "31\n"
     ]
    },
    {
     "name": "stderr",
     "output_type": "stream",
     "text": [
      "/var/folders/xx/46bbfzhs77j5z84b92fz834w0000gn/T/ipykernel_8896/3658594269.py:54: FutureWarning: Series.__getitem__ treating keys as positions is deprecated. In a future version, integer keys will always be treated as labels (consistent with DataFrame behavior). To access a value by position, use `ser.iloc[pos]`\n",
      "  use_col_names.update({col_names[l]:l})\n",
      "/var/folders/xx/46bbfzhs77j5z84b92fz834w0000gn/T/ipykernel_8896/3658594269.py:54: FutureWarning: Series.__getitem__ treating keys as positions is deprecated. In a future version, integer keys will always be treated as labels (consistent with DataFrame behavior). To access a value by position, use `ser.iloc[pos]`\n",
      "  use_col_names.update({col_names[l]:l})\n",
      "/var/folders/xx/46bbfzhs77j5z84b92fz834w0000gn/T/ipykernel_8896/3658594269.py:54: FutureWarning: Series.__getitem__ treating keys as positions is deprecated. In a future version, integer keys will always be treated as labels (consistent with DataFrame behavior). To access a value by position, use `ser.iloc[pos]`\n",
      "  use_col_names.update({col_names[l]:l})\n",
      "/var/folders/xx/46bbfzhs77j5z84b92fz834w0000gn/T/ipykernel_8896/3658594269.py:54: FutureWarning: Series.__getitem__ treating keys as positions is deprecated. In a future version, integer keys will always be treated as labels (consistent with DataFrame behavior). To access a value by position, use `ser.iloc[pos]`\n",
      "  use_col_names.update({col_names[l]:l})\n"
     ]
    },
    {
     "name": "stdout",
     "output_type": "stream",
     "text": [
      "32\n"
     ]
    },
    {
     "name": "stderr",
     "output_type": "stream",
     "text": [
      "/var/folders/xx/46bbfzhs77j5z84b92fz834w0000gn/T/ipykernel_8896/3658594269.py:54: FutureWarning: Series.__getitem__ treating keys as positions is deprecated. In a future version, integer keys will always be treated as labels (consistent with DataFrame behavior). To access a value by position, use `ser.iloc[pos]`\n",
      "  use_col_names.update({col_names[l]:l})\n",
      "/var/folders/xx/46bbfzhs77j5z84b92fz834w0000gn/T/ipykernel_8896/3658594269.py:54: FutureWarning: Series.__getitem__ treating keys as positions is deprecated. In a future version, integer keys will always be treated as labels (consistent with DataFrame behavior). To access a value by position, use `ser.iloc[pos]`\n",
      "  use_col_names.update({col_names[l]:l})\n",
      "/var/folders/xx/46bbfzhs77j5z84b92fz834w0000gn/T/ipykernel_8896/3658594269.py:54: FutureWarning: Series.__getitem__ treating keys as positions is deprecated. In a future version, integer keys will always be treated as labels (consistent with DataFrame behavior). To access a value by position, use `ser.iloc[pos]`\n",
      "  use_col_names.update({col_names[l]:l})\n",
      "/var/folders/xx/46bbfzhs77j5z84b92fz834w0000gn/T/ipykernel_8896/3658594269.py:54: FutureWarning: Series.__getitem__ treating keys as positions is deprecated. In a future version, integer keys will always be treated as labels (consistent with DataFrame behavior). To access a value by position, use `ser.iloc[pos]`\n",
      "  use_col_names.update({col_names[l]:l})\n",
      "/var/folders/xx/46bbfzhs77j5z84b92fz834w0000gn/T/ipykernel_8896/3658594269.py:54: FutureWarning: Series.__getitem__ treating keys as positions is deprecated. In a future version, integer keys will always be treated as labels (consistent with DataFrame behavior). To access a value by position, use `ser.iloc[pos]`\n",
      "  use_col_names.update({col_names[l]:l})\n"
     ]
    },
    {
     "name": "stdout",
     "output_type": "stream",
     "text": [
      "33\n"
     ]
    },
    {
     "name": "stderr",
     "output_type": "stream",
     "text": [
      "/var/folders/xx/46bbfzhs77j5z84b92fz834w0000gn/T/ipykernel_8896/3658594269.py:54: FutureWarning: Series.__getitem__ treating keys as positions is deprecated. In a future version, integer keys will always be treated as labels (consistent with DataFrame behavior). To access a value by position, use `ser.iloc[pos]`\n",
      "  use_col_names.update({col_names[l]:l})\n",
      "/var/folders/xx/46bbfzhs77j5z84b92fz834w0000gn/T/ipykernel_8896/3658594269.py:54: FutureWarning: Series.__getitem__ treating keys as positions is deprecated. In a future version, integer keys will always be treated as labels (consistent with DataFrame behavior). To access a value by position, use `ser.iloc[pos]`\n",
      "  use_col_names.update({col_names[l]:l})\n",
      "/var/folders/xx/46bbfzhs77j5z84b92fz834w0000gn/T/ipykernel_8896/3658594269.py:54: FutureWarning: Series.__getitem__ treating keys as positions is deprecated. In a future version, integer keys will always be treated as labels (consistent with DataFrame behavior). To access a value by position, use `ser.iloc[pos]`\n",
      "  use_col_names.update({col_names[l]:l})\n",
      "/var/folders/xx/46bbfzhs77j5z84b92fz834w0000gn/T/ipykernel_8896/3658594269.py:54: FutureWarning: Series.__getitem__ treating keys as positions is deprecated. In a future version, integer keys will always be treated as labels (consistent with DataFrame behavior). To access a value by position, use `ser.iloc[pos]`\n",
      "  use_col_names.update({col_names[l]:l})\n"
     ]
    },
    {
     "name": "stdout",
     "output_type": "stream",
     "text": [
      "34\n"
     ]
    },
    {
     "name": "stderr",
     "output_type": "stream",
     "text": [
      "/var/folders/xx/46bbfzhs77j5z84b92fz834w0000gn/T/ipykernel_8896/3658594269.py:54: FutureWarning: Series.__getitem__ treating keys as positions is deprecated. In a future version, integer keys will always be treated as labels (consistent with DataFrame behavior). To access a value by position, use `ser.iloc[pos]`\n",
      "  use_col_names.update({col_names[l]:l})\n",
      "/var/folders/xx/46bbfzhs77j5z84b92fz834w0000gn/T/ipykernel_8896/3658594269.py:54: FutureWarning: Series.__getitem__ treating keys as positions is deprecated. In a future version, integer keys will always be treated as labels (consistent with DataFrame behavior). To access a value by position, use `ser.iloc[pos]`\n",
      "  use_col_names.update({col_names[l]:l})\n",
      "/var/folders/xx/46bbfzhs77j5z84b92fz834w0000gn/T/ipykernel_8896/3658594269.py:54: FutureWarning: Series.__getitem__ treating keys as positions is deprecated. In a future version, integer keys will always be treated as labels (consistent with DataFrame behavior). To access a value by position, use `ser.iloc[pos]`\n",
      "  use_col_names.update({col_names[l]:l})\n"
     ]
    },
    {
     "name": "stdout",
     "output_type": "stream",
     "text": [
      "35\n"
     ]
    },
    {
     "name": "stderr",
     "output_type": "stream",
     "text": [
      "/var/folders/xx/46bbfzhs77j5z84b92fz834w0000gn/T/ipykernel_8896/3658594269.py:54: FutureWarning: Series.__getitem__ treating keys as positions is deprecated. In a future version, integer keys will always be treated as labels (consistent with DataFrame behavior). To access a value by position, use `ser.iloc[pos]`\n",
      "  use_col_names.update({col_names[l]:l})\n",
      "/var/folders/xx/46bbfzhs77j5z84b92fz834w0000gn/T/ipykernel_8896/3658594269.py:54: FutureWarning: Series.__getitem__ treating keys as positions is deprecated. In a future version, integer keys will always be treated as labels (consistent with DataFrame behavior). To access a value by position, use `ser.iloc[pos]`\n",
      "  use_col_names.update({col_names[l]:l})\n",
      "/var/folders/xx/46bbfzhs77j5z84b92fz834w0000gn/T/ipykernel_8896/3658594269.py:54: FutureWarning: Series.__getitem__ treating keys as positions is deprecated. In a future version, integer keys will always be treated as labels (consistent with DataFrame behavior). To access a value by position, use `ser.iloc[pos]`\n",
      "  use_col_names.update({col_names[l]:l})\n",
      "/var/folders/xx/46bbfzhs77j5z84b92fz834w0000gn/T/ipykernel_8896/3658594269.py:54: FutureWarning: Series.__getitem__ treating keys as positions is deprecated. In a future version, integer keys will always be treated as labels (consistent with DataFrame behavior). To access a value by position, use `ser.iloc[pos]`\n",
      "  use_col_names.update({col_names[l]:l})\n"
     ]
    },
    {
     "name": "stdout",
     "output_type": "stream",
     "text": [
      "36\n"
     ]
    },
    {
     "name": "stderr",
     "output_type": "stream",
     "text": [
      "/var/folders/xx/46bbfzhs77j5z84b92fz834w0000gn/T/ipykernel_8896/3658594269.py:54: FutureWarning: Series.__getitem__ treating keys as positions is deprecated. In a future version, integer keys will always be treated as labels (consistent with DataFrame behavior). To access a value by position, use `ser.iloc[pos]`\n",
      "  use_col_names.update({col_names[l]:l})\n",
      "/var/folders/xx/46bbfzhs77j5z84b92fz834w0000gn/T/ipykernel_8896/3658594269.py:54: FutureWarning: Series.__getitem__ treating keys as positions is deprecated. In a future version, integer keys will always be treated as labels (consistent with DataFrame behavior). To access a value by position, use `ser.iloc[pos]`\n",
      "  use_col_names.update({col_names[l]:l})\n",
      "/var/folders/xx/46bbfzhs77j5z84b92fz834w0000gn/T/ipykernel_8896/3658594269.py:54: FutureWarning: Series.__getitem__ treating keys as positions is deprecated. In a future version, integer keys will always be treated as labels (consistent with DataFrame behavior). To access a value by position, use `ser.iloc[pos]`\n",
      "  use_col_names.update({col_names[l]:l})\n",
      "/var/folders/xx/46bbfzhs77j5z84b92fz834w0000gn/T/ipykernel_8896/3658594269.py:54: FutureWarning: Series.__getitem__ treating keys as positions is deprecated. In a future version, integer keys will always be treated as labels (consistent with DataFrame behavior). To access a value by position, use `ser.iloc[pos]`\n",
      "  use_col_names.update({col_names[l]:l})\n"
     ]
    },
    {
     "name": "stdout",
     "output_type": "stream",
     "text": [
      "37\n"
     ]
    },
    {
     "name": "stderr",
     "output_type": "stream",
     "text": [
      "/var/folders/xx/46bbfzhs77j5z84b92fz834w0000gn/T/ipykernel_8896/3658594269.py:54: FutureWarning: Series.__getitem__ treating keys as positions is deprecated. In a future version, integer keys will always be treated as labels (consistent with DataFrame behavior). To access a value by position, use `ser.iloc[pos]`\n",
      "  use_col_names.update({col_names[l]:l})\n",
      "/var/folders/xx/46bbfzhs77j5z84b92fz834w0000gn/T/ipykernel_8896/3658594269.py:54: FutureWarning: Series.__getitem__ treating keys as positions is deprecated. In a future version, integer keys will always be treated as labels (consistent with DataFrame behavior). To access a value by position, use `ser.iloc[pos]`\n",
      "  use_col_names.update({col_names[l]:l})\n",
      "/var/folders/xx/46bbfzhs77j5z84b92fz834w0000gn/T/ipykernel_8896/3658594269.py:54: FutureWarning: Series.__getitem__ treating keys as positions is deprecated. In a future version, integer keys will always be treated as labels (consistent with DataFrame behavior). To access a value by position, use `ser.iloc[pos]`\n",
      "  use_col_names.update({col_names[l]:l})\n",
      "/var/folders/xx/46bbfzhs77j5z84b92fz834w0000gn/T/ipykernel_8896/3658594269.py:54: FutureWarning: Series.__getitem__ treating keys as positions is deprecated. In a future version, integer keys will always be treated as labels (consistent with DataFrame behavior). To access a value by position, use `ser.iloc[pos]`\n",
      "  use_col_names.update({col_names[l]:l})\n"
     ]
    },
    {
     "name": "stdout",
     "output_type": "stream",
     "text": [
      "38\n"
     ]
    },
    {
     "name": "stderr",
     "output_type": "stream",
     "text": [
      "/var/folders/xx/46bbfzhs77j5z84b92fz834w0000gn/T/ipykernel_8896/3658594269.py:54: FutureWarning: Series.__getitem__ treating keys as positions is deprecated. In a future version, integer keys will always be treated as labels (consistent with DataFrame behavior). To access a value by position, use `ser.iloc[pos]`\n",
      "  use_col_names.update({col_names[l]:l})\n",
      "/var/folders/xx/46bbfzhs77j5z84b92fz834w0000gn/T/ipykernel_8896/3658594269.py:54: FutureWarning: Series.__getitem__ treating keys as positions is deprecated. In a future version, integer keys will always be treated as labels (consistent with DataFrame behavior). To access a value by position, use `ser.iloc[pos]`\n",
      "  use_col_names.update({col_names[l]:l})\n",
      "/var/folders/xx/46bbfzhs77j5z84b92fz834w0000gn/T/ipykernel_8896/3658594269.py:54: FutureWarning: Series.__getitem__ treating keys as positions is deprecated. In a future version, integer keys will always be treated as labels (consistent with DataFrame behavior). To access a value by position, use `ser.iloc[pos]`\n",
      "  use_col_names.update({col_names[l]:l})\n",
      "/var/folders/xx/46bbfzhs77j5z84b92fz834w0000gn/T/ipykernel_8896/3658594269.py:54: FutureWarning: Series.__getitem__ treating keys as positions is deprecated. In a future version, integer keys will always be treated as labels (consistent with DataFrame behavior). To access a value by position, use `ser.iloc[pos]`\n",
      "  use_col_names.update({col_names[l]:l})\n"
     ]
    },
    {
     "name": "stdout",
     "output_type": "stream",
     "text": [
      "39\n"
     ]
    },
    {
     "name": "stderr",
     "output_type": "stream",
     "text": [
      "/var/folders/xx/46bbfzhs77j5z84b92fz834w0000gn/T/ipykernel_8896/3658594269.py:54: FutureWarning: Series.__getitem__ treating keys as positions is deprecated. In a future version, integer keys will always be treated as labels (consistent with DataFrame behavior). To access a value by position, use `ser.iloc[pos]`\n",
      "  use_col_names.update({col_names[l]:l})\n",
      "/var/folders/xx/46bbfzhs77j5z84b92fz834w0000gn/T/ipykernel_8896/3658594269.py:54: FutureWarning: Series.__getitem__ treating keys as positions is deprecated. In a future version, integer keys will always be treated as labels (consistent with DataFrame behavior). To access a value by position, use `ser.iloc[pos]`\n",
      "  use_col_names.update({col_names[l]:l})\n",
      "/var/folders/xx/46bbfzhs77j5z84b92fz834w0000gn/T/ipykernel_8896/3658594269.py:54: FutureWarning: Series.__getitem__ treating keys as positions is deprecated. In a future version, integer keys will always be treated as labels (consistent with DataFrame behavior). To access a value by position, use `ser.iloc[pos]`\n",
      "  use_col_names.update({col_names[l]:l})\n",
      "/var/folders/xx/46bbfzhs77j5z84b92fz834w0000gn/T/ipykernel_8896/3658594269.py:54: FutureWarning: Series.__getitem__ treating keys as positions is deprecated. In a future version, integer keys will always be treated as labels (consistent with DataFrame behavior). To access a value by position, use `ser.iloc[pos]`\n",
      "  use_col_names.update({col_names[l]:l})\n"
     ]
    },
    {
     "name": "stdout",
     "output_type": "stream",
     "text": [
      "40\n"
     ]
    },
    {
     "name": "stderr",
     "output_type": "stream",
     "text": [
      "/var/folders/xx/46bbfzhs77j5z84b92fz834w0000gn/T/ipykernel_8896/3658594269.py:54: FutureWarning: Series.__getitem__ treating keys as positions is deprecated. In a future version, integer keys will always be treated as labels (consistent with DataFrame behavior). To access a value by position, use `ser.iloc[pos]`\n",
      "  use_col_names.update({col_names[l]:l})\n",
      "/var/folders/xx/46bbfzhs77j5z84b92fz834w0000gn/T/ipykernel_8896/3658594269.py:54: FutureWarning: Series.__getitem__ treating keys as positions is deprecated. In a future version, integer keys will always be treated as labels (consistent with DataFrame behavior). To access a value by position, use `ser.iloc[pos]`\n",
      "  use_col_names.update({col_names[l]:l})\n",
      "/var/folders/xx/46bbfzhs77j5z84b92fz834w0000gn/T/ipykernel_8896/3658594269.py:54: FutureWarning: Series.__getitem__ treating keys as positions is deprecated. In a future version, integer keys will always be treated as labels (consistent with DataFrame behavior). To access a value by position, use `ser.iloc[pos]`\n",
      "  use_col_names.update({col_names[l]:l})\n",
      "/var/folders/xx/46bbfzhs77j5z84b92fz834w0000gn/T/ipykernel_8896/3658594269.py:54: FutureWarning: Series.__getitem__ treating keys as positions is deprecated. In a future version, integer keys will always be treated as labels (consistent with DataFrame behavior). To access a value by position, use `ser.iloc[pos]`\n",
      "  use_col_names.update({col_names[l]:l})\n"
     ]
    },
    {
     "name": "stdout",
     "output_type": "stream",
     "text": [
      "41\n"
     ]
    },
    {
     "name": "stderr",
     "output_type": "stream",
     "text": [
      "/var/folders/xx/46bbfzhs77j5z84b92fz834w0000gn/T/ipykernel_8896/3658594269.py:54: FutureWarning: Series.__getitem__ treating keys as positions is deprecated. In a future version, integer keys will always be treated as labels (consistent with DataFrame behavior). To access a value by position, use `ser.iloc[pos]`\n",
      "  use_col_names.update({col_names[l]:l})\n",
      "/var/folders/xx/46bbfzhs77j5z84b92fz834w0000gn/T/ipykernel_8896/3658594269.py:54: FutureWarning: Series.__getitem__ treating keys as positions is deprecated. In a future version, integer keys will always be treated as labels (consistent with DataFrame behavior). To access a value by position, use `ser.iloc[pos]`\n",
      "  use_col_names.update({col_names[l]:l})\n",
      "/var/folders/xx/46bbfzhs77j5z84b92fz834w0000gn/T/ipykernel_8896/3658594269.py:54: FutureWarning: Series.__getitem__ treating keys as positions is deprecated. In a future version, integer keys will always be treated as labels (consistent with DataFrame behavior). To access a value by position, use `ser.iloc[pos]`\n",
      "  use_col_names.update({col_names[l]:l})\n",
      "/var/folders/xx/46bbfzhs77j5z84b92fz834w0000gn/T/ipykernel_8896/3658594269.py:54: FutureWarning: Series.__getitem__ treating keys as positions is deprecated. In a future version, integer keys will always be treated as labels (consistent with DataFrame behavior). To access a value by position, use `ser.iloc[pos]`\n",
      "  use_col_names.update({col_names[l]:l})\n"
     ]
    },
    {
     "name": "stdout",
     "output_type": "stream",
     "text": [
      "42\n"
     ]
    },
    {
     "name": "stderr",
     "output_type": "stream",
     "text": [
      "/var/folders/xx/46bbfzhs77j5z84b92fz834w0000gn/T/ipykernel_8896/3658594269.py:54: FutureWarning: Series.__getitem__ treating keys as positions is deprecated. In a future version, integer keys will always be treated as labels (consistent with DataFrame behavior). To access a value by position, use `ser.iloc[pos]`\n",
      "  use_col_names.update({col_names[l]:l})\n",
      "/var/folders/xx/46bbfzhs77j5z84b92fz834w0000gn/T/ipykernel_8896/3658594269.py:54: FutureWarning: Series.__getitem__ treating keys as positions is deprecated. In a future version, integer keys will always be treated as labels (consistent with DataFrame behavior). To access a value by position, use `ser.iloc[pos]`\n",
      "  use_col_names.update({col_names[l]:l})\n",
      "/var/folders/xx/46bbfzhs77j5z84b92fz834w0000gn/T/ipykernel_8896/3658594269.py:54: FutureWarning: Series.__getitem__ treating keys as positions is deprecated. In a future version, integer keys will always be treated as labels (consistent with DataFrame behavior). To access a value by position, use `ser.iloc[pos]`\n",
      "  use_col_names.update({col_names[l]:l})\n",
      "/var/folders/xx/46bbfzhs77j5z84b92fz834w0000gn/T/ipykernel_8896/3658594269.py:54: FutureWarning: Series.__getitem__ treating keys as positions is deprecated. In a future version, integer keys will always be treated as labels (consistent with DataFrame behavior). To access a value by position, use `ser.iloc[pos]`\n",
      "  use_col_names.update({col_names[l]:l})\n"
     ]
    },
    {
     "name": "stdout",
     "output_type": "stream",
     "text": [
      "43\n"
     ]
    },
    {
     "name": "stderr",
     "output_type": "stream",
     "text": [
      "/var/folders/xx/46bbfzhs77j5z84b92fz834w0000gn/T/ipykernel_8896/3658594269.py:54: FutureWarning: Series.__getitem__ treating keys as positions is deprecated. In a future version, integer keys will always be treated as labels (consistent with DataFrame behavior). To access a value by position, use `ser.iloc[pos]`\n",
      "  use_col_names.update({col_names[l]:l})\n",
      "/var/folders/xx/46bbfzhs77j5z84b92fz834w0000gn/T/ipykernel_8896/3658594269.py:54: FutureWarning: Series.__getitem__ treating keys as positions is deprecated. In a future version, integer keys will always be treated as labels (consistent with DataFrame behavior). To access a value by position, use `ser.iloc[pos]`\n",
      "  use_col_names.update({col_names[l]:l})\n",
      "/var/folders/xx/46bbfzhs77j5z84b92fz834w0000gn/T/ipykernel_8896/3658594269.py:54: FutureWarning: Series.__getitem__ treating keys as positions is deprecated. In a future version, integer keys will always be treated as labels (consistent with DataFrame behavior). To access a value by position, use `ser.iloc[pos]`\n",
      "  use_col_names.update({col_names[l]:l})\n",
      "/var/folders/xx/46bbfzhs77j5z84b92fz834w0000gn/T/ipykernel_8896/3658594269.py:54: FutureWarning: Series.__getitem__ treating keys as positions is deprecated. In a future version, integer keys will always be treated as labels (consistent with DataFrame behavior). To access a value by position, use `ser.iloc[pos]`\n",
      "  use_col_names.update({col_names[l]:l})\n"
     ]
    },
    {
     "name": "stdout",
     "output_type": "stream",
     "text": [
      "44\n"
     ]
    },
    {
     "name": "stderr",
     "output_type": "stream",
     "text": [
      "/var/folders/xx/46bbfzhs77j5z84b92fz834w0000gn/T/ipykernel_8896/3658594269.py:54: FutureWarning: Series.__getitem__ treating keys as positions is deprecated. In a future version, integer keys will always be treated as labels (consistent with DataFrame behavior). To access a value by position, use `ser.iloc[pos]`\n",
      "  use_col_names.update({col_names[l]:l})\n",
      "/var/folders/xx/46bbfzhs77j5z84b92fz834w0000gn/T/ipykernel_8896/3658594269.py:54: FutureWarning: Series.__getitem__ treating keys as positions is deprecated. In a future version, integer keys will always be treated as labels (consistent with DataFrame behavior). To access a value by position, use `ser.iloc[pos]`\n",
      "  use_col_names.update({col_names[l]:l})\n",
      "/var/folders/xx/46bbfzhs77j5z84b92fz834w0000gn/T/ipykernel_8896/3658594269.py:54: FutureWarning: Series.__getitem__ treating keys as positions is deprecated. In a future version, integer keys will always be treated as labels (consistent with DataFrame behavior). To access a value by position, use `ser.iloc[pos]`\n",
      "  use_col_names.update({col_names[l]:l})\n",
      "/var/folders/xx/46bbfzhs77j5z84b92fz834w0000gn/T/ipykernel_8896/3658594269.py:54: FutureWarning: Series.__getitem__ treating keys as positions is deprecated. In a future version, integer keys will always be treated as labels (consistent with DataFrame behavior). To access a value by position, use `ser.iloc[pos]`\n",
      "  use_col_names.update({col_names[l]:l})\n",
      "/var/folders/xx/46bbfzhs77j5z84b92fz834w0000gn/T/ipykernel_8896/3658594269.py:54: FutureWarning: Series.__getitem__ treating keys as positions is deprecated. In a future version, integer keys will always be treated as labels (consistent with DataFrame behavior). To access a value by position, use `ser.iloc[pos]`\n",
      "  use_col_names.update({col_names[l]:l})\n"
     ]
    },
    {
     "name": "stdout",
     "output_type": "stream",
     "text": [
      "45\n"
     ]
    },
    {
     "name": "stderr",
     "output_type": "stream",
     "text": [
      "/var/folders/xx/46bbfzhs77j5z84b92fz834w0000gn/T/ipykernel_8896/3658594269.py:54: FutureWarning: Series.__getitem__ treating keys as positions is deprecated. In a future version, integer keys will always be treated as labels (consistent with DataFrame behavior). To access a value by position, use `ser.iloc[pos]`\n",
      "  use_col_names.update({col_names[l]:l})\n",
      "/var/folders/xx/46bbfzhs77j5z84b92fz834w0000gn/T/ipykernel_8896/3658594269.py:54: FutureWarning: Series.__getitem__ treating keys as positions is deprecated. In a future version, integer keys will always be treated as labels (consistent with DataFrame behavior). To access a value by position, use `ser.iloc[pos]`\n",
      "  use_col_names.update({col_names[l]:l})\n",
      "/var/folders/xx/46bbfzhs77j5z84b92fz834w0000gn/T/ipykernel_8896/3658594269.py:54: FutureWarning: Series.__getitem__ treating keys as positions is deprecated. In a future version, integer keys will always be treated as labels (consistent with DataFrame behavior). To access a value by position, use `ser.iloc[pos]`\n",
      "  use_col_names.update({col_names[l]:l})\n",
      "/var/folders/xx/46bbfzhs77j5z84b92fz834w0000gn/T/ipykernel_8896/3658594269.py:54: FutureWarning: Series.__getitem__ treating keys as positions is deprecated. In a future version, integer keys will always be treated as labels (consistent with DataFrame behavior). To access a value by position, use `ser.iloc[pos]`\n",
      "  use_col_names.update({col_names[l]:l})\n"
     ]
    },
    {
     "name": "stdout",
     "output_type": "stream",
     "text": [
      "46\n"
     ]
    },
    {
     "name": "stderr",
     "output_type": "stream",
     "text": [
      "/var/folders/xx/46bbfzhs77j5z84b92fz834w0000gn/T/ipykernel_8896/3658594269.py:54: FutureWarning: Series.__getitem__ treating keys as positions is deprecated. In a future version, integer keys will always be treated as labels (consistent with DataFrame behavior). To access a value by position, use `ser.iloc[pos]`\n",
      "  use_col_names.update({col_names[l]:l})\n",
      "/var/folders/xx/46bbfzhs77j5z84b92fz834w0000gn/T/ipykernel_8896/3658594269.py:54: FutureWarning: Series.__getitem__ treating keys as positions is deprecated. In a future version, integer keys will always be treated as labels (consistent with DataFrame behavior). To access a value by position, use `ser.iloc[pos]`\n",
      "  use_col_names.update({col_names[l]:l})\n",
      "/var/folders/xx/46bbfzhs77j5z84b92fz834w0000gn/T/ipykernel_8896/3658594269.py:54: FutureWarning: Series.__getitem__ treating keys as positions is deprecated. In a future version, integer keys will always be treated as labels (consistent with DataFrame behavior). To access a value by position, use `ser.iloc[pos]`\n",
      "  use_col_names.update({col_names[l]:l})\n"
     ]
    },
    {
     "name": "stdout",
     "output_type": "stream",
     "text": [
      "47\n"
     ]
    },
    {
     "name": "stderr",
     "output_type": "stream",
     "text": [
      "/var/folders/xx/46bbfzhs77j5z84b92fz834w0000gn/T/ipykernel_8896/3658594269.py:54: FutureWarning: Series.__getitem__ treating keys as positions is deprecated. In a future version, integer keys will always be treated as labels (consistent with DataFrame behavior). To access a value by position, use `ser.iloc[pos]`\n",
      "  use_col_names.update({col_names[l]:l})\n",
      "/var/folders/xx/46bbfzhs77j5z84b92fz834w0000gn/T/ipykernel_8896/3658594269.py:54: FutureWarning: Series.__getitem__ treating keys as positions is deprecated. In a future version, integer keys will always be treated as labels (consistent with DataFrame behavior). To access a value by position, use `ser.iloc[pos]`\n",
      "  use_col_names.update({col_names[l]:l})\n",
      "/var/folders/xx/46bbfzhs77j5z84b92fz834w0000gn/T/ipykernel_8896/3658594269.py:54: FutureWarning: Series.__getitem__ treating keys as positions is deprecated. In a future version, integer keys will always be treated as labels (consistent with DataFrame behavior). To access a value by position, use `ser.iloc[pos]`\n",
      "  use_col_names.update({col_names[l]:l})\n",
      "/var/folders/xx/46bbfzhs77j5z84b92fz834w0000gn/T/ipykernel_8896/3658594269.py:54: FutureWarning: Series.__getitem__ treating keys as positions is deprecated. In a future version, integer keys will always be treated as labels (consistent with DataFrame behavior). To access a value by position, use `ser.iloc[pos]`\n",
      "  use_col_names.update({col_names[l]:l})\n"
     ]
    },
    {
     "name": "stdout",
     "output_type": "stream",
     "text": [
      "48\n"
     ]
    },
    {
     "name": "stderr",
     "output_type": "stream",
     "text": [
      "/var/folders/xx/46bbfzhs77j5z84b92fz834w0000gn/T/ipykernel_8896/3658594269.py:54: FutureWarning: Series.__getitem__ treating keys as positions is deprecated. In a future version, integer keys will always be treated as labels (consistent with DataFrame behavior). To access a value by position, use `ser.iloc[pos]`\n",
      "  use_col_names.update({col_names[l]:l})\n",
      "/var/folders/xx/46bbfzhs77j5z84b92fz834w0000gn/T/ipykernel_8896/3658594269.py:54: FutureWarning: Series.__getitem__ treating keys as positions is deprecated. In a future version, integer keys will always be treated as labels (consistent with DataFrame behavior). To access a value by position, use `ser.iloc[pos]`\n",
      "  use_col_names.update({col_names[l]:l})\n",
      "/var/folders/xx/46bbfzhs77j5z84b92fz834w0000gn/T/ipykernel_8896/3658594269.py:54: FutureWarning: Series.__getitem__ treating keys as positions is deprecated. In a future version, integer keys will always be treated as labels (consistent with DataFrame behavior). To access a value by position, use `ser.iloc[pos]`\n",
      "  use_col_names.update({col_names[l]:l})\n",
      "/var/folders/xx/46bbfzhs77j5z84b92fz834w0000gn/T/ipykernel_8896/3658594269.py:54: FutureWarning: Series.__getitem__ treating keys as positions is deprecated. In a future version, integer keys will always be treated as labels (consistent with DataFrame behavior). To access a value by position, use `ser.iloc[pos]`\n",
      "  use_col_names.update({col_names[l]:l})\n",
      "/var/folders/xx/46bbfzhs77j5z84b92fz834w0000gn/T/ipykernel_8896/3658594269.py:54: FutureWarning: Series.__getitem__ treating keys as positions is deprecated. In a future version, integer keys will always be treated as labels (consistent with DataFrame behavior). To access a value by position, use `ser.iloc[pos]`\n",
      "  use_col_names.update({col_names[l]:l})\n"
     ]
    },
    {
     "name": "stdout",
     "output_type": "stream",
     "text": [
      "49\n"
     ]
    },
    {
     "name": "stderr",
     "output_type": "stream",
     "text": [
      "/var/folders/xx/46bbfzhs77j5z84b92fz834w0000gn/T/ipykernel_8896/3658594269.py:54: FutureWarning: Series.__getitem__ treating keys as positions is deprecated. In a future version, integer keys will always be treated as labels (consistent with DataFrame behavior). To access a value by position, use `ser.iloc[pos]`\n",
      "  use_col_names.update({col_names[l]:l})\n",
      "/var/folders/xx/46bbfzhs77j5z84b92fz834w0000gn/T/ipykernel_8896/3658594269.py:54: FutureWarning: Series.__getitem__ treating keys as positions is deprecated. In a future version, integer keys will always be treated as labels (consistent with DataFrame behavior). To access a value by position, use `ser.iloc[pos]`\n",
      "  use_col_names.update({col_names[l]:l})\n",
      "/var/folders/xx/46bbfzhs77j5z84b92fz834w0000gn/T/ipykernel_8896/3658594269.py:54: FutureWarning: Series.__getitem__ treating keys as positions is deprecated. In a future version, integer keys will always be treated as labels (consistent with DataFrame behavior). To access a value by position, use `ser.iloc[pos]`\n",
      "  use_col_names.update({col_names[l]:l})\n"
     ]
    },
    {
     "name": "stdout",
     "output_type": "stream",
     "text": [
      "50\n"
     ]
    },
    {
     "name": "stderr",
     "output_type": "stream",
     "text": [
      "/var/folders/xx/46bbfzhs77j5z84b92fz834w0000gn/T/ipykernel_8896/3658594269.py:54: FutureWarning: Series.__getitem__ treating keys as positions is deprecated. In a future version, integer keys will always be treated as labels (consistent with DataFrame behavior). To access a value by position, use `ser.iloc[pos]`\n",
      "  use_col_names.update({col_names[l]:l})\n",
      "/var/folders/xx/46bbfzhs77j5z84b92fz834w0000gn/T/ipykernel_8896/3658594269.py:54: FutureWarning: Series.__getitem__ treating keys as positions is deprecated. In a future version, integer keys will always be treated as labels (consistent with DataFrame behavior). To access a value by position, use `ser.iloc[pos]`\n",
      "  use_col_names.update({col_names[l]:l})\n",
      "/var/folders/xx/46bbfzhs77j5z84b92fz834w0000gn/T/ipykernel_8896/3658594269.py:54: FutureWarning: Series.__getitem__ treating keys as positions is deprecated. In a future version, integer keys will always be treated as labels (consistent with DataFrame behavior). To access a value by position, use `ser.iloc[pos]`\n",
      "  use_col_names.update({col_names[l]:l})\n",
      "/var/folders/xx/46bbfzhs77j5z84b92fz834w0000gn/T/ipykernel_8896/3658594269.py:54: FutureWarning: Series.__getitem__ treating keys as positions is deprecated. In a future version, integer keys will always be treated as labels (consistent with DataFrame behavior). To access a value by position, use `ser.iloc[pos]`\n",
      "  use_col_names.update({col_names[l]:l})\n"
     ]
    },
    {
     "name": "stdout",
     "output_type": "stream",
     "text": [
      "51\n"
     ]
    },
    {
     "name": "stderr",
     "output_type": "stream",
     "text": [
      "/var/folders/xx/46bbfzhs77j5z84b92fz834w0000gn/T/ipykernel_8896/3658594269.py:54: FutureWarning: Series.__getitem__ treating keys as positions is deprecated. In a future version, integer keys will always be treated as labels (consistent with DataFrame behavior). To access a value by position, use `ser.iloc[pos]`\n",
      "  use_col_names.update({col_names[l]:l})\n",
      "/var/folders/xx/46bbfzhs77j5z84b92fz834w0000gn/T/ipykernel_8896/3658594269.py:54: FutureWarning: Series.__getitem__ treating keys as positions is deprecated. In a future version, integer keys will always be treated as labels (consistent with DataFrame behavior). To access a value by position, use `ser.iloc[pos]`\n",
      "  use_col_names.update({col_names[l]:l})\n",
      "/var/folders/xx/46bbfzhs77j5z84b92fz834w0000gn/T/ipykernel_8896/3658594269.py:54: FutureWarning: Series.__getitem__ treating keys as positions is deprecated. In a future version, integer keys will always be treated as labels (consistent with DataFrame behavior). To access a value by position, use `ser.iloc[pos]`\n",
      "  use_col_names.update({col_names[l]:l})\n",
      "/var/folders/xx/46bbfzhs77j5z84b92fz834w0000gn/T/ipykernel_8896/3658594269.py:54: FutureWarning: Series.__getitem__ treating keys as positions is deprecated. In a future version, integer keys will always be treated as labels (consistent with DataFrame behavior). To access a value by position, use `ser.iloc[pos]`\n",
      "  use_col_names.update({col_names[l]:l})\n"
     ]
    },
    {
     "name": "stdout",
     "output_type": "stream",
     "text": [
      "52\n"
     ]
    },
    {
     "name": "stderr",
     "output_type": "stream",
     "text": [
      "/var/folders/xx/46bbfzhs77j5z84b92fz834w0000gn/T/ipykernel_8896/3658594269.py:54: FutureWarning: Series.__getitem__ treating keys as positions is deprecated. In a future version, integer keys will always be treated as labels (consistent with DataFrame behavior). To access a value by position, use `ser.iloc[pos]`\n",
      "  use_col_names.update({col_names[l]:l})\n",
      "/var/folders/xx/46bbfzhs77j5z84b92fz834w0000gn/T/ipykernel_8896/3658594269.py:54: FutureWarning: Series.__getitem__ treating keys as positions is deprecated. In a future version, integer keys will always be treated as labels (consistent with DataFrame behavior). To access a value by position, use `ser.iloc[pos]`\n",
      "  use_col_names.update({col_names[l]:l})\n",
      "/var/folders/xx/46bbfzhs77j5z84b92fz834w0000gn/T/ipykernel_8896/3658594269.py:54: FutureWarning: Series.__getitem__ treating keys as positions is deprecated. In a future version, integer keys will always be treated as labels (consistent with DataFrame behavior). To access a value by position, use `ser.iloc[pos]`\n",
      "  use_col_names.update({col_names[l]:l})\n",
      "/var/folders/xx/46bbfzhs77j5z84b92fz834w0000gn/T/ipykernel_8896/3658594269.py:54: FutureWarning: Series.__getitem__ treating keys as positions is deprecated. In a future version, integer keys will always be treated as labels (consistent with DataFrame behavior). To access a value by position, use `ser.iloc[pos]`\n",
      "  use_col_names.update({col_names[l]:l})\n"
     ]
    },
    {
     "name": "stdout",
     "output_type": "stream",
     "text": [
      "53\n"
     ]
    },
    {
     "name": "stderr",
     "output_type": "stream",
     "text": [
      "/var/folders/xx/46bbfzhs77j5z84b92fz834w0000gn/T/ipykernel_8896/3658594269.py:54: FutureWarning: Series.__getitem__ treating keys as positions is deprecated. In a future version, integer keys will always be treated as labels (consistent with DataFrame behavior). To access a value by position, use `ser.iloc[pos]`\n",
      "  use_col_names.update({col_names[l]:l})\n",
      "/var/folders/xx/46bbfzhs77j5z84b92fz834w0000gn/T/ipykernel_8896/3658594269.py:54: FutureWarning: Series.__getitem__ treating keys as positions is deprecated. In a future version, integer keys will always be treated as labels (consistent with DataFrame behavior). To access a value by position, use `ser.iloc[pos]`\n",
      "  use_col_names.update({col_names[l]:l})\n",
      "/var/folders/xx/46bbfzhs77j5z84b92fz834w0000gn/T/ipykernel_8896/3658594269.py:54: FutureWarning: Series.__getitem__ treating keys as positions is deprecated. In a future version, integer keys will always be treated as labels (consistent with DataFrame behavior). To access a value by position, use `ser.iloc[pos]`\n",
      "  use_col_names.update({col_names[l]:l})\n",
      "/var/folders/xx/46bbfzhs77j5z84b92fz834w0000gn/T/ipykernel_8896/3658594269.py:54: FutureWarning: Series.__getitem__ treating keys as positions is deprecated. In a future version, integer keys will always be treated as labels (consistent with DataFrame behavior). To access a value by position, use `ser.iloc[pos]`\n",
      "  use_col_names.update({col_names[l]:l})\n"
     ]
    },
    {
     "name": "stdout",
     "output_type": "stream",
     "text": [
      "54\n"
     ]
    },
    {
     "name": "stderr",
     "output_type": "stream",
     "text": [
      "/var/folders/xx/46bbfzhs77j5z84b92fz834w0000gn/T/ipykernel_8896/3658594269.py:54: FutureWarning: Series.__getitem__ treating keys as positions is deprecated. In a future version, integer keys will always be treated as labels (consistent with DataFrame behavior). To access a value by position, use `ser.iloc[pos]`\n",
      "  use_col_names.update({col_names[l]:l})\n",
      "/var/folders/xx/46bbfzhs77j5z84b92fz834w0000gn/T/ipykernel_8896/3658594269.py:54: FutureWarning: Series.__getitem__ treating keys as positions is deprecated. In a future version, integer keys will always be treated as labels (consistent with DataFrame behavior). To access a value by position, use `ser.iloc[pos]`\n",
      "  use_col_names.update({col_names[l]:l})\n",
      "/var/folders/xx/46bbfzhs77j5z84b92fz834w0000gn/T/ipykernel_8896/3658594269.py:54: FutureWarning: Series.__getitem__ treating keys as positions is deprecated. In a future version, integer keys will always be treated as labels (consistent with DataFrame behavior). To access a value by position, use `ser.iloc[pos]`\n",
      "  use_col_names.update({col_names[l]:l})\n",
      "/var/folders/xx/46bbfzhs77j5z84b92fz834w0000gn/T/ipykernel_8896/3658594269.py:54: FutureWarning: Series.__getitem__ treating keys as positions is deprecated. In a future version, integer keys will always be treated as labels (consistent with DataFrame behavior). To access a value by position, use `ser.iloc[pos]`\n",
      "  use_col_names.update({col_names[l]:l})\n"
     ]
    },
    {
     "name": "stdout",
     "output_type": "stream",
     "text": [
      "55\n"
     ]
    },
    {
     "name": "stderr",
     "output_type": "stream",
     "text": [
      "/var/folders/xx/46bbfzhs77j5z84b92fz834w0000gn/T/ipykernel_8896/3658594269.py:54: FutureWarning: Series.__getitem__ treating keys as positions is deprecated. In a future version, integer keys will always be treated as labels (consistent with DataFrame behavior). To access a value by position, use `ser.iloc[pos]`\n",
      "  use_col_names.update({col_names[l]:l})\n",
      "/var/folders/xx/46bbfzhs77j5z84b92fz834w0000gn/T/ipykernel_8896/3658594269.py:54: FutureWarning: Series.__getitem__ treating keys as positions is deprecated. In a future version, integer keys will always be treated as labels (consistent with DataFrame behavior). To access a value by position, use `ser.iloc[pos]`\n",
      "  use_col_names.update({col_names[l]:l})\n",
      "/var/folders/xx/46bbfzhs77j5z84b92fz834w0000gn/T/ipykernel_8896/3658594269.py:54: FutureWarning: Series.__getitem__ treating keys as positions is deprecated. In a future version, integer keys will always be treated as labels (consistent with DataFrame behavior). To access a value by position, use `ser.iloc[pos]`\n",
      "  use_col_names.update({col_names[l]:l})\n",
      "/var/folders/xx/46bbfzhs77j5z84b92fz834w0000gn/T/ipykernel_8896/3658594269.py:54: FutureWarning: Series.__getitem__ treating keys as positions is deprecated. In a future version, integer keys will always be treated as labels (consistent with DataFrame behavior). To access a value by position, use `ser.iloc[pos]`\n",
      "  use_col_names.update({col_names[l]:l})\n",
      "/var/folders/xx/46bbfzhs77j5z84b92fz834w0000gn/T/ipykernel_8896/3658594269.py:54: FutureWarning: Series.__getitem__ treating keys as positions is deprecated. In a future version, integer keys will always be treated as labels (consistent with DataFrame behavior). To access a value by position, use `ser.iloc[pos]`\n",
      "  use_col_names.update({col_names[l]:l})\n"
     ]
    },
    {
     "name": "stdout",
     "output_type": "stream",
     "text": [
      "56\n"
     ]
    },
    {
     "name": "stderr",
     "output_type": "stream",
     "text": [
      "/var/folders/xx/46bbfzhs77j5z84b92fz834w0000gn/T/ipykernel_8896/3658594269.py:54: FutureWarning: Series.__getitem__ treating keys as positions is deprecated. In a future version, integer keys will always be treated as labels (consistent with DataFrame behavior). To access a value by position, use `ser.iloc[pos]`\n",
      "  use_col_names.update({col_names[l]:l})\n",
      "/var/folders/xx/46bbfzhs77j5z84b92fz834w0000gn/T/ipykernel_8896/3658594269.py:54: FutureWarning: Series.__getitem__ treating keys as positions is deprecated. In a future version, integer keys will always be treated as labels (consistent with DataFrame behavior). To access a value by position, use `ser.iloc[pos]`\n",
      "  use_col_names.update({col_names[l]:l})\n",
      "/var/folders/xx/46bbfzhs77j5z84b92fz834w0000gn/T/ipykernel_8896/3658594269.py:54: FutureWarning: Series.__getitem__ treating keys as positions is deprecated. In a future version, integer keys will always be treated as labels (consistent with DataFrame behavior). To access a value by position, use `ser.iloc[pos]`\n",
      "  use_col_names.update({col_names[l]:l})\n"
     ]
    },
    {
     "name": "stdout",
     "output_type": "stream",
     "text": [
      "57\n"
     ]
    },
    {
     "name": "stderr",
     "output_type": "stream",
     "text": [
      "/var/folders/xx/46bbfzhs77j5z84b92fz834w0000gn/T/ipykernel_8896/3658594269.py:54: FutureWarning: Series.__getitem__ treating keys as positions is deprecated. In a future version, integer keys will always be treated as labels (consistent with DataFrame behavior). To access a value by position, use `ser.iloc[pos]`\n",
      "  use_col_names.update({col_names[l]:l})\n",
      "/var/folders/xx/46bbfzhs77j5z84b92fz834w0000gn/T/ipykernel_8896/3658594269.py:54: FutureWarning: Series.__getitem__ treating keys as positions is deprecated. In a future version, integer keys will always be treated as labels (consistent with DataFrame behavior). To access a value by position, use `ser.iloc[pos]`\n",
      "  use_col_names.update({col_names[l]:l})\n",
      "/var/folders/xx/46bbfzhs77j5z84b92fz834w0000gn/T/ipykernel_8896/3658594269.py:54: FutureWarning: Series.__getitem__ treating keys as positions is deprecated. In a future version, integer keys will always be treated as labels (consistent with DataFrame behavior). To access a value by position, use `ser.iloc[pos]`\n",
      "  use_col_names.update({col_names[l]:l})\n",
      "/var/folders/xx/46bbfzhs77j5z84b92fz834w0000gn/T/ipykernel_8896/3658594269.py:54: FutureWarning: Series.__getitem__ treating keys as positions is deprecated. In a future version, integer keys will always be treated as labels (consistent with DataFrame behavior). To access a value by position, use `ser.iloc[pos]`\n",
      "  use_col_names.update({col_names[l]:l})\n"
     ]
    },
    {
     "name": "stdout",
     "output_type": "stream",
     "text": [
      "58\n"
     ]
    },
    {
     "name": "stderr",
     "output_type": "stream",
     "text": [
      "/var/folders/xx/46bbfzhs77j5z84b92fz834w0000gn/T/ipykernel_8896/3658594269.py:54: FutureWarning: Series.__getitem__ treating keys as positions is deprecated. In a future version, integer keys will always be treated as labels (consistent with DataFrame behavior). To access a value by position, use `ser.iloc[pos]`\n",
      "  use_col_names.update({col_names[l]:l})\n",
      "/var/folders/xx/46bbfzhs77j5z84b92fz834w0000gn/T/ipykernel_8896/3658594269.py:54: FutureWarning: Series.__getitem__ treating keys as positions is deprecated. In a future version, integer keys will always be treated as labels (consistent with DataFrame behavior). To access a value by position, use `ser.iloc[pos]`\n",
      "  use_col_names.update({col_names[l]:l})\n",
      "/var/folders/xx/46bbfzhs77j5z84b92fz834w0000gn/T/ipykernel_8896/3658594269.py:54: FutureWarning: Series.__getitem__ treating keys as positions is deprecated. In a future version, integer keys will always be treated as labels (consistent with DataFrame behavior). To access a value by position, use `ser.iloc[pos]`\n",
      "  use_col_names.update({col_names[l]:l})\n",
      "/var/folders/xx/46bbfzhs77j5z84b92fz834w0000gn/T/ipykernel_8896/3658594269.py:54: FutureWarning: Series.__getitem__ treating keys as positions is deprecated. In a future version, integer keys will always be treated as labels (consistent with DataFrame behavior). To access a value by position, use `ser.iloc[pos]`\n",
      "  use_col_names.update({col_names[l]:l})\n"
     ]
    },
    {
     "name": "stdout",
     "output_type": "stream",
     "text": [
      "59\n"
     ]
    },
    {
     "name": "stderr",
     "output_type": "stream",
     "text": [
      "/var/folders/xx/46bbfzhs77j5z84b92fz834w0000gn/T/ipykernel_8896/3658594269.py:54: FutureWarning: Series.__getitem__ treating keys as positions is deprecated. In a future version, integer keys will always be treated as labels (consistent with DataFrame behavior). To access a value by position, use `ser.iloc[pos]`\n",
      "  use_col_names.update({col_names[l]:l})\n",
      "/var/folders/xx/46bbfzhs77j5z84b92fz834w0000gn/T/ipykernel_8896/3658594269.py:54: FutureWarning: Series.__getitem__ treating keys as positions is deprecated. In a future version, integer keys will always be treated as labels (consistent with DataFrame behavior). To access a value by position, use `ser.iloc[pos]`\n",
      "  use_col_names.update({col_names[l]:l})\n",
      "/var/folders/xx/46bbfzhs77j5z84b92fz834w0000gn/T/ipykernel_8896/3658594269.py:54: FutureWarning: Series.__getitem__ treating keys as positions is deprecated. In a future version, integer keys will always be treated as labels (consistent with DataFrame behavior). To access a value by position, use `ser.iloc[pos]`\n",
      "  use_col_names.update({col_names[l]:l})\n",
      "/var/folders/xx/46bbfzhs77j5z84b92fz834w0000gn/T/ipykernel_8896/3658594269.py:54: FutureWarning: Series.__getitem__ treating keys as positions is deprecated. In a future version, integer keys will always be treated as labels (consistent with DataFrame behavior). To access a value by position, use `ser.iloc[pos]`\n",
      "  use_col_names.update({col_names[l]:l})\n",
      "/var/folders/xx/46bbfzhs77j5z84b92fz834w0000gn/T/ipykernel_8896/3658594269.py:54: FutureWarning: Series.__getitem__ treating keys as positions is deprecated. In a future version, integer keys will always be treated as labels (consistent with DataFrame behavior). To access a value by position, use `ser.iloc[pos]`\n",
      "  use_col_names.update({col_names[l]:l})\n"
     ]
    },
    {
     "name": "stdout",
     "output_type": "stream",
     "text": [
      "60\n"
     ]
    },
    {
     "name": "stderr",
     "output_type": "stream",
     "text": [
      "/var/folders/xx/46bbfzhs77j5z84b92fz834w0000gn/T/ipykernel_8896/3658594269.py:54: FutureWarning: Series.__getitem__ treating keys as positions is deprecated. In a future version, integer keys will always be treated as labels (consistent with DataFrame behavior). To access a value by position, use `ser.iloc[pos]`\n",
      "  use_col_names.update({col_names[l]:l})\n",
      "/var/folders/xx/46bbfzhs77j5z84b92fz834w0000gn/T/ipykernel_8896/3658594269.py:54: FutureWarning: Series.__getitem__ treating keys as positions is deprecated. In a future version, integer keys will always be treated as labels (consistent with DataFrame behavior). To access a value by position, use `ser.iloc[pos]`\n",
      "  use_col_names.update({col_names[l]:l})\n",
      "/var/folders/xx/46bbfzhs77j5z84b92fz834w0000gn/T/ipykernel_8896/3658594269.py:54: FutureWarning: Series.__getitem__ treating keys as positions is deprecated. In a future version, integer keys will always be treated as labels (consistent with DataFrame behavior). To access a value by position, use `ser.iloc[pos]`\n",
      "  use_col_names.update({col_names[l]:l})\n",
      "/var/folders/xx/46bbfzhs77j5z84b92fz834w0000gn/T/ipykernel_8896/3658594269.py:54: FutureWarning: Series.__getitem__ treating keys as positions is deprecated. In a future version, integer keys will always be treated as labels (consistent with DataFrame behavior). To access a value by position, use `ser.iloc[pos]`\n",
      "  use_col_names.update({col_names[l]:l})\n"
     ]
    },
    {
     "name": "stdout",
     "output_type": "stream",
     "text": [
      "61\n"
     ]
    },
    {
     "name": "stderr",
     "output_type": "stream",
     "text": [
      "/var/folders/xx/46bbfzhs77j5z84b92fz834w0000gn/T/ipykernel_8896/3658594269.py:54: FutureWarning: Series.__getitem__ treating keys as positions is deprecated. In a future version, integer keys will always be treated as labels (consistent with DataFrame behavior). To access a value by position, use `ser.iloc[pos]`\n",
      "  use_col_names.update({col_names[l]:l})\n",
      "/var/folders/xx/46bbfzhs77j5z84b92fz834w0000gn/T/ipykernel_8896/3658594269.py:54: FutureWarning: Series.__getitem__ treating keys as positions is deprecated. In a future version, integer keys will always be treated as labels (consistent with DataFrame behavior). To access a value by position, use `ser.iloc[pos]`\n",
      "  use_col_names.update({col_names[l]:l})\n",
      "/var/folders/xx/46bbfzhs77j5z84b92fz834w0000gn/T/ipykernel_8896/3658594269.py:54: FutureWarning: Series.__getitem__ treating keys as positions is deprecated. In a future version, integer keys will always be treated as labels (consistent with DataFrame behavior). To access a value by position, use `ser.iloc[pos]`\n",
      "  use_col_names.update({col_names[l]:l})\n",
      "/var/folders/xx/46bbfzhs77j5z84b92fz834w0000gn/T/ipykernel_8896/3658594269.py:54: FutureWarning: Series.__getitem__ treating keys as positions is deprecated. In a future version, integer keys will always be treated as labels (consistent with DataFrame behavior). To access a value by position, use `ser.iloc[pos]`\n",
      "  use_col_names.update({col_names[l]:l})\n"
     ]
    },
    {
     "name": "stdout",
     "output_type": "stream",
     "text": [
      "62\n"
     ]
    },
    {
     "name": "stderr",
     "output_type": "stream",
     "text": [
      "/var/folders/xx/46bbfzhs77j5z84b92fz834w0000gn/T/ipykernel_8896/3658594269.py:54: FutureWarning: Series.__getitem__ treating keys as positions is deprecated. In a future version, integer keys will always be treated as labels (consistent with DataFrame behavior). To access a value by position, use `ser.iloc[pos]`\n",
      "  use_col_names.update({col_names[l]:l})\n",
      "/var/folders/xx/46bbfzhs77j5z84b92fz834w0000gn/T/ipykernel_8896/3658594269.py:54: FutureWarning: Series.__getitem__ treating keys as positions is deprecated. In a future version, integer keys will always be treated as labels (consistent with DataFrame behavior). To access a value by position, use `ser.iloc[pos]`\n",
      "  use_col_names.update({col_names[l]:l})\n",
      "/var/folders/xx/46bbfzhs77j5z84b92fz834w0000gn/T/ipykernel_8896/3658594269.py:54: FutureWarning: Series.__getitem__ treating keys as positions is deprecated. In a future version, integer keys will always be treated as labels (consistent with DataFrame behavior). To access a value by position, use `ser.iloc[pos]`\n",
      "  use_col_names.update({col_names[l]:l})\n"
     ]
    },
    {
     "name": "stdout",
     "output_type": "stream",
     "text": [
      "63\n"
     ]
    },
    {
     "name": "stderr",
     "output_type": "stream",
     "text": [
      "/var/folders/xx/46bbfzhs77j5z84b92fz834w0000gn/T/ipykernel_8896/3658594269.py:54: FutureWarning: Series.__getitem__ treating keys as positions is deprecated. In a future version, integer keys will always be treated as labels (consistent with DataFrame behavior). To access a value by position, use `ser.iloc[pos]`\n",
      "  use_col_names.update({col_names[l]:l})\n",
      "/var/folders/xx/46bbfzhs77j5z84b92fz834w0000gn/T/ipykernel_8896/3658594269.py:54: FutureWarning: Series.__getitem__ treating keys as positions is deprecated. In a future version, integer keys will always be treated as labels (consistent with DataFrame behavior). To access a value by position, use `ser.iloc[pos]`\n",
      "  use_col_names.update({col_names[l]:l})\n",
      "/var/folders/xx/46bbfzhs77j5z84b92fz834w0000gn/T/ipykernel_8896/3658594269.py:54: FutureWarning: Series.__getitem__ treating keys as positions is deprecated. In a future version, integer keys will always be treated as labels (consistent with DataFrame behavior). To access a value by position, use `ser.iloc[pos]`\n",
      "  use_col_names.update({col_names[l]:l})\n",
      "/var/folders/xx/46bbfzhs77j5z84b92fz834w0000gn/T/ipykernel_8896/3658594269.py:54: FutureWarning: Series.__getitem__ treating keys as positions is deprecated. In a future version, integer keys will always be treated as labels (consistent with DataFrame behavior). To access a value by position, use `ser.iloc[pos]`\n",
      "  use_col_names.update({col_names[l]:l})\n"
     ]
    },
    {
     "name": "stdout",
     "output_type": "stream",
     "text": [
      "64\n"
     ]
    },
    {
     "name": "stderr",
     "output_type": "stream",
     "text": [
      "/var/folders/xx/46bbfzhs77j5z84b92fz834w0000gn/T/ipykernel_8896/3658594269.py:54: FutureWarning: Series.__getitem__ treating keys as positions is deprecated. In a future version, integer keys will always be treated as labels (consistent with DataFrame behavior). To access a value by position, use `ser.iloc[pos]`\n",
      "  use_col_names.update({col_names[l]:l})\n",
      "/var/folders/xx/46bbfzhs77j5z84b92fz834w0000gn/T/ipykernel_8896/3658594269.py:54: FutureWarning: Series.__getitem__ treating keys as positions is deprecated. In a future version, integer keys will always be treated as labels (consistent with DataFrame behavior). To access a value by position, use `ser.iloc[pos]`\n",
      "  use_col_names.update({col_names[l]:l})\n",
      "/var/folders/xx/46bbfzhs77j5z84b92fz834w0000gn/T/ipykernel_8896/3658594269.py:54: FutureWarning: Series.__getitem__ treating keys as positions is deprecated. In a future version, integer keys will always be treated as labels (consistent with DataFrame behavior). To access a value by position, use `ser.iloc[pos]`\n",
      "  use_col_names.update({col_names[l]:l})\n",
      "/var/folders/xx/46bbfzhs77j5z84b92fz834w0000gn/T/ipykernel_8896/3658594269.py:54: FutureWarning: Series.__getitem__ treating keys as positions is deprecated. In a future version, integer keys will always be treated as labels (consistent with DataFrame behavior). To access a value by position, use `ser.iloc[pos]`\n",
      "  use_col_names.update({col_names[l]:l})\n"
     ]
    },
    {
     "name": "stdout",
     "output_type": "stream",
     "text": [
      "65\n"
     ]
    },
    {
     "name": "stderr",
     "output_type": "stream",
     "text": [
      "/var/folders/xx/46bbfzhs77j5z84b92fz834w0000gn/T/ipykernel_8896/3658594269.py:54: FutureWarning: Series.__getitem__ treating keys as positions is deprecated. In a future version, integer keys will always be treated as labels (consistent with DataFrame behavior). To access a value by position, use `ser.iloc[pos]`\n",
      "  use_col_names.update({col_names[l]:l})\n",
      "/var/folders/xx/46bbfzhs77j5z84b92fz834w0000gn/T/ipykernel_8896/3658594269.py:54: FutureWarning: Series.__getitem__ treating keys as positions is deprecated. In a future version, integer keys will always be treated as labels (consistent with DataFrame behavior). To access a value by position, use `ser.iloc[pos]`\n",
      "  use_col_names.update({col_names[l]:l})\n",
      "/var/folders/xx/46bbfzhs77j5z84b92fz834w0000gn/T/ipykernel_8896/3658594269.py:54: FutureWarning: Series.__getitem__ treating keys as positions is deprecated. In a future version, integer keys will always be treated as labels (consistent with DataFrame behavior). To access a value by position, use `ser.iloc[pos]`\n",
      "  use_col_names.update({col_names[l]:l})\n",
      "/var/folders/xx/46bbfzhs77j5z84b92fz834w0000gn/T/ipykernel_8896/3658594269.py:54: FutureWarning: Series.__getitem__ treating keys as positions is deprecated. In a future version, integer keys will always be treated as labels (consistent with DataFrame behavior). To access a value by position, use `ser.iloc[pos]`\n",
      "  use_col_names.update({col_names[l]:l})\n"
     ]
    },
    {
     "name": "stdout",
     "output_type": "stream",
     "text": [
      "66\n"
     ]
    },
    {
     "name": "stderr",
     "output_type": "stream",
     "text": [
      "/var/folders/xx/46bbfzhs77j5z84b92fz834w0000gn/T/ipykernel_8896/3658594269.py:54: FutureWarning: Series.__getitem__ treating keys as positions is deprecated. In a future version, integer keys will always be treated as labels (consistent with DataFrame behavior). To access a value by position, use `ser.iloc[pos]`\n",
      "  use_col_names.update({col_names[l]:l})\n",
      "/var/folders/xx/46bbfzhs77j5z84b92fz834w0000gn/T/ipykernel_8896/3658594269.py:54: FutureWarning: Series.__getitem__ treating keys as positions is deprecated. In a future version, integer keys will always be treated as labels (consistent with DataFrame behavior). To access a value by position, use `ser.iloc[pos]`\n",
      "  use_col_names.update({col_names[l]:l})\n",
      "/var/folders/xx/46bbfzhs77j5z84b92fz834w0000gn/T/ipykernel_8896/3658594269.py:54: FutureWarning: Series.__getitem__ treating keys as positions is deprecated. In a future version, integer keys will always be treated as labels (consistent with DataFrame behavior). To access a value by position, use `ser.iloc[pos]`\n",
      "  use_col_names.update({col_names[l]:l})\n",
      "/var/folders/xx/46bbfzhs77j5z84b92fz834w0000gn/T/ipykernel_8896/3658594269.py:54: FutureWarning: Series.__getitem__ treating keys as positions is deprecated. In a future version, integer keys will always be treated as labels (consistent with DataFrame behavior). To access a value by position, use `ser.iloc[pos]`\n",
      "  use_col_names.update({col_names[l]:l})\n"
     ]
    },
    {
     "name": "stdout",
     "output_type": "stream",
     "text": [
      "67\n"
     ]
    },
    {
     "name": "stderr",
     "output_type": "stream",
     "text": [
      "/var/folders/xx/46bbfzhs77j5z84b92fz834w0000gn/T/ipykernel_8896/3658594269.py:54: FutureWarning: Series.__getitem__ treating keys as positions is deprecated. In a future version, integer keys will always be treated as labels (consistent with DataFrame behavior). To access a value by position, use `ser.iloc[pos]`\n",
      "  use_col_names.update({col_names[l]:l})\n",
      "/var/folders/xx/46bbfzhs77j5z84b92fz834w0000gn/T/ipykernel_8896/3658594269.py:54: FutureWarning: Series.__getitem__ treating keys as positions is deprecated. In a future version, integer keys will always be treated as labels (consistent with DataFrame behavior). To access a value by position, use `ser.iloc[pos]`\n",
      "  use_col_names.update({col_names[l]:l})\n",
      "/var/folders/xx/46bbfzhs77j5z84b92fz834w0000gn/T/ipykernel_8896/3658594269.py:54: FutureWarning: Series.__getitem__ treating keys as positions is deprecated. In a future version, integer keys will always be treated as labels (consistent with DataFrame behavior). To access a value by position, use `ser.iloc[pos]`\n",
      "  use_col_names.update({col_names[l]:l})\n",
      "/var/folders/xx/46bbfzhs77j5z84b92fz834w0000gn/T/ipykernel_8896/3658594269.py:54: FutureWarning: Series.__getitem__ treating keys as positions is deprecated. In a future version, integer keys will always be treated as labels (consistent with DataFrame behavior). To access a value by position, use `ser.iloc[pos]`\n",
      "  use_col_names.update({col_names[l]:l})\n",
      "/var/folders/xx/46bbfzhs77j5z84b92fz834w0000gn/T/ipykernel_8896/3658594269.py:54: FutureWarning: Series.__getitem__ treating keys as positions is deprecated. In a future version, integer keys will always be treated as labels (consistent with DataFrame behavior). To access a value by position, use `ser.iloc[pos]`\n",
      "  use_col_names.update({col_names[l]:l})\n"
     ]
    },
    {
     "name": "stdout",
     "output_type": "stream",
     "text": [
      "68\n"
     ]
    },
    {
     "name": "stderr",
     "output_type": "stream",
     "text": [
      "/var/folders/xx/46bbfzhs77j5z84b92fz834w0000gn/T/ipykernel_8896/3658594269.py:54: FutureWarning: Series.__getitem__ treating keys as positions is deprecated. In a future version, integer keys will always be treated as labels (consistent with DataFrame behavior). To access a value by position, use `ser.iloc[pos]`\n",
      "  use_col_names.update({col_names[l]:l})\n",
      "/var/folders/xx/46bbfzhs77j5z84b92fz834w0000gn/T/ipykernel_8896/3658594269.py:54: FutureWarning: Series.__getitem__ treating keys as positions is deprecated. In a future version, integer keys will always be treated as labels (consistent with DataFrame behavior). To access a value by position, use `ser.iloc[pos]`\n",
      "  use_col_names.update({col_names[l]:l})\n",
      "/var/folders/xx/46bbfzhs77j5z84b92fz834w0000gn/T/ipykernel_8896/3658594269.py:54: FutureWarning: Series.__getitem__ treating keys as positions is deprecated. In a future version, integer keys will always be treated as labels (consistent with DataFrame behavior). To access a value by position, use `ser.iloc[pos]`\n",
      "  use_col_names.update({col_names[l]:l})\n",
      "/var/folders/xx/46bbfzhs77j5z84b92fz834w0000gn/T/ipykernel_8896/3658594269.py:54: FutureWarning: Series.__getitem__ treating keys as positions is deprecated. In a future version, integer keys will always be treated as labels (consistent with DataFrame behavior). To access a value by position, use `ser.iloc[pos]`\n",
      "  use_col_names.update({col_names[l]:l})\n"
     ]
    },
    {
     "name": "stdout",
     "output_type": "stream",
     "text": [
      "69\n"
     ]
    },
    {
     "name": "stderr",
     "output_type": "stream",
     "text": [
      "/var/folders/xx/46bbfzhs77j5z84b92fz834w0000gn/T/ipykernel_8896/3658594269.py:54: FutureWarning: Series.__getitem__ treating keys as positions is deprecated. In a future version, integer keys will always be treated as labels (consistent with DataFrame behavior). To access a value by position, use `ser.iloc[pos]`\n",
      "  use_col_names.update({col_names[l]:l})\n",
      "/var/folders/xx/46bbfzhs77j5z84b92fz834w0000gn/T/ipykernel_8896/3658594269.py:54: FutureWarning: Series.__getitem__ treating keys as positions is deprecated. In a future version, integer keys will always be treated as labels (consistent with DataFrame behavior). To access a value by position, use `ser.iloc[pos]`\n",
      "  use_col_names.update({col_names[l]:l})\n",
      "/var/folders/xx/46bbfzhs77j5z84b92fz834w0000gn/T/ipykernel_8896/3658594269.py:54: FutureWarning: Series.__getitem__ treating keys as positions is deprecated. In a future version, integer keys will always be treated as labels (consistent with DataFrame behavior). To access a value by position, use `ser.iloc[pos]`\n",
      "  use_col_names.update({col_names[l]:l})\n",
      "/var/folders/xx/46bbfzhs77j5z84b92fz834w0000gn/T/ipykernel_8896/3658594269.py:54: FutureWarning: Series.__getitem__ treating keys as positions is deprecated. In a future version, integer keys will always be treated as labels (consistent with DataFrame behavior). To access a value by position, use `ser.iloc[pos]`\n",
      "  use_col_names.update({col_names[l]:l})\n"
     ]
    },
    {
     "name": "stdout",
     "output_type": "stream",
     "text": [
      "70\n"
     ]
    },
    {
     "name": "stderr",
     "output_type": "stream",
     "text": [
      "/var/folders/xx/46bbfzhs77j5z84b92fz834w0000gn/T/ipykernel_8896/3658594269.py:54: FutureWarning: Series.__getitem__ treating keys as positions is deprecated. In a future version, integer keys will always be treated as labels (consistent with DataFrame behavior). To access a value by position, use `ser.iloc[pos]`\n",
      "  use_col_names.update({col_names[l]:l})\n",
      "/var/folders/xx/46bbfzhs77j5z84b92fz834w0000gn/T/ipykernel_8896/3658594269.py:54: FutureWarning: Series.__getitem__ treating keys as positions is deprecated. In a future version, integer keys will always be treated as labels (consistent with DataFrame behavior). To access a value by position, use `ser.iloc[pos]`\n",
      "  use_col_names.update({col_names[l]:l})\n",
      "/var/folders/xx/46bbfzhs77j5z84b92fz834w0000gn/T/ipykernel_8896/3658594269.py:54: FutureWarning: Series.__getitem__ treating keys as positions is deprecated. In a future version, integer keys will always be treated as labels (consistent with DataFrame behavior). To access a value by position, use `ser.iloc[pos]`\n",
      "  use_col_names.update({col_names[l]:l})\n"
     ]
    },
    {
     "name": "stdout",
     "output_type": "stream",
     "text": [
      "71\n"
     ]
    },
    {
     "name": "stderr",
     "output_type": "stream",
     "text": [
      "/var/folders/xx/46bbfzhs77j5z84b92fz834w0000gn/T/ipykernel_8896/3658594269.py:54: FutureWarning: Series.__getitem__ treating keys as positions is deprecated. In a future version, integer keys will always be treated as labels (consistent with DataFrame behavior). To access a value by position, use `ser.iloc[pos]`\n",
      "  use_col_names.update({col_names[l]:l})\n",
      "/var/folders/xx/46bbfzhs77j5z84b92fz834w0000gn/T/ipykernel_8896/3658594269.py:54: FutureWarning: Series.__getitem__ treating keys as positions is deprecated. In a future version, integer keys will always be treated as labels (consistent with DataFrame behavior). To access a value by position, use `ser.iloc[pos]`\n",
      "  use_col_names.update({col_names[l]:l})\n",
      "/var/folders/xx/46bbfzhs77j5z84b92fz834w0000gn/T/ipykernel_8896/3658594269.py:54: FutureWarning: Series.__getitem__ treating keys as positions is deprecated. In a future version, integer keys will always be treated as labels (consistent with DataFrame behavior). To access a value by position, use `ser.iloc[pos]`\n",
      "  use_col_names.update({col_names[l]:l})\n",
      "/var/folders/xx/46bbfzhs77j5z84b92fz834w0000gn/T/ipykernel_8896/3658594269.py:54: FutureWarning: Series.__getitem__ treating keys as positions is deprecated. In a future version, integer keys will always be treated as labels (consistent with DataFrame behavior). To access a value by position, use `ser.iloc[pos]`\n",
      "  use_col_names.update({col_names[l]:l})\n"
     ]
    },
    {
     "name": "stdout",
     "output_type": "stream",
     "text": [
      "72\n"
     ]
    },
    {
     "name": "stderr",
     "output_type": "stream",
     "text": [
      "/var/folders/xx/46bbfzhs77j5z84b92fz834w0000gn/T/ipykernel_8896/3658594269.py:54: FutureWarning: Series.__getitem__ treating keys as positions is deprecated. In a future version, integer keys will always be treated as labels (consistent with DataFrame behavior). To access a value by position, use `ser.iloc[pos]`\n",
      "  use_col_names.update({col_names[l]:l})\n",
      "/var/folders/xx/46bbfzhs77j5z84b92fz834w0000gn/T/ipykernel_8896/3658594269.py:54: FutureWarning: Series.__getitem__ treating keys as positions is deprecated. In a future version, integer keys will always be treated as labels (consistent with DataFrame behavior). To access a value by position, use `ser.iloc[pos]`\n",
      "  use_col_names.update({col_names[l]:l})\n",
      "/var/folders/xx/46bbfzhs77j5z84b92fz834w0000gn/T/ipykernel_8896/3658594269.py:54: FutureWarning: Series.__getitem__ treating keys as positions is deprecated. In a future version, integer keys will always be treated as labels (consistent with DataFrame behavior). To access a value by position, use `ser.iloc[pos]`\n",
      "  use_col_names.update({col_names[l]:l})\n",
      "/var/folders/xx/46bbfzhs77j5z84b92fz834w0000gn/T/ipykernel_8896/3658594269.py:54: FutureWarning: Series.__getitem__ treating keys as positions is deprecated. In a future version, integer keys will always be treated as labels (consistent with DataFrame behavior). To access a value by position, use `ser.iloc[pos]`\n",
      "  use_col_names.update({col_names[l]:l})\n"
     ]
    },
    {
     "name": "stdout",
     "output_type": "stream",
     "text": [
      "73\n"
     ]
    },
    {
     "name": "stderr",
     "output_type": "stream",
     "text": [
      "/var/folders/xx/46bbfzhs77j5z84b92fz834w0000gn/T/ipykernel_8896/3658594269.py:54: FutureWarning: Series.__getitem__ treating keys as positions is deprecated. In a future version, integer keys will always be treated as labels (consistent with DataFrame behavior). To access a value by position, use `ser.iloc[pos]`\n",
      "  use_col_names.update({col_names[l]:l})\n",
      "/var/folders/xx/46bbfzhs77j5z84b92fz834w0000gn/T/ipykernel_8896/3658594269.py:54: FutureWarning: Series.__getitem__ treating keys as positions is deprecated. In a future version, integer keys will always be treated as labels (consistent with DataFrame behavior). To access a value by position, use `ser.iloc[pos]`\n",
      "  use_col_names.update({col_names[l]:l})\n",
      "/var/folders/xx/46bbfzhs77j5z84b92fz834w0000gn/T/ipykernel_8896/3658594269.py:54: FutureWarning: Series.__getitem__ treating keys as positions is deprecated. In a future version, integer keys will always be treated as labels (consistent with DataFrame behavior). To access a value by position, use `ser.iloc[pos]`\n",
      "  use_col_names.update({col_names[l]:l})\n",
      "/var/folders/xx/46bbfzhs77j5z84b92fz834w0000gn/T/ipykernel_8896/3658594269.py:54: FutureWarning: Series.__getitem__ treating keys as positions is deprecated. In a future version, integer keys will always be treated as labels (consistent with DataFrame behavior). To access a value by position, use `ser.iloc[pos]`\n",
      "  use_col_names.update({col_names[l]:l})\n"
     ]
    },
    {
     "name": "stdout",
     "output_type": "stream",
     "text": [
      "74\n"
     ]
    },
    {
     "name": "stderr",
     "output_type": "stream",
     "text": [
      "/var/folders/xx/46bbfzhs77j5z84b92fz834w0000gn/T/ipykernel_8896/3658594269.py:54: FutureWarning: Series.__getitem__ treating keys as positions is deprecated. In a future version, integer keys will always be treated as labels (consistent with DataFrame behavior). To access a value by position, use `ser.iloc[pos]`\n",
      "  use_col_names.update({col_names[l]:l})\n",
      "/var/folders/xx/46bbfzhs77j5z84b92fz834w0000gn/T/ipykernel_8896/3658594269.py:54: FutureWarning: Series.__getitem__ treating keys as positions is deprecated. In a future version, integer keys will always be treated as labels (consistent with DataFrame behavior). To access a value by position, use `ser.iloc[pos]`\n",
      "  use_col_names.update({col_names[l]:l})\n",
      "/var/folders/xx/46bbfzhs77j5z84b92fz834w0000gn/T/ipykernel_8896/3658594269.py:54: FutureWarning: Series.__getitem__ treating keys as positions is deprecated. In a future version, integer keys will always be treated as labels (consistent with DataFrame behavior). To access a value by position, use `ser.iloc[pos]`\n",
      "  use_col_names.update({col_names[l]:l})\n",
      "/var/folders/xx/46bbfzhs77j5z84b92fz834w0000gn/T/ipykernel_8896/3658594269.py:54: FutureWarning: Series.__getitem__ treating keys as positions is deprecated. In a future version, integer keys will always be treated as labels (consistent with DataFrame behavior). To access a value by position, use `ser.iloc[pos]`\n",
      "  use_col_names.update({col_names[l]:l})\n"
     ]
    },
    {
     "name": "stdout",
     "output_type": "stream",
     "text": [
      "75\n"
     ]
    },
    {
     "name": "stderr",
     "output_type": "stream",
     "text": [
      "/var/folders/xx/46bbfzhs77j5z84b92fz834w0000gn/T/ipykernel_8896/3658594269.py:54: FutureWarning: Series.__getitem__ treating keys as positions is deprecated. In a future version, integer keys will always be treated as labels (consistent with DataFrame behavior). To access a value by position, use `ser.iloc[pos]`\n",
      "  use_col_names.update({col_names[l]:l})\n",
      "/var/folders/xx/46bbfzhs77j5z84b92fz834w0000gn/T/ipykernel_8896/3658594269.py:54: FutureWarning: Series.__getitem__ treating keys as positions is deprecated. In a future version, integer keys will always be treated as labels (consistent with DataFrame behavior). To access a value by position, use `ser.iloc[pos]`\n",
      "  use_col_names.update({col_names[l]:l})\n",
      "/var/folders/xx/46bbfzhs77j5z84b92fz834w0000gn/T/ipykernel_8896/3658594269.py:54: FutureWarning: Series.__getitem__ treating keys as positions is deprecated. In a future version, integer keys will always be treated as labels (consistent with DataFrame behavior). To access a value by position, use `ser.iloc[pos]`\n",
      "  use_col_names.update({col_names[l]:l})\n",
      "/var/folders/xx/46bbfzhs77j5z84b92fz834w0000gn/T/ipykernel_8896/3658594269.py:54: FutureWarning: Series.__getitem__ treating keys as positions is deprecated. In a future version, integer keys will always be treated as labels (consistent with DataFrame behavior). To access a value by position, use `ser.iloc[pos]`\n",
      "  use_col_names.update({col_names[l]:l})\n"
     ]
    },
    {
     "name": "stdout",
     "output_type": "stream",
     "text": [
      "76\n"
     ]
    },
    {
     "name": "stderr",
     "output_type": "stream",
     "text": [
      "/var/folders/xx/46bbfzhs77j5z84b92fz834w0000gn/T/ipykernel_8896/3658594269.py:54: FutureWarning: Series.__getitem__ treating keys as positions is deprecated. In a future version, integer keys will always be treated as labels (consistent with DataFrame behavior). To access a value by position, use `ser.iloc[pos]`\n",
      "  use_col_names.update({col_names[l]:l})\n",
      "/var/folders/xx/46bbfzhs77j5z84b92fz834w0000gn/T/ipykernel_8896/3658594269.py:54: FutureWarning: Series.__getitem__ treating keys as positions is deprecated. In a future version, integer keys will always be treated as labels (consistent with DataFrame behavior). To access a value by position, use `ser.iloc[pos]`\n",
      "  use_col_names.update({col_names[l]:l})\n",
      "/var/folders/xx/46bbfzhs77j5z84b92fz834w0000gn/T/ipykernel_8896/3658594269.py:54: FutureWarning: Series.__getitem__ treating keys as positions is deprecated. In a future version, integer keys will always be treated as labels (consistent with DataFrame behavior). To access a value by position, use `ser.iloc[pos]`\n",
      "  use_col_names.update({col_names[l]:l})\n",
      "/var/folders/xx/46bbfzhs77j5z84b92fz834w0000gn/T/ipykernel_8896/3658594269.py:54: FutureWarning: Series.__getitem__ treating keys as positions is deprecated. In a future version, integer keys will always be treated as labels (consistent with DataFrame behavior). To access a value by position, use `ser.iloc[pos]`\n",
      "  use_col_names.update({col_names[l]:l})\n"
     ]
    },
    {
     "name": "stdout",
     "output_type": "stream",
     "text": [
      "77\n"
     ]
    },
    {
     "name": "stderr",
     "output_type": "stream",
     "text": [
      "/var/folders/xx/46bbfzhs77j5z84b92fz834w0000gn/T/ipykernel_8896/3658594269.py:54: FutureWarning: Series.__getitem__ treating keys as positions is deprecated. In a future version, integer keys will always be treated as labels (consistent with DataFrame behavior). To access a value by position, use `ser.iloc[pos]`\n",
      "  use_col_names.update({col_names[l]:l})\n",
      "/var/folders/xx/46bbfzhs77j5z84b92fz834w0000gn/T/ipykernel_8896/3658594269.py:54: FutureWarning: Series.__getitem__ treating keys as positions is deprecated. In a future version, integer keys will always be treated as labels (consistent with DataFrame behavior). To access a value by position, use `ser.iloc[pos]`\n",
      "  use_col_names.update({col_names[l]:l})\n",
      "/var/folders/xx/46bbfzhs77j5z84b92fz834w0000gn/T/ipykernel_8896/3658594269.py:54: FutureWarning: Series.__getitem__ treating keys as positions is deprecated. In a future version, integer keys will always be treated as labels (consistent with DataFrame behavior). To access a value by position, use `ser.iloc[pos]`\n",
      "  use_col_names.update({col_names[l]:l})\n",
      "/var/folders/xx/46bbfzhs77j5z84b92fz834w0000gn/T/ipykernel_8896/3658594269.py:54: FutureWarning: Series.__getitem__ treating keys as positions is deprecated. In a future version, integer keys will always be treated as labels (consistent with DataFrame behavior). To access a value by position, use `ser.iloc[pos]`\n",
      "  use_col_names.update({col_names[l]:l})\n"
     ]
    },
    {
     "name": "stdout",
     "output_type": "stream",
     "text": [
      "78\n"
     ]
    },
    {
     "name": "stderr",
     "output_type": "stream",
     "text": [
      "/var/folders/xx/46bbfzhs77j5z84b92fz834w0000gn/T/ipykernel_8896/3658594269.py:54: FutureWarning: Series.__getitem__ treating keys as positions is deprecated. In a future version, integer keys will always be treated as labels (consistent with DataFrame behavior). To access a value by position, use `ser.iloc[pos]`\n",
      "  use_col_names.update({col_names[l]:l})\n",
      "/var/folders/xx/46bbfzhs77j5z84b92fz834w0000gn/T/ipykernel_8896/3658594269.py:54: FutureWarning: Series.__getitem__ treating keys as positions is deprecated. In a future version, integer keys will always be treated as labels (consistent with DataFrame behavior). To access a value by position, use `ser.iloc[pos]`\n",
      "  use_col_names.update({col_names[l]:l})\n",
      "/var/folders/xx/46bbfzhs77j5z84b92fz834w0000gn/T/ipykernel_8896/3658594269.py:54: FutureWarning: Series.__getitem__ treating keys as positions is deprecated. In a future version, integer keys will always be treated as labels (consistent with DataFrame behavior). To access a value by position, use `ser.iloc[pos]`\n",
      "  use_col_names.update({col_names[l]:l})\n",
      "/var/folders/xx/46bbfzhs77j5z84b92fz834w0000gn/T/ipykernel_8896/3658594269.py:54: FutureWarning: Series.__getitem__ treating keys as positions is deprecated. In a future version, integer keys will always be treated as labels (consistent with DataFrame behavior). To access a value by position, use `ser.iloc[pos]`\n",
      "  use_col_names.update({col_names[l]:l})\n"
     ]
    },
    {
     "name": "stdout",
     "output_type": "stream",
     "text": [
      "79\n"
     ]
    },
    {
     "name": "stderr",
     "output_type": "stream",
     "text": [
      "/var/folders/xx/46bbfzhs77j5z84b92fz834w0000gn/T/ipykernel_8896/3658594269.py:54: FutureWarning: Series.__getitem__ treating keys as positions is deprecated. In a future version, integer keys will always be treated as labels (consistent with DataFrame behavior). To access a value by position, use `ser.iloc[pos]`\n",
      "  use_col_names.update({col_names[l]:l})\n",
      "/var/folders/xx/46bbfzhs77j5z84b92fz834w0000gn/T/ipykernel_8896/3658594269.py:54: FutureWarning: Series.__getitem__ treating keys as positions is deprecated. In a future version, integer keys will always be treated as labels (consistent with DataFrame behavior). To access a value by position, use `ser.iloc[pos]`\n",
      "  use_col_names.update({col_names[l]:l})\n",
      "/var/folders/xx/46bbfzhs77j5z84b92fz834w0000gn/T/ipykernel_8896/3658594269.py:54: FutureWarning: Series.__getitem__ treating keys as positions is deprecated. In a future version, integer keys will always be treated as labels (consistent with DataFrame behavior). To access a value by position, use `ser.iloc[pos]`\n",
      "  use_col_names.update({col_names[l]:l})\n",
      "/var/folders/xx/46bbfzhs77j5z84b92fz834w0000gn/T/ipykernel_8896/3658594269.py:54: FutureWarning: Series.__getitem__ treating keys as positions is deprecated. In a future version, integer keys will always be treated as labels (consistent with DataFrame behavior). To access a value by position, use `ser.iloc[pos]`\n",
      "  use_col_names.update({col_names[l]:l})\n"
     ]
    },
    {
     "name": "stdout",
     "output_type": "stream",
     "text": [
      "80\n"
     ]
    },
    {
     "name": "stderr",
     "output_type": "stream",
     "text": [
      "/var/folders/xx/46bbfzhs77j5z84b92fz834w0000gn/T/ipykernel_8896/3658594269.py:54: FutureWarning: Series.__getitem__ treating keys as positions is deprecated. In a future version, integer keys will always be treated as labels (consistent with DataFrame behavior). To access a value by position, use `ser.iloc[pos]`\n",
      "  use_col_names.update({col_names[l]:l})\n",
      "/var/folders/xx/46bbfzhs77j5z84b92fz834w0000gn/T/ipykernel_8896/3658594269.py:54: FutureWarning: Series.__getitem__ treating keys as positions is deprecated. In a future version, integer keys will always be treated as labels (consistent with DataFrame behavior). To access a value by position, use `ser.iloc[pos]`\n",
      "  use_col_names.update({col_names[l]:l})\n",
      "/var/folders/xx/46bbfzhs77j5z84b92fz834w0000gn/T/ipykernel_8896/3658594269.py:54: FutureWarning: Series.__getitem__ treating keys as positions is deprecated. In a future version, integer keys will always be treated as labels (consistent with DataFrame behavior). To access a value by position, use `ser.iloc[pos]`\n",
      "  use_col_names.update({col_names[l]:l})\n",
      "/var/folders/xx/46bbfzhs77j5z84b92fz834w0000gn/T/ipykernel_8896/3658594269.py:54: FutureWarning: Series.__getitem__ treating keys as positions is deprecated. In a future version, integer keys will always be treated as labels (consistent with DataFrame behavior). To access a value by position, use `ser.iloc[pos]`\n",
      "  use_col_names.update({col_names[l]:l})\n",
      "/var/folders/xx/46bbfzhs77j5z84b92fz834w0000gn/T/ipykernel_8896/3658594269.py:54: FutureWarning: Series.__getitem__ treating keys as positions is deprecated. In a future version, integer keys will always be treated as labels (consistent with DataFrame behavior). To access a value by position, use `ser.iloc[pos]`\n",
      "  use_col_names.update({col_names[l]:l})\n"
     ]
    },
    {
     "name": "stdout",
     "output_type": "stream",
     "text": [
      "81\n"
     ]
    },
    {
     "name": "stderr",
     "output_type": "stream",
     "text": [
      "/var/folders/xx/46bbfzhs77j5z84b92fz834w0000gn/T/ipykernel_8896/3658594269.py:54: FutureWarning: Series.__getitem__ treating keys as positions is deprecated. In a future version, integer keys will always be treated as labels (consistent with DataFrame behavior). To access a value by position, use `ser.iloc[pos]`\n",
      "  use_col_names.update({col_names[l]:l})\n",
      "/var/folders/xx/46bbfzhs77j5z84b92fz834w0000gn/T/ipykernel_8896/3658594269.py:54: FutureWarning: Series.__getitem__ treating keys as positions is deprecated. In a future version, integer keys will always be treated as labels (consistent with DataFrame behavior). To access a value by position, use `ser.iloc[pos]`\n",
      "  use_col_names.update({col_names[l]:l})\n",
      "/var/folders/xx/46bbfzhs77j5z84b92fz834w0000gn/T/ipykernel_8896/3658594269.py:54: FutureWarning: Series.__getitem__ treating keys as positions is deprecated. In a future version, integer keys will always be treated as labels (consistent with DataFrame behavior). To access a value by position, use `ser.iloc[pos]`\n",
      "  use_col_names.update({col_names[l]:l})\n",
      "/var/folders/xx/46bbfzhs77j5z84b92fz834w0000gn/T/ipykernel_8896/3658594269.py:54: FutureWarning: Series.__getitem__ treating keys as positions is deprecated. In a future version, integer keys will always be treated as labels (consistent with DataFrame behavior). To access a value by position, use `ser.iloc[pos]`\n",
      "  use_col_names.update({col_names[l]:l})\n"
     ]
    },
    {
     "name": "stdout",
     "output_type": "stream",
     "text": [
      "82\n"
     ]
    },
    {
     "name": "stderr",
     "output_type": "stream",
     "text": [
      "/var/folders/xx/46bbfzhs77j5z84b92fz834w0000gn/T/ipykernel_8896/3658594269.py:54: FutureWarning: Series.__getitem__ treating keys as positions is deprecated. In a future version, integer keys will always be treated as labels (consistent with DataFrame behavior). To access a value by position, use `ser.iloc[pos]`\n",
      "  use_col_names.update({col_names[l]:l})\n",
      "/var/folders/xx/46bbfzhs77j5z84b92fz834w0000gn/T/ipykernel_8896/3658594269.py:54: FutureWarning: Series.__getitem__ treating keys as positions is deprecated. In a future version, integer keys will always be treated as labels (consistent with DataFrame behavior). To access a value by position, use `ser.iloc[pos]`\n",
      "  use_col_names.update({col_names[l]:l})\n",
      "/var/folders/xx/46bbfzhs77j5z84b92fz834w0000gn/T/ipykernel_8896/3658594269.py:54: FutureWarning: Series.__getitem__ treating keys as positions is deprecated. In a future version, integer keys will always be treated as labels (consistent with DataFrame behavior). To access a value by position, use `ser.iloc[pos]`\n",
      "  use_col_names.update({col_names[l]:l})\n"
     ]
    },
    {
     "name": "stdout",
     "output_type": "stream",
     "text": [
      "83\n"
     ]
    },
    {
     "name": "stderr",
     "output_type": "stream",
     "text": [
      "/var/folders/xx/46bbfzhs77j5z84b92fz834w0000gn/T/ipykernel_8896/3658594269.py:54: FutureWarning: Series.__getitem__ treating keys as positions is deprecated. In a future version, integer keys will always be treated as labels (consistent with DataFrame behavior). To access a value by position, use `ser.iloc[pos]`\n",
      "  use_col_names.update({col_names[l]:l})\n",
      "/var/folders/xx/46bbfzhs77j5z84b92fz834w0000gn/T/ipykernel_8896/3658594269.py:54: FutureWarning: Series.__getitem__ treating keys as positions is deprecated. In a future version, integer keys will always be treated as labels (consistent with DataFrame behavior). To access a value by position, use `ser.iloc[pos]`\n",
      "  use_col_names.update({col_names[l]:l})\n",
      "/var/folders/xx/46bbfzhs77j5z84b92fz834w0000gn/T/ipykernel_8896/3658594269.py:54: FutureWarning: Series.__getitem__ treating keys as positions is deprecated. In a future version, integer keys will always be treated as labels (consistent with DataFrame behavior). To access a value by position, use `ser.iloc[pos]`\n",
      "  use_col_names.update({col_names[l]:l})\n",
      "/var/folders/xx/46bbfzhs77j5z84b92fz834w0000gn/T/ipykernel_8896/3658594269.py:54: FutureWarning: Series.__getitem__ treating keys as positions is deprecated. In a future version, integer keys will always be treated as labels (consistent with DataFrame behavior). To access a value by position, use `ser.iloc[pos]`\n",
      "  use_col_names.update({col_names[l]:l})\n"
     ]
    },
    {
     "name": "stdout",
     "output_type": "stream",
     "text": [
      "84\n"
     ]
    },
    {
     "name": "stderr",
     "output_type": "stream",
     "text": [
      "/var/folders/xx/46bbfzhs77j5z84b92fz834w0000gn/T/ipykernel_8896/3658594269.py:54: FutureWarning: Series.__getitem__ treating keys as positions is deprecated. In a future version, integer keys will always be treated as labels (consistent with DataFrame behavior). To access a value by position, use `ser.iloc[pos]`\n",
      "  use_col_names.update({col_names[l]:l})\n",
      "/var/folders/xx/46bbfzhs77j5z84b92fz834w0000gn/T/ipykernel_8896/3658594269.py:54: FutureWarning: Series.__getitem__ treating keys as positions is deprecated. In a future version, integer keys will always be treated as labels (consistent with DataFrame behavior). To access a value by position, use `ser.iloc[pos]`\n",
      "  use_col_names.update({col_names[l]:l})\n",
      "/var/folders/xx/46bbfzhs77j5z84b92fz834w0000gn/T/ipykernel_8896/3658594269.py:54: FutureWarning: Series.__getitem__ treating keys as positions is deprecated. In a future version, integer keys will always be treated as labels (consistent with DataFrame behavior). To access a value by position, use `ser.iloc[pos]`\n",
      "  use_col_names.update({col_names[l]:l})\n",
      "/var/folders/xx/46bbfzhs77j5z84b92fz834w0000gn/T/ipykernel_8896/3658594269.py:54: FutureWarning: Series.__getitem__ treating keys as positions is deprecated. In a future version, integer keys will always be treated as labels (consistent with DataFrame behavior). To access a value by position, use `ser.iloc[pos]`\n",
      "  use_col_names.update({col_names[l]:l})\n",
      "/var/folders/xx/46bbfzhs77j5z84b92fz834w0000gn/T/ipykernel_8896/3658594269.py:54: FutureWarning: Series.__getitem__ treating keys as positions is deprecated. In a future version, integer keys will always be treated as labels (consistent with DataFrame behavior). To access a value by position, use `ser.iloc[pos]`\n",
      "  use_col_names.update({col_names[l]:l})\n"
     ]
    },
    {
     "name": "stdout",
     "output_type": "stream",
     "text": [
      "85\n"
     ]
    },
    {
     "name": "stderr",
     "output_type": "stream",
     "text": [
      "/var/folders/xx/46bbfzhs77j5z84b92fz834w0000gn/T/ipykernel_8896/3658594269.py:54: FutureWarning: Series.__getitem__ treating keys as positions is deprecated. In a future version, integer keys will always be treated as labels (consistent with DataFrame behavior). To access a value by position, use `ser.iloc[pos]`\n",
      "  use_col_names.update({col_names[l]:l})\n",
      "/var/folders/xx/46bbfzhs77j5z84b92fz834w0000gn/T/ipykernel_8896/3658594269.py:54: FutureWarning: Series.__getitem__ treating keys as positions is deprecated. In a future version, integer keys will always be treated as labels (consistent with DataFrame behavior). To access a value by position, use `ser.iloc[pos]`\n",
      "  use_col_names.update({col_names[l]:l})\n",
      "/var/folders/xx/46bbfzhs77j5z84b92fz834w0000gn/T/ipykernel_8896/3658594269.py:54: FutureWarning: Series.__getitem__ treating keys as positions is deprecated. In a future version, integer keys will always be treated as labels (consistent with DataFrame behavior). To access a value by position, use `ser.iloc[pos]`\n",
      "  use_col_names.update({col_names[l]:l})\n"
     ]
    },
    {
     "name": "stdout",
     "output_type": "stream",
     "text": [
      "86\n"
     ]
    },
    {
     "name": "stderr",
     "output_type": "stream",
     "text": [
      "/var/folders/xx/46bbfzhs77j5z84b92fz834w0000gn/T/ipykernel_8896/3658594269.py:54: FutureWarning: Series.__getitem__ treating keys as positions is deprecated. In a future version, integer keys will always be treated as labels (consistent with DataFrame behavior). To access a value by position, use `ser.iloc[pos]`\n",
      "  use_col_names.update({col_names[l]:l})\n",
      "/var/folders/xx/46bbfzhs77j5z84b92fz834w0000gn/T/ipykernel_8896/3658594269.py:54: FutureWarning: Series.__getitem__ treating keys as positions is deprecated. In a future version, integer keys will always be treated as labels (consistent with DataFrame behavior). To access a value by position, use `ser.iloc[pos]`\n",
      "  use_col_names.update({col_names[l]:l})\n",
      "/var/folders/xx/46bbfzhs77j5z84b92fz834w0000gn/T/ipykernel_8896/3658594269.py:54: FutureWarning: Series.__getitem__ treating keys as positions is deprecated. In a future version, integer keys will always be treated as labels (consistent with DataFrame behavior). To access a value by position, use `ser.iloc[pos]`\n",
      "  use_col_names.update({col_names[l]:l})\n",
      "/var/folders/xx/46bbfzhs77j5z84b92fz834w0000gn/T/ipykernel_8896/3658594269.py:54: FutureWarning: Series.__getitem__ treating keys as positions is deprecated. In a future version, integer keys will always be treated as labels (consistent with DataFrame behavior). To access a value by position, use `ser.iloc[pos]`\n",
      "  use_col_names.update({col_names[l]:l})\n",
      "/var/folders/xx/46bbfzhs77j5z84b92fz834w0000gn/T/ipykernel_8896/3658594269.py:54: FutureWarning: Series.__getitem__ treating keys as positions is deprecated. In a future version, integer keys will always be treated as labels (consistent with DataFrame behavior). To access a value by position, use `ser.iloc[pos]`\n",
      "  use_col_names.update({col_names[l]:l})\n"
     ]
    },
    {
     "name": "stdout",
     "output_type": "stream",
     "text": [
      "87\n"
     ]
    },
    {
     "name": "stderr",
     "output_type": "stream",
     "text": [
      "/var/folders/xx/46bbfzhs77j5z84b92fz834w0000gn/T/ipykernel_8896/3658594269.py:54: FutureWarning: Series.__getitem__ treating keys as positions is deprecated. In a future version, integer keys will always be treated as labels (consistent with DataFrame behavior). To access a value by position, use `ser.iloc[pos]`\n",
      "  use_col_names.update({col_names[l]:l})\n",
      "/var/folders/xx/46bbfzhs77j5z84b92fz834w0000gn/T/ipykernel_8896/3658594269.py:54: FutureWarning: Series.__getitem__ treating keys as positions is deprecated. In a future version, integer keys will always be treated as labels (consistent with DataFrame behavior). To access a value by position, use `ser.iloc[pos]`\n",
      "  use_col_names.update({col_names[l]:l})\n",
      "/var/folders/xx/46bbfzhs77j5z84b92fz834w0000gn/T/ipykernel_8896/3658594269.py:54: FutureWarning: Series.__getitem__ treating keys as positions is deprecated. In a future version, integer keys will always be treated as labels (consistent with DataFrame behavior). To access a value by position, use `ser.iloc[pos]`\n",
      "  use_col_names.update({col_names[l]:l})\n"
     ]
    },
    {
     "name": "stdout",
     "output_type": "stream",
     "text": [
      "88\n"
     ]
    },
    {
     "name": "stderr",
     "output_type": "stream",
     "text": [
      "/var/folders/xx/46bbfzhs77j5z84b92fz834w0000gn/T/ipykernel_8896/3658594269.py:54: FutureWarning: Series.__getitem__ treating keys as positions is deprecated. In a future version, integer keys will always be treated as labels (consistent with DataFrame behavior). To access a value by position, use `ser.iloc[pos]`\n",
      "  use_col_names.update({col_names[l]:l})\n",
      "/var/folders/xx/46bbfzhs77j5z84b92fz834w0000gn/T/ipykernel_8896/3658594269.py:54: FutureWarning: Series.__getitem__ treating keys as positions is deprecated. In a future version, integer keys will always be treated as labels (consistent with DataFrame behavior). To access a value by position, use `ser.iloc[pos]`\n",
      "  use_col_names.update({col_names[l]:l})\n",
      "/var/folders/xx/46bbfzhs77j5z84b92fz834w0000gn/T/ipykernel_8896/3658594269.py:54: FutureWarning: Series.__getitem__ treating keys as positions is deprecated. In a future version, integer keys will always be treated as labels (consistent with DataFrame behavior). To access a value by position, use `ser.iloc[pos]`\n",
      "  use_col_names.update({col_names[l]:l})\n",
      "/var/folders/xx/46bbfzhs77j5z84b92fz834w0000gn/T/ipykernel_8896/3658594269.py:54: FutureWarning: Series.__getitem__ treating keys as positions is deprecated. In a future version, integer keys will always be treated as labels (consistent with DataFrame behavior). To access a value by position, use `ser.iloc[pos]`\n",
      "  use_col_names.update({col_names[l]:l})\n"
     ]
    },
    {
     "name": "stdout",
     "output_type": "stream",
     "text": [
      "89\n"
     ]
    },
    {
     "name": "stderr",
     "output_type": "stream",
     "text": [
      "/var/folders/xx/46bbfzhs77j5z84b92fz834w0000gn/T/ipykernel_8896/3658594269.py:54: FutureWarning: Series.__getitem__ treating keys as positions is deprecated. In a future version, integer keys will always be treated as labels (consistent with DataFrame behavior). To access a value by position, use `ser.iloc[pos]`\n",
      "  use_col_names.update({col_names[l]:l})\n",
      "/var/folders/xx/46bbfzhs77j5z84b92fz834w0000gn/T/ipykernel_8896/3658594269.py:54: FutureWarning: Series.__getitem__ treating keys as positions is deprecated. In a future version, integer keys will always be treated as labels (consistent with DataFrame behavior). To access a value by position, use `ser.iloc[pos]`\n",
      "  use_col_names.update({col_names[l]:l})\n",
      "/var/folders/xx/46bbfzhs77j5z84b92fz834w0000gn/T/ipykernel_8896/3658594269.py:54: FutureWarning: Series.__getitem__ treating keys as positions is deprecated. In a future version, integer keys will always be treated as labels (consistent with DataFrame behavior). To access a value by position, use `ser.iloc[pos]`\n",
      "  use_col_names.update({col_names[l]:l})\n",
      "/var/folders/xx/46bbfzhs77j5z84b92fz834w0000gn/T/ipykernel_8896/3658594269.py:54: FutureWarning: Series.__getitem__ treating keys as positions is deprecated. In a future version, integer keys will always be treated as labels (consistent with DataFrame behavior). To access a value by position, use `ser.iloc[pos]`\n",
      "  use_col_names.update({col_names[l]:l})\n",
      "/var/folders/xx/46bbfzhs77j5z84b92fz834w0000gn/T/ipykernel_8896/3658594269.py:54: FutureWarning: Series.__getitem__ treating keys as positions is deprecated. In a future version, integer keys will always be treated as labels (consistent with DataFrame behavior). To access a value by position, use `ser.iloc[pos]`\n",
      "  use_col_names.update({col_names[l]:l})\n"
     ]
    },
    {
     "name": "stdout",
     "output_type": "stream",
     "text": [
      "90\n"
     ]
    },
    {
     "name": "stderr",
     "output_type": "stream",
     "text": [
      "/var/folders/xx/46bbfzhs77j5z84b92fz834w0000gn/T/ipykernel_8896/3658594269.py:54: FutureWarning: Series.__getitem__ treating keys as positions is deprecated. In a future version, integer keys will always be treated as labels (consistent with DataFrame behavior). To access a value by position, use `ser.iloc[pos]`\n",
      "  use_col_names.update({col_names[l]:l})\n",
      "/var/folders/xx/46bbfzhs77j5z84b92fz834w0000gn/T/ipykernel_8896/3658594269.py:54: FutureWarning: Series.__getitem__ treating keys as positions is deprecated. In a future version, integer keys will always be treated as labels (consistent with DataFrame behavior). To access a value by position, use `ser.iloc[pos]`\n",
      "  use_col_names.update({col_names[l]:l})\n",
      "/var/folders/xx/46bbfzhs77j5z84b92fz834w0000gn/T/ipykernel_8896/3658594269.py:54: FutureWarning: Series.__getitem__ treating keys as positions is deprecated. In a future version, integer keys will always be treated as labels (consistent with DataFrame behavior). To access a value by position, use `ser.iloc[pos]`\n",
      "  use_col_names.update({col_names[l]:l})\n"
     ]
    },
    {
     "name": "stdout",
     "output_type": "stream",
     "text": [
      "91\n"
     ]
    },
    {
     "name": "stderr",
     "output_type": "stream",
     "text": [
      "/var/folders/xx/46bbfzhs77j5z84b92fz834w0000gn/T/ipykernel_8896/3658594269.py:54: FutureWarning: Series.__getitem__ treating keys as positions is deprecated. In a future version, integer keys will always be treated as labels (consistent with DataFrame behavior). To access a value by position, use `ser.iloc[pos]`\n",
      "  use_col_names.update({col_names[l]:l})\n",
      "/var/folders/xx/46bbfzhs77j5z84b92fz834w0000gn/T/ipykernel_8896/3658594269.py:54: FutureWarning: Series.__getitem__ treating keys as positions is deprecated. In a future version, integer keys will always be treated as labels (consistent with DataFrame behavior). To access a value by position, use `ser.iloc[pos]`\n",
      "  use_col_names.update({col_names[l]:l})\n",
      "/var/folders/xx/46bbfzhs77j5z84b92fz834w0000gn/T/ipykernel_8896/3658594269.py:54: FutureWarning: Series.__getitem__ treating keys as positions is deprecated. In a future version, integer keys will always be treated as labels (consistent with DataFrame behavior). To access a value by position, use `ser.iloc[pos]`\n",
      "  use_col_names.update({col_names[l]:l})\n",
      "/var/folders/xx/46bbfzhs77j5z84b92fz834w0000gn/T/ipykernel_8896/3658594269.py:54: FutureWarning: Series.__getitem__ treating keys as positions is deprecated. In a future version, integer keys will always be treated as labels (consistent with DataFrame behavior). To access a value by position, use `ser.iloc[pos]`\n",
      "  use_col_names.update({col_names[l]:l})\n"
     ]
    },
    {
     "name": "stdout",
     "output_type": "stream",
     "text": [
      "92\n"
     ]
    },
    {
     "name": "stderr",
     "output_type": "stream",
     "text": [
      "/var/folders/xx/46bbfzhs77j5z84b92fz834w0000gn/T/ipykernel_8896/3658594269.py:54: FutureWarning: Series.__getitem__ treating keys as positions is deprecated. In a future version, integer keys will always be treated as labels (consistent with DataFrame behavior). To access a value by position, use `ser.iloc[pos]`\n",
      "  use_col_names.update({col_names[l]:l})\n",
      "/var/folders/xx/46bbfzhs77j5z84b92fz834w0000gn/T/ipykernel_8896/3658594269.py:54: FutureWarning: Series.__getitem__ treating keys as positions is deprecated. In a future version, integer keys will always be treated as labels (consistent with DataFrame behavior). To access a value by position, use `ser.iloc[pos]`\n",
      "  use_col_names.update({col_names[l]:l})\n",
      "/var/folders/xx/46bbfzhs77j5z84b92fz834w0000gn/T/ipykernel_8896/3658594269.py:54: FutureWarning: Series.__getitem__ treating keys as positions is deprecated. In a future version, integer keys will always be treated as labels (consistent with DataFrame behavior). To access a value by position, use `ser.iloc[pos]`\n",
      "  use_col_names.update({col_names[l]:l})\n",
      "/var/folders/xx/46bbfzhs77j5z84b92fz834w0000gn/T/ipykernel_8896/3658594269.py:54: FutureWarning: Series.__getitem__ treating keys as positions is deprecated. In a future version, integer keys will always be treated as labels (consistent with DataFrame behavior). To access a value by position, use `ser.iloc[pos]`\n",
      "  use_col_names.update({col_names[l]:l})\n",
      "/var/folders/xx/46bbfzhs77j5z84b92fz834w0000gn/T/ipykernel_8896/3658594269.py:54: FutureWarning: Series.__getitem__ treating keys as positions is deprecated. In a future version, integer keys will always be treated as labels (consistent with DataFrame behavior). To access a value by position, use `ser.iloc[pos]`\n",
      "  use_col_names.update({col_names[l]:l})\n"
     ]
    },
    {
     "name": "stdout",
     "output_type": "stream",
     "text": [
      "93\n"
     ]
    },
    {
     "name": "stderr",
     "output_type": "stream",
     "text": [
      "/var/folders/xx/46bbfzhs77j5z84b92fz834w0000gn/T/ipykernel_8896/3658594269.py:54: FutureWarning: Series.__getitem__ treating keys as positions is deprecated. In a future version, integer keys will always be treated as labels (consistent with DataFrame behavior). To access a value by position, use `ser.iloc[pos]`\n",
      "  use_col_names.update({col_names[l]:l})\n",
      "/var/folders/xx/46bbfzhs77j5z84b92fz834w0000gn/T/ipykernel_8896/3658594269.py:54: FutureWarning: Series.__getitem__ treating keys as positions is deprecated. In a future version, integer keys will always be treated as labels (consistent with DataFrame behavior). To access a value by position, use `ser.iloc[pos]`\n",
      "  use_col_names.update({col_names[l]:l})\n",
      "/var/folders/xx/46bbfzhs77j5z84b92fz834w0000gn/T/ipykernel_8896/3658594269.py:54: FutureWarning: Series.__getitem__ treating keys as positions is deprecated. In a future version, integer keys will always be treated as labels (consistent with DataFrame behavior). To access a value by position, use `ser.iloc[pos]`\n",
      "  use_col_names.update({col_names[l]:l})\n"
     ]
    },
    {
     "name": "stdout",
     "output_type": "stream",
     "text": [
      "94\n"
     ]
    },
    {
     "name": "stderr",
     "output_type": "stream",
     "text": [
      "/var/folders/xx/46bbfzhs77j5z84b92fz834w0000gn/T/ipykernel_8896/3658594269.py:54: FutureWarning: Series.__getitem__ treating keys as positions is deprecated. In a future version, integer keys will always be treated as labels (consistent with DataFrame behavior). To access a value by position, use `ser.iloc[pos]`\n",
      "  use_col_names.update({col_names[l]:l})\n",
      "/var/folders/xx/46bbfzhs77j5z84b92fz834w0000gn/T/ipykernel_8896/3658594269.py:54: FutureWarning: Series.__getitem__ treating keys as positions is deprecated. In a future version, integer keys will always be treated as labels (consistent with DataFrame behavior). To access a value by position, use `ser.iloc[pos]`\n",
      "  use_col_names.update({col_names[l]:l})\n"
     ]
    },
    {
     "name": "stdout",
     "output_type": "stream",
     "text": [
      "95\n"
     ]
    },
    {
     "name": "stderr",
     "output_type": "stream",
     "text": [
      "/var/folders/xx/46bbfzhs77j5z84b92fz834w0000gn/T/ipykernel_8896/3658594269.py:54: FutureWarning: Series.__getitem__ treating keys as positions is deprecated. In a future version, integer keys will always be treated as labels (consistent with DataFrame behavior). To access a value by position, use `ser.iloc[pos]`\n",
      "  use_col_names.update({col_names[l]:l})\n",
      "/var/folders/xx/46bbfzhs77j5z84b92fz834w0000gn/T/ipykernel_8896/3658594269.py:54: FutureWarning: Series.__getitem__ treating keys as positions is deprecated. In a future version, integer keys will always be treated as labels (consistent with DataFrame behavior). To access a value by position, use `ser.iloc[pos]`\n",
      "  use_col_names.update({col_names[l]:l})\n"
     ]
    },
    {
     "name": "stdout",
     "output_type": "stream",
     "text": [
      "96\n"
     ]
    },
    {
     "name": "stderr",
     "output_type": "stream",
     "text": [
      "/var/folders/xx/46bbfzhs77j5z84b92fz834w0000gn/T/ipykernel_8896/3658594269.py:54: FutureWarning: Series.__getitem__ treating keys as positions is deprecated. In a future version, integer keys will always be treated as labels (consistent with DataFrame behavior). To access a value by position, use `ser.iloc[pos]`\n",
      "  use_col_names.update({col_names[l]:l})\n",
      "/var/folders/xx/46bbfzhs77j5z84b92fz834w0000gn/T/ipykernel_8896/3658594269.py:54: FutureWarning: Series.__getitem__ treating keys as positions is deprecated. In a future version, integer keys will always be treated as labels (consistent with DataFrame behavior). To access a value by position, use `ser.iloc[pos]`\n",
      "  use_col_names.update({col_names[l]:l})\n"
     ]
    },
    {
     "name": "stdout",
     "output_type": "stream",
     "text": [
      "97\n"
     ]
    },
    {
     "name": "stderr",
     "output_type": "stream",
     "text": [
      "/var/folders/xx/46bbfzhs77j5z84b92fz834w0000gn/T/ipykernel_8896/3658594269.py:54: FutureWarning: Series.__getitem__ treating keys as positions is deprecated. In a future version, integer keys will always be treated as labels (consistent with DataFrame behavior). To access a value by position, use `ser.iloc[pos]`\n",
      "  use_col_names.update({col_names[l]:l})\n",
      "/var/folders/xx/46bbfzhs77j5z84b92fz834w0000gn/T/ipykernel_8896/3658594269.py:54: FutureWarning: Series.__getitem__ treating keys as positions is deprecated. In a future version, integer keys will always be treated as labels (consistent with DataFrame behavior). To access a value by position, use `ser.iloc[pos]`\n",
      "  use_col_names.update({col_names[l]:l})\n"
     ]
    },
    {
     "name": "stdout",
     "output_type": "stream",
     "text": [
      "98\n"
     ]
    },
    {
     "name": "stderr",
     "output_type": "stream",
     "text": [
      "/var/folders/xx/46bbfzhs77j5z84b92fz834w0000gn/T/ipykernel_8896/3658594269.py:54: FutureWarning: Series.__getitem__ treating keys as positions is deprecated. In a future version, integer keys will always be treated as labels (consistent with DataFrame behavior). To access a value by position, use `ser.iloc[pos]`\n",
      "  use_col_names.update({col_names[l]:l})\n",
      "/var/folders/xx/46bbfzhs77j5z84b92fz834w0000gn/T/ipykernel_8896/3658594269.py:54: FutureWarning: Series.__getitem__ treating keys as positions is deprecated. In a future version, integer keys will always be treated as labels (consistent with DataFrame behavior). To access a value by position, use `ser.iloc[pos]`\n",
      "  use_col_names.update({col_names[l]:l})\n"
     ]
    },
    {
     "name": "stdout",
     "output_type": "stream",
     "text": [
      "99\n"
     ]
    },
    {
     "name": "stderr",
     "output_type": "stream",
     "text": [
      "/var/folders/xx/46bbfzhs77j5z84b92fz834w0000gn/T/ipykernel_8896/3658594269.py:54: FutureWarning: Series.__getitem__ treating keys as positions is deprecated. In a future version, integer keys will always be treated as labels (consistent with DataFrame behavior). To access a value by position, use `ser.iloc[pos]`\n",
      "  use_col_names.update({col_names[l]:l})\n",
      "/var/folders/xx/46bbfzhs77j5z84b92fz834w0000gn/T/ipykernel_8896/3658594269.py:54: FutureWarning: Series.__getitem__ treating keys as positions is deprecated. In a future version, integer keys will always be treated as labels (consistent with DataFrame behavior). To access a value by position, use `ser.iloc[pos]`\n",
      "  use_col_names.update({col_names[l]:l})\n"
     ]
    },
    {
     "name": "stdout",
     "output_type": "stream",
     "text": [
      "100\n"
     ]
    },
    {
     "name": "stderr",
     "output_type": "stream",
     "text": [
      "/var/folders/xx/46bbfzhs77j5z84b92fz834w0000gn/T/ipykernel_8896/3658594269.py:54: FutureWarning: Series.__getitem__ treating keys as positions is deprecated. In a future version, integer keys will always be treated as labels (consistent with DataFrame behavior). To access a value by position, use `ser.iloc[pos]`\n",
      "  use_col_names.update({col_names[l]:l})\n",
      "/var/folders/xx/46bbfzhs77j5z84b92fz834w0000gn/T/ipykernel_8896/3658594269.py:54: FutureWarning: Series.__getitem__ treating keys as positions is deprecated. In a future version, integer keys will always be treated as labels (consistent with DataFrame behavior). To access a value by position, use `ser.iloc[pos]`\n",
      "  use_col_names.update({col_names[l]:l})\n"
     ]
    },
    {
     "name": "stdout",
     "output_type": "stream",
     "text": [
      "101\n"
     ]
    },
    {
     "name": "stderr",
     "output_type": "stream",
     "text": [
      "/var/folders/xx/46bbfzhs77j5z84b92fz834w0000gn/T/ipykernel_8896/3658594269.py:54: FutureWarning: Series.__getitem__ treating keys as positions is deprecated. In a future version, integer keys will always be treated as labels (consistent with DataFrame behavior). To access a value by position, use `ser.iloc[pos]`\n",
      "  use_col_names.update({col_names[l]:l})\n",
      "/var/folders/xx/46bbfzhs77j5z84b92fz834w0000gn/T/ipykernel_8896/3658594269.py:54: FutureWarning: Series.__getitem__ treating keys as positions is deprecated. In a future version, integer keys will always be treated as labels (consistent with DataFrame behavior). To access a value by position, use `ser.iloc[pos]`\n",
      "  use_col_names.update({col_names[l]:l})\n"
     ]
    },
    {
     "name": "stdout",
     "output_type": "stream",
     "text": [
      "102\n"
     ]
    },
    {
     "name": "stderr",
     "output_type": "stream",
     "text": [
      "/var/folders/xx/46bbfzhs77j5z84b92fz834w0000gn/T/ipykernel_8896/3658594269.py:54: FutureWarning: Series.__getitem__ treating keys as positions is deprecated. In a future version, integer keys will always be treated as labels (consistent with DataFrame behavior). To access a value by position, use `ser.iloc[pos]`\n",
      "  use_col_names.update({col_names[l]:l})\n",
      "/var/folders/xx/46bbfzhs77j5z84b92fz834w0000gn/T/ipykernel_8896/3658594269.py:54: FutureWarning: Series.__getitem__ treating keys as positions is deprecated. In a future version, integer keys will always be treated as labels (consistent with DataFrame behavior). To access a value by position, use `ser.iloc[pos]`\n",
      "  use_col_names.update({col_names[l]:l})\n"
     ]
    },
    {
     "name": "stdout",
     "output_type": "stream",
     "text": [
      "103\n"
     ]
    },
    {
     "name": "stderr",
     "output_type": "stream",
     "text": [
      "/var/folders/xx/46bbfzhs77j5z84b92fz834w0000gn/T/ipykernel_8896/3658594269.py:54: FutureWarning: Series.__getitem__ treating keys as positions is deprecated. In a future version, integer keys will always be treated as labels (consistent with DataFrame behavior). To access a value by position, use `ser.iloc[pos]`\n",
      "  use_col_names.update({col_names[l]:l})\n",
      "/var/folders/xx/46bbfzhs77j5z84b92fz834w0000gn/T/ipykernel_8896/3658594269.py:54: FutureWarning: Series.__getitem__ treating keys as positions is deprecated. In a future version, integer keys will always be treated as labels (consistent with DataFrame behavior). To access a value by position, use `ser.iloc[pos]`\n",
      "  use_col_names.update({col_names[l]:l})\n"
     ]
    },
    {
     "name": "stdout",
     "output_type": "stream",
     "text": [
      "104\n"
     ]
    },
    {
     "name": "stderr",
     "output_type": "stream",
     "text": [
      "/var/folders/xx/46bbfzhs77j5z84b92fz834w0000gn/T/ipykernel_8896/3658594269.py:54: FutureWarning: Series.__getitem__ treating keys as positions is deprecated. In a future version, integer keys will always be treated as labels (consistent with DataFrame behavior). To access a value by position, use `ser.iloc[pos]`\n",
      "  use_col_names.update({col_names[l]:l})\n",
      "/var/folders/xx/46bbfzhs77j5z84b92fz834w0000gn/T/ipykernel_8896/3658594269.py:54: FutureWarning: Series.__getitem__ treating keys as positions is deprecated. In a future version, integer keys will always be treated as labels (consistent with DataFrame behavior). To access a value by position, use `ser.iloc[pos]`\n",
      "  use_col_names.update({col_names[l]:l})\n"
     ]
    },
    {
     "name": "stdout",
     "output_type": "stream",
     "text": [
      "105\n"
     ]
    },
    {
     "name": "stderr",
     "output_type": "stream",
     "text": [
      "/var/folders/xx/46bbfzhs77j5z84b92fz834w0000gn/T/ipykernel_8896/3658594269.py:54: FutureWarning: Series.__getitem__ treating keys as positions is deprecated. In a future version, integer keys will always be treated as labels (consistent with DataFrame behavior). To access a value by position, use `ser.iloc[pos]`\n",
      "  use_col_names.update({col_names[l]:l})\n",
      "/var/folders/xx/46bbfzhs77j5z84b92fz834w0000gn/T/ipykernel_8896/3658594269.py:54: FutureWarning: Series.__getitem__ treating keys as positions is deprecated. In a future version, integer keys will always be treated as labels (consistent with DataFrame behavior). To access a value by position, use `ser.iloc[pos]`\n",
      "  use_col_names.update({col_names[l]:l})\n"
     ]
    },
    {
     "name": "stdout",
     "output_type": "stream",
     "text": [
      "106\n"
     ]
    },
    {
     "name": "stderr",
     "output_type": "stream",
     "text": [
      "/var/folders/xx/46bbfzhs77j5z84b92fz834w0000gn/T/ipykernel_8896/3658594269.py:54: FutureWarning: Series.__getitem__ treating keys as positions is deprecated. In a future version, integer keys will always be treated as labels (consistent with DataFrame behavior). To access a value by position, use `ser.iloc[pos]`\n",
      "  use_col_names.update({col_names[l]:l})\n",
      "/var/folders/xx/46bbfzhs77j5z84b92fz834w0000gn/T/ipykernel_8896/3658594269.py:54: FutureWarning: Series.__getitem__ treating keys as positions is deprecated. In a future version, integer keys will always be treated as labels (consistent with DataFrame behavior). To access a value by position, use `ser.iloc[pos]`\n",
      "  use_col_names.update({col_names[l]:l})\n"
     ]
    },
    {
     "name": "stdout",
     "output_type": "stream",
     "text": [
      "107\n"
     ]
    },
    {
     "name": "stderr",
     "output_type": "stream",
     "text": [
      "/var/folders/xx/46bbfzhs77j5z84b92fz834w0000gn/T/ipykernel_8896/3658594269.py:54: FutureWarning: Series.__getitem__ treating keys as positions is deprecated. In a future version, integer keys will always be treated as labels (consistent with DataFrame behavior). To access a value by position, use `ser.iloc[pos]`\n",
      "  use_col_names.update({col_names[l]:l})\n",
      "/var/folders/xx/46bbfzhs77j5z84b92fz834w0000gn/T/ipykernel_8896/3658594269.py:54: FutureWarning: Series.__getitem__ treating keys as positions is deprecated. In a future version, integer keys will always be treated as labels (consistent with DataFrame behavior). To access a value by position, use `ser.iloc[pos]`\n",
      "  use_col_names.update({col_names[l]:l})\n"
     ]
    },
    {
     "name": "stdout",
     "output_type": "stream",
     "text": [
      "108\n"
     ]
    },
    {
     "name": "stderr",
     "output_type": "stream",
     "text": [
      "/var/folders/xx/46bbfzhs77j5z84b92fz834w0000gn/T/ipykernel_8896/3658594269.py:54: FutureWarning: Series.__getitem__ treating keys as positions is deprecated. In a future version, integer keys will always be treated as labels (consistent with DataFrame behavior). To access a value by position, use `ser.iloc[pos]`\n",
      "  use_col_names.update({col_names[l]:l})\n",
      "/var/folders/xx/46bbfzhs77j5z84b92fz834w0000gn/T/ipykernel_8896/3658594269.py:54: FutureWarning: Series.__getitem__ treating keys as positions is deprecated. In a future version, integer keys will always be treated as labels (consistent with DataFrame behavior). To access a value by position, use `ser.iloc[pos]`\n",
      "  use_col_names.update({col_names[l]:l})\n"
     ]
    },
    {
     "name": "stdout",
     "output_type": "stream",
     "text": [
      "109\n"
     ]
    },
    {
     "name": "stderr",
     "output_type": "stream",
     "text": [
      "/var/folders/xx/46bbfzhs77j5z84b92fz834w0000gn/T/ipykernel_8896/3658594269.py:54: FutureWarning: Series.__getitem__ treating keys as positions is deprecated. In a future version, integer keys will always be treated as labels (consistent with DataFrame behavior). To access a value by position, use `ser.iloc[pos]`\n",
      "  use_col_names.update({col_names[l]:l})\n",
      "/var/folders/xx/46bbfzhs77j5z84b92fz834w0000gn/T/ipykernel_8896/3658594269.py:54: FutureWarning: Series.__getitem__ treating keys as positions is deprecated. In a future version, integer keys will always be treated as labels (consistent with DataFrame behavior). To access a value by position, use `ser.iloc[pos]`\n",
      "  use_col_names.update({col_names[l]:l})\n"
     ]
    },
    {
     "name": "stdout",
     "output_type": "stream",
     "text": [
      "110\n"
     ]
    },
    {
     "name": "stderr",
     "output_type": "stream",
     "text": [
      "/var/folders/xx/46bbfzhs77j5z84b92fz834w0000gn/T/ipykernel_8896/3658594269.py:54: FutureWarning: Series.__getitem__ treating keys as positions is deprecated. In a future version, integer keys will always be treated as labels (consistent with DataFrame behavior). To access a value by position, use `ser.iloc[pos]`\n",
      "  use_col_names.update({col_names[l]:l})\n",
      "/var/folders/xx/46bbfzhs77j5z84b92fz834w0000gn/T/ipykernel_8896/3658594269.py:54: FutureWarning: Series.__getitem__ treating keys as positions is deprecated. In a future version, integer keys will always be treated as labels (consistent with DataFrame behavior). To access a value by position, use `ser.iloc[pos]`\n",
      "  use_col_names.update({col_names[l]:l})\n"
     ]
    },
    {
     "name": "stdout",
     "output_type": "stream",
     "text": [
      "111\n"
     ]
    },
    {
     "name": "stderr",
     "output_type": "stream",
     "text": [
      "/var/folders/xx/46bbfzhs77j5z84b92fz834w0000gn/T/ipykernel_8896/3658594269.py:54: FutureWarning: Series.__getitem__ treating keys as positions is deprecated. In a future version, integer keys will always be treated as labels (consistent with DataFrame behavior). To access a value by position, use `ser.iloc[pos]`\n",
      "  use_col_names.update({col_names[l]:l})\n",
      "/var/folders/xx/46bbfzhs77j5z84b92fz834w0000gn/T/ipykernel_8896/3658594269.py:54: FutureWarning: Series.__getitem__ treating keys as positions is deprecated. In a future version, integer keys will always be treated as labels (consistent with DataFrame behavior). To access a value by position, use `ser.iloc[pos]`\n",
      "  use_col_names.update({col_names[l]:l})\n"
     ]
    },
    {
     "name": "stdout",
     "output_type": "stream",
     "text": [
      "112\n"
     ]
    },
    {
     "name": "stderr",
     "output_type": "stream",
     "text": [
      "/var/folders/xx/46bbfzhs77j5z84b92fz834w0000gn/T/ipykernel_8896/3658594269.py:54: FutureWarning: Series.__getitem__ treating keys as positions is deprecated. In a future version, integer keys will always be treated as labels (consistent with DataFrame behavior). To access a value by position, use `ser.iloc[pos]`\n",
      "  use_col_names.update({col_names[l]:l})\n",
      "/var/folders/xx/46bbfzhs77j5z84b92fz834w0000gn/T/ipykernel_8896/3658594269.py:54: FutureWarning: Series.__getitem__ treating keys as positions is deprecated. In a future version, integer keys will always be treated as labels (consistent with DataFrame behavior). To access a value by position, use `ser.iloc[pos]`\n",
      "  use_col_names.update({col_names[l]:l})\n"
     ]
    },
    {
     "name": "stdout",
     "output_type": "stream",
     "text": [
      "113\n"
     ]
    },
    {
     "name": "stderr",
     "output_type": "stream",
     "text": [
      "/var/folders/xx/46bbfzhs77j5z84b92fz834w0000gn/T/ipykernel_8896/3658594269.py:54: FutureWarning: Series.__getitem__ treating keys as positions is deprecated. In a future version, integer keys will always be treated as labels (consistent with DataFrame behavior). To access a value by position, use `ser.iloc[pos]`\n",
      "  use_col_names.update({col_names[l]:l})\n",
      "/var/folders/xx/46bbfzhs77j5z84b92fz834w0000gn/T/ipykernel_8896/3658594269.py:54: FutureWarning: Series.__getitem__ treating keys as positions is deprecated. In a future version, integer keys will always be treated as labels (consistent with DataFrame behavior). To access a value by position, use `ser.iloc[pos]`\n",
      "  use_col_names.update({col_names[l]:l})\n"
     ]
    },
    {
     "name": "stdout",
     "output_type": "stream",
     "text": [
      "114\n"
     ]
    },
    {
     "name": "stderr",
     "output_type": "stream",
     "text": [
      "/var/folders/xx/46bbfzhs77j5z84b92fz834w0000gn/T/ipykernel_8896/3658594269.py:54: FutureWarning: Series.__getitem__ treating keys as positions is deprecated. In a future version, integer keys will always be treated as labels (consistent with DataFrame behavior). To access a value by position, use `ser.iloc[pos]`\n",
      "  use_col_names.update({col_names[l]:l})\n",
      "/var/folders/xx/46bbfzhs77j5z84b92fz834w0000gn/T/ipykernel_8896/3658594269.py:54: FutureWarning: Series.__getitem__ treating keys as positions is deprecated. In a future version, integer keys will always be treated as labels (consistent with DataFrame behavior). To access a value by position, use `ser.iloc[pos]`\n",
      "  use_col_names.update({col_names[l]:l})\n"
     ]
    },
    {
     "name": "stdout",
     "output_type": "stream",
     "text": [
      "115\n"
     ]
    },
    {
     "name": "stderr",
     "output_type": "stream",
     "text": [
      "/var/folders/xx/46bbfzhs77j5z84b92fz834w0000gn/T/ipykernel_8896/3658594269.py:54: FutureWarning: Series.__getitem__ treating keys as positions is deprecated. In a future version, integer keys will always be treated as labels (consistent with DataFrame behavior). To access a value by position, use `ser.iloc[pos]`\n",
      "  use_col_names.update({col_names[l]:l})\n",
      "/var/folders/xx/46bbfzhs77j5z84b92fz834w0000gn/T/ipykernel_8896/3658594269.py:54: FutureWarning: Series.__getitem__ treating keys as positions is deprecated. In a future version, integer keys will always be treated as labels (consistent with DataFrame behavior). To access a value by position, use `ser.iloc[pos]`\n",
      "  use_col_names.update({col_names[l]:l})\n"
     ]
    },
    {
     "name": "stdout",
     "output_type": "stream",
     "text": [
      "116\n"
     ]
    },
    {
     "name": "stderr",
     "output_type": "stream",
     "text": [
      "/var/folders/xx/46bbfzhs77j5z84b92fz834w0000gn/T/ipykernel_8896/3658594269.py:54: FutureWarning: Series.__getitem__ treating keys as positions is deprecated. In a future version, integer keys will always be treated as labels (consistent with DataFrame behavior). To access a value by position, use `ser.iloc[pos]`\n",
      "  use_col_names.update({col_names[l]:l})\n",
      "/var/folders/xx/46bbfzhs77j5z84b92fz834w0000gn/T/ipykernel_8896/3658594269.py:54: FutureWarning: Series.__getitem__ treating keys as positions is deprecated. In a future version, integer keys will always be treated as labels (consistent with DataFrame behavior). To access a value by position, use `ser.iloc[pos]`\n",
      "  use_col_names.update({col_names[l]:l})\n"
     ]
    },
    {
     "name": "stdout",
     "output_type": "stream",
     "text": [
      "117\n"
     ]
    },
    {
     "name": "stderr",
     "output_type": "stream",
     "text": [
      "/var/folders/xx/46bbfzhs77j5z84b92fz834w0000gn/T/ipykernel_8896/3658594269.py:54: FutureWarning: Series.__getitem__ treating keys as positions is deprecated. In a future version, integer keys will always be treated as labels (consistent with DataFrame behavior). To access a value by position, use `ser.iloc[pos]`\n",
      "  use_col_names.update({col_names[l]:l})\n",
      "/var/folders/xx/46bbfzhs77j5z84b92fz834w0000gn/T/ipykernel_8896/3658594269.py:54: FutureWarning: Series.__getitem__ treating keys as positions is deprecated. In a future version, integer keys will always be treated as labels (consistent with DataFrame behavior). To access a value by position, use `ser.iloc[pos]`\n",
      "  use_col_names.update({col_names[l]:l})\n"
     ]
    },
    {
     "name": "stdout",
     "output_type": "stream",
     "text": [
      "118\n"
     ]
    },
    {
     "name": "stderr",
     "output_type": "stream",
     "text": [
      "/var/folders/xx/46bbfzhs77j5z84b92fz834w0000gn/T/ipykernel_8896/3658594269.py:54: FutureWarning: Series.__getitem__ treating keys as positions is deprecated. In a future version, integer keys will always be treated as labels (consistent with DataFrame behavior). To access a value by position, use `ser.iloc[pos]`\n",
      "  use_col_names.update({col_names[l]:l})\n",
      "/var/folders/xx/46bbfzhs77j5z84b92fz834w0000gn/T/ipykernel_8896/3658594269.py:54: FutureWarning: Series.__getitem__ treating keys as positions is deprecated. In a future version, integer keys will always be treated as labels (consistent with DataFrame behavior). To access a value by position, use `ser.iloc[pos]`\n",
      "  use_col_names.update({col_names[l]:l})\n"
     ]
    },
    {
     "name": "stdout",
     "output_type": "stream",
     "text": [
      "119\n"
     ]
    },
    {
     "name": "stderr",
     "output_type": "stream",
     "text": [
      "/var/folders/xx/46bbfzhs77j5z84b92fz834w0000gn/T/ipykernel_8896/3658594269.py:54: FutureWarning: Series.__getitem__ treating keys as positions is deprecated. In a future version, integer keys will always be treated as labels (consistent with DataFrame behavior). To access a value by position, use `ser.iloc[pos]`\n",
      "  use_col_names.update({col_names[l]:l})\n",
      "/var/folders/xx/46bbfzhs77j5z84b92fz834w0000gn/T/ipykernel_8896/3658594269.py:54: FutureWarning: Series.__getitem__ treating keys as positions is deprecated. In a future version, integer keys will always be treated as labels (consistent with DataFrame behavior). To access a value by position, use `ser.iloc[pos]`\n",
      "  use_col_names.update({col_names[l]:l})\n"
     ]
    },
    {
     "name": "stdout",
     "output_type": "stream",
     "text": [
      "120\n"
     ]
    },
    {
     "name": "stderr",
     "output_type": "stream",
     "text": [
      "/var/folders/xx/46bbfzhs77j5z84b92fz834w0000gn/T/ipykernel_8896/3658594269.py:54: FutureWarning: Series.__getitem__ treating keys as positions is deprecated. In a future version, integer keys will always be treated as labels (consistent with DataFrame behavior). To access a value by position, use `ser.iloc[pos]`\n",
      "  use_col_names.update({col_names[l]:l})\n",
      "/var/folders/xx/46bbfzhs77j5z84b92fz834w0000gn/T/ipykernel_8896/3658594269.py:54: FutureWarning: Series.__getitem__ treating keys as positions is deprecated. In a future version, integer keys will always be treated as labels (consistent with DataFrame behavior). To access a value by position, use `ser.iloc[pos]`\n",
      "  use_col_names.update({col_names[l]:l})\n"
     ]
    },
    {
     "name": "stdout",
     "output_type": "stream",
     "text": [
      "121\n"
     ]
    },
    {
     "name": "stderr",
     "output_type": "stream",
     "text": [
      "/var/folders/xx/46bbfzhs77j5z84b92fz834w0000gn/T/ipykernel_8896/3658594269.py:54: FutureWarning: Series.__getitem__ treating keys as positions is deprecated. In a future version, integer keys will always be treated as labels (consistent with DataFrame behavior). To access a value by position, use `ser.iloc[pos]`\n",
      "  use_col_names.update({col_names[l]:l})\n",
      "/var/folders/xx/46bbfzhs77j5z84b92fz834w0000gn/T/ipykernel_8896/3658594269.py:54: FutureWarning: Series.__getitem__ treating keys as positions is deprecated. In a future version, integer keys will always be treated as labels (consistent with DataFrame behavior). To access a value by position, use `ser.iloc[pos]`\n",
      "  use_col_names.update({col_names[l]:l})\n"
     ]
    },
    {
     "name": "stdout",
     "output_type": "stream",
     "text": [
      "122\n"
     ]
    },
    {
     "name": "stderr",
     "output_type": "stream",
     "text": [
      "/var/folders/xx/46bbfzhs77j5z84b92fz834w0000gn/T/ipykernel_8896/3658594269.py:54: FutureWarning: Series.__getitem__ treating keys as positions is deprecated. In a future version, integer keys will always be treated as labels (consistent with DataFrame behavior). To access a value by position, use `ser.iloc[pos]`\n",
      "  use_col_names.update({col_names[l]:l})\n",
      "/var/folders/xx/46bbfzhs77j5z84b92fz834w0000gn/T/ipykernel_8896/3658594269.py:54: FutureWarning: Series.__getitem__ treating keys as positions is deprecated. In a future version, integer keys will always be treated as labels (consistent with DataFrame behavior). To access a value by position, use `ser.iloc[pos]`\n",
      "  use_col_names.update({col_names[l]:l})\n"
     ]
    },
    {
     "name": "stdout",
     "output_type": "stream",
     "text": [
      "123\n"
     ]
    },
    {
     "name": "stderr",
     "output_type": "stream",
     "text": [
      "/var/folders/xx/46bbfzhs77j5z84b92fz834w0000gn/T/ipykernel_8896/3658594269.py:54: FutureWarning: Series.__getitem__ treating keys as positions is deprecated. In a future version, integer keys will always be treated as labels (consistent with DataFrame behavior). To access a value by position, use `ser.iloc[pos]`\n",
      "  use_col_names.update({col_names[l]:l})\n",
      "/var/folders/xx/46bbfzhs77j5z84b92fz834w0000gn/T/ipykernel_8896/3658594269.py:54: FutureWarning: Series.__getitem__ treating keys as positions is deprecated. In a future version, integer keys will always be treated as labels (consistent with DataFrame behavior). To access a value by position, use `ser.iloc[pos]`\n",
      "  use_col_names.update({col_names[l]:l})\n"
     ]
    },
    {
     "name": "stdout",
     "output_type": "stream",
     "text": [
      "124\n"
     ]
    },
    {
     "name": "stderr",
     "output_type": "stream",
     "text": [
      "/var/folders/xx/46bbfzhs77j5z84b92fz834w0000gn/T/ipykernel_8896/3658594269.py:54: FutureWarning: Series.__getitem__ treating keys as positions is deprecated. In a future version, integer keys will always be treated as labels (consistent with DataFrame behavior). To access a value by position, use `ser.iloc[pos]`\n",
      "  use_col_names.update({col_names[l]:l})\n",
      "/var/folders/xx/46bbfzhs77j5z84b92fz834w0000gn/T/ipykernel_8896/3658594269.py:54: FutureWarning: Series.__getitem__ treating keys as positions is deprecated. In a future version, integer keys will always be treated as labels (consistent with DataFrame behavior). To access a value by position, use `ser.iloc[pos]`\n",
      "  use_col_names.update({col_names[l]:l})\n"
     ]
    },
    {
     "name": "stdout",
     "output_type": "stream",
     "text": [
      "125\n"
     ]
    },
    {
     "name": "stderr",
     "output_type": "stream",
     "text": [
      "/var/folders/xx/46bbfzhs77j5z84b92fz834w0000gn/T/ipykernel_8896/3658594269.py:54: FutureWarning: Series.__getitem__ treating keys as positions is deprecated. In a future version, integer keys will always be treated as labels (consistent with DataFrame behavior). To access a value by position, use `ser.iloc[pos]`\n",
      "  use_col_names.update({col_names[l]:l})\n",
      "/var/folders/xx/46bbfzhs77j5z84b92fz834w0000gn/T/ipykernel_8896/3658594269.py:54: FutureWarning: Series.__getitem__ treating keys as positions is deprecated. In a future version, integer keys will always be treated as labels (consistent with DataFrame behavior). To access a value by position, use `ser.iloc[pos]`\n",
      "  use_col_names.update({col_names[l]:l})\n"
     ]
    },
    {
     "name": "stdout",
     "output_type": "stream",
     "text": [
      "126\n"
     ]
    },
    {
     "name": "stderr",
     "output_type": "stream",
     "text": [
      "/var/folders/xx/46bbfzhs77j5z84b92fz834w0000gn/T/ipykernel_8896/3658594269.py:54: FutureWarning: Series.__getitem__ treating keys as positions is deprecated. In a future version, integer keys will always be treated as labels (consistent with DataFrame behavior). To access a value by position, use `ser.iloc[pos]`\n",
      "  use_col_names.update({col_names[l]:l})\n",
      "/var/folders/xx/46bbfzhs77j5z84b92fz834w0000gn/T/ipykernel_8896/3658594269.py:54: FutureWarning: Series.__getitem__ treating keys as positions is deprecated. In a future version, integer keys will always be treated as labels (consistent with DataFrame behavior). To access a value by position, use `ser.iloc[pos]`\n",
      "  use_col_names.update({col_names[l]:l})\n"
     ]
    },
    {
     "name": "stdout",
     "output_type": "stream",
     "text": [
      "127\n"
     ]
    },
    {
     "name": "stderr",
     "output_type": "stream",
     "text": [
      "/var/folders/xx/46bbfzhs77j5z84b92fz834w0000gn/T/ipykernel_8896/3658594269.py:54: FutureWarning: Series.__getitem__ treating keys as positions is deprecated. In a future version, integer keys will always be treated as labels (consistent with DataFrame behavior). To access a value by position, use `ser.iloc[pos]`\n",
      "  use_col_names.update({col_names[l]:l})\n",
      "/var/folders/xx/46bbfzhs77j5z84b92fz834w0000gn/T/ipykernel_8896/3658594269.py:54: FutureWarning: Series.__getitem__ treating keys as positions is deprecated. In a future version, integer keys will always be treated as labels (consistent with DataFrame behavior). To access a value by position, use `ser.iloc[pos]`\n",
      "  use_col_names.update({col_names[l]:l})\n"
     ]
    },
    {
     "name": "stdout",
     "output_type": "stream",
     "text": [
      "128\n"
     ]
    },
    {
     "name": "stderr",
     "output_type": "stream",
     "text": [
      "/var/folders/xx/46bbfzhs77j5z84b92fz834w0000gn/T/ipykernel_8896/3658594269.py:54: FutureWarning: Series.__getitem__ treating keys as positions is deprecated. In a future version, integer keys will always be treated as labels (consistent with DataFrame behavior). To access a value by position, use `ser.iloc[pos]`\n",
      "  use_col_names.update({col_names[l]:l})\n",
      "/var/folders/xx/46bbfzhs77j5z84b92fz834w0000gn/T/ipykernel_8896/3658594269.py:54: FutureWarning: Series.__getitem__ treating keys as positions is deprecated. In a future version, integer keys will always be treated as labels (consistent with DataFrame behavior). To access a value by position, use `ser.iloc[pos]`\n",
      "  use_col_names.update({col_names[l]:l})\n"
     ]
    },
    {
     "name": "stdout",
     "output_type": "stream",
     "text": [
      "129\n"
     ]
    },
    {
     "name": "stderr",
     "output_type": "stream",
     "text": [
      "/var/folders/xx/46bbfzhs77j5z84b92fz834w0000gn/T/ipykernel_8896/3658594269.py:54: FutureWarning: Series.__getitem__ treating keys as positions is deprecated. In a future version, integer keys will always be treated as labels (consistent with DataFrame behavior). To access a value by position, use `ser.iloc[pos]`\n",
      "  use_col_names.update({col_names[l]:l})\n",
      "/var/folders/xx/46bbfzhs77j5z84b92fz834w0000gn/T/ipykernel_8896/3658594269.py:54: FutureWarning: Series.__getitem__ treating keys as positions is deprecated. In a future version, integer keys will always be treated as labels (consistent with DataFrame behavior). To access a value by position, use `ser.iloc[pos]`\n",
      "  use_col_names.update({col_names[l]:l})\n"
     ]
    },
    {
     "name": "stdout",
     "output_type": "stream",
     "text": [
      "130\n"
     ]
    },
    {
     "name": "stderr",
     "output_type": "stream",
     "text": [
      "/var/folders/xx/46bbfzhs77j5z84b92fz834w0000gn/T/ipykernel_8896/3658594269.py:54: FutureWarning: Series.__getitem__ treating keys as positions is deprecated. In a future version, integer keys will always be treated as labels (consistent with DataFrame behavior). To access a value by position, use `ser.iloc[pos]`\n",
      "  use_col_names.update({col_names[l]:l})\n",
      "/var/folders/xx/46bbfzhs77j5z84b92fz834w0000gn/T/ipykernel_8896/3658594269.py:54: FutureWarning: Series.__getitem__ treating keys as positions is deprecated. In a future version, integer keys will always be treated as labels (consistent with DataFrame behavior). To access a value by position, use `ser.iloc[pos]`\n",
      "  use_col_names.update({col_names[l]:l})\n"
     ]
    },
    {
     "name": "stdout",
     "output_type": "stream",
     "text": [
      "131\n"
     ]
    },
    {
     "name": "stderr",
     "output_type": "stream",
     "text": [
      "/var/folders/xx/46bbfzhs77j5z84b92fz834w0000gn/T/ipykernel_8896/3658594269.py:54: FutureWarning: Series.__getitem__ treating keys as positions is deprecated. In a future version, integer keys will always be treated as labels (consistent with DataFrame behavior). To access a value by position, use `ser.iloc[pos]`\n",
      "  use_col_names.update({col_names[l]:l})\n",
      "/var/folders/xx/46bbfzhs77j5z84b92fz834w0000gn/T/ipykernel_8896/3658594269.py:54: FutureWarning: Series.__getitem__ treating keys as positions is deprecated. In a future version, integer keys will always be treated as labels (consistent with DataFrame behavior). To access a value by position, use `ser.iloc[pos]`\n",
      "  use_col_names.update({col_names[l]:l})\n"
     ]
    },
    {
     "name": "stdout",
     "output_type": "stream",
     "text": [
      "132\n"
     ]
    },
    {
     "name": "stderr",
     "output_type": "stream",
     "text": [
      "/var/folders/xx/46bbfzhs77j5z84b92fz834w0000gn/T/ipykernel_8896/3658594269.py:54: FutureWarning: Series.__getitem__ treating keys as positions is deprecated. In a future version, integer keys will always be treated as labels (consistent with DataFrame behavior). To access a value by position, use `ser.iloc[pos]`\n",
      "  use_col_names.update({col_names[l]:l})\n",
      "/var/folders/xx/46bbfzhs77j5z84b92fz834w0000gn/T/ipykernel_8896/3658594269.py:54: FutureWarning: Series.__getitem__ treating keys as positions is deprecated. In a future version, integer keys will always be treated as labels (consistent with DataFrame behavior). To access a value by position, use `ser.iloc[pos]`\n",
      "  use_col_names.update({col_names[l]:l})\n"
     ]
    },
    {
     "name": "stdout",
     "output_type": "stream",
     "text": [
      "133\n"
     ]
    },
    {
     "name": "stderr",
     "output_type": "stream",
     "text": [
      "/var/folders/xx/46bbfzhs77j5z84b92fz834w0000gn/T/ipykernel_8896/3658594269.py:54: FutureWarning: Series.__getitem__ treating keys as positions is deprecated. In a future version, integer keys will always be treated as labels (consistent with DataFrame behavior). To access a value by position, use `ser.iloc[pos]`\n",
      "  use_col_names.update({col_names[l]:l})\n",
      "/var/folders/xx/46bbfzhs77j5z84b92fz834w0000gn/T/ipykernel_8896/3658594269.py:54: FutureWarning: Series.__getitem__ treating keys as positions is deprecated. In a future version, integer keys will always be treated as labels (consistent with DataFrame behavior). To access a value by position, use `ser.iloc[pos]`\n",
      "  use_col_names.update({col_names[l]:l})\n"
     ]
    },
    {
     "name": "stdout",
     "output_type": "stream",
     "text": [
      "134\n"
     ]
    },
    {
     "name": "stderr",
     "output_type": "stream",
     "text": [
      "/var/folders/xx/46bbfzhs77j5z84b92fz834w0000gn/T/ipykernel_8896/3658594269.py:54: FutureWarning: Series.__getitem__ treating keys as positions is deprecated. In a future version, integer keys will always be treated as labels (consistent with DataFrame behavior). To access a value by position, use `ser.iloc[pos]`\n",
      "  use_col_names.update({col_names[l]:l})\n",
      "/var/folders/xx/46bbfzhs77j5z84b92fz834w0000gn/T/ipykernel_8896/3658594269.py:54: FutureWarning: Series.__getitem__ treating keys as positions is deprecated. In a future version, integer keys will always be treated as labels (consistent with DataFrame behavior). To access a value by position, use `ser.iloc[pos]`\n",
      "  use_col_names.update({col_names[l]:l})\n"
     ]
    },
    {
     "name": "stdout",
     "output_type": "stream",
     "text": [
      "135\n"
     ]
    },
    {
     "name": "stderr",
     "output_type": "stream",
     "text": [
      "/var/folders/xx/46bbfzhs77j5z84b92fz834w0000gn/T/ipykernel_8896/3658594269.py:54: FutureWarning: Series.__getitem__ treating keys as positions is deprecated. In a future version, integer keys will always be treated as labels (consistent with DataFrame behavior). To access a value by position, use `ser.iloc[pos]`\n",
      "  use_col_names.update({col_names[l]:l})\n",
      "/var/folders/xx/46bbfzhs77j5z84b92fz834w0000gn/T/ipykernel_8896/3658594269.py:54: FutureWarning: Series.__getitem__ treating keys as positions is deprecated. In a future version, integer keys will always be treated as labels (consistent with DataFrame behavior). To access a value by position, use `ser.iloc[pos]`\n",
      "  use_col_names.update({col_names[l]:l})\n"
     ]
    },
    {
     "name": "stdout",
     "output_type": "stream",
     "text": [
      "136\n"
     ]
    },
    {
     "name": "stderr",
     "output_type": "stream",
     "text": [
      "/var/folders/xx/46bbfzhs77j5z84b92fz834w0000gn/T/ipykernel_8896/3658594269.py:54: FutureWarning: Series.__getitem__ treating keys as positions is deprecated. In a future version, integer keys will always be treated as labels (consistent with DataFrame behavior). To access a value by position, use `ser.iloc[pos]`\n",
      "  use_col_names.update({col_names[l]:l})\n",
      "/var/folders/xx/46bbfzhs77j5z84b92fz834w0000gn/T/ipykernel_8896/3658594269.py:54: FutureWarning: Series.__getitem__ treating keys as positions is deprecated. In a future version, integer keys will always be treated as labels (consistent with DataFrame behavior). To access a value by position, use `ser.iloc[pos]`\n",
      "  use_col_names.update({col_names[l]:l})\n"
     ]
    },
    {
     "name": "stdout",
     "output_type": "stream",
     "text": [
      "137\n"
     ]
    },
    {
     "name": "stderr",
     "output_type": "stream",
     "text": [
      "/var/folders/xx/46bbfzhs77j5z84b92fz834w0000gn/T/ipykernel_8896/3658594269.py:54: FutureWarning: Series.__getitem__ treating keys as positions is deprecated. In a future version, integer keys will always be treated as labels (consistent with DataFrame behavior). To access a value by position, use `ser.iloc[pos]`\n",
      "  use_col_names.update({col_names[l]:l})\n",
      "/var/folders/xx/46bbfzhs77j5z84b92fz834w0000gn/T/ipykernel_8896/3658594269.py:54: FutureWarning: Series.__getitem__ treating keys as positions is deprecated. In a future version, integer keys will always be treated as labels (consistent with DataFrame behavior). To access a value by position, use `ser.iloc[pos]`\n",
      "  use_col_names.update({col_names[l]:l})\n"
     ]
    },
    {
     "name": "stdout",
     "output_type": "stream",
     "text": [
      "138\n"
     ]
    },
    {
     "name": "stderr",
     "output_type": "stream",
     "text": [
      "/var/folders/xx/46bbfzhs77j5z84b92fz834w0000gn/T/ipykernel_8896/3658594269.py:54: FutureWarning: Series.__getitem__ treating keys as positions is deprecated. In a future version, integer keys will always be treated as labels (consistent with DataFrame behavior). To access a value by position, use `ser.iloc[pos]`\n",
      "  use_col_names.update({col_names[l]:l})\n",
      "/var/folders/xx/46bbfzhs77j5z84b92fz834w0000gn/T/ipykernel_8896/3658594269.py:54: FutureWarning: Series.__getitem__ treating keys as positions is deprecated. In a future version, integer keys will always be treated as labels (consistent with DataFrame behavior). To access a value by position, use `ser.iloc[pos]`\n",
      "  use_col_names.update({col_names[l]:l})\n"
     ]
    },
    {
     "name": "stdout",
     "output_type": "stream",
     "text": [
      "139\n"
     ]
    },
    {
     "name": "stderr",
     "output_type": "stream",
     "text": [
      "/var/folders/xx/46bbfzhs77j5z84b92fz834w0000gn/T/ipykernel_8896/3658594269.py:54: FutureWarning: Series.__getitem__ treating keys as positions is deprecated. In a future version, integer keys will always be treated as labels (consistent with DataFrame behavior). To access a value by position, use `ser.iloc[pos]`\n",
      "  use_col_names.update({col_names[l]:l})\n",
      "/var/folders/xx/46bbfzhs77j5z84b92fz834w0000gn/T/ipykernel_8896/3658594269.py:54: FutureWarning: Series.__getitem__ treating keys as positions is deprecated. In a future version, integer keys will always be treated as labels (consistent with DataFrame behavior). To access a value by position, use `ser.iloc[pos]`\n",
      "  use_col_names.update({col_names[l]:l})\n"
     ]
    },
    {
     "name": "stdout",
     "output_type": "stream",
     "text": [
      "140\n"
     ]
    },
    {
     "name": "stderr",
     "output_type": "stream",
     "text": [
      "/var/folders/xx/46bbfzhs77j5z84b92fz834w0000gn/T/ipykernel_8896/3658594269.py:54: FutureWarning: Series.__getitem__ treating keys as positions is deprecated. In a future version, integer keys will always be treated as labels (consistent with DataFrame behavior). To access a value by position, use `ser.iloc[pos]`\n",
      "  use_col_names.update({col_names[l]:l})\n",
      "/var/folders/xx/46bbfzhs77j5z84b92fz834w0000gn/T/ipykernel_8896/3658594269.py:54: FutureWarning: Series.__getitem__ treating keys as positions is deprecated. In a future version, integer keys will always be treated as labels (consistent with DataFrame behavior). To access a value by position, use `ser.iloc[pos]`\n",
      "  use_col_names.update({col_names[l]:l})\n"
     ]
    },
    {
     "name": "stdout",
     "output_type": "stream",
     "text": [
      "141\n"
     ]
    },
    {
     "name": "stderr",
     "output_type": "stream",
     "text": [
      "/var/folders/xx/46bbfzhs77j5z84b92fz834w0000gn/T/ipykernel_8896/3658594269.py:54: FutureWarning: Series.__getitem__ treating keys as positions is deprecated. In a future version, integer keys will always be treated as labels (consistent with DataFrame behavior). To access a value by position, use `ser.iloc[pos]`\n",
      "  use_col_names.update({col_names[l]:l})\n",
      "/var/folders/xx/46bbfzhs77j5z84b92fz834w0000gn/T/ipykernel_8896/3658594269.py:54: FutureWarning: Series.__getitem__ treating keys as positions is deprecated. In a future version, integer keys will always be treated as labels (consistent with DataFrame behavior). To access a value by position, use `ser.iloc[pos]`\n",
      "  use_col_names.update({col_names[l]:l})\n"
     ]
    },
    {
     "name": "stdout",
     "output_type": "stream",
     "text": [
      "142\n"
     ]
    },
    {
     "name": "stderr",
     "output_type": "stream",
     "text": [
      "/var/folders/xx/46bbfzhs77j5z84b92fz834w0000gn/T/ipykernel_8896/3658594269.py:54: FutureWarning: Series.__getitem__ treating keys as positions is deprecated. In a future version, integer keys will always be treated as labels (consistent with DataFrame behavior). To access a value by position, use `ser.iloc[pos]`\n",
      "  use_col_names.update({col_names[l]:l})\n",
      "/var/folders/xx/46bbfzhs77j5z84b92fz834w0000gn/T/ipykernel_8896/3658594269.py:54: FutureWarning: Series.__getitem__ treating keys as positions is deprecated. In a future version, integer keys will always be treated as labels (consistent with DataFrame behavior). To access a value by position, use `ser.iloc[pos]`\n",
      "  use_col_names.update({col_names[l]:l})\n"
     ]
    },
    {
     "name": "stdout",
     "output_type": "stream",
     "text": [
      "143\n"
     ]
    },
    {
     "name": "stderr",
     "output_type": "stream",
     "text": [
      "/var/folders/xx/46bbfzhs77j5z84b92fz834w0000gn/T/ipykernel_8896/3658594269.py:54: FutureWarning: Series.__getitem__ treating keys as positions is deprecated. In a future version, integer keys will always be treated as labels (consistent with DataFrame behavior). To access a value by position, use `ser.iloc[pos]`\n",
      "  use_col_names.update({col_names[l]:l})\n",
      "/var/folders/xx/46bbfzhs77j5z84b92fz834w0000gn/T/ipykernel_8896/3658594269.py:54: FutureWarning: Series.__getitem__ treating keys as positions is deprecated. In a future version, integer keys will always be treated as labels (consistent with DataFrame behavior). To access a value by position, use `ser.iloc[pos]`\n",
      "  use_col_names.update({col_names[l]:l})\n"
     ]
    },
    {
     "name": "stdout",
     "output_type": "stream",
     "text": [
      "144\n"
     ]
    },
    {
     "name": "stderr",
     "output_type": "stream",
     "text": [
      "/var/folders/xx/46bbfzhs77j5z84b92fz834w0000gn/T/ipykernel_8896/3658594269.py:54: FutureWarning: Series.__getitem__ treating keys as positions is deprecated. In a future version, integer keys will always be treated as labels (consistent with DataFrame behavior). To access a value by position, use `ser.iloc[pos]`\n",
      "  use_col_names.update({col_names[l]:l})\n",
      "/var/folders/xx/46bbfzhs77j5z84b92fz834w0000gn/T/ipykernel_8896/3658594269.py:54: FutureWarning: Series.__getitem__ treating keys as positions is deprecated. In a future version, integer keys will always be treated as labels (consistent with DataFrame behavior). To access a value by position, use `ser.iloc[pos]`\n",
      "  use_col_names.update({col_names[l]:l})\n"
     ]
    },
    {
     "name": "stdout",
     "output_type": "stream",
     "text": [
      "145\n"
     ]
    },
    {
     "name": "stderr",
     "output_type": "stream",
     "text": [
      "/var/folders/xx/46bbfzhs77j5z84b92fz834w0000gn/T/ipykernel_8896/3658594269.py:54: FutureWarning: Series.__getitem__ treating keys as positions is deprecated. In a future version, integer keys will always be treated as labels (consistent with DataFrame behavior). To access a value by position, use `ser.iloc[pos]`\n",
      "  use_col_names.update({col_names[l]:l})\n",
      "/var/folders/xx/46bbfzhs77j5z84b92fz834w0000gn/T/ipykernel_8896/3658594269.py:54: FutureWarning: Series.__getitem__ treating keys as positions is deprecated. In a future version, integer keys will always be treated as labels (consistent with DataFrame behavior). To access a value by position, use `ser.iloc[pos]`\n",
      "  use_col_names.update({col_names[l]:l})\n"
     ]
    },
    {
     "name": "stdout",
     "output_type": "stream",
     "text": [
      "146\n"
     ]
    },
    {
     "name": "stderr",
     "output_type": "stream",
     "text": [
      "/var/folders/xx/46bbfzhs77j5z84b92fz834w0000gn/T/ipykernel_8896/3658594269.py:54: FutureWarning: Series.__getitem__ treating keys as positions is deprecated. In a future version, integer keys will always be treated as labels (consistent with DataFrame behavior). To access a value by position, use `ser.iloc[pos]`\n",
      "  use_col_names.update({col_names[l]:l})\n",
      "/var/folders/xx/46bbfzhs77j5z84b92fz834w0000gn/T/ipykernel_8896/3658594269.py:54: FutureWarning: Series.__getitem__ treating keys as positions is deprecated. In a future version, integer keys will always be treated as labels (consistent with DataFrame behavior). To access a value by position, use `ser.iloc[pos]`\n",
      "  use_col_names.update({col_names[l]:l})\n"
     ]
    },
    {
     "name": "stdout",
     "output_type": "stream",
     "text": [
      "147\n"
     ]
    },
    {
     "name": "stderr",
     "output_type": "stream",
     "text": [
      "/var/folders/xx/46bbfzhs77j5z84b92fz834w0000gn/T/ipykernel_8896/3658594269.py:54: FutureWarning: Series.__getitem__ treating keys as positions is deprecated. In a future version, integer keys will always be treated as labels (consistent with DataFrame behavior). To access a value by position, use `ser.iloc[pos]`\n",
      "  use_col_names.update({col_names[l]:l})\n",
      "/var/folders/xx/46bbfzhs77j5z84b92fz834w0000gn/T/ipykernel_8896/3658594269.py:54: FutureWarning: Series.__getitem__ treating keys as positions is deprecated. In a future version, integer keys will always be treated as labels (consistent with DataFrame behavior). To access a value by position, use `ser.iloc[pos]`\n",
      "  use_col_names.update({col_names[l]:l})\n"
     ]
    },
    {
     "name": "stdout",
     "output_type": "stream",
     "text": [
      "148\n"
     ]
    },
    {
     "name": "stderr",
     "output_type": "stream",
     "text": [
      "/var/folders/xx/46bbfzhs77j5z84b92fz834w0000gn/T/ipykernel_8896/3658594269.py:54: FutureWarning: Series.__getitem__ treating keys as positions is deprecated. In a future version, integer keys will always be treated as labels (consistent with DataFrame behavior). To access a value by position, use `ser.iloc[pos]`\n",
      "  use_col_names.update({col_names[l]:l})\n",
      "/var/folders/xx/46bbfzhs77j5z84b92fz834w0000gn/T/ipykernel_8896/3658594269.py:54: FutureWarning: Series.__getitem__ treating keys as positions is deprecated. In a future version, integer keys will always be treated as labels (consistent with DataFrame behavior). To access a value by position, use `ser.iloc[pos]`\n",
      "  use_col_names.update({col_names[l]:l})\n"
     ]
    },
    {
     "name": "stdout",
     "output_type": "stream",
     "text": [
      "149\n"
     ]
    },
    {
     "name": "stderr",
     "output_type": "stream",
     "text": [
      "/var/folders/xx/46bbfzhs77j5z84b92fz834w0000gn/T/ipykernel_8896/3658594269.py:54: FutureWarning: Series.__getitem__ treating keys as positions is deprecated. In a future version, integer keys will always be treated as labels (consistent with DataFrame behavior). To access a value by position, use `ser.iloc[pos]`\n",
      "  use_col_names.update({col_names[l]:l})\n",
      "/var/folders/xx/46bbfzhs77j5z84b92fz834w0000gn/T/ipykernel_8896/3658594269.py:54: FutureWarning: Series.__getitem__ treating keys as positions is deprecated. In a future version, integer keys will always be treated as labels (consistent with DataFrame behavior). To access a value by position, use `ser.iloc[pos]`\n",
      "  use_col_names.update({col_names[l]:l})\n"
     ]
    },
    {
     "name": "stdout",
     "output_type": "stream",
     "text": [
      "150\n"
     ]
    },
    {
     "name": "stderr",
     "output_type": "stream",
     "text": [
      "/var/folders/xx/46bbfzhs77j5z84b92fz834w0000gn/T/ipykernel_8896/3658594269.py:54: FutureWarning: Series.__getitem__ treating keys as positions is deprecated. In a future version, integer keys will always be treated as labels (consistent with DataFrame behavior). To access a value by position, use `ser.iloc[pos]`\n",
      "  use_col_names.update({col_names[l]:l})\n",
      "/var/folders/xx/46bbfzhs77j5z84b92fz834w0000gn/T/ipykernel_8896/3658594269.py:54: FutureWarning: Series.__getitem__ treating keys as positions is deprecated. In a future version, integer keys will always be treated as labels (consistent with DataFrame behavior). To access a value by position, use `ser.iloc[pos]`\n",
      "  use_col_names.update({col_names[l]:l})\n"
     ]
    },
    {
     "name": "stdout",
     "output_type": "stream",
     "text": [
      "151\n"
     ]
    },
    {
     "name": "stderr",
     "output_type": "stream",
     "text": [
      "/var/folders/xx/46bbfzhs77j5z84b92fz834w0000gn/T/ipykernel_8896/3658594269.py:54: FutureWarning: Series.__getitem__ treating keys as positions is deprecated. In a future version, integer keys will always be treated as labels (consistent with DataFrame behavior). To access a value by position, use `ser.iloc[pos]`\n",
      "  use_col_names.update({col_names[l]:l})\n",
      "/var/folders/xx/46bbfzhs77j5z84b92fz834w0000gn/T/ipykernel_8896/3658594269.py:54: FutureWarning: Series.__getitem__ treating keys as positions is deprecated. In a future version, integer keys will always be treated as labels (consistent with DataFrame behavior). To access a value by position, use `ser.iloc[pos]`\n",
      "  use_col_names.update({col_names[l]:l})\n"
     ]
    },
    {
     "name": "stdout",
     "output_type": "stream",
     "text": [
      "152\n"
     ]
    },
    {
     "name": "stderr",
     "output_type": "stream",
     "text": [
      "/var/folders/xx/46bbfzhs77j5z84b92fz834w0000gn/T/ipykernel_8896/3658594269.py:54: FutureWarning: Series.__getitem__ treating keys as positions is deprecated. In a future version, integer keys will always be treated as labels (consistent with DataFrame behavior). To access a value by position, use `ser.iloc[pos]`\n",
      "  use_col_names.update({col_names[l]:l})\n",
      "/var/folders/xx/46bbfzhs77j5z84b92fz834w0000gn/T/ipykernel_8896/3658594269.py:54: FutureWarning: Series.__getitem__ treating keys as positions is deprecated. In a future version, integer keys will always be treated as labels (consistent with DataFrame behavior). To access a value by position, use `ser.iloc[pos]`\n",
      "  use_col_names.update({col_names[l]:l})\n"
     ]
    },
    {
     "name": "stdout",
     "output_type": "stream",
     "text": [
      "153\n"
     ]
    },
    {
     "name": "stderr",
     "output_type": "stream",
     "text": [
      "/var/folders/xx/46bbfzhs77j5z84b92fz834w0000gn/T/ipykernel_8896/3658594269.py:54: FutureWarning: Series.__getitem__ treating keys as positions is deprecated. In a future version, integer keys will always be treated as labels (consistent with DataFrame behavior). To access a value by position, use `ser.iloc[pos]`\n",
      "  use_col_names.update({col_names[l]:l})\n",
      "/var/folders/xx/46bbfzhs77j5z84b92fz834w0000gn/T/ipykernel_8896/3658594269.py:54: FutureWarning: Series.__getitem__ treating keys as positions is deprecated. In a future version, integer keys will always be treated as labels (consistent with DataFrame behavior). To access a value by position, use `ser.iloc[pos]`\n",
      "  use_col_names.update({col_names[l]:l})\n"
     ]
    },
    {
     "name": "stdout",
     "output_type": "stream",
     "text": [
      "154\n"
     ]
    },
    {
     "name": "stderr",
     "output_type": "stream",
     "text": [
      "/var/folders/xx/46bbfzhs77j5z84b92fz834w0000gn/T/ipykernel_8896/3658594269.py:54: FutureWarning: Series.__getitem__ treating keys as positions is deprecated. In a future version, integer keys will always be treated as labels (consistent with DataFrame behavior). To access a value by position, use `ser.iloc[pos]`\n",
      "  use_col_names.update({col_names[l]:l})\n",
      "/var/folders/xx/46bbfzhs77j5z84b92fz834w0000gn/T/ipykernel_8896/3658594269.py:54: FutureWarning: Series.__getitem__ treating keys as positions is deprecated. In a future version, integer keys will always be treated as labels (consistent with DataFrame behavior). To access a value by position, use `ser.iloc[pos]`\n",
      "  use_col_names.update({col_names[l]:l})\n"
     ]
    },
    {
     "name": "stdout",
     "output_type": "stream",
     "text": [
      "155\n"
     ]
    },
    {
     "name": "stderr",
     "output_type": "stream",
     "text": [
      "/var/folders/xx/46bbfzhs77j5z84b92fz834w0000gn/T/ipykernel_8896/3658594269.py:54: FutureWarning: Series.__getitem__ treating keys as positions is deprecated. In a future version, integer keys will always be treated as labels (consistent with DataFrame behavior). To access a value by position, use `ser.iloc[pos]`\n",
      "  use_col_names.update({col_names[l]:l})\n",
      "/var/folders/xx/46bbfzhs77j5z84b92fz834w0000gn/T/ipykernel_8896/3658594269.py:54: FutureWarning: Series.__getitem__ treating keys as positions is deprecated. In a future version, integer keys will always be treated as labels (consistent with DataFrame behavior). To access a value by position, use `ser.iloc[pos]`\n",
      "  use_col_names.update({col_names[l]:l})\n"
     ]
    },
    {
     "name": "stdout",
     "output_type": "stream",
     "text": [
      "156\n"
     ]
    },
    {
     "name": "stderr",
     "output_type": "stream",
     "text": [
      "/var/folders/xx/46bbfzhs77j5z84b92fz834w0000gn/T/ipykernel_8896/3658594269.py:54: FutureWarning: Series.__getitem__ treating keys as positions is deprecated. In a future version, integer keys will always be treated as labels (consistent with DataFrame behavior). To access a value by position, use `ser.iloc[pos]`\n",
      "  use_col_names.update({col_names[l]:l})\n",
      "/var/folders/xx/46bbfzhs77j5z84b92fz834w0000gn/T/ipykernel_8896/3658594269.py:54: FutureWarning: Series.__getitem__ treating keys as positions is deprecated. In a future version, integer keys will always be treated as labels (consistent with DataFrame behavior). To access a value by position, use `ser.iloc[pos]`\n",
      "  use_col_names.update({col_names[l]:l})\n"
     ]
    },
    {
     "name": "stdout",
     "output_type": "stream",
     "text": [
      "157\n"
     ]
    },
    {
     "name": "stderr",
     "output_type": "stream",
     "text": [
      "/var/folders/xx/46bbfzhs77j5z84b92fz834w0000gn/T/ipykernel_8896/3658594269.py:54: FutureWarning: Series.__getitem__ treating keys as positions is deprecated. In a future version, integer keys will always be treated as labels (consistent with DataFrame behavior). To access a value by position, use `ser.iloc[pos]`\n",
      "  use_col_names.update({col_names[l]:l})\n",
      "/var/folders/xx/46bbfzhs77j5z84b92fz834w0000gn/T/ipykernel_8896/3658594269.py:54: FutureWarning: Series.__getitem__ treating keys as positions is deprecated. In a future version, integer keys will always be treated as labels (consistent with DataFrame behavior). To access a value by position, use `ser.iloc[pos]`\n",
      "  use_col_names.update({col_names[l]:l})\n"
     ]
    },
    {
     "name": "stdout",
     "output_type": "stream",
     "text": [
      "158\n"
     ]
    },
    {
     "name": "stderr",
     "output_type": "stream",
     "text": [
      "/var/folders/xx/46bbfzhs77j5z84b92fz834w0000gn/T/ipykernel_8896/3658594269.py:54: FutureWarning: Series.__getitem__ treating keys as positions is deprecated. In a future version, integer keys will always be treated as labels (consistent with DataFrame behavior). To access a value by position, use `ser.iloc[pos]`\n",
      "  use_col_names.update({col_names[l]:l})\n",
      "/var/folders/xx/46bbfzhs77j5z84b92fz834w0000gn/T/ipykernel_8896/3658594269.py:54: FutureWarning: Series.__getitem__ treating keys as positions is deprecated. In a future version, integer keys will always be treated as labels (consistent with DataFrame behavior). To access a value by position, use `ser.iloc[pos]`\n",
      "  use_col_names.update({col_names[l]:l})\n"
     ]
    },
    {
     "name": "stdout",
     "output_type": "stream",
     "text": [
      "159\n"
     ]
    },
    {
     "name": "stderr",
     "output_type": "stream",
     "text": [
      "/var/folders/xx/46bbfzhs77j5z84b92fz834w0000gn/T/ipykernel_8896/3658594269.py:54: FutureWarning: Series.__getitem__ treating keys as positions is deprecated. In a future version, integer keys will always be treated as labels (consistent with DataFrame behavior). To access a value by position, use `ser.iloc[pos]`\n",
      "  use_col_names.update({col_names[l]:l})\n",
      "/var/folders/xx/46bbfzhs77j5z84b92fz834w0000gn/T/ipykernel_8896/3658594269.py:54: FutureWarning: Series.__getitem__ treating keys as positions is deprecated. In a future version, integer keys will always be treated as labels (consistent with DataFrame behavior). To access a value by position, use `ser.iloc[pos]`\n",
      "  use_col_names.update({col_names[l]:l})\n"
     ]
    },
    {
     "name": "stdout",
     "output_type": "stream",
     "text": [
      "160\n"
     ]
    },
    {
     "name": "stderr",
     "output_type": "stream",
     "text": [
      "/var/folders/xx/46bbfzhs77j5z84b92fz834w0000gn/T/ipykernel_8896/3658594269.py:54: FutureWarning: Series.__getitem__ treating keys as positions is deprecated. In a future version, integer keys will always be treated as labels (consistent with DataFrame behavior). To access a value by position, use `ser.iloc[pos]`\n",
      "  use_col_names.update({col_names[l]:l})\n",
      "/var/folders/xx/46bbfzhs77j5z84b92fz834w0000gn/T/ipykernel_8896/3658594269.py:54: FutureWarning: Series.__getitem__ treating keys as positions is deprecated. In a future version, integer keys will always be treated as labels (consistent with DataFrame behavior). To access a value by position, use `ser.iloc[pos]`\n",
      "  use_col_names.update({col_names[l]:l})\n"
     ]
    },
    {
     "name": "stdout",
     "output_type": "stream",
     "text": [
      "161\n"
     ]
    },
    {
     "name": "stderr",
     "output_type": "stream",
     "text": [
      "/var/folders/xx/46bbfzhs77j5z84b92fz834w0000gn/T/ipykernel_8896/3658594269.py:54: FutureWarning: Series.__getitem__ treating keys as positions is deprecated. In a future version, integer keys will always be treated as labels (consistent with DataFrame behavior). To access a value by position, use `ser.iloc[pos]`\n",
      "  use_col_names.update({col_names[l]:l})\n",
      "/var/folders/xx/46bbfzhs77j5z84b92fz834w0000gn/T/ipykernel_8896/3658594269.py:54: FutureWarning: Series.__getitem__ treating keys as positions is deprecated. In a future version, integer keys will always be treated as labels (consistent with DataFrame behavior). To access a value by position, use `ser.iloc[pos]`\n",
      "  use_col_names.update({col_names[l]:l})\n"
     ]
    },
    {
     "name": "stdout",
     "output_type": "stream",
     "text": [
      "162\n"
     ]
    },
    {
     "name": "stderr",
     "output_type": "stream",
     "text": [
      "/var/folders/xx/46bbfzhs77j5z84b92fz834w0000gn/T/ipykernel_8896/3658594269.py:54: FutureWarning: Series.__getitem__ treating keys as positions is deprecated. In a future version, integer keys will always be treated as labels (consistent with DataFrame behavior). To access a value by position, use `ser.iloc[pos]`\n",
      "  use_col_names.update({col_names[l]:l})\n",
      "/var/folders/xx/46bbfzhs77j5z84b92fz834w0000gn/T/ipykernel_8896/3658594269.py:54: FutureWarning: Series.__getitem__ treating keys as positions is deprecated. In a future version, integer keys will always be treated as labels (consistent with DataFrame behavior). To access a value by position, use `ser.iloc[pos]`\n",
      "  use_col_names.update({col_names[l]:l})\n"
     ]
    },
    {
     "name": "stdout",
     "output_type": "stream",
     "text": [
      "163\n"
     ]
    },
    {
     "name": "stderr",
     "output_type": "stream",
     "text": [
      "/var/folders/xx/46bbfzhs77j5z84b92fz834w0000gn/T/ipykernel_8896/3658594269.py:54: FutureWarning: Series.__getitem__ treating keys as positions is deprecated. In a future version, integer keys will always be treated as labels (consistent with DataFrame behavior). To access a value by position, use `ser.iloc[pos]`\n",
      "  use_col_names.update({col_names[l]:l})\n",
      "/var/folders/xx/46bbfzhs77j5z84b92fz834w0000gn/T/ipykernel_8896/3658594269.py:54: FutureWarning: Series.__getitem__ treating keys as positions is deprecated. In a future version, integer keys will always be treated as labels (consistent with DataFrame behavior). To access a value by position, use `ser.iloc[pos]`\n",
      "  use_col_names.update({col_names[l]:l})\n"
     ]
    },
    {
     "name": "stdout",
     "output_type": "stream",
     "text": [
      "164\n"
     ]
    },
    {
     "name": "stderr",
     "output_type": "stream",
     "text": [
      "/var/folders/xx/46bbfzhs77j5z84b92fz834w0000gn/T/ipykernel_8896/3658594269.py:54: FutureWarning: Series.__getitem__ treating keys as positions is deprecated. In a future version, integer keys will always be treated as labels (consistent with DataFrame behavior). To access a value by position, use `ser.iloc[pos]`\n",
      "  use_col_names.update({col_names[l]:l})\n",
      "/var/folders/xx/46bbfzhs77j5z84b92fz834w0000gn/T/ipykernel_8896/3658594269.py:54: FutureWarning: Series.__getitem__ treating keys as positions is deprecated. In a future version, integer keys will always be treated as labels (consistent with DataFrame behavior). To access a value by position, use `ser.iloc[pos]`\n",
      "  use_col_names.update({col_names[l]:l})\n"
     ]
    },
    {
     "name": "stdout",
     "output_type": "stream",
     "text": [
      "165\n"
     ]
    },
    {
     "name": "stderr",
     "output_type": "stream",
     "text": [
      "/var/folders/xx/46bbfzhs77j5z84b92fz834w0000gn/T/ipykernel_8896/3658594269.py:54: FutureWarning: Series.__getitem__ treating keys as positions is deprecated. In a future version, integer keys will always be treated as labels (consistent with DataFrame behavior). To access a value by position, use `ser.iloc[pos]`\n",
      "  use_col_names.update({col_names[l]:l})\n",
      "/var/folders/xx/46bbfzhs77j5z84b92fz834w0000gn/T/ipykernel_8896/3658594269.py:54: FutureWarning: Series.__getitem__ treating keys as positions is deprecated. In a future version, integer keys will always be treated as labels (consistent with DataFrame behavior). To access a value by position, use `ser.iloc[pos]`\n",
      "  use_col_names.update({col_names[l]:l})\n"
     ]
    },
    {
     "name": "stdout",
     "output_type": "stream",
     "text": [
      "166\n"
     ]
    },
    {
     "name": "stderr",
     "output_type": "stream",
     "text": [
      "/var/folders/xx/46bbfzhs77j5z84b92fz834w0000gn/T/ipykernel_8896/3658594269.py:54: FutureWarning: Series.__getitem__ treating keys as positions is deprecated. In a future version, integer keys will always be treated as labels (consistent with DataFrame behavior). To access a value by position, use `ser.iloc[pos]`\n",
      "  use_col_names.update({col_names[l]:l})\n",
      "/var/folders/xx/46bbfzhs77j5z84b92fz834w0000gn/T/ipykernel_8896/3658594269.py:54: FutureWarning: Series.__getitem__ treating keys as positions is deprecated. In a future version, integer keys will always be treated as labels (consistent with DataFrame behavior). To access a value by position, use `ser.iloc[pos]`\n",
      "  use_col_names.update({col_names[l]:l})\n"
     ]
    },
    {
     "name": "stdout",
     "output_type": "stream",
     "text": [
      "167\n"
     ]
    },
    {
     "name": "stderr",
     "output_type": "stream",
     "text": [
      "/var/folders/xx/46bbfzhs77j5z84b92fz834w0000gn/T/ipykernel_8896/3658594269.py:54: FutureWarning: Series.__getitem__ treating keys as positions is deprecated. In a future version, integer keys will always be treated as labels (consistent with DataFrame behavior). To access a value by position, use `ser.iloc[pos]`\n",
      "  use_col_names.update({col_names[l]:l})\n",
      "/var/folders/xx/46bbfzhs77j5z84b92fz834w0000gn/T/ipykernel_8896/3658594269.py:54: FutureWarning: Series.__getitem__ treating keys as positions is deprecated. In a future version, integer keys will always be treated as labels (consistent with DataFrame behavior). To access a value by position, use `ser.iloc[pos]`\n",
      "  use_col_names.update({col_names[l]:l})\n"
     ]
    },
    {
     "name": "stdout",
     "output_type": "stream",
     "text": [
      "168\n"
     ]
    },
    {
     "name": "stderr",
     "output_type": "stream",
     "text": [
      "/var/folders/xx/46bbfzhs77j5z84b92fz834w0000gn/T/ipykernel_8896/3658594269.py:54: FutureWarning: Series.__getitem__ treating keys as positions is deprecated. In a future version, integer keys will always be treated as labels (consistent with DataFrame behavior). To access a value by position, use `ser.iloc[pos]`\n",
      "  use_col_names.update({col_names[l]:l})\n",
      "/var/folders/xx/46bbfzhs77j5z84b92fz834w0000gn/T/ipykernel_8896/3658594269.py:54: FutureWarning: Series.__getitem__ treating keys as positions is deprecated. In a future version, integer keys will always be treated as labels (consistent with DataFrame behavior). To access a value by position, use `ser.iloc[pos]`\n",
      "  use_col_names.update({col_names[l]:l})\n"
     ]
    },
    {
     "name": "stdout",
     "output_type": "stream",
     "text": [
      "169\n",
      "170\n"
     ]
    },
    {
     "name": "stderr",
     "output_type": "stream",
     "text": [
      "/var/folders/xx/46bbfzhs77j5z84b92fz834w0000gn/T/ipykernel_8896/3658594269.py:54: FutureWarning: Series.__getitem__ treating keys as positions is deprecated. In a future version, integer keys will always be treated as labels (consistent with DataFrame behavior). To access a value by position, use `ser.iloc[pos]`\n",
      "  use_col_names.update({col_names[l]:l})\n",
      "/var/folders/xx/46bbfzhs77j5z84b92fz834w0000gn/T/ipykernel_8896/3658594269.py:54: FutureWarning: Series.__getitem__ treating keys as positions is deprecated. In a future version, integer keys will always be treated as labels (consistent with DataFrame behavior). To access a value by position, use `ser.iloc[pos]`\n",
      "  use_col_names.update({col_names[l]:l})\n"
     ]
    },
    {
     "name": "stdout",
     "output_type": "stream",
     "text": [
      "171\n",
      "172\n",
      "173\n",
      "174\n"
     ]
    },
    {
     "name": "stderr",
     "output_type": "stream",
     "text": [
      "/var/folders/xx/46bbfzhs77j5z84b92fz834w0000gn/T/ipykernel_8896/3658594269.py:54: FutureWarning: Series.__getitem__ treating keys as positions is deprecated. In a future version, integer keys will always be treated as labels (consistent with DataFrame behavior). To access a value by position, use `ser.iloc[pos]`\n",
      "  use_col_names.update({col_names[l]:l})\n",
      "/var/folders/xx/46bbfzhs77j5z84b92fz834w0000gn/T/ipykernel_8896/3658594269.py:54: FutureWarning: Series.__getitem__ treating keys as positions is deprecated. In a future version, integer keys will always be treated as labels (consistent with DataFrame behavior). To access a value by position, use `ser.iloc[pos]`\n",
      "  use_col_names.update({col_names[l]:l})\n"
     ]
    },
    {
     "name": "stdout",
     "output_type": "stream",
     "text": [
      "175\n",
      "176\n",
      "177\n",
      "178\n",
      "179\n",
      "180\n",
      "181\n"
     ]
    },
    {
     "name": "stderr",
     "output_type": "stream",
     "text": [
      "/var/folders/xx/46bbfzhs77j5z84b92fz834w0000gn/T/ipykernel_8896/3658594269.py:54: FutureWarning: Series.__getitem__ treating keys as positions is deprecated. In a future version, integer keys will always be treated as labels (consistent with DataFrame behavior). To access a value by position, use `ser.iloc[pos]`\n",
      "  use_col_names.update({col_names[l]:l})\n",
      "/var/folders/xx/46bbfzhs77j5z84b92fz834w0000gn/T/ipykernel_8896/3658594269.py:54: FutureWarning: Series.__getitem__ treating keys as positions is deprecated. In a future version, integer keys will always be treated as labels (consistent with DataFrame behavior). To access a value by position, use `ser.iloc[pos]`\n",
      "  use_col_names.update({col_names[l]:l})\n",
      "/var/folders/xx/46bbfzhs77j5z84b92fz834w0000gn/T/ipykernel_8896/3658594269.py:54: FutureWarning: Series.__getitem__ treating keys as positions is deprecated. In a future version, integer keys will always be treated as labels (consistent with DataFrame behavior). To access a value by position, use `ser.iloc[pos]`\n",
      "  use_col_names.update({col_names[l]:l})\n"
     ]
    },
    {
     "name": "stdout",
     "output_type": "stream",
     "text": [
      "182\n",
      "183\n",
      "184\n"
     ]
    },
    {
     "name": "stderr",
     "output_type": "stream",
     "text": [
      "/var/folders/xx/46bbfzhs77j5z84b92fz834w0000gn/T/ipykernel_8896/3658594269.py:54: FutureWarning: Series.__getitem__ treating keys as positions is deprecated. In a future version, integer keys will always be treated as labels (consistent with DataFrame behavior). To access a value by position, use `ser.iloc[pos]`\n",
      "  use_col_names.update({col_names[l]:l})\n",
      "/var/folders/xx/46bbfzhs77j5z84b92fz834w0000gn/T/ipykernel_8896/3658594269.py:54: FutureWarning: Series.__getitem__ treating keys as positions is deprecated. In a future version, integer keys will always be treated as labels (consistent with DataFrame behavior). To access a value by position, use `ser.iloc[pos]`\n",
      "  use_col_names.update({col_names[l]:l})\n",
      "/var/folders/xx/46bbfzhs77j5z84b92fz834w0000gn/T/ipykernel_8896/3658594269.py:54: FutureWarning: Series.__getitem__ treating keys as positions is deprecated. In a future version, integer keys will always be treated as labels (consistent with DataFrame behavior). To access a value by position, use `ser.iloc[pos]`\n",
      "  use_col_names.update({col_names[l]:l})\n"
     ]
    },
    {
     "name": "stdout",
     "output_type": "stream",
     "text": [
      "185\n",
      "186\n",
      "187\n"
     ]
    },
    {
     "name": "stderr",
     "output_type": "stream",
     "text": [
      "/var/folders/xx/46bbfzhs77j5z84b92fz834w0000gn/T/ipykernel_8896/3658594269.py:54: FutureWarning: Series.__getitem__ treating keys as positions is deprecated. In a future version, integer keys will always be treated as labels (consistent with DataFrame behavior). To access a value by position, use `ser.iloc[pos]`\n",
      "  use_col_names.update({col_names[l]:l})\n",
      "/var/folders/xx/46bbfzhs77j5z84b92fz834w0000gn/T/ipykernel_8896/3658594269.py:54: FutureWarning: Series.__getitem__ treating keys as positions is deprecated. In a future version, integer keys will always be treated as labels (consistent with DataFrame behavior). To access a value by position, use `ser.iloc[pos]`\n",
      "  use_col_names.update({col_names[l]:l})\n",
      "/var/folders/xx/46bbfzhs77j5z84b92fz834w0000gn/T/ipykernel_8896/3658594269.py:54: FutureWarning: Series.__getitem__ treating keys as positions is deprecated. In a future version, integer keys will always be treated as labels (consistent with DataFrame behavior). To access a value by position, use `ser.iloc[pos]`\n",
      "  use_col_names.update({col_names[l]:l})\n"
     ]
    },
    {
     "name": "stdout",
     "output_type": "stream",
     "text": [
      "188\n",
      "189\n",
      "190\n"
     ]
    },
    {
     "name": "stderr",
     "output_type": "stream",
     "text": [
      "/var/folders/xx/46bbfzhs77j5z84b92fz834w0000gn/T/ipykernel_8896/3658594269.py:54: FutureWarning: Series.__getitem__ treating keys as positions is deprecated. In a future version, integer keys will always be treated as labels (consistent with DataFrame behavior). To access a value by position, use `ser.iloc[pos]`\n",
      "  use_col_names.update({col_names[l]:l})\n",
      "/var/folders/xx/46bbfzhs77j5z84b92fz834w0000gn/T/ipykernel_8896/3658594269.py:54: FutureWarning: Series.__getitem__ treating keys as positions is deprecated. In a future version, integer keys will always be treated as labels (consistent with DataFrame behavior). To access a value by position, use `ser.iloc[pos]`\n",
      "  use_col_names.update({col_names[l]:l})\n",
      "/var/folders/xx/46bbfzhs77j5z84b92fz834w0000gn/T/ipykernel_8896/3658594269.py:54: FutureWarning: Series.__getitem__ treating keys as positions is deprecated. In a future version, integer keys will always be treated as labels (consistent with DataFrame behavior). To access a value by position, use `ser.iloc[pos]`\n",
      "  use_col_names.update({col_names[l]:l})\n"
     ]
    },
    {
     "name": "stdout",
     "output_type": "stream",
     "text": [
      "191\n",
      "192\n",
      "193\n"
     ]
    },
    {
     "name": "stderr",
     "output_type": "stream",
     "text": [
      "/var/folders/xx/46bbfzhs77j5z84b92fz834w0000gn/T/ipykernel_8896/3658594269.py:54: FutureWarning: Series.__getitem__ treating keys as positions is deprecated. In a future version, integer keys will always be treated as labels (consistent with DataFrame behavior). To access a value by position, use `ser.iloc[pos]`\n",
      "  use_col_names.update({col_names[l]:l})\n",
      "/var/folders/xx/46bbfzhs77j5z84b92fz834w0000gn/T/ipykernel_8896/3658594269.py:54: FutureWarning: Series.__getitem__ treating keys as positions is deprecated. In a future version, integer keys will always be treated as labels (consistent with DataFrame behavior). To access a value by position, use `ser.iloc[pos]`\n",
      "  use_col_names.update({col_names[l]:l})\n",
      "/var/folders/xx/46bbfzhs77j5z84b92fz834w0000gn/T/ipykernel_8896/3658594269.py:54: FutureWarning: Series.__getitem__ treating keys as positions is deprecated. In a future version, integer keys will always be treated as labels (consistent with DataFrame behavior). To access a value by position, use `ser.iloc[pos]`\n",
      "  use_col_names.update({col_names[l]:l})\n"
     ]
    },
    {
     "name": "stdout",
     "output_type": "stream",
     "text": [
      "194\n",
      "195\n",
      "196\n"
     ]
    },
    {
     "name": "stderr",
     "output_type": "stream",
     "text": [
      "/var/folders/xx/46bbfzhs77j5z84b92fz834w0000gn/T/ipykernel_8896/3658594269.py:54: FutureWarning: Series.__getitem__ treating keys as positions is deprecated. In a future version, integer keys will always be treated as labels (consistent with DataFrame behavior). To access a value by position, use `ser.iloc[pos]`\n",
      "  use_col_names.update({col_names[l]:l})\n",
      "/var/folders/xx/46bbfzhs77j5z84b92fz834w0000gn/T/ipykernel_8896/3658594269.py:54: FutureWarning: Series.__getitem__ treating keys as positions is deprecated. In a future version, integer keys will always be treated as labels (consistent with DataFrame behavior). To access a value by position, use `ser.iloc[pos]`\n",
      "  use_col_names.update({col_names[l]:l})\n",
      "/var/folders/xx/46bbfzhs77j5z84b92fz834w0000gn/T/ipykernel_8896/3658594269.py:54: FutureWarning: Series.__getitem__ treating keys as positions is deprecated. In a future version, integer keys will always be treated as labels (consistent with DataFrame behavior). To access a value by position, use `ser.iloc[pos]`\n",
      "  use_col_names.update({col_names[l]:l})\n"
     ]
    },
    {
     "name": "stdout",
     "output_type": "stream",
     "text": [
      "197\n",
      "198\n",
      "199\n"
     ]
    },
    {
     "name": "stderr",
     "output_type": "stream",
     "text": [
      "/var/folders/xx/46bbfzhs77j5z84b92fz834w0000gn/T/ipykernel_8896/3658594269.py:54: FutureWarning: Series.__getitem__ treating keys as positions is deprecated. In a future version, integer keys will always be treated as labels (consistent with DataFrame behavior). To access a value by position, use `ser.iloc[pos]`\n",
      "  use_col_names.update({col_names[l]:l})\n",
      "/var/folders/xx/46bbfzhs77j5z84b92fz834w0000gn/T/ipykernel_8896/3658594269.py:54: FutureWarning: Series.__getitem__ treating keys as positions is deprecated. In a future version, integer keys will always be treated as labels (consistent with DataFrame behavior). To access a value by position, use `ser.iloc[pos]`\n",
      "  use_col_names.update({col_names[l]:l})\n",
      "/var/folders/xx/46bbfzhs77j5z84b92fz834w0000gn/T/ipykernel_8896/3658594269.py:54: FutureWarning: Series.__getitem__ treating keys as positions is deprecated. In a future version, integer keys will always be treated as labels (consistent with DataFrame behavior). To access a value by position, use `ser.iloc[pos]`\n",
      "  use_col_names.update({col_names[l]:l})\n"
     ]
    },
    {
     "name": "stdout",
     "output_type": "stream",
     "text": [
      "200\n",
      "201\n",
      "202\n"
     ]
    },
    {
     "name": "stderr",
     "output_type": "stream",
     "text": [
      "/var/folders/xx/46bbfzhs77j5z84b92fz834w0000gn/T/ipykernel_8896/3658594269.py:54: FutureWarning: Series.__getitem__ treating keys as positions is deprecated. In a future version, integer keys will always be treated as labels (consistent with DataFrame behavior). To access a value by position, use `ser.iloc[pos]`\n",
      "  use_col_names.update({col_names[l]:l})\n",
      "/var/folders/xx/46bbfzhs77j5z84b92fz834w0000gn/T/ipykernel_8896/3658594269.py:54: FutureWarning: Series.__getitem__ treating keys as positions is deprecated. In a future version, integer keys will always be treated as labels (consistent with DataFrame behavior). To access a value by position, use `ser.iloc[pos]`\n",
      "  use_col_names.update({col_names[l]:l})\n",
      "/var/folders/xx/46bbfzhs77j5z84b92fz834w0000gn/T/ipykernel_8896/3658594269.py:54: FutureWarning: Series.__getitem__ treating keys as positions is deprecated. In a future version, integer keys will always be treated as labels (consistent with DataFrame behavior). To access a value by position, use `ser.iloc[pos]`\n",
      "  use_col_names.update({col_names[l]:l})\n"
     ]
    },
    {
     "name": "stdout",
     "output_type": "stream",
     "text": [
      "203\n",
      "204\n",
      "205\n"
     ]
    },
    {
     "name": "stderr",
     "output_type": "stream",
     "text": [
      "/var/folders/xx/46bbfzhs77j5z84b92fz834w0000gn/T/ipykernel_8896/3658594269.py:54: FutureWarning: Series.__getitem__ treating keys as positions is deprecated. In a future version, integer keys will always be treated as labels (consistent with DataFrame behavior). To access a value by position, use `ser.iloc[pos]`\n",
      "  use_col_names.update({col_names[l]:l})\n",
      "/var/folders/xx/46bbfzhs77j5z84b92fz834w0000gn/T/ipykernel_8896/3658594269.py:54: FutureWarning: Series.__getitem__ treating keys as positions is deprecated. In a future version, integer keys will always be treated as labels (consistent with DataFrame behavior). To access a value by position, use `ser.iloc[pos]`\n",
      "  use_col_names.update({col_names[l]:l})\n",
      "/var/folders/xx/46bbfzhs77j5z84b92fz834w0000gn/T/ipykernel_8896/3658594269.py:54: FutureWarning: Series.__getitem__ treating keys as positions is deprecated. In a future version, integer keys will always be treated as labels (consistent with DataFrame behavior). To access a value by position, use `ser.iloc[pos]`\n",
      "  use_col_names.update({col_names[l]:l})\n"
     ]
    },
    {
     "name": "stdout",
     "output_type": "stream",
     "text": [
      "206\n",
      "207\n",
      "208\n"
     ]
    },
    {
     "name": "stderr",
     "output_type": "stream",
     "text": [
      "/var/folders/xx/46bbfzhs77j5z84b92fz834w0000gn/T/ipykernel_8896/3658594269.py:54: FutureWarning: Series.__getitem__ treating keys as positions is deprecated. In a future version, integer keys will always be treated as labels (consistent with DataFrame behavior). To access a value by position, use `ser.iloc[pos]`\n",
      "  use_col_names.update({col_names[l]:l})\n",
      "/var/folders/xx/46bbfzhs77j5z84b92fz834w0000gn/T/ipykernel_8896/3658594269.py:54: FutureWarning: Series.__getitem__ treating keys as positions is deprecated. In a future version, integer keys will always be treated as labels (consistent with DataFrame behavior). To access a value by position, use `ser.iloc[pos]`\n",
      "  use_col_names.update({col_names[l]:l})\n",
      "/var/folders/xx/46bbfzhs77j5z84b92fz834w0000gn/T/ipykernel_8896/3658594269.py:54: FutureWarning: Series.__getitem__ treating keys as positions is deprecated. In a future version, integer keys will always be treated as labels (consistent with DataFrame behavior). To access a value by position, use `ser.iloc[pos]`\n",
      "  use_col_names.update({col_names[l]:l})\n",
      "/var/folders/xx/46bbfzhs77j5z84b92fz834w0000gn/T/ipykernel_8896/3658594269.py:54: FutureWarning: Series.__getitem__ treating keys as positions is deprecated. In a future version, integer keys will always be treated as labels (consistent with DataFrame behavior). To access a value by position, use `ser.iloc[pos]`\n",
      "  use_col_names.update({col_names[l]:l})\n",
      "/var/folders/xx/46bbfzhs77j5z84b92fz834w0000gn/T/ipykernel_8896/3658594269.py:54: FutureWarning: Series.__getitem__ treating keys as positions is deprecated. In a future version, integer keys will always be treated as labels (consistent with DataFrame behavior). To access a value by position, use `ser.iloc[pos]`\n",
      "  use_col_names.update({col_names[l]:l})\n"
     ]
    },
    {
     "name": "stdout",
     "output_type": "stream",
     "text": [
      "209\n",
      "210\n",
      "211\n"
     ]
    },
    {
     "name": "stderr",
     "output_type": "stream",
     "text": [
      "/var/folders/xx/46bbfzhs77j5z84b92fz834w0000gn/T/ipykernel_8896/3658594269.py:54: FutureWarning: Series.__getitem__ treating keys as positions is deprecated. In a future version, integer keys will always be treated as labels (consistent with DataFrame behavior). To access a value by position, use `ser.iloc[pos]`\n",
      "  use_col_names.update({col_names[l]:l})\n",
      "/var/folders/xx/46bbfzhs77j5z84b92fz834w0000gn/T/ipykernel_8896/3658594269.py:54: FutureWarning: Series.__getitem__ treating keys as positions is deprecated. In a future version, integer keys will always be treated as labels (consistent with DataFrame behavior). To access a value by position, use `ser.iloc[pos]`\n",
      "  use_col_names.update({col_names[l]:l})\n",
      "/var/folders/xx/46bbfzhs77j5z84b92fz834w0000gn/T/ipykernel_8896/3658594269.py:54: FutureWarning: Series.__getitem__ treating keys as positions is deprecated. In a future version, integer keys will always be treated as labels (consistent with DataFrame behavior). To access a value by position, use `ser.iloc[pos]`\n",
      "  use_col_names.update({col_names[l]:l})\n"
     ]
    },
    {
     "name": "stdout",
     "output_type": "stream",
     "text": [
      "212\n",
      "213\n",
      "214\n"
     ]
    },
    {
     "name": "stderr",
     "output_type": "stream",
     "text": [
      "/var/folders/xx/46bbfzhs77j5z84b92fz834w0000gn/T/ipykernel_8896/3658594269.py:54: FutureWarning: Series.__getitem__ treating keys as positions is deprecated. In a future version, integer keys will always be treated as labels (consistent with DataFrame behavior). To access a value by position, use `ser.iloc[pos]`\n",
      "  use_col_names.update({col_names[l]:l})\n",
      "/var/folders/xx/46bbfzhs77j5z84b92fz834w0000gn/T/ipykernel_8896/3658594269.py:54: FutureWarning: Series.__getitem__ treating keys as positions is deprecated. In a future version, integer keys will always be treated as labels (consistent with DataFrame behavior). To access a value by position, use `ser.iloc[pos]`\n",
      "  use_col_names.update({col_names[l]:l})\n",
      "/var/folders/xx/46bbfzhs77j5z84b92fz834w0000gn/T/ipykernel_8896/3658594269.py:54: FutureWarning: Series.__getitem__ treating keys as positions is deprecated. In a future version, integer keys will always be treated as labels (consistent with DataFrame behavior). To access a value by position, use `ser.iloc[pos]`\n",
      "  use_col_names.update({col_names[l]:l})\n"
     ]
    },
    {
     "name": "stdout",
     "output_type": "stream",
     "text": [
      "215\n",
      "216\n",
      "217\n"
     ]
    },
    {
     "name": "stderr",
     "output_type": "stream",
     "text": [
      "/var/folders/xx/46bbfzhs77j5z84b92fz834w0000gn/T/ipykernel_8896/3658594269.py:54: FutureWarning: Series.__getitem__ treating keys as positions is deprecated. In a future version, integer keys will always be treated as labels (consistent with DataFrame behavior). To access a value by position, use `ser.iloc[pos]`\n",
      "  use_col_names.update({col_names[l]:l})\n",
      "/var/folders/xx/46bbfzhs77j5z84b92fz834w0000gn/T/ipykernel_8896/3658594269.py:54: FutureWarning: Series.__getitem__ treating keys as positions is deprecated. In a future version, integer keys will always be treated as labels (consistent with DataFrame behavior). To access a value by position, use `ser.iloc[pos]`\n",
      "  use_col_names.update({col_names[l]:l})\n"
     ]
    },
    {
     "name": "stdout",
     "output_type": "stream",
     "text": [
      "218\n",
      "219\n"
     ]
    },
    {
     "name": "stderr",
     "output_type": "stream",
     "text": [
      "/var/folders/xx/46bbfzhs77j5z84b92fz834w0000gn/T/ipykernel_8896/3658594269.py:54: FutureWarning: Series.__getitem__ treating keys as positions is deprecated. In a future version, integer keys will always be treated as labels (consistent with DataFrame behavior). To access a value by position, use `ser.iloc[pos]`\n",
      "  use_col_names.update({col_names[l]:l})\n",
      "/var/folders/xx/46bbfzhs77j5z84b92fz834w0000gn/T/ipykernel_8896/3658594269.py:54: FutureWarning: Series.__getitem__ treating keys as positions is deprecated. In a future version, integer keys will always be treated as labels (consistent with DataFrame behavior). To access a value by position, use `ser.iloc[pos]`\n",
      "  use_col_names.update({col_names[l]:l})\n"
     ]
    },
    {
     "name": "stdout",
     "output_type": "stream",
     "text": [
      "220\n",
      "221\n"
     ]
    },
    {
     "name": "stderr",
     "output_type": "stream",
     "text": [
      "/var/folders/xx/46bbfzhs77j5z84b92fz834w0000gn/T/ipykernel_8896/3658594269.py:54: FutureWarning: Series.__getitem__ treating keys as positions is deprecated. In a future version, integer keys will always be treated as labels (consistent with DataFrame behavior). To access a value by position, use `ser.iloc[pos]`\n",
      "  use_col_names.update({col_names[l]:l})\n",
      "/var/folders/xx/46bbfzhs77j5z84b92fz834w0000gn/T/ipykernel_8896/3658594269.py:54: FutureWarning: Series.__getitem__ treating keys as positions is deprecated. In a future version, integer keys will always be treated as labels (consistent with DataFrame behavior). To access a value by position, use `ser.iloc[pos]`\n",
      "  use_col_names.update({col_names[l]:l})\n"
     ]
    },
    {
     "name": "stdout",
     "output_type": "stream",
     "text": [
      "222\n",
      "223\n"
     ]
    },
    {
     "name": "stderr",
     "output_type": "stream",
     "text": [
      "/var/folders/xx/46bbfzhs77j5z84b92fz834w0000gn/T/ipykernel_8896/3658594269.py:54: FutureWarning: Series.__getitem__ treating keys as positions is deprecated. In a future version, integer keys will always be treated as labels (consistent with DataFrame behavior). To access a value by position, use `ser.iloc[pos]`\n",
      "  use_col_names.update({col_names[l]:l})\n",
      "/var/folders/xx/46bbfzhs77j5z84b92fz834w0000gn/T/ipykernel_8896/3658594269.py:54: FutureWarning: Series.__getitem__ treating keys as positions is deprecated. In a future version, integer keys will always be treated as labels (consistent with DataFrame behavior). To access a value by position, use `ser.iloc[pos]`\n",
      "  use_col_names.update({col_names[l]:l})\n"
     ]
    },
    {
     "name": "stdout",
     "output_type": "stream",
     "text": [
      "224\n",
      "225\n"
     ]
    },
    {
     "name": "stderr",
     "output_type": "stream",
     "text": [
      "/var/folders/xx/46bbfzhs77j5z84b92fz834w0000gn/T/ipykernel_8896/3658594269.py:54: FutureWarning: Series.__getitem__ treating keys as positions is deprecated. In a future version, integer keys will always be treated as labels (consistent with DataFrame behavior). To access a value by position, use `ser.iloc[pos]`\n",
      "  use_col_names.update({col_names[l]:l})\n",
      "/var/folders/xx/46bbfzhs77j5z84b92fz834w0000gn/T/ipykernel_8896/3658594269.py:54: FutureWarning: Series.__getitem__ treating keys as positions is deprecated. In a future version, integer keys will always be treated as labels (consistent with DataFrame behavior). To access a value by position, use `ser.iloc[pos]`\n",
      "  use_col_names.update({col_names[l]:l})\n"
     ]
    },
    {
     "name": "stdout",
     "output_type": "stream",
     "text": [
      "226\n",
      "227\n"
     ]
    },
    {
     "name": "stderr",
     "output_type": "stream",
     "text": [
      "/var/folders/xx/46bbfzhs77j5z84b92fz834w0000gn/T/ipykernel_8896/3658594269.py:54: FutureWarning: Series.__getitem__ treating keys as positions is deprecated. In a future version, integer keys will always be treated as labels (consistent with DataFrame behavior). To access a value by position, use `ser.iloc[pos]`\n",
      "  use_col_names.update({col_names[l]:l})\n",
      "/var/folders/xx/46bbfzhs77j5z84b92fz834w0000gn/T/ipykernel_8896/3658594269.py:54: FutureWarning: Series.__getitem__ treating keys as positions is deprecated. In a future version, integer keys will always be treated as labels (consistent with DataFrame behavior). To access a value by position, use `ser.iloc[pos]`\n",
      "  use_col_names.update({col_names[l]:l})\n"
     ]
    },
    {
     "name": "stdout",
     "output_type": "stream",
     "text": [
      "228\n",
      "229\n"
     ]
    },
    {
     "name": "stderr",
     "output_type": "stream",
     "text": [
      "/var/folders/xx/46bbfzhs77j5z84b92fz834w0000gn/T/ipykernel_8896/3658594269.py:54: FutureWarning: Series.__getitem__ treating keys as positions is deprecated. In a future version, integer keys will always be treated as labels (consistent with DataFrame behavior). To access a value by position, use `ser.iloc[pos]`\n",
      "  use_col_names.update({col_names[l]:l})\n",
      "/var/folders/xx/46bbfzhs77j5z84b92fz834w0000gn/T/ipykernel_8896/3658594269.py:54: FutureWarning: Series.__getitem__ treating keys as positions is deprecated. In a future version, integer keys will always be treated as labels (consistent with DataFrame behavior). To access a value by position, use `ser.iloc[pos]`\n",
      "  use_col_names.update({col_names[l]:l})\n"
     ]
    },
    {
     "name": "stdout",
     "output_type": "stream",
     "text": [
      "230\n",
      "231\n"
     ]
    },
    {
     "name": "stderr",
     "output_type": "stream",
     "text": [
      "/var/folders/xx/46bbfzhs77j5z84b92fz834w0000gn/T/ipykernel_8896/3658594269.py:54: FutureWarning: Series.__getitem__ treating keys as positions is deprecated. In a future version, integer keys will always be treated as labels (consistent with DataFrame behavior). To access a value by position, use `ser.iloc[pos]`\n",
      "  use_col_names.update({col_names[l]:l})\n",
      "/var/folders/xx/46bbfzhs77j5z84b92fz834w0000gn/T/ipykernel_8896/3658594269.py:54: FutureWarning: Series.__getitem__ treating keys as positions is deprecated. In a future version, integer keys will always be treated as labels (consistent with DataFrame behavior). To access a value by position, use `ser.iloc[pos]`\n",
      "  use_col_names.update({col_names[l]:l})\n"
     ]
    },
    {
     "name": "stdout",
     "output_type": "stream",
     "text": [
      "232\n",
      "233\n"
     ]
    },
    {
     "name": "stderr",
     "output_type": "stream",
     "text": [
      "/var/folders/xx/46bbfzhs77j5z84b92fz834w0000gn/T/ipykernel_8896/3658594269.py:54: FutureWarning: Series.__getitem__ treating keys as positions is deprecated. In a future version, integer keys will always be treated as labels (consistent with DataFrame behavior). To access a value by position, use `ser.iloc[pos]`\n",
      "  use_col_names.update({col_names[l]:l})\n",
      "/var/folders/xx/46bbfzhs77j5z84b92fz834w0000gn/T/ipykernel_8896/3658594269.py:54: FutureWarning: Series.__getitem__ treating keys as positions is deprecated. In a future version, integer keys will always be treated as labels (consistent with DataFrame behavior). To access a value by position, use `ser.iloc[pos]`\n",
      "  use_col_names.update({col_names[l]:l})\n"
     ]
    },
    {
     "name": "stdout",
     "output_type": "stream",
     "text": [
      "234\n",
      "235\n"
     ]
    },
    {
     "name": "stderr",
     "output_type": "stream",
     "text": [
      "/var/folders/xx/46bbfzhs77j5z84b92fz834w0000gn/T/ipykernel_8896/3658594269.py:54: FutureWarning: Series.__getitem__ treating keys as positions is deprecated. In a future version, integer keys will always be treated as labels (consistent with DataFrame behavior). To access a value by position, use `ser.iloc[pos]`\n",
      "  use_col_names.update({col_names[l]:l})\n",
      "/var/folders/xx/46bbfzhs77j5z84b92fz834w0000gn/T/ipykernel_8896/3658594269.py:54: FutureWarning: Series.__getitem__ treating keys as positions is deprecated. In a future version, integer keys will always be treated as labels (consistent with DataFrame behavior). To access a value by position, use `ser.iloc[pos]`\n",
      "  use_col_names.update({col_names[l]:l})\n"
     ]
    },
    {
     "name": "stdout",
     "output_type": "stream",
     "text": [
      "236\n",
      "237\n"
     ]
    },
    {
     "name": "stderr",
     "output_type": "stream",
     "text": [
      "/var/folders/xx/46bbfzhs77j5z84b92fz834w0000gn/T/ipykernel_8896/3658594269.py:54: FutureWarning: Series.__getitem__ treating keys as positions is deprecated. In a future version, integer keys will always be treated as labels (consistent with DataFrame behavior). To access a value by position, use `ser.iloc[pos]`\n",
      "  use_col_names.update({col_names[l]:l})\n",
      "/var/folders/xx/46bbfzhs77j5z84b92fz834w0000gn/T/ipykernel_8896/3658594269.py:54: FutureWarning: Series.__getitem__ treating keys as positions is deprecated. In a future version, integer keys will always be treated as labels (consistent with DataFrame behavior). To access a value by position, use `ser.iloc[pos]`\n",
      "  use_col_names.update({col_names[l]:l})\n"
     ]
    },
    {
     "name": "stdout",
     "output_type": "stream",
     "text": [
      "238\n",
      "239\n"
     ]
    },
    {
     "name": "stderr",
     "output_type": "stream",
     "text": [
      "/var/folders/xx/46bbfzhs77j5z84b92fz834w0000gn/T/ipykernel_8896/3658594269.py:54: FutureWarning: Series.__getitem__ treating keys as positions is deprecated. In a future version, integer keys will always be treated as labels (consistent with DataFrame behavior). To access a value by position, use `ser.iloc[pos]`\n",
      "  use_col_names.update({col_names[l]:l})\n",
      "/var/folders/xx/46bbfzhs77j5z84b92fz834w0000gn/T/ipykernel_8896/3658594269.py:54: FutureWarning: Series.__getitem__ treating keys as positions is deprecated. In a future version, integer keys will always be treated as labels (consistent with DataFrame behavior). To access a value by position, use `ser.iloc[pos]`\n",
      "  use_col_names.update({col_names[l]:l})\n"
     ]
    },
    {
     "name": "stdout",
     "output_type": "stream",
     "text": [
      "240\n",
      "241\n"
     ]
    },
    {
     "name": "stderr",
     "output_type": "stream",
     "text": [
      "/var/folders/xx/46bbfzhs77j5z84b92fz834w0000gn/T/ipykernel_8896/3658594269.py:54: FutureWarning: Series.__getitem__ treating keys as positions is deprecated. In a future version, integer keys will always be treated as labels (consistent with DataFrame behavior). To access a value by position, use `ser.iloc[pos]`\n",
      "  use_col_names.update({col_names[l]:l})\n",
      "/var/folders/xx/46bbfzhs77j5z84b92fz834w0000gn/T/ipykernel_8896/3658594269.py:54: FutureWarning: Series.__getitem__ treating keys as positions is deprecated. In a future version, integer keys will always be treated as labels (consistent with DataFrame behavior). To access a value by position, use `ser.iloc[pos]`\n",
      "  use_col_names.update({col_names[l]:l})\n"
     ]
    },
    {
     "name": "stdout",
     "output_type": "stream",
     "text": [
      "242\n",
      "243\n"
     ]
    },
    {
     "name": "stderr",
     "output_type": "stream",
     "text": [
      "/var/folders/xx/46bbfzhs77j5z84b92fz834w0000gn/T/ipykernel_8896/3658594269.py:54: FutureWarning: Series.__getitem__ treating keys as positions is deprecated. In a future version, integer keys will always be treated as labels (consistent with DataFrame behavior). To access a value by position, use `ser.iloc[pos]`\n",
      "  use_col_names.update({col_names[l]:l})\n",
      "/var/folders/xx/46bbfzhs77j5z84b92fz834w0000gn/T/ipykernel_8896/3658594269.py:54: FutureWarning: Series.__getitem__ treating keys as positions is deprecated. In a future version, integer keys will always be treated as labels (consistent with DataFrame behavior). To access a value by position, use `ser.iloc[pos]`\n",
      "  use_col_names.update({col_names[l]:l})\n"
     ]
    },
    {
     "name": "stdout",
     "output_type": "stream",
     "text": [
      "244\n",
      "245\n"
     ]
    },
    {
     "name": "stderr",
     "output_type": "stream",
     "text": [
      "/var/folders/xx/46bbfzhs77j5z84b92fz834w0000gn/T/ipykernel_8896/3658594269.py:54: FutureWarning: Series.__getitem__ treating keys as positions is deprecated. In a future version, integer keys will always be treated as labels (consistent with DataFrame behavior). To access a value by position, use `ser.iloc[pos]`\n",
      "  use_col_names.update({col_names[l]:l})\n",
      "/var/folders/xx/46bbfzhs77j5z84b92fz834w0000gn/T/ipykernel_8896/3658594269.py:54: FutureWarning: Series.__getitem__ treating keys as positions is deprecated. In a future version, integer keys will always be treated as labels (consistent with DataFrame behavior). To access a value by position, use `ser.iloc[pos]`\n",
      "  use_col_names.update({col_names[l]:l})\n"
     ]
    },
    {
     "name": "stdout",
     "output_type": "stream",
     "text": [
      "246\n",
      "247\n"
     ]
    },
    {
     "name": "stderr",
     "output_type": "stream",
     "text": [
      "/var/folders/xx/46bbfzhs77j5z84b92fz834w0000gn/T/ipykernel_8896/3658594269.py:54: FutureWarning: Series.__getitem__ treating keys as positions is deprecated. In a future version, integer keys will always be treated as labels (consistent with DataFrame behavior). To access a value by position, use `ser.iloc[pos]`\n",
      "  use_col_names.update({col_names[l]:l})\n",
      "/var/folders/xx/46bbfzhs77j5z84b92fz834w0000gn/T/ipykernel_8896/3658594269.py:54: FutureWarning: Series.__getitem__ treating keys as positions is deprecated. In a future version, integer keys will always be treated as labels (consistent with DataFrame behavior). To access a value by position, use `ser.iloc[pos]`\n",
      "  use_col_names.update({col_names[l]:l})\n"
     ]
    },
    {
     "name": "stdout",
     "output_type": "stream",
     "text": [
      "248\n",
      "249\n"
     ]
    },
    {
     "name": "stderr",
     "output_type": "stream",
     "text": [
      "/var/folders/xx/46bbfzhs77j5z84b92fz834w0000gn/T/ipykernel_8896/3658594269.py:54: FutureWarning: Series.__getitem__ treating keys as positions is deprecated. In a future version, integer keys will always be treated as labels (consistent with DataFrame behavior). To access a value by position, use `ser.iloc[pos]`\n",
      "  use_col_names.update({col_names[l]:l})\n",
      "/var/folders/xx/46bbfzhs77j5z84b92fz834w0000gn/T/ipykernel_8896/3658594269.py:54: FutureWarning: Series.__getitem__ treating keys as positions is deprecated. In a future version, integer keys will always be treated as labels (consistent with DataFrame behavior). To access a value by position, use `ser.iloc[pos]`\n",
      "  use_col_names.update({col_names[l]:l})\n"
     ]
    },
    {
     "name": "stdout",
     "output_type": "stream",
     "text": [
      "250\n",
      "251\n"
     ]
    },
    {
     "name": "stderr",
     "output_type": "stream",
     "text": [
      "/var/folders/xx/46bbfzhs77j5z84b92fz834w0000gn/T/ipykernel_8896/3658594269.py:54: FutureWarning: Series.__getitem__ treating keys as positions is deprecated. In a future version, integer keys will always be treated as labels (consistent with DataFrame behavior). To access a value by position, use `ser.iloc[pos]`\n",
      "  use_col_names.update({col_names[l]:l})\n",
      "/var/folders/xx/46bbfzhs77j5z84b92fz834w0000gn/T/ipykernel_8896/3658594269.py:54: FutureWarning: Series.__getitem__ treating keys as positions is deprecated. In a future version, integer keys will always be treated as labels (consistent with DataFrame behavior). To access a value by position, use `ser.iloc[pos]`\n",
      "  use_col_names.update({col_names[l]:l})\n"
     ]
    },
    {
     "name": "stdout",
     "output_type": "stream",
     "text": [
      "252\n",
      "253\n"
     ]
    },
    {
     "name": "stderr",
     "output_type": "stream",
     "text": [
      "/var/folders/xx/46bbfzhs77j5z84b92fz834w0000gn/T/ipykernel_8896/3658594269.py:54: FutureWarning: Series.__getitem__ treating keys as positions is deprecated. In a future version, integer keys will always be treated as labels (consistent with DataFrame behavior). To access a value by position, use `ser.iloc[pos]`\n",
      "  use_col_names.update({col_names[l]:l})\n",
      "/var/folders/xx/46bbfzhs77j5z84b92fz834w0000gn/T/ipykernel_8896/3658594269.py:54: FutureWarning: Series.__getitem__ treating keys as positions is deprecated. In a future version, integer keys will always be treated as labels (consistent with DataFrame behavior). To access a value by position, use `ser.iloc[pos]`\n",
      "  use_col_names.update({col_names[l]:l})\n"
     ]
    },
    {
     "name": "stdout",
     "output_type": "stream",
     "text": [
      "254\n",
      "255\n"
     ]
    },
    {
     "name": "stderr",
     "output_type": "stream",
     "text": [
      "/var/folders/xx/46bbfzhs77j5z84b92fz834w0000gn/T/ipykernel_8896/3658594269.py:54: FutureWarning: Series.__getitem__ treating keys as positions is deprecated. In a future version, integer keys will always be treated as labels (consistent with DataFrame behavior). To access a value by position, use `ser.iloc[pos]`\n",
      "  use_col_names.update({col_names[l]:l})\n",
      "/var/folders/xx/46bbfzhs77j5z84b92fz834w0000gn/T/ipykernel_8896/3658594269.py:54: FutureWarning: Series.__getitem__ treating keys as positions is deprecated. In a future version, integer keys will always be treated as labels (consistent with DataFrame behavior). To access a value by position, use `ser.iloc[pos]`\n",
      "  use_col_names.update({col_names[l]:l})\n"
     ]
    },
    {
     "name": "stdout",
     "output_type": "stream",
     "text": [
      "256\n",
      "257\n"
     ]
    },
    {
     "name": "stderr",
     "output_type": "stream",
     "text": [
      "/var/folders/xx/46bbfzhs77j5z84b92fz834w0000gn/T/ipykernel_8896/3658594269.py:54: FutureWarning: Series.__getitem__ treating keys as positions is deprecated. In a future version, integer keys will always be treated as labels (consistent with DataFrame behavior). To access a value by position, use `ser.iloc[pos]`\n",
      "  use_col_names.update({col_names[l]:l})\n",
      "/var/folders/xx/46bbfzhs77j5z84b92fz834w0000gn/T/ipykernel_8896/3658594269.py:54: FutureWarning: Series.__getitem__ treating keys as positions is deprecated. In a future version, integer keys will always be treated as labels (consistent with DataFrame behavior). To access a value by position, use `ser.iloc[pos]`\n",
      "  use_col_names.update({col_names[l]:l})\n"
     ]
    },
    {
     "name": "stdout",
     "output_type": "stream",
     "text": [
      "258\n",
      "259\n"
     ]
    },
    {
     "name": "stderr",
     "output_type": "stream",
     "text": [
      "/var/folders/xx/46bbfzhs77j5z84b92fz834w0000gn/T/ipykernel_8896/3658594269.py:54: FutureWarning: Series.__getitem__ treating keys as positions is deprecated. In a future version, integer keys will always be treated as labels (consistent with DataFrame behavior). To access a value by position, use `ser.iloc[pos]`\n",
      "  use_col_names.update({col_names[l]:l})\n",
      "/var/folders/xx/46bbfzhs77j5z84b92fz834w0000gn/T/ipykernel_8896/3658594269.py:54: FutureWarning: Series.__getitem__ treating keys as positions is deprecated. In a future version, integer keys will always be treated as labels (consistent with DataFrame behavior). To access a value by position, use `ser.iloc[pos]`\n",
      "  use_col_names.update({col_names[l]:l})\n"
     ]
    },
    {
     "name": "stdout",
     "output_type": "stream",
     "text": [
      "260\n",
      "261\n"
     ]
    },
    {
     "name": "stderr",
     "output_type": "stream",
     "text": [
      "/var/folders/xx/46bbfzhs77j5z84b92fz834w0000gn/T/ipykernel_8896/3658594269.py:54: FutureWarning: Series.__getitem__ treating keys as positions is deprecated. In a future version, integer keys will always be treated as labels (consistent with DataFrame behavior). To access a value by position, use `ser.iloc[pos]`\n",
      "  use_col_names.update({col_names[l]:l})\n",
      "/var/folders/xx/46bbfzhs77j5z84b92fz834w0000gn/T/ipykernel_8896/3658594269.py:54: FutureWarning: Series.__getitem__ treating keys as positions is deprecated. In a future version, integer keys will always be treated as labels (consistent with DataFrame behavior). To access a value by position, use `ser.iloc[pos]`\n",
      "  use_col_names.update({col_names[l]:l})\n"
     ]
    },
    {
     "name": "stdout",
     "output_type": "stream",
     "text": [
      "262\n",
      "263\n"
     ]
    },
    {
     "name": "stderr",
     "output_type": "stream",
     "text": [
      "/var/folders/xx/46bbfzhs77j5z84b92fz834w0000gn/T/ipykernel_8896/3658594269.py:54: FutureWarning: Series.__getitem__ treating keys as positions is deprecated. In a future version, integer keys will always be treated as labels (consistent with DataFrame behavior). To access a value by position, use `ser.iloc[pos]`\n",
      "  use_col_names.update({col_names[l]:l})\n",
      "/var/folders/xx/46bbfzhs77j5z84b92fz834w0000gn/T/ipykernel_8896/3658594269.py:54: FutureWarning: Series.__getitem__ treating keys as positions is deprecated. In a future version, integer keys will always be treated as labels (consistent with DataFrame behavior). To access a value by position, use `ser.iloc[pos]`\n",
      "  use_col_names.update({col_names[l]:l})\n"
     ]
    },
    {
     "name": "stdout",
     "output_type": "stream",
     "text": [
      "264\n",
      "265\n"
     ]
    },
    {
     "name": "stderr",
     "output_type": "stream",
     "text": [
      "/var/folders/xx/46bbfzhs77j5z84b92fz834w0000gn/T/ipykernel_8896/3658594269.py:54: FutureWarning: Series.__getitem__ treating keys as positions is deprecated. In a future version, integer keys will always be treated as labels (consistent with DataFrame behavior). To access a value by position, use `ser.iloc[pos]`\n",
      "  use_col_names.update({col_names[l]:l})\n",
      "/var/folders/xx/46bbfzhs77j5z84b92fz834w0000gn/T/ipykernel_8896/3658594269.py:54: FutureWarning: Series.__getitem__ treating keys as positions is deprecated. In a future version, integer keys will always be treated as labels (consistent with DataFrame behavior). To access a value by position, use `ser.iloc[pos]`\n",
      "  use_col_names.update({col_names[l]:l})\n"
     ]
    },
    {
     "name": "stdout",
     "output_type": "stream",
     "text": [
      "266\n",
      "267\n"
     ]
    },
    {
     "name": "stderr",
     "output_type": "stream",
     "text": [
      "/var/folders/xx/46bbfzhs77j5z84b92fz834w0000gn/T/ipykernel_8896/3658594269.py:54: FutureWarning: Series.__getitem__ treating keys as positions is deprecated. In a future version, integer keys will always be treated as labels (consistent with DataFrame behavior). To access a value by position, use `ser.iloc[pos]`\n",
      "  use_col_names.update({col_names[l]:l})\n",
      "/var/folders/xx/46bbfzhs77j5z84b92fz834w0000gn/T/ipykernel_8896/3658594269.py:54: FutureWarning: Series.__getitem__ treating keys as positions is deprecated. In a future version, integer keys will always be treated as labels (consistent with DataFrame behavior). To access a value by position, use `ser.iloc[pos]`\n",
      "  use_col_names.update({col_names[l]:l})\n"
     ]
    },
    {
     "name": "stdout",
     "output_type": "stream",
     "text": [
      "268\n",
      "269\n"
     ]
    },
    {
     "name": "stderr",
     "output_type": "stream",
     "text": [
      "/var/folders/xx/46bbfzhs77j5z84b92fz834w0000gn/T/ipykernel_8896/3658594269.py:54: FutureWarning: Series.__getitem__ treating keys as positions is deprecated. In a future version, integer keys will always be treated as labels (consistent with DataFrame behavior). To access a value by position, use `ser.iloc[pos]`\n",
      "  use_col_names.update({col_names[l]:l})\n",
      "/var/folders/xx/46bbfzhs77j5z84b92fz834w0000gn/T/ipykernel_8896/3658594269.py:54: FutureWarning: Series.__getitem__ treating keys as positions is deprecated. In a future version, integer keys will always be treated as labels (consistent with DataFrame behavior). To access a value by position, use `ser.iloc[pos]`\n",
      "  use_col_names.update({col_names[l]:l})\n"
     ]
    },
    {
     "name": "stdout",
     "output_type": "stream",
     "text": [
      "270\n",
      "271\n"
     ]
    },
    {
     "name": "stderr",
     "output_type": "stream",
     "text": [
      "/var/folders/xx/46bbfzhs77j5z84b92fz834w0000gn/T/ipykernel_8896/3658594269.py:54: FutureWarning: Series.__getitem__ treating keys as positions is deprecated. In a future version, integer keys will always be treated as labels (consistent with DataFrame behavior). To access a value by position, use `ser.iloc[pos]`\n",
      "  use_col_names.update({col_names[l]:l})\n",
      "/var/folders/xx/46bbfzhs77j5z84b92fz834w0000gn/T/ipykernel_8896/3658594269.py:54: FutureWarning: Series.__getitem__ treating keys as positions is deprecated. In a future version, integer keys will always be treated as labels (consistent with DataFrame behavior). To access a value by position, use `ser.iloc[pos]`\n",
      "  use_col_names.update({col_names[l]:l})\n"
     ]
    },
    {
     "name": "stdout",
     "output_type": "stream",
     "text": [
      "272\n",
      "273\n"
     ]
    },
    {
     "name": "stderr",
     "output_type": "stream",
     "text": [
      "/var/folders/xx/46bbfzhs77j5z84b92fz834w0000gn/T/ipykernel_8896/3658594269.py:54: FutureWarning: Series.__getitem__ treating keys as positions is deprecated. In a future version, integer keys will always be treated as labels (consistent with DataFrame behavior). To access a value by position, use `ser.iloc[pos]`\n",
      "  use_col_names.update({col_names[l]:l})\n",
      "/var/folders/xx/46bbfzhs77j5z84b92fz834w0000gn/T/ipykernel_8896/3658594269.py:54: FutureWarning: Series.__getitem__ treating keys as positions is deprecated. In a future version, integer keys will always be treated as labels (consistent with DataFrame behavior). To access a value by position, use `ser.iloc[pos]`\n",
      "  use_col_names.update({col_names[l]:l})\n"
     ]
    },
    {
     "name": "stdout",
     "output_type": "stream",
     "text": [
      "274\n",
      "275\n"
     ]
    },
    {
     "name": "stderr",
     "output_type": "stream",
     "text": [
      "/var/folders/xx/46bbfzhs77j5z84b92fz834w0000gn/T/ipykernel_8896/3658594269.py:54: FutureWarning: Series.__getitem__ treating keys as positions is deprecated. In a future version, integer keys will always be treated as labels (consistent with DataFrame behavior). To access a value by position, use `ser.iloc[pos]`\n",
      "  use_col_names.update({col_names[l]:l})\n",
      "/var/folders/xx/46bbfzhs77j5z84b92fz834w0000gn/T/ipykernel_8896/3658594269.py:54: FutureWarning: Series.__getitem__ treating keys as positions is deprecated. In a future version, integer keys will always be treated as labels (consistent with DataFrame behavior). To access a value by position, use `ser.iloc[pos]`\n",
      "  use_col_names.update({col_names[l]:l})\n"
     ]
    },
    {
     "name": "stdout",
     "output_type": "stream",
     "text": [
      "276\n",
      "277\n"
     ]
    },
    {
     "name": "stderr",
     "output_type": "stream",
     "text": [
      "/var/folders/xx/46bbfzhs77j5z84b92fz834w0000gn/T/ipykernel_8896/3658594269.py:54: FutureWarning: Series.__getitem__ treating keys as positions is deprecated. In a future version, integer keys will always be treated as labels (consistent with DataFrame behavior). To access a value by position, use `ser.iloc[pos]`\n",
      "  use_col_names.update({col_names[l]:l})\n",
      "/var/folders/xx/46bbfzhs77j5z84b92fz834w0000gn/T/ipykernel_8896/3658594269.py:54: FutureWarning: Series.__getitem__ treating keys as positions is deprecated. In a future version, integer keys will always be treated as labels (consistent with DataFrame behavior). To access a value by position, use `ser.iloc[pos]`\n",
      "  use_col_names.update({col_names[l]:l})\n"
     ]
    },
    {
     "name": "stdout",
     "output_type": "stream",
     "text": [
      "278\n",
      "279\n"
     ]
    },
    {
     "name": "stderr",
     "output_type": "stream",
     "text": [
      "/var/folders/xx/46bbfzhs77j5z84b92fz834w0000gn/T/ipykernel_8896/3658594269.py:54: FutureWarning: Series.__getitem__ treating keys as positions is deprecated. In a future version, integer keys will always be treated as labels (consistent with DataFrame behavior). To access a value by position, use `ser.iloc[pos]`\n",
      "  use_col_names.update({col_names[l]:l})\n",
      "/var/folders/xx/46bbfzhs77j5z84b92fz834w0000gn/T/ipykernel_8896/3658594269.py:54: FutureWarning: Series.__getitem__ treating keys as positions is deprecated. In a future version, integer keys will always be treated as labels (consistent with DataFrame behavior). To access a value by position, use `ser.iloc[pos]`\n",
      "  use_col_names.update({col_names[l]:l})\n"
     ]
    },
    {
     "name": "stdout",
     "output_type": "stream",
     "text": [
      "280\n",
      "281\n"
     ]
    },
    {
     "name": "stderr",
     "output_type": "stream",
     "text": [
      "/var/folders/xx/46bbfzhs77j5z84b92fz834w0000gn/T/ipykernel_8896/3658594269.py:54: FutureWarning: Series.__getitem__ treating keys as positions is deprecated. In a future version, integer keys will always be treated as labels (consistent with DataFrame behavior). To access a value by position, use `ser.iloc[pos]`\n",
      "  use_col_names.update({col_names[l]:l})\n",
      "/var/folders/xx/46bbfzhs77j5z84b92fz834w0000gn/T/ipykernel_8896/3658594269.py:54: FutureWarning: Series.__getitem__ treating keys as positions is deprecated. In a future version, integer keys will always be treated as labels (consistent with DataFrame behavior). To access a value by position, use `ser.iloc[pos]`\n",
      "  use_col_names.update({col_names[l]:l})\n"
     ]
    },
    {
     "name": "stdout",
     "output_type": "stream",
     "text": [
      "282\n",
      "283\n"
     ]
    },
    {
     "name": "stderr",
     "output_type": "stream",
     "text": [
      "/var/folders/xx/46bbfzhs77j5z84b92fz834w0000gn/T/ipykernel_8896/3658594269.py:54: FutureWarning: Series.__getitem__ treating keys as positions is deprecated. In a future version, integer keys will always be treated as labels (consistent with DataFrame behavior). To access a value by position, use `ser.iloc[pos]`\n",
      "  use_col_names.update({col_names[l]:l})\n",
      "/var/folders/xx/46bbfzhs77j5z84b92fz834w0000gn/T/ipykernel_8896/3658594269.py:54: FutureWarning: Series.__getitem__ treating keys as positions is deprecated. In a future version, integer keys will always be treated as labels (consistent with DataFrame behavior). To access a value by position, use `ser.iloc[pos]`\n",
      "  use_col_names.update({col_names[l]:l})\n"
     ]
    },
    {
     "name": "stdout",
     "output_type": "stream",
     "text": [
      "284\n",
      "285\n"
     ]
    },
    {
     "name": "stderr",
     "output_type": "stream",
     "text": [
      "/var/folders/xx/46bbfzhs77j5z84b92fz834w0000gn/T/ipykernel_8896/3658594269.py:54: FutureWarning: Series.__getitem__ treating keys as positions is deprecated. In a future version, integer keys will always be treated as labels (consistent with DataFrame behavior). To access a value by position, use `ser.iloc[pos]`\n",
      "  use_col_names.update({col_names[l]:l})\n",
      "/var/folders/xx/46bbfzhs77j5z84b92fz834w0000gn/T/ipykernel_8896/3658594269.py:54: FutureWarning: Series.__getitem__ treating keys as positions is deprecated. In a future version, integer keys will always be treated as labels (consistent with DataFrame behavior). To access a value by position, use `ser.iloc[pos]`\n",
      "  use_col_names.update({col_names[l]:l})\n"
     ]
    },
    {
     "name": "stdout",
     "output_type": "stream",
     "text": [
      "286\n",
      "287\n"
     ]
    },
    {
     "name": "stderr",
     "output_type": "stream",
     "text": [
      "/var/folders/xx/46bbfzhs77j5z84b92fz834w0000gn/T/ipykernel_8896/3658594269.py:54: FutureWarning: Series.__getitem__ treating keys as positions is deprecated. In a future version, integer keys will always be treated as labels (consistent with DataFrame behavior). To access a value by position, use `ser.iloc[pos]`\n",
      "  use_col_names.update({col_names[l]:l})\n",
      "/var/folders/xx/46bbfzhs77j5z84b92fz834w0000gn/T/ipykernel_8896/3658594269.py:54: FutureWarning: Series.__getitem__ treating keys as positions is deprecated. In a future version, integer keys will always be treated as labels (consistent with DataFrame behavior). To access a value by position, use `ser.iloc[pos]`\n",
      "  use_col_names.update({col_names[l]:l})\n"
     ]
    },
    {
     "name": "stdout",
     "output_type": "stream",
     "text": [
      "288\n",
      "289\n"
     ]
    },
    {
     "name": "stderr",
     "output_type": "stream",
     "text": [
      "/var/folders/xx/46bbfzhs77j5z84b92fz834w0000gn/T/ipykernel_8896/3658594269.py:54: FutureWarning: Series.__getitem__ treating keys as positions is deprecated. In a future version, integer keys will always be treated as labels (consistent with DataFrame behavior). To access a value by position, use `ser.iloc[pos]`\n",
      "  use_col_names.update({col_names[l]:l})\n",
      "/var/folders/xx/46bbfzhs77j5z84b92fz834w0000gn/T/ipykernel_8896/3658594269.py:54: FutureWarning: Series.__getitem__ treating keys as positions is deprecated. In a future version, integer keys will always be treated as labels (consistent with DataFrame behavior). To access a value by position, use `ser.iloc[pos]`\n",
      "  use_col_names.update({col_names[l]:l})\n"
     ]
    },
    {
     "name": "stdout",
     "output_type": "stream",
     "text": [
      "290\n",
      "291\n"
     ]
    },
    {
     "name": "stderr",
     "output_type": "stream",
     "text": [
      "/var/folders/xx/46bbfzhs77j5z84b92fz834w0000gn/T/ipykernel_8896/3658594269.py:54: FutureWarning: Series.__getitem__ treating keys as positions is deprecated. In a future version, integer keys will always be treated as labels (consistent with DataFrame behavior). To access a value by position, use `ser.iloc[pos]`\n",
      "  use_col_names.update({col_names[l]:l})\n",
      "/var/folders/xx/46bbfzhs77j5z84b92fz834w0000gn/T/ipykernel_8896/3658594269.py:54: FutureWarning: Series.__getitem__ treating keys as positions is deprecated. In a future version, integer keys will always be treated as labels (consistent with DataFrame behavior). To access a value by position, use `ser.iloc[pos]`\n",
      "  use_col_names.update({col_names[l]:l})\n"
     ]
    },
    {
     "name": "stdout",
     "output_type": "stream",
     "text": [
      "292\n",
      "293\n"
     ]
    },
    {
     "name": "stderr",
     "output_type": "stream",
     "text": [
      "/var/folders/xx/46bbfzhs77j5z84b92fz834w0000gn/T/ipykernel_8896/3658594269.py:54: FutureWarning: Series.__getitem__ treating keys as positions is deprecated. In a future version, integer keys will always be treated as labels (consistent with DataFrame behavior). To access a value by position, use `ser.iloc[pos]`\n",
      "  use_col_names.update({col_names[l]:l})\n",
      "/var/folders/xx/46bbfzhs77j5z84b92fz834w0000gn/T/ipykernel_8896/3658594269.py:54: FutureWarning: Series.__getitem__ treating keys as positions is deprecated. In a future version, integer keys will always be treated as labels (consistent with DataFrame behavior). To access a value by position, use `ser.iloc[pos]`\n",
      "  use_col_names.update({col_names[l]:l})\n"
     ]
    },
    {
     "name": "stdout",
     "output_type": "stream",
     "text": [
      "294\n",
      "295\n"
     ]
    },
    {
     "name": "stderr",
     "output_type": "stream",
     "text": [
      "/var/folders/xx/46bbfzhs77j5z84b92fz834w0000gn/T/ipykernel_8896/3658594269.py:54: FutureWarning: Series.__getitem__ treating keys as positions is deprecated. In a future version, integer keys will always be treated as labels (consistent with DataFrame behavior). To access a value by position, use `ser.iloc[pos]`\n",
      "  use_col_names.update({col_names[l]:l})\n",
      "/var/folders/xx/46bbfzhs77j5z84b92fz834w0000gn/T/ipykernel_8896/3658594269.py:54: FutureWarning: Series.__getitem__ treating keys as positions is deprecated. In a future version, integer keys will always be treated as labels (consistent with DataFrame behavior). To access a value by position, use `ser.iloc[pos]`\n",
      "  use_col_names.update({col_names[l]:l})\n"
     ]
    },
    {
     "name": "stdout",
     "output_type": "stream",
     "text": [
      "296\n",
      "297\n"
     ]
    },
    {
     "name": "stderr",
     "output_type": "stream",
     "text": [
      "/var/folders/xx/46bbfzhs77j5z84b92fz834w0000gn/T/ipykernel_8896/3658594269.py:54: FutureWarning: Series.__getitem__ treating keys as positions is deprecated. In a future version, integer keys will always be treated as labels (consistent with DataFrame behavior). To access a value by position, use `ser.iloc[pos]`\n",
      "  use_col_names.update({col_names[l]:l})\n",
      "/var/folders/xx/46bbfzhs77j5z84b92fz834w0000gn/T/ipykernel_8896/3658594269.py:54: FutureWarning: Series.__getitem__ treating keys as positions is deprecated. In a future version, integer keys will always be treated as labels (consistent with DataFrame behavior). To access a value by position, use `ser.iloc[pos]`\n",
      "  use_col_names.update({col_names[l]:l})\n"
     ]
    },
    {
     "name": "stdout",
     "output_type": "stream",
     "text": [
      "298\n",
      "299\n"
     ]
    },
    {
     "name": "stderr",
     "output_type": "stream",
     "text": [
      "/var/folders/xx/46bbfzhs77j5z84b92fz834w0000gn/T/ipykernel_8896/3658594269.py:54: FutureWarning: Series.__getitem__ treating keys as positions is deprecated. In a future version, integer keys will always be treated as labels (consistent with DataFrame behavior). To access a value by position, use `ser.iloc[pos]`\n",
      "  use_col_names.update({col_names[l]:l})\n",
      "/var/folders/xx/46bbfzhs77j5z84b92fz834w0000gn/T/ipykernel_8896/3658594269.py:54: FutureWarning: Series.__getitem__ treating keys as positions is deprecated. In a future version, integer keys will always be treated as labels (consistent with DataFrame behavior). To access a value by position, use `ser.iloc[pos]`\n",
      "  use_col_names.update({col_names[l]:l})\n"
     ]
    },
    {
     "name": "stdout",
     "output_type": "stream",
     "text": [
      "300\n",
      "301\n"
     ]
    },
    {
     "name": "stderr",
     "output_type": "stream",
     "text": [
      "/var/folders/xx/46bbfzhs77j5z84b92fz834w0000gn/T/ipykernel_8896/3658594269.py:54: FutureWarning: Series.__getitem__ treating keys as positions is deprecated. In a future version, integer keys will always be treated as labels (consistent with DataFrame behavior). To access a value by position, use `ser.iloc[pos]`\n",
      "  use_col_names.update({col_names[l]:l})\n",
      "/var/folders/xx/46bbfzhs77j5z84b92fz834w0000gn/T/ipykernel_8896/3658594269.py:54: FutureWarning: Series.__getitem__ treating keys as positions is deprecated. In a future version, integer keys will always be treated as labels (consistent with DataFrame behavior). To access a value by position, use `ser.iloc[pos]`\n",
      "  use_col_names.update({col_names[l]:l})\n"
     ]
    },
    {
     "name": "stdout",
     "output_type": "stream",
     "text": [
      "302\n",
      "303\n"
     ]
    },
    {
     "name": "stderr",
     "output_type": "stream",
     "text": [
      "/var/folders/xx/46bbfzhs77j5z84b92fz834w0000gn/T/ipykernel_8896/3658594269.py:54: FutureWarning: Series.__getitem__ treating keys as positions is deprecated. In a future version, integer keys will always be treated as labels (consistent with DataFrame behavior). To access a value by position, use `ser.iloc[pos]`\n",
      "  use_col_names.update({col_names[l]:l})\n",
      "/var/folders/xx/46bbfzhs77j5z84b92fz834w0000gn/T/ipykernel_8896/3658594269.py:54: FutureWarning: Series.__getitem__ treating keys as positions is deprecated. In a future version, integer keys will always be treated as labels (consistent with DataFrame behavior). To access a value by position, use `ser.iloc[pos]`\n",
      "  use_col_names.update({col_names[l]:l})\n"
     ]
    },
    {
     "name": "stdout",
     "output_type": "stream",
     "text": [
      "304\n",
      "305\n"
     ]
    },
    {
     "name": "stderr",
     "output_type": "stream",
     "text": [
      "/var/folders/xx/46bbfzhs77j5z84b92fz834w0000gn/T/ipykernel_8896/3658594269.py:54: FutureWarning: Series.__getitem__ treating keys as positions is deprecated. In a future version, integer keys will always be treated as labels (consistent with DataFrame behavior). To access a value by position, use `ser.iloc[pos]`\n",
      "  use_col_names.update({col_names[l]:l})\n",
      "/var/folders/xx/46bbfzhs77j5z84b92fz834w0000gn/T/ipykernel_8896/3658594269.py:54: FutureWarning: Series.__getitem__ treating keys as positions is deprecated. In a future version, integer keys will always be treated as labels (consistent with DataFrame behavior). To access a value by position, use `ser.iloc[pos]`\n",
      "  use_col_names.update({col_names[l]:l})\n"
     ]
    },
    {
     "name": "stdout",
     "output_type": "stream",
     "text": [
      "306\n",
      "307\n"
     ]
    },
    {
     "name": "stderr",
     "output_type": "stream",
     "text": [
      "/var/folders/xx/46bbfzhs77j5z84b92fz834w0000gn/T/ipykernel_8896/3658594269.py:54: FutureWarning: Series.__getitem__ treating keys as positions is deprecated. In a future version, integer keys will always be treated as labels (consistent with DataFrame behavior). To access a value by position, use `ser.iloc[pos]`\n",
      "  use_col_names.update({col_names[l]:l})\n",
      "/var/folders/xx/46bbfzhs77j5z84b92fz834w0000gn/T/ipykernel_8896/3658594269.py:54: FutureWarning: Series.__getitem__ treating keys as positions is deprecated. In a future version, integer keys will always be treated as labels (consistent with DataFrame behavior). To access a value by position, use `ser.iloc[pos]`\n",
      "  use_col_names.update({col_names[l]:l})\n"
     ]
    },
    {
     "name": "stdout",
     "output_type": "stream",
     "text": [
      "308\n",
      "309\n"
     ]
    },
    {
     "name": "stderr",
     "output_type": "stream",
     "text": [
      "/var/folders/xx/46bbfzhs77j5z84b92fz834w0000gn/T/ipykernel_8896/3658594269.py:54: FutureWarning: Series.__getitem__ treating keys as positions is deprecated. In a future version, integer keys will always be treated as labels (consistent with DataFrame behavior). To access a value by position, use `ser.iloc[pos]`\n",
      "  use_col_names.update({col_names[l]:l})\n",
      "/var/folders/xx/46bbfzhs77j5z84b92fz834w0000gn/T/ipykernel_8896/3658594269.py:54: FutureWarning: Series.__getitem__ treating keys as positions is deprecated. In a future version, integer keys will always be treated as labels (consistent with DataFrame behavior). To access a value by position, use `ser.iloc[pos]`\n",
      "  use_col_names.update({col_names[l]:l})\n"
     ]
    },
    {
     "name": "stdout",
     "output_type": "stream",
     "text": [
      "310\n",
      "311\n"
     ]
    },
    {
     "name": "stderr",
     "output_type": "stream",
     "text": [
      "/var/folders/xx/46bbfzhs77j5z84b92fz834w0000gn/T/ipykernel_8896/3658594269.py:54: FutureWarning: Series.__getitem__ treating keys as positions is deprecated. In a future version, integer keys will always be treated as labels (consistent with DataFrame behavior). To access a value by position, use `ser.iloc[pos]`\n",
      "  use_col_names.update({col_names[l]:l})\n",
      "/var/folders/xx/46bbfzhs77j5z84b92fz834w0000gn/T/ipykernel_8896/3658594269.py:54: FutureWarning: Series.__getitem__ treating keys as positions is deprecated. In a future version, integer keys will always be treated as labels (consistent with DataFrame behavior). To access a value by position, use `ser.iloc[pos]`\n",
      "  use_col_names.update({col_names[l]:l})\n"
     ]
    },
    {
     "name": "stdout",
     "output_type": "stream",
     "text": [
      "312\n",
      "313\n"
     ]
    },
    {
     "name": "stderr",
     "output_type": "stream",
     "text": [
      "/var/folders/xx/46bbfzhs77j5z84b92fz834w0000gn/T/ipykernel_8896/3658594269.py:54: FutureWarning: Series.__getitem__ treating keys as positions is deprecated. In a future version, integer keys will always be treated as labels (consistent with DataFrame behavior). To access a value by position, use `ser.iloc[pos]`\n",
      "  use_col_names.update({col_names[l]:l})\n",
      "/var/folders/xx/46bbfzhs77j5z84b92fz834w0000gn/T/ipykernel_8896/3658594269.py:54: FutureWarning: Series.__getitem__ treating keys as positions is deprecated. In a future version, integer keys will always be treated as labels (consistent with DataFrame behavior). To access a value by position, use `ser.iloc[pos]`\n",
      "  use_col_names.update({col_names[l]:l})\n"
     ]
    },
    {
     "name": "stdout",
     "output_type": "stream",
     "text": [
      "314\n",
      "315\n"
     ]
    },
    {
     "name": "stderr",
     "output_type": "stream",
     "text": [
      "/var/folders/xx/46bbfzhs77j5z84b92fz834w0000gn/T/ipykernel_8896/3658594269.py:54: FutureWarning: Series.__getitem__ treating keys as positions is deprecated. In a future version, integer keys will always be treated as labels (consistent with DataFrame behavior). To access a value by position, use `ser.iloc[pos]`\n",
      "  use_col_names.update({col_names[l]:l})\n",
      "/var/folders/xx/46bbfzhs77j5z84b92fz834w0000gn/T/ipykernel_8896/3658594269.py:54: FutureWarning: Series.__getitem__ treating keys as positions is deprecated. In a future version, integer keys will always be treated as labels (consistent with DataFrame behavior). To access a value by position, use `ser.iloc[pos]`\n",
      "  use_col_names.update({col_names[l]:l})\n"
     ]
    },
    {
     "name": "stdout",
     "output_type": "stream",
     "text": [
      "316\n",
      "317\n"
     ]
    },
    {
     "name": "stderr",
     "output_type": "stream",
     "text": [
      "/var/folders/xx/46bbfzhs77j5z84b92fz834w0000gn/T/ipykernel_8896/3658594269.py:54: FutureWarning: Series.__getitem__ treating keys as positions is deprecated. In a future version, integer keys will always be treated as labels (consistent with DataFrame behavior). To access a value by position, use `ser.iloc[pos]`\n",
      "  use_col_names.update({col_names[l]:l})\n",
      "/var/folders/xx/46bbfzhs77j5z84b92fz834w0000gn/T/ipykernel_8896/3658594269.py:54: FutureWarning: Series.__getitem__ treating keys as positions is deprecated. In a future version, integer keys will always be treated as labels (consistent with DataFrame behavior). To access a value by position, use `ser.iloc[pos]`\n",
      "  use_col_names.update({col_names[l]:l})\n"
     ]
    },
    {
     "name": "stdout",
     "output_type": "stream",
     "text": [
      "318\n",
      "319\n"
     ]
    },
    {
     "name": "stderr",
     "output_type": "stream",
     "text": [
      "/var/folders/xx/46bbfzhs77j5z84b92fz834w0000gn/T/ipykernel_8896/3658594269.py:54: FutureWarning: Series.__getitem__ treating keys as positions is deprecated. In a future version, integer keys will always be treated as labels (consistent with DataFrame behavior). To access a value by position, use `ser.iloc[pos]`\n",
      "  use_col_names.update({col_names[l]:l})\n",
      "/var/folders/xx/46bbfzhs77j5z84b92fz834w0000gn/T/ipykernel_8896/3658594269.py:54: FutureWarning: Series.__getitem__ treating keys as positions is deprecated. In a future version, integer keys will always be treated as labels (consistent with DataFrame behavior). To access a value by position, use `ser.iloc[pos]`\n",
      "  use_col_names.update({col_names[l]:l})\n"
     ]
    },
    {
     "name": "stdout",
     "output_type": "stream",
     "text": [
      "320\n",
      "321\n"
     ]
    },
    {
     "name": "stderr",
     "output_type": "stream",
     "text": [
      "/var/folders/xx/46bbfzhs77j5z84b92fz834w0000gn/T/ipykernel_8896/3658594269.py:54: FutureWarning: Series.__getitem__ treating keys as positions is deprecated. In a future version, integer keys will always be treated as labels (consistent with DataFrame behavior). To access a value by position, use `ser.iloc[pos]`\n",
      "  use_col_names.update({col_names[l]:l})\n",
      "/var/folders/xx/46bbfzhs77j5z84b92fz834w0000gn/T/ipykernel_8896/3658594269.py:54: FutureWarning: Series.__getitem__ treating keys as positions is deprecated. In a future version, integer keys will always be treated as labels (consistent with DataFrame behavior). To access a value by position, use `ser.iloc[pos]`\n",
      "  use_col_names.update({col_names[l]:l})\n"
     ]
    },
    {
     "name": "stdout",
     "output_type": "stream",
     "text": [
      "322\n",
      "323\n"
     ]
    },
    {
     "name": "stderr",
     "output_type": "stream",
     "text": [
      "/var/folders/xx/46bbfzhs77j5z84b92fz834w0000gn/T/ipykernel_8896/3658594269.py:54: FutureWarning: Series.__getitem__ treating keys as positions is deprecated. In a future version, integer keys will always be treated as labels (consistent with DataFrame behavior). To access a value by position, use `ser.iloc[pos]`\n",
      "  use_col_names.update({col_names[l]:l})\n",
      "/var/folders/xx/46bbfzhs77j5z84b92fz834w0000gn/T/ipykernel_8896/3658594269.py:54: FutureWarning: Series.__getitem__ treating keys as positions is deprecated. In a future version, integer keys will always be treated as labels (consistent with DataFrame behavior). To access a value by position, use `ser.iloc[pos]`\n",
      "  use_col_names.update({col_names[l]:l})\n"
     ]
    },
    {
     "name": "stdout",
     "output_type": "stream",
     "text": [
      "324\n",
      "325\n"
     ]
    },
    {
     "name": "stderr",
     "output_type": "stream",
     "text": [
      "/var/folders/xx/46bbfzhs77j5z84b92fz834w0000gn/T/ipykernel_8896/3658594269.py:54: FutureWarning: Series.__getitem__ treating keys as positions is deprecated. In a future version, integer keys will always be treated as labels (consistent with DataFrame behavior). To access a value by position, use `ser.iloc[pos]`\n",
      "  use_col_names.update({col_names[l]:l})\n",
      "/var/folders/xx/46bbfzhs77j5z84b92fz834w0000gn/T/ipykernel_8896/3658594269.py:54: FutureWarning: Series.__getitem__ treating keys as positions is deprecated. In a future version, integer keys will always be treated as labels (consistent with DataFrame behavior). To access a value by position, use `ser.iloc[pos]`\n",
      "  use_col_names.update({col_names[l]:l})\n"
     ]
    },
    {
     "name": "stdout",
     "output_type": "stream",
     "text": [
      "326\n",
      "327\n"
     ]
    },
    {
     "name": "stderr",
     "output_type": "stream",
     "text": [
      "/var/folders/xx/46bbfzhs77j5z84b92fz834w0000gn/T/ipykernel_8896/3658594269.py:54: FutureWarning: Series.__getitem__ treating keys as positions is deprecated. In a future version, integer keys will always be treated as labels (consistent with DataFrame behavior). To access a value by position, use `ser.iloc[pos]`\n",
      "  use_col_names.update({col_names[l]:l})\n",
      "/var/folders/xx/46bbfzhs77j5z84b92fz834w0000gn/T/ipykernel_8896/3658594269.py:54: FutureWarning: Series.__getitem__ treating keys as positions is deprecated. In a future version, integer keys will always be treated as labels (consistent with DataFrame behavior). To access a value by position, use `ser.iloc[pos]`\n",
      "  use_col_names.update({col_names[l]:l})\n"
     ]
    },
    {
     "name": "stdout",
     "output_type": "stream",
     "text": [
      "328\n",
      "329\n"
     ]
    },
    {
     "name": "stderr",
     "output_type": "stream",
     "text": [
      "/var/folders/xx/46bbfzhs77j5z84b92fz834w0000gn/T/ipykernel_8896/3658594269.py:54: FutureWarning: Series.__getitem__ treating keys as positions is deprecated. In a future version, integer keys will always be treated as labels (consistent with DataFrame behavior). To access a value by position, use `ser.iloc[pos]`\n",
      "  use_col_names.update({col_names[l]:l})\n",
      "/var/folders/xx/46bbfzhs77j5z84b92fz834w0000gn/T/ipykernel_8896/3658594269.py:54: FutureWarning: Series.__getitem__ treating keys as positions is deprecated. In a future version, integer keys will always be treated as labels (consistent with DataFrame behavior). To access a value by position, use `ser.iloc[pos]`\n",
      "  use_col_names.update({col_names[l]:l})\n"
     ]
    },
    {
     "name": "stdout",
     "output_type": "stream",
     "text": [
      "330\n",
      "331\n"
     ]
    },
    {
     "name": "stderr",
     "output_type": "stream",
     "text": [
      "/var/folders/xx/46bbfzhs77j5z84b92fz834w0000gn/T/ipykernel_8896/3658594269.py:54: FutureWarning: Series.__getitem__ treating keys as positions is deprecated. In a future version, integer keys will always be treated as labels (consistent with DataFrame behavior). To access a value by position, use `ser.iloc[pos]`\n",
      "  use_col_names.update({col_names[l]:l})\n",
      "/var/folders/xx/46bbfzhs77j5z84b92fz834w0000gn/T/ipykernel_8896/3658594269.py:54: FutureWarning: Series.__getitem__ treating keys as positions is deprecated. In a future version, integer keys will always be treated as labels (consistent with DataFrame behavior). To access a value by position, use `ser.iloc[pos]`\n",
      "  use_col_names.update({col_names[l]:l})\n"
     ]
    },
    {
     "name": "stdout",
     "output_type": "stream",
     "text": [
      "332\n",
      "333\n"
     ]
    },
    {
     "name": "stderr",
     "output_type": "stream",
     "text": [
      "/var/folders/xx/46bbfzhs77j5z84b92fz834w0000gn/T/ipykernel_8896/3658594269.py:54: FutureWarning: Series.__getitem__ treating keys as positions is deprecated. In a future version, integer keys will always be treated as labels (consistent with DataFrame behavior). To access a value by position, use `ser.iloc[pos]`\n",
      "  use_col_names.update({col_names[l]:l})\n",
      "/var/folders/xx/46bbfzhs77j5z84b92fz834w0000gn/T/ipykernel_8896/3658594269.py:54: FutureWarning: Series.__getitem__ treating keys as positions is deprecated. In a future version, integer keys will always be treated as labels (consistent with DataFrame behavior). To access a value by position, use `ser.iloc[pos]`\n",
      "  use_col_names.update({col_names[l]:l})\n"
     ]
    },
    {
     "name": "stdout",
     "output_type": "stream",
     "text": [
      "334\n",
      "335\n"
     ]
    },
    {
     "name": "stderr",
     "output_type": "stream",
     "text": [
      "/var/folders/xx/46bbfzhs77j5z84b92fz834w0000gn/T/ipykernel_8896/3658594269.py:54: FutureWarning: Series.__getitem__ treating keys as positions is deprecated. In a future version, integer keys will always be treated as labels (consistent with DataFrame behavior). To access a value by position, use `ser.iloc[pos]`\n",
      "  use_col_names.update({col_names[l]:l})\n",
      "/var/folders/xx/46bbfzhs77j5z84b92fz834w0000gn/T/ipykernel_8896/3658594269.py:54: FutureWarning: Series.__getitem__ treating keys as positions is deprecated. In a future version, integer keys will always be treated as labels (consistent with DataFrame behavior). To access a value by position, use `ser.iloc[pos]`\n",
      "  use_col_names.update({col_names[l]:l})\n"
     ]
    },
    {
     "name": "stdout",
     "output_type": "stream",
     "text": [
      "336\n",
      "337\n"
     ]
    },
    {
     "name": "stderr",
     "output_type": "stream",
     "text": [
      "/var/folders/xx/46bbfzhs77j5z84b92fz834w0000gn/T/ipykernel_8896/3658594269.py:54: FutureWarning: Series.__getitem__ treating keys as positions is deprecated. In a future version, integer keys will always be treated as labels (consistent with DataFrame behavior). To access a value by position, use `ser.iloc[pos]`\n",
      "  use_col_names.update({col_names[l]:l})\n",
      "/var/folders/xx/46bbfzhs77j5z84b92fz834w0000gn/T/ipykernel_8896/3658594269.py:54: FutureWarning: Series.__getitem__ treating keys as positions is deprecated. In a future version, integer keys will always be treated as labels (consistent with DataFrame behavior). To access a value by position, use `ser.iloc[pos]`\n",
      "  use_col_names.update({col_names[l]:l})\n"
     ]
    },
    {
     "name": "stdout",
     "output_type": "stream",
     "text": [
      "338\n",
      "339\n"
     ]
    },
    {
     "name": "stderr",
     "output_type": "stream",
     "text": [
      "/var/folders/xx/46bbfzhs77j5z84b92fz834w0000gn/T/ipykernel_8896/3658594269.py:54: FutureWarning: Series.__getitem__ treating keys as positions is deprecated. In a future version, integer keys will always be treated as labels (consistent with DataFrame behavior). To access a value by position, use `ser.iloc[pos]`\n",
      "  use_col_names.update({col_names[l]:l})\n",
      "/var/folders/xx/46bbfzhs77j5z84b92fz834w0000gn/T/ipykernel_8896/3658594269.py:54: FutureWarning: Series.__getitem__ treating keys as positions is deprecated. In a future version, integer keys will always be treated as labels (consistent with DataFrame behavior). To access a value by position, use `ser.iloc[pos]`\n",
      "  use_col_names.update({col_names[l]:l})\n"
     ]
    },
    {
     "name": "stdout",
     "output_type": "stream",
     "text": [
      "340\n",
      "341\n"
     ]
    },
    {
     "name": "stderr",
     "output_type": "stream",
     "text": [
      "/var/folders/xx/46bbfzhs77j5z84b92fz834w0000gn/T/ipykernel_8896/3658594269.py:54: FutureWarning: Series.__getitem__ treating keys as positions is deprecated. In a future version, integer keys will always be treated as labels (consistent with DataFrame behavior). To access a value by position, use `ser.iloc[pos]`\n",
      "  use_col_names.update({col_names[l]:l})\n",
      "/var/folders/xx/46bbfzhs77j5z84b92fz834w0000gn/T/ipykernel_8896/3658594269.py:54: FutureWarning: Series.__getitem__ treating keys as positions is deprecated. In a future version, integer keys will always be treated as labels (consistent with DataFrame behavior). To access a value by position, use `ser.iloc[pos]`\n",
      "  use_col_names.update({col_names[l]:l})\n"
     ]
    },
    {
     "name": "stdout",
     "output_type": "stream",
     "text": [
      "342\n",
      "343\n"
     ]
    },
    {
     "name": "stderr",
     "output_type": "stream",
     "text": [
      "/var/folders/xx/46bbfzhs77j5z84b92fz834w0000gn/T/ipykernel_8896/3658594269.py:54: FutureWarning: Series.__getitem__ treating keys as positions is deprecated. In a future version, integer keys will always be treated as labels (consistent with DataFrame behavior). To access a value by position, use `ser.iloc[pos]`\n",
      "  use_col_names.update({col_names[l]:l})\n",
      "/var/folders/xx/46bbfzhs77j5z84b92fz834w0000gn/T/ipykernel_8896/3658594269.py:54: FutureWarning: Series.__getitem__ treating keys as positions is deprecated. In a future version, integer keys will always be treated as labels (consistent with DataFrame behavior). To access a value by position, use `ser.iloc[pos]`\n",
      "  use_col_names.update({col_names[l]:l})\n"
     ]
    },
    {
     "name": "stdout",
     "output_type": "stream",
     "text": [
      "344\n",
      "345\n"
     ]
    },
    {
     "name": "stderr",
     "output_type": "stream",
     "text": [
      "/var/folders/xx/46bbfzhs77j5z84b92fz834w0000gn/T/ipykernel_8896/3658594269.py:54: FutureWarning: Series.__getitem__ treating keys as positions is deprecated. In a future version, integer keys will always be treated as labels (consistent with DataFrame behavior). To access a value by position, use `ser.iloc[pos]`\n",
      "  use_col_names.update({col_names[l]:l})\n",
      "/var/folders/xx/46bbfzhs77j5z84b92fz834w0000gn/T/ipykernel_8896/3658594269.py:54: FutureWarning: Series.__getitem__ treating keys as positions is deprecated. In a future version, integer keys will always be treated as labels (consistent with DataFrame behavior). To access a value by position, use `ser.iloc[pos]`\n",
      "  use_col_names.update({col_names[l]:l})\n"
     ]
    },
    {
     "name": "stdout",
     "output_type": "stream",
     "text": [
      "346\n",
      "347\n"
     ]
    },
    {
     "name": "stderr",
     "output_type": "stream",
     "text": [
      "/var/folders/xx/46bbfzhs77j5z84b92fz834w0000gn/T/ipykernel_8896/3658594269.py:54: FutureWarning: Series.__getitem__ treating keys as positions is deprecated. In a future version, integer keys will always be treated as labels (consistent with DataFrame behavior). To access a value by position, use `ser.iloc[pos]`\n",
      "  use_col_names.update({col_names[l]:l})\n",
      "/var/folders/xx/46bbfzhs77j5z84b92fz834w0000gn/T/ipykernel_8896/3658594269.py:54: FutureWarning: Series.__getitem__ treating keys as positions is deprecated. In a future version, integer keys will always be treated as labels (consistent with DataFrame behavior). To access a value by position, use `ser.iloc[pos]`\n",
      "  use_col_names.update({col_names[l]:l})\n"
     ]
    },
    {
     "name": "stdout",
     "output_type": "stream",
     "text": [
      "348\n",
      "349\n"
     ]
    },
    {
     "name": "stderr",
     "output_type": "stream",
     "text": [
      "/var/folders/xx/46bbfzhs77j5z84b92fz834w0000gn/T/ipykernel_8896/3658594269.py:54: FutureWarning: Series.__getitem__ treating keys as positions is deprecated. In a future version, integer keys will always be treated as labels (consistent with DataFrame behavior). To access a value by position, use `ser.iloc[pos]`\n",
      "  use_col_names.update({col_names[l]:l})\n",
      "/var/folders/xx/46bbfzhs77j5z84b92fz834w0000gn/T/ipykernel_8896/3658594269.py:54: FutureWarning: Series.__getitem__ treating keys as positions is deprecated. In a future version, integer keys will always be treated as labels (consistent with DataFrame behavior). To access a value by position, use `ser.iloc[pos]`\n",
      "  use_col_names.update({col_names[l]:l})\n"
     ]
    },
    {
     "name": "stdout",
     "output_type": "stream",
     "text": [
      "350\n",
      "351\n"
     ]
    },
    {
     "name": "stderr",
     "output_type": "stream",
     "text": [
      "/var/folders/xx/46bbfzhs77j5z84b92fz834w0000gn/T/ipykernel_8896/3658594269.py:54: FutureWarning: Series.__getitem__ treating keys as positions is deprecated. In a future version, integer keys will always be treated as labels (consistent with DataFrame behavior). To access a value by position, use `ser.iloc[pos]`\n",
      "  use_col_names.update({col_names[l]:l})\n",
      "/var/folders/xx/46bbfzhs77j5z84b92fz834w0000gn/T/ipykernel_8896/3658594269.py:54: FutureWarning: Series.__getitem__ treating keys as positions is deprecated. In a future version, integer keys will always be treated as labels (consistent with DataFrame behavior). To access a value by position, use `ser.iloc[pos]`\n",
      "  use_col_names.update({col_names[l]:l})\n"
     ]
    },
    {
     "name": "stdout",
     "output_type": "stream",
     "text": [
      "352\n",
      "353\n"
     ]
    },
    {
     "name": "stderr",
     "output_type": "stream",
     "text": [
      "/var/folders/xx/46bbfzhs77j5z84b92fz834w0000gn/T/ipykernel_8896/3658594269.py:54: FutureWarning: Series.__getitem__ treating keys as positions is deprecated. In a future version, integer keys will always be treated as labels (consistent with DataFrame behavior). To access a value by position, use `ser.iloc[pos]`\n",
      "  use_col_names.update({col_names[l]:l})\n",
      "/var/folders/xx/46bbfzhs77j5z84b92fz834w0000gn/T/ipykernel_8896/3658594269.py:54: FutureWarning: Series.__getitem__ treating keys as positions is deprecated. In a future version, integer keys will always be treated as labels (consistent with DataFrame behavior). To access a value by position, use `ser.iloc[pos]`\n",
      "  use_col_names.update({col_names[l]:l})\n"
     ]
    },
    {
     "name": "stdout",
     "output_type": "stream",
     "text": [
      "354\n",
      "355\n"
     ]
    },
    {
     "name": "stderr",
     "output_type": "stream",
     "text": [
      "/var/folders/xx/46bbfzhs77j5z84b92fz834w0000gn/T/ipykernel_8896/3658594269.py:54: FutureWarning: Series.__getitem__ treating keys as positions is deprecated. In a future version, integer keys will always be treated as labels (consistent with DataFrame behavior). To access a value by position, use `ser.iloc[pos]`\n",
      "  use_col_names.update({col_names[l]:l})\n",
      "/var/folders/xx/46bbfzhs77j5z84b92fz834w0000gn/T/ipykernel_8896/3658594269.py:54: FutureWarning: Series.__getitem__ treating keys as positions is deprecated. In a future version, integer keys will always be treated as labels (consistent with DataFrame behavior). To access a value by position, use `ser.iloc[pos]`\n",
      "  use_col_names.update({col_names[l]:l})\n"
     ]
    },
    {
     "name": "stdout",
     "output_type": "stream",
     "text": [
      "356\n",
      "357\n"
     ]
    },
    {
     "name": "stderr",
     "output_type": "stream",
     "text": [
      "/var/folders/xx/46bbfzhs77j5z84b92fz834w0000gn/T/ipykernel_8896/3658594269.py:54: FutureWarning: Series.__getitem__ treating keys as positions is deprecated. In a future version, integer keys will always be treated as labels (consistent with DataFrame behavior). To access a value by position, use `ser.iloc[pos]`\n",
      "  use_col_names.update({col_names[l]:l})\n",
      "/var/folders/xx/46bbfzhs77j5z84b92fz834w0000gn/T/ipykernel_8896/3658594269.py:54: FutureWarning: Series.__getitem__ treating keys as positions is deprecated. In a future version, integer keys will always be treated as labels (consistent with DataFrame behavior). To access a value by position, use `ser.iloc[pos]`\n",
      "  use_col_names.update({col_names[l]:l})\n"
     ]
    },
    {
     "name": "stdout",
     "output_type": "stream",
     "text": [
      "358\n",
      "359\n"
     ]
    },
    {
     "name": "stderr",
     "output_type": "stream",
     "text": [
      "/var/folders/xx/46bbfzhs77j5z84b92fz834w0000gn/T/ipykernel_8896/3658594269.py:54: FutureWarning: Series.__getitem__ treating keys as positions is deprecated. In a future version, integer keys will always be treated as labels (consistent with DataFrame behavior). To access a value by position, use `ser.iloc[pos]`\n",
      "  use_col_names.update({col_names[l]:l})\n",
      "/var/folders/xx/46bbfzhs77j5z84b92fz834w0000gn/T/ipykernel_8896/3658594269.py:54: FutureWarning: Series.__getitem__ treating keys as positions is deprecated. In a future version, integer keys will always be treated as labels (consistent with DataFrame behavior). To access a value by position, use `ser.iloc[pos]`\n",
      "  use_col_names.update({col_names[l]:l})\n"
     ]
    },
    {
     "name": "stdout",
     "output_type": "stream",
     "text": [
      "360\n",
      "361\n"
     ]
    },
    {
     "name": "stderr",
     "output_type": "stream",
     "text": [
      "/var/folders/xx/46bbfzhs77j5z84b92fz834w0000gn/T/ipykernel_8896/3658594269.py:54: FutureWarning: Series.__getitem__ treating keys as positions is deprecated. In a future version, integer keys will always be treated as labels (consistent with DataFrame behavior). To access a value by position, use `ser.iloc[pos]`\n",
      "  use_col_names.update({col_names[l]:l})\n",
      "/var/folders/xx/46bbfzhs77j5z84b92fz834w0000gn/T/ipykernel_8896/3658594269.py:54: FutureWarning: Series.__getitem__ treating keys as positions is deprecated. In a future version, integer keys will always be treated as labels (consistent with DataFrame behavior). To access a value by position, use `ser.iloc[pos]`\n",
      "  use_col_names.update({col_names[l]:l})\n"
     ]
    },
    {
     "name": "stdout",
     "output_type": "stream",
     "text": [
      "362\n",
      "363\n"
     ]
    },
    {
     "name": "stderr",
     "output_type": "stream",
     "text": [
      "/var/folders/xx/46bbfzhs77j5z84b92fz834w0000gn/T/ipykernel_8896/3658594269.py:54: FutureWarning: Series.__getitem__ treating keys as positions is deprecated. In a future version, integer keys will always be treated as labels (consistent with DataFrame behavior). To access a value by position, use `ser.iloc[pos]`\n",
      "  use_col_names.update({col_names[l]:l})\n",
      "/var/folders/xx/46bbfzhs77j5z84b92fz834w0000gn/T/ipykernel_8896/3658594269.py:54: FutureWarning: Series.__getitem__ treating keys as positions is deprecated. In a future version, integer keys will always be treated as labels (consistent with DataFrame behavior). To access a value by position, use `ser.iloc[pos]`\n",
      "  use_col_names.update({col_names[l]:l})\n"
     ]
    },
    {
     "name": "stdout",
     "output_type": "stream",
     "text": [
      "364\n",
      "365\n"
     ]
    },
    {
     "name": "stderr",
     "output_type": "stream",
     "text": [
      "/var/folders/xx/46bbfzhs77j5z84b92fz834w0000gn/T/ipykernel_8896/3658594269.py:54: FutureWarning: Series.__getitem__ treating keys as positions is deprecated. In a future version, integer keys will always be treated as labels (consistent with DataFrame behavior). To access a value by position, use `ser.iloc[pos]`\n",
      "  use_col_names.update({col_names[l]:l})\n",
      "/var/folders/xx/46bbfzhs77j5z84b92fz834w0000gn/T/ipykernel_8896/3658594269.py:54: FutureWarning: Series.__getitem__ treating keys as positions is deprecated. In a future version, integer keys will always be treated as labels (consistent with DataFrame behavior). To access a value by position, use `ser.iloc[pos]`\n",
      "  use_col_names.update({col_names[l]:l})\n"
     ]
    },
    {
     "name": "stdout",
     "output_type": "stream",
     "text": [
      "366\n",
      "367\n"
     ]
    },
    {
     "name": "stderr",
     "output_type": "stream",
     "text": [
      "/var/folders/xx/46bbfzhs77j5z84b92fz834w0000gn/T/ipykernel_8896/3658594269.py:54: FutureWarning: Series.__getitem__ treating keys as positions is deprecated. In a future version, integer keys will always be treated as labels (consistent with DataFrame behavior). To access a value by position, use `ser.iloc[pos]`\n",
      "  use_col_names.update({col_names[l]:l})\n",
      "/var/folders/xx/46bbfzhs77j5z84b92fz834w0000gn/T/ipykernel_8896/3658594269.py:54: FutureWarning: Series.__getitem__ treating keys as positions is deprecated. In a future version, integer keys will always be treated as labels (consistent with DataFrame behavior). To access a value by position, use `ser.iloc[pos]`\n",
      "  use_col_names.update({col_names[l]:l})\n"
     ]
    },
    {
     "name": "stdout",
     "output_type": "stream",
     "text": [
      "368\n",
      "369\n"
     ]
    },
    {
     "name": "stderr",
     "output_type": "stream",
     "text": [
      "/var/folders/xx/46bbfzhs77j5z84b92fz834w0000gn/T/ipykernel_8896/3658594269.py:54: FutureWarning: Series.__getitem__ treating keys as positions is deprecated. In a future version, integer keys will always be treated as labels (consistent with DataFrame behavior). To access a value by position, use `ser.iloc[pos]`\n",
      "  use_col_names.update({col_names[l]:l})\n",
      "/var/folders/xx/46bbfzhs77j5z84b92fz834w0000gn/T/ipykernel_8896/3658594269.py:54: FutureWarning: Series.__getitem__ treating keys as positions is deprecated. In a future version, integer keys will always be treated as labels (consistent with DataFrame behavior). To access a value by position, use `ser.iloc[pos]`\n",
      "  use_col_names.update({col_names[l]:l})\n"
     ]
    },
    {
     "name": "stdout",
     "output_type": "stream",
     "text": [
      "370\n",
      "371\n"
     ]
    },
    {
     "name": "stderr",
     "output_type": "stream",
     "text": [
      "/var/folders/xx/46bbfzhs77j5z84b92fz834w0000gn/T/ipykernel_8896/3658594269.py:54: FutureWarning: Series.__getitem__ treating keys as positions is deprecated. In a future version, integer keys will always be treated as labels (consistent with DataFrame behavior). To access a value by position, use `ser.iloc[pos]`\n",
      "  use_col_names.update({col_names[l]:l})\n",
      "/var/folders/xx/46bbfzhs77j5z84b92fz834w0000gn/T/ipykernel_8896/3658594269.py:54: FutureWarning: Series.__getitem__ treating keys as positions is deprecated. In a future version, integer keys will always be treated as labels (consistent with DataFrame behavior). To access a value by position, use `ser.iloc[pos]`\n",
      "  use_col_names.update({col_names[l]:l})\n"
     ]
    },
    {
     "name": "stdout",
     "output_type": "stream",
     "text": [
      "372\n",
      "373\n"
     ]
    },
    {
     "name": "stderr",
     "output_type": "stream",
     "text": [
      "/var/folders/xx/46bbfzhs77j5z84b92fz834w0000gn/T/ipykernel_8896/3658594269.py:54: FutureWarning: Series.__getitem__ treating keys as positions is deprecated. In a future version, integer keys will always be treated as labels (consistent with DataFrame behavior). To access a value by position, use `ser.iloc[pos]`\n",
      "  use_col_names.update({col_names[l]:l})\n",
      "/var/folders/xx/46bbfzhs77j5z84b92fz834w0000gn/T/ipykernel_8896/3658594269.py:54: FutureWarning: Series.__getitem__ treating keys as positions is deprecated. In a future version, integer keys will always be treated as labels (consistent with DataFrame behavior). To access a value by position, use `ser.iloc[pos]`\n",
      "  use_col_names.update({col_names[l]:l})\n"
     ]
    },
    {
     "name": "stdout",
     "output_type": "stream",
     "text": [
      "374\n",
      "375\n"
     ]
    },
    {
     "name": "stderr",
     "output_type": "stream",
     "text": [
      "/var/folders/xx/46bbfzhs77j5z84b92fz834w0000gn/T/ipykernel_8896/3658594269.py:54: FutureWarning: Series.__getitem__ treating keys as positions is deprecated. In a future version, integer keys will always be treated as labels (consistent with DataFrame behavior). To access a value by position, use `ser.iloc[pos]`\n",
      "  use_col_names.update({col_names[l]:l})\n",
      "/var/folders/xx/46bbfzhs77j5z84b92fz834w0000gn/T/ipykernel_8896/3658594269.py:54: FutureWarning: Series.__getitem__ treating keys as positions is deprecated. In a future version, integer keys will always be treated as labels (consistent with DataFrame behavior). To access a value by position, use `ser.iloc[pos]`\n",
      "  use_col_names.update({col_names[l]:l})\n"
     ]
    },
    {
     "name": "stdout",
     "output_type": "stream",
     "text": [
      "376\n",
      "377\n"
     ]
    },
    {
     "name": "stderr",
     "output_type": "stream",
     "text": [
      "/var/folders/xx/46bbfzhs77j5z84b92fz834w0000gn/T/ipykernel_8896/3658594269.py:54: FutureWarning: Series.__getitem__ treating keys as positions is deprecated. In a future version, integer keys will always be treated as labels (consistent with DataFrame behavior). To access a value by position, use `ser.iloc[pos]`\n",
      "  use_col_names.update({col_names[l]:l})\n",
      "/var/folders/xx/46bbfzhs77j5z84b92fz834w0000gn/T/ipykernel_8896/3658594269.py:54: FutureWarning: Series.__getitem__ treating keys as positions is deprecated. In a future version, integer keys will always be treated as labels (consistent with DataFrame behavior). To access a value by position, use `ser.iloc[pos]`\n",
      "  use_col_names.update({col_names[l]:l})\n"
     ]
    },
    {
     "name": "stdout",
     "output_type": "stream",
     "text": [
      "378\n",
      "379\n"
     ]
    },
    {
     "name": "stderr",
     "output_type": "stream",
     "text": [
      "/var/folders/xx/46bbfzhs77j5z84b92fz834w0000gn/T/ipykernel_8896/3658594269.py:54: FutureWarning: Series.__getitem__ treating keys as positions is deprecated. In a future version, integer keys will always be treated as labels (consistent with DataFrame behavior). To access a value by position, use `ser.iloc[pos]`\n",
      "  use_col_names.update({col_names[l]:l})\n",
      "/var/folders/xx/46bbfzhs77j5z84b92fz834w0000gn/T/ipykernel_8896/3658594269.py:54: FutureWarning: Series.__getitem__ treating keys as positions is deprecated. In a future version, integer keys will always be treated as labels (consistent with DataFrame behavior). To access a value by position, use `ser.iloc[pos]`\n",
      "  use_col_names.update({col_names[l]:l})\n"
     ]
    },
    {
     "name": "stdout",
     "output_type": "stream",
     "text": [
      "380\n",
      "381\n"
     ]
    },
    {
     "name": "stderr",
     "output_type": "stream",
     "text": [
      "/var/folders/xx/46bbfzhs77j5z84b92fz834w0000gn/T/ipykernel_8896/3658594269.py:54: FutureWarning: Series.__getitem__ treating keys as positions is deprecated. In a future version, integer keys will always be treated as labels (consistent with DataFrame behavior). To access a value by position, use `ser.iloc[pos]`\n",
      "  use_col_names.update({col_names[l]:l})\n",
      "/var/folders/xx/46bbfzhs77j5z84b92fz834w0000gn/T/ipykernel_8896/3658594269.py:54: FutureWarning: Series.__getitem__ treating keys as positions is deprecated. In a future version, integer keys will always be treated as labels (consistent with DataFrame behavior). To access a value by position, use `ser.iloc[pos]`\n",
      "  use_col_names.update({col_names[l]:l})\n"
     ]
    },
    {
     "name": "stdout",
     "output_type": "stream",
     "text": [
      "382\n",
      "383\n"
     ]
    },
    {
     "name": "stderr",
     "output_type": "stream",
     "text": [
      "/var/folders/xx/46bbfzhs77j5z84b92fz834w0000gn/T/ipykernel_8896/3658594269.py:54: FutureWarning: Series.__getitem__ treating keys as positions is deprecated. In a future version, integer keys will always be treated as labels (consistent with DataFrame behavior). To access a value by position, use `ser.iloc[pos]`\n",
      "  use_col_names.update({col_names[l]:l})\n",
      "/var/folders/xx/46bbfzhs77j5z84b92fz834w0000gn/T/ipykernel_8896/3658594269.py:54: FutureWarning: Series.__getitem__ treating keys as positions is deprecated. In a future version, integer keys will always be treated as labels (consistent with DataFrame behavior). To access a value by position, use `ser.iloc[pos]`\n",
      "  use_col_names.update({col_names[l]:l})\n"
     ]
    },
    {
     "name": "stdout",
     "output_type": "stream",
     "text": [
      "384\n",
      "385\n"
     ]
    },
    {
     "name": "stderr",
     "output_type": "stream",
     "text": [
      "/var/folders/xx/46bbfzhs77j5z84b92fz834w0000gn/T/ipykernel_8896/3658594269.py:54: FutureWarning: Series.__getitem__ treating keys as positions is deprecated. In a future version, integer keys will always be treated as labels (consistent with DataFrame behavior). To access a value by position, use `ser.iloc[pos]`\n",
      "  use_col_names.update({col_names[l]:l})\n",
      "/var/folders/xx/46bbfzhs77j5z84b92fz834w0000gn/T/ipykernel_8896/3658594269.py:54: FutureWarning: Series.__getitem__ treating keys as positions is deprecated. In a future version, integer keys will always be treated as labels (consistent with DataFrame behavior). To access a value by position, use `ser.iloc[pos]`\n",
      "  use_col_names.update({col_names[l]:l})\n"
     ]
    },
    {
     "name": "stdout",
     "output_type": "stream",
     "text": [
      "386\n",
      "387\n"
     ]
    },
    {
     "name": "stderr",
     "output_type": "stream",
     "text": [
      "/var/folders/xx/46bbfzhs77j5z84b92fz834w0000gn/T/ipykernel_8896/3658594269.py:54: FutureWarning: Series.__getitem__ treating keys as positions is deprecated. In a future version, integer keys will always be treated as labels (consistent with DataFrame behavior). To access a value by position, use `ser.iloc[pos]`\n",
      "  use_col_names.update({col_names[l]:l})\n",
      "/var/folders/xx/46bbfzhs77j5z84b92fz834w0000gn/T/ipykernel_8896/3658594269.py:54: FutureWarning: Series.__getitem__ treating keys as positions is deprecated. In a future version, integer keys will always be treated as labels (consistent with DataFrame behavior). To access a value by position, use `ser.iloc[pos]`\n",
      "  use_col_names.update({col_names[l]:l})\n"
     ]
    },
    {
     "name": "stdout",
     "output_type": "stream",
     "text": [
      "388\n",
      "389\n"
     ]
    },
    {
     "name": "stderr",
     "output_type": "stream",
     "text": [
      "/var/folders/xx/46bbfzhs77j5z84b92fz834w0000gn/T/ipykernel_8896/3658594269.py:54: FutureWarning: Series.__getitem__ treating keys as positions is deprecated. In a future version, integer keys will always be treated as labels (consistent with DataFrame behavior). To access a value by position, use `ser.iloc[pos]`\n",
      "  use_col_names.update({col_names[l]:l})\n",
      "/var/folders/xx/46bbfzhs77j5z84b92fz834w0000gn/T/ipykernel_8896/3658594269.py:54: FutureWarning: Series.__getitem__ treating keys as positions is deprecated. In a future version, integer keys will always be treated as labels (consistent with DataFrame behavior). To access a value by position, use `ser.iloc[pos]`\n",
      "  use_col_names.update({col_names[l]:l})\n"
     ]
    },
    {
     "name": "stdout",
     "output_type": "stream",
     "text": [
      "390\n",
      "391\n"
     ]
    },
    {
     "name": "stderr",
     "output_type": "stream",
     "text": [
      "/var/folders/xx/46bbfzhs77j5z84b92fz834w0000gn/T/ipykernel_8896/3658594269.py:54: FutureWarning: Series.__getitem__ treating keys as positions is deprecated. In a future version, integer keys will always be treated as labels (consistent with DataFrame behavior). To access a value by position, use `ser.iloc[pos]`\n",
      "  use_col_names.update({col_names[l]:l})\n",
      "/var/folders/xx/46bbfzhs77j5z84b92fz834w0000gn/T/ipykernel_8896/3658594269.py:54: FutureWarning: Series.__getitem__ treating keys as positions is deprecated. In a future version, integer keys will always be treated as labels (consistent with DataFrame behavior). To access a value by position, use `ser.iloc[pos]`\n",
      "  use_col_names.update({col_names[l]:l})\n"
     ]
    },
    {
     "name": "stdout",
     "output_type": "stream",
     "text": [
      "392\n",
      "393\n"
     ]
    },
    {
     "name": "stderr",
     "output_type": "stream",
     "text": [
      "/var/folders/xx/46bbfzhs77j5z84b92fz834w0000gn/T/ipykernel_8896/3658594269.py:54: FutureWarning: Series.__getitem__ treating keys as positions is deprecated. In a future version, integer keys will always be treated as labels (consistent with DataFrame behavior). To access a value by position, use `ser.iloc[pos]`\n",
      "  use_col_names.update({col_names[l]:l})\n",
      "/var/folders/xx/46bbfzhs77j5z84b92fz834w0000gn/T/ipykernel_8896/3658594269.py:54: FutureWarning: Series.__getitem__ treating keys as positions is deprecated. In a future version, integer keys will always be treated as labels (consistent with DataFrame behavior). To access a value by position, use `ser.iloc[pos]`\n",
      "  use_col_names.update({col_names[l]:l})\n"
     ]
    },
    {
     "name": "stdout",
     "output_type": "stream",
     "text": [
      "394\n",
      "395\n"
     ]
    },
    {
     "name": "stderr",
     "output_type": "stream",
     "text": [
      "/var/folders/xx/46bbfzhs77j5z84b92fz834w0000gn/T/ipykernel_8896/3658594269.py:54: FutureWarning: Series.__getitem__ treating keys as positions is deprecated. In a future version, integer keys will always be treated as labels (consistent with DataFrame behavior). To access a value by position, use `ser.iloc[pos]`\n",
      "  use_col_names.update({col_names[l]:l})\n",
      "/var/folders/xx/46bbfzhs77j5z84b92fz834w0000gn/T/ipykernel_8896/3658594269.py:54: FutureWarning: Series.__getitem__ treating keys as positions is deprecated. In a future version, integer keys will always be treated as labels (consistent with DataFrame behavior). To access a value by position, use `ser.iloc[pos]`\n",
      "  use_col_names.update({col_names[l]:l})\n"
     ]
    },
    {
     "name": "stdout",
     "output_type": "stream",
     "text": [
      "396\n",
      "397\n"
     ]
    },
    {
     "name": "stderr",
     "output_type": "stream",
     "text": [
      "/var/folders/xx/46bbfzhs77j5z84b92fz834w0000gn/T/ipykernel_8896/3658594269.py:54: FutureWarning: Series.__getitem__ treating keys as positions is deprecated. In a future version, integer keys will always be treated as labels (consistent with DataFrame behavior). To access a value by position, use `ser.iloc[pos]`\n",
      "  use_col_names.update({col_names[l]:l})\n",
      "/var/folders/xx/46bbfzhs77j5z84b92fz834w0000gn/T/ipykernel_8896/3658594269.py:54: FutureWarning: Series.__getitem__ treating keys as positions is deprecated. In a future version, integer keys will always be treated as labels (consistent with DataFrame behavior). To access a value by position, use `ser.iloc[pos]`\n",
      "  use_col_names.update({col_names[l]:l})\n"
     ]
    },
    {
     "name": "stdout",
     "output_type": "stream",
     "text": [
      "398\n",
      "399\n"
     ]
    },
    {
     "name": "stderr",
     "output_type": "stream",
     "text": [
      "/var/folders/xx/46bbfzhs77j5z84b92fz834w0000gn/T/ipykernel_8896/3658594269.py:54: FutureWarning: Series.__getitem__ treating keys as positions is deprecated. In a future version, integer keys will always be treated as labels (consistent with DataFrame behavior). To access a value by position, use `ser.iloc[pos]`\n",
      "  use_col_names.update({col_names[l]:l})\n",
      "/var/folders/xx/46bbfzhs77j5z84b92fz834w0000gn/T/ipykernel_8896/3658594269.py:54: FutureWarning: Series.__getitem__ treating keys as positions is deprecated. In a future version, integer keys will always be treated as labels (consistent with DataFrame behavior). To access a value by position, use `ser.iloc[pos]`\n",
      "  use_col_names.update({col_names[l]:l})\n"
     ]
    },
    {
     "name": "stdout",
     "output_type": "stream",
     "text": [
      "400\n",
      "401\n"
     ]
    },
    {
     "name": "stderr",
     "output_type": "stream",
     "text": [
      "/var/folders/xx/46bbfzhs77j5z84b92fz834w0000gn/T/ipykernel_8896/3658594269.py:54: FutureWarning: Series.__getitem__ treating keys as positions is deprecated. In a future version, integer keys will always be treated as labels (consistent with DataFrame behavior). To access a value by position, use `ser.iloc[pos]`\n",
      "  use_col_names.update({col_names[l]:l})\n",
      "/var/folders/xx/46bbfzhs77j5z84b92fz834w0000gn/T/ipykernel_8896/3658594269.py:54: FutureWarning: Series.__getitem__ treating keys as positions is deprecated. In a future version, integer keys will always be treated as labels (consistent with DataFrame behavior). To access a value by position, use `ser.iloc[pos]`\n",
      "  use_col_names.update({col_names[l]:l})\n"
     ]
    },
    {
     "name": "stdout",
     "output_type": "stream",
     "text": [
      "402\n",
      "403\n"
     ]
    },
    {
     "name": "stderr",
     "output_type": "stream",
     "text": [
      "/var/folders/xx/46bbfzhs77j5z84b92fz834w0000gn/T/ipykernel_8896/3658594269.py:54: FutureWarning: Series.__getitem__ treating keys as positions is deprecated. In a future version, integer keys will always be treated as labels (consistent with DataFrame behavior). To access a value by position, use `ser.iloc[pos]`\n",
      "  use_col_names.update({col_names[l]:l})\n",
      "/var/folders/xx/46bbfzhs77j5z84b92fz834w0000gn/T/ipykernel_8896/3658594269.py:54: FutureWarning: Series.__getitem__ treating keys as positions is deprecated. In a future version, integer keys will always be treated as labels (consistent with DataFrame behavior). To access a value by position, use `ser.iloc[pos]`\n",
      "  use_col_names.update({col_names[l]:l})\n"
     ]
    },
    {
     "name": "stdout",
     "output_type": "stream",
     "text": [
      "404\n",
      "405\n"
     ]
    },
    {
     "name": "stderr",
     "output_type": "stream",
     "text": [
      "/var/folders/xx/46bbfzhs77j5z84b92fz834w0000gn/T/ipykernel_8896/3658594269.py:54: FutureWarning: Series.__getitem__ treating keys as positions is deprecated. In a future version, integer keys will always be treated as labels (consistent with DataFrame behavior). To access a value by position, use `ser.iloc[pos]`\n",
      "  use_col_names.update({col_names[l]:l})\n",
      "/var/folders/xx/46bbfzhs77j5z84b92fz834w0000gn/T/ipykernel_8896/3658594269.py:54: FutureWarning: Series.__getitem__ treating keys as positions is deprecated. In a future version, integer keys will always be treated as labels (consistent with DataFrame behavior). To access a value by position, use `ser.iloc[pos]`\n",
      "  use_col_names.update({col_names[l]:l})\n"
     ]
    },
    {
     "name": "stdout",
     "output_type": "stream",
     "text": [
      "406\n",
      "407\n"
     ]
    },
    {
     "name": "stderr",
     "output_type": "stream",
     "text": [
      "/var/folders/xx/46bbfzhs77j5z84b92fz834w0000gn/T/ipykernel_8896/3658594269.py:54: FutureWarning: Series.__getitem__ treating keys as positions is deprecated. In a future version, integer keys will always be treated as labels (consistent with DataFrame behavior). To access a value by position, use `ser.iloc[pos]`\n",
      "  use_col_names.update({col_names[l]:l})\n",
      "/var/folders/xx/46bbfzhs77j5z84b92fz834w0000gn/T/ipykernel_8896/3658594269.py:54: FutureWarning: Series.__getitem__ treating keys as positions is deprecated. In a future version, integer keys will always be treated as labels (consistent with DataFrame behavior). To access a value by position, use `ser.iloc[pos]`\n",
      "  use_col_names.update({col_names[l]:l})\n"
     ]
    },
    {
     "name": "stdout",
     "output_type": "stream",
     "text": [
      "408\n",
      "409\n"
     ]
    },
    {
     "name": "stderr",
     "output_type": "stream",
     "text": [
      "/var/folders/xx/46bbfzhs77j5z84b92fz834w0000gn/T/ipykernel_8896/3658594269.py:54: FutureWarning: Series.__getitem__ treating keys as positions is deprecated. In a future version, integer keys will always be treated as labels (consistent with DataFrame behavior). To access a value by position, use `ser.iloc[pos]`\n",
      "  use_col_names.update({col_names[l]:l})\n",
      "/var/folders/xx/46bbfzhs77j5z84b92fz834w0000gn/T/ipykernel_8896/3658594269.py:54: FutureWarning: Series.__getitem__ treating keys as positions is deprecated. In a future version, integer keys will always be treated as labels (consistent with DataFrame behavior). To access a value by position, use `ser.iloc[pos]`\n",
      "  use_col_names.update({col_names[l]:l})\n"
     ]
    },
    {
     "name": "stdout",
     "output_type": "stream",
     "text": [
      "410\n",
      "411\n"
     ]
    },
    {
     "name": "stderr",
     "output_type": "stream",
     "text": [
      "/var/folders/xx/46bbfzhs77j5z84b92fz834w0000gn/T/ipykernel_8896/3658594269.py:54: FutureWarning: Series.__getitem__ treating keys as positions is deprecated. In a future version, integer keys will always be treated as labels (consistent with DataFrame behavior). To access a value by position, use `ser.iloc[pos]`\n",
      "  use_col_names.update({col_names[l]:l})\n",
      "/var/folders/xx/46bbfzhs77j5z84b92fz834w0000gn/T/ipykernel_8896/3658594269.py:54: FutureWarning: Series.__getitem__ treating keys as positions is deprecated. In a future version, integer keys will always be treated as labels (consistent with DataFrame behavior). To access a value by position, use `ser.iloc[pos]`\n",
      "  use_col_names.update({col_names[l]:l})\n"
     ]
    },
    {
     "name": "stdout",
     "output_type": "stream",
     "text": [
      "412\n",
      "413\n"
     ]
    },
    {
     "name": "stderr",
     "output_type": "stream",
     "text": [
      "/var/folders/xx/46bbfzhs77j5z84b92fz834w0000gn/T/ipykernel_8896/3658594269.py:54: FutureWarning: Series.__getitem__ treating keys as positions is deprecated. In a future version, integer keys will always be treated as labels (consistent with DataFrame behavior). To access a value by position, use `ser.iloc[pos]`\n",
      "  use_col_names.update({col_names[l]:l})\n",
      "/var/folders/xx/46bbfzhs77j5z84b92fz834w0000gn/T/ipykernel_8896/3658594269.py:54: FutureWarning: Series.__getitem__ treating keys as positions is deprecated. In a future version, integer keys will always be treated as labels (consistent with DataFrame behavior). To access a value by position, use `ser.iloc[pos]`\n",
      "  use_col_names.update({col_names[l]:l})\n"
     ]
    },
    {
     "name": "stdout",
     "output_type": "stream",
     "text": [
      "414\n",
      "415\n"
     ]
    },
    {
     "name": "stderr",
     "output_type": "stream",
     "text": [
      "/var/folders/xx/46bbfzhs77j5z84b92fz834w0000gn/T/ipykernel_8896/3658594269.py:54: FutureWarning: Series.__getitem__ treating keys as positions is deprecated. In a future version, integer keys will always be treated as labels (consistent with DataFrame behavior). To access a value by position, use `ser.iloc[pos]`\n",
      "  use_col_names.update({col_names[l]:l})\n",
      "/var/folders/xx/46bbfzhs77j5z84b92fz834w0000gn/T/ipykernel_8896/3658594269.py:54: FutureWarning: Series.__getitem__ treating keys as positions is deprecated. In a future version, integer keys will always be treated as labels (consistent with DataFrame behavior). To access a value by position, use `ser.iloc[pos]`\n",
      "  use_col_names.update({col_names[l]:l})\n"
     ]
    },
    {
     "name": "stdout",
     "output_type": "stream",
     "text": [
      "416\n",
      "417\n"
     ]
    },
    {
     "name": "stderr",
     "output_type": "stream",
     "text": [
      "/var/folders/xx/46bbfzhs77j5z84b92fz834w0000gn/T/ipykernel_8896/3658594269.py:54: FutureWarning: Series.__getitem__ treating keys as positions is deprecated. In a future version, integer keys will always be treated as labels (consistent with DataFrame behavior). To access a value by position, use `ser.iloc[pos]`\n",
      "  use_col_names.update({col_names[l]:l})\n",
      "/var/folders/xx/46bbfzhs77j5z84b92fz834w0000gn/T/ipykernel_8896/3658594269.py:54: FutureWarning: Series.__getitem__ treating keys as positions is deprecated. In a future version, integer keys will always be treated as labels (consistent with DataFrame behavior). To access a value by position, use `ser.iloc[pos]`\n",
      "  use_col_names.update({col_names[l]:l})\n"
     ]
    },
    {
     "name": "stdout",
     "output_type": "stream",
     "text": [
      "418\n",
      "CPU times: user 39 s, sys: 1.99 s, total: 40.9 s\n",
      "Wall time: 2min 23s\n"
     ]
    }
   ],
   "source": [
    "%%time\n",
    "if skip != 1:\n",
    "    error_urls, list_dfs = [],[]\n",
    "    #for i in range(-200,-201):\n",
    "    for i in range(len(all_urls)):\n",
    "        print(i)\n",
    "        if \".csv\" in all_urls[i]:\n",
    "            date = str(1988 + int(all_urls[i][1:3])) +\"_\" +  str(all_urls[i][3:5]) + \"_\" +  \"01\"\n",
    "            file_url = \"https://www5.cao.go.jp/keizai3/kako_csv/\" +  all_urls[i]\n",
    "            try:\n",
    "                df_tmp = pd.read_csv(file_url,encoding=\"cp932\")\n",
    "                df_out = extract_data(df_tmp)\n",
    "                df_out[\"date\"] = date\n",
    "                if \"watcher4\" in all_urls[i]:\n",
    "                    df_out[\"type\"] = \"now\"\n",
    "                else:\n",
    "                    df_out[\"type\"] = \"future\"\n",
    "                list_dfs.append(df_out)\n",
    "\n",
    "            except:\n",
    "                error_urls.append(file_url)\n",
    "    \n",
    "        else:\n",
    "        \n",
    "            date = all_urls[i][0:4] +\"_\" +  all_urls[i][5:7] + \"_\" +  all_urls[i][7:9] \n",
    "            # 現状\n",
    "            file_url = url_head + all_urls[i].strip(\"menu.html\") + \"watcher4.csv\"\n",
    "            try:\n",
    "                df_tmp = pd.read_csv(file_url,encoding=\"cp932\")\n",
    "                df_out = extract_data(df_tmp)\n",
    "                df_out[\"date\"] = date\n",
    "                df_out[\"type\"] = \"now\"\n",
    "                list_dfs.append(df_out)\n",
    "\n",
    "            except:\n",
    "                error_urls.append(file_url)\n",
    "               \n",
    "            \n",
    "\n",
    "\n",
    "            # 先行き\n",
    "            file_url = url_head + all_urls[i].strip(\"menu.html\") + \"watcher5.csv\"\n",
    "\n",
    "            try:\n",
    "                df_tmp = pd.read_csv(file_url,encoding=\"cp932\")\n",
    "                df_out = extract_data(df_tmp)\n",
    "                df_out[\"date\"] = date\n",
    "                df_out[\"type\"] = \"future\"\n",
    "                list_dfs.append(df_out)\n",
    "\n",
    "            except:\n",
    "                #print(file_url)\n",
    "                error_urls.append(file_url)\n",
    "\n",
    "            # 甲信越　現状\n",
    "            file_url = url_head + all_urls[i].strip(\"menu.html\") + \"watcher6.csv\"\n",
    "            try:\n",
    "                df_tmp = pd.read_csv(file_url,encoding=\"cp932\")\n",
    "                df_out = extract_data(df_tmp)\n",
    "                df_out[\"date\"] = date\n",
    "                df_out[\"type\"] = \"now_koushin\"\n",
    "                list_dfs.append(df_out)\n",
    "\n",
    "            except:\n",
    "                error_urls.append(file_url)\n",
    "\n",
    "            # 甲信越　先行き\n",
    "            file_url = url_head + all_urls[i].strip(\"menu.html\") + \"watcher7.csv\"\n",
    "            try:\n",
    "                df_tmp = pd.read_csv(file_url,encoding=\"cp932\")\n",
    "                df_out = extract_data(df_tmp)\n",
    "                df_out[\"date\"] = date\n",
    "                df_out[\"type\"] = \"future_koushin\"\n",
    "                list_dfs.append(df_out)\n",
    "\n",
    "            except:\n",
    "                error_urls.append(file_url)"
   ]
  },
  {
   "cell_type": "code",
   "execution_count": null,
   "metadata": {},
   "outputs": [],
   "source": []
  },
  {
   "cell_type": "code",
   "execution_count": null,
   "metadata": {},
   "outputs": [],
   "source": []
  },
  {
   "cell_type": "markdown",
   "metadata": {},
   "source": [
    "# Concatenate all together"
   ]
  },
  {
   "cell_type": "code",
   "execution_count": 9,
   "metadata": {},
   "outputs": [],
   "source": [
    "if skip != 1:\n",
    "    # concatenate\n",
    "    df = pd.concat(list_dfs)\n",
    "\n",
    "    # change symbols to values\n",
    "    df[\"label\"] = df[\"symbol\"].map(kigou2value)\n",
    "\n",
    "    # count type\n",
    "    df[\"type\"].value_counts()"
   ]
  },
  {
   "cell_type": "code",
   "execution_count": null,
   "metadata": {},
   "outputs": [],
   "source": []
  },
  {
   "cell_type": "code",
   "execution_count": null,
   "metadata": {},
   "outputs": [],
   "source": []
  },
  {
   "cell_type": "markdown",
   "metadata": {},
   "source": [
    "# Save"
   ]
  },
  {
   "cell_type": "code",
   "execution_count": 10,
   "metadata": {},
   "outputs": [],
   "source": [
    "if skip != 1:\n",
    "    # save\n",
    "    df.to_csv(\"SuperD_Class5_keiki.csv\",index=False)"
   ]
  },
  {
   "cell_type": "code",
   "execution_count": null,
   "metadata": {},
   "outputs": [],
   "source": []
  },
  {
   "cell_type": "markdown",
   "metadata": {},
   "source": [
    "# Load"
   ]
  },
  {
   "cell_type": "code",
   "execution_count": 11,
   "metadata": {},
   "outputs": [
    {
     "data": {
      "text/plain": [
       "date\n",
       "2020_04_08    2948\n",
       "2020_05_13    2941\n",
       "2020_06_08    2898\n",
       "2014_04_08    2891\n",
       "2013_09_09    2877\n",
       "              ... \n",
       "2000_05_01     220\n",
       "2000_04_01     203\n",
       "2000_02_01     201\n",
       "2000_03_01     190\n",
       "2000_01_01     145\n",
       "Name: count, Length: 290, dtype: int64"
      ]
     },
     "execution_count": 11,
     "metadata": {},
     "output_type": "execute_result"
    }
   ],
   "source": [
    "df[\"date\"].value_counts()"
   ]
  },
  {
   "cell_type": "code",
   "execution_count": 12,
   "metadata": {},
   "outputs": [],
   "source": [
    "# Load\n",
    "df = pd.read_csv(\"SuperD_Class5_keiki.csv\",low_memory=False)\n",
    "\n",
    "# change to datetime format\n",
    "df[\"date\"] = pd.to_datetime(df[\"date\"],format=\"%Y_%m_%d\")"
   ]
  },
  {
   "cell_type": "code",
   "execution_count": 13,
   "metadata": {},
   "outputs": [
    {
     "data": {
      "text/html": [
       "<div>\n",
       "<style scoped>\n",
       "    .dataframe tbody tr th:only-of-type {\n",
       "        vertical-align: middle;\n",
       "    }\n",
       "\n",
       "    .dataframe tbody tr th {\n",
       "        vertical-align: top;\n",
       "    }\n",
       "\n",
       "    .dataframe thead th {\n",
       "        text-align: right;\n",
       "    }\n",
       "</style>\n",
       "<table border=\"1\" class=\"dataframe\">\n",
       "  <thead>\n",
       "    <tr style=\"text-align: right;\">\n",
       "      <th></th>\n",
       "      <th>region</th>\n",
       "      <th>symbol</th>\n",
       "      <th>industry</th>\n",
       "      <th>topic</th>\n",
       "      <th>text</th>\n",
       "      <th>date</th>\n",
       "      <th>type</th>\n",
       "      <th>label</th>\n",
       "    </tr>\n",
       "  </thead>\n",
       "  <tbody>\n",
       "    <tr>\n",
       "      <th>0</th>\n",
       "      <td>北海道</td>\n",
       "      <td>◎</td>\n",
       "      <td>－</td>\n",
       "      <td>－</td>\n",
       "      <td>－</td>\n",
       "      <td>2010-02-08</td>\n",
       "      <td>now</td>\n",
       "      <td>5.0</td>\n",
       "    </tr>\n",
       "    <tr>\n",
       "      <th>1</th>\n",
       "      <td>北海道</td>\n",
       "      <td>○</td>\n",
       "      <td>商店街（代表者）</td>\n",
       "      <td>販売量の動き</td>\n",
       "      <td>・例年にないほど寒く、雪も多かったことから、防寒靴や手袋・マフラーなどの軽衣料などが良く売れ...</td>\n",
       "      <td>2010-02-08</td>\n",
       "      <td>now</td>\n",
       "      <td>4.0</td>\n",
       "    </tr>\n",
       "    <tr>\n",
       "      <th>2</th>\n",
       "      <td>北海道</td>\n",
       "      <td>○</td>\n",
       "      <td>百貨店（販売促進担当）</td>\n",
       "      <td>来客数の動き</td>\n",
       "      <td>・年末から来客数が微増で推移している。</td>\n",
       "      <td>2010-02-08</td>\n",
       "      <td>now</td>\n",
       "      <td>4.0</td>\n",
       "    </tr>\n",
       "    <tr>\n",
       "      <th>3</th>\n",
       "      <td>北海道</td>\n",
       "      <td>○</td>\n",
       "      <td>スーパー（店長）</td>\n",
       "      <td>販売量の動き</td>\n",
       "      <td>・３か月前と比較して販売量は減っているが、日曜が１日多かったこともあり、前年比は104.7％...</td>\n",
       "      <td>2010-02-08</td>\n",
       "      <td>now</td>\n",
       "      <td>4.0</td>\n",
       "    </tr>\n",
       "    <tr>\n",
       "      <th>4</th>\n",
       "      <td>北海道</td>\n",
       "      <td>○</td>\n",
       "      <td>旅行代理店（従業員）</td>\n",
       "      <td>来客数の動き</td>\n",
       "      <td>・１月半ばから来客数が増えてきている。ただ、低価格志向は相変わらずであり、売上が一気に好転す...</td>\n",
       "      <td>2010-02-08</td>\n",
       "      <td>now</td>\n",
       "      <td>4.0</td>\n",
       "    </tr>\n",
       "    <tr>\n",
       "      <th>...</th>\n",
       "      <td>...</td>\n",
       "      <td>...</td>\n",
       "      <td>...</td>\n",
       "      <td>...</td>\n",
       "      <td>...</td>\n",
       "      <td>...</td>\n",
       "      <td>...</td>\n",
       "      <td>...</td>\n",
       "    </tr>\n",
       "    <tr>\n",
       "      <th>656074</th>\n",
       "      <td>沖縄</td>\n",
       "      <td>○</td>\n",
       "      <td>＊</td>\n",
       "      <td>NaN</td>\n",
       "      <td>＊</td>\n",
       "      <td>2009-12-01</td>\n",
       "      <td>future</td>\n",
       "      <td>4.0</td>\n",
       "    </tr>\n",
       "    <tr>\n",
       "      <th>656075</th>\n",
       "      <td>沖縄</td>\n",
       "      <td>□</td>\n",
       "      <td>求人情報誌製作会社（総務担当）</td>\n",
       "      <td>NaN</td>\n",
       "      <td>・まだまだ景気回復の兆しが見られず、当面この状況が続く。</td>\n",
       "      <td>2009-12-01</td>\n",
       "      <td>future</td>\n",
       "      <td>3.0</td>\n",
       "    </tr>\n",
       "    <tr>\n",
       "      <th>656076</th>\n",
       "      <td>沖縄</td>\n",
       "      <td>▲</td>\n",
       "      <td>学校［専門学校］（就職担当）</td>\n",
       "      <td>NaN</td>\n",
       "      <td>・県内外のほとんどの企業の求人数が減少している。理由として次年度の景気の先行きが「不透明」だ...</td>\n",
       "      <td>2009-12-01</td>\n",
       "      <td>future</td>\n",
       "      <td>2.0</td>\n",
       "    </tr>\n",
       "    <tr>\n",
       "      <th>656077</th>\n",
       "      <td>沖縄</td>\n",
       "      <td>▲</td>\n",
       "      <td>学校［大学］（就職担当）</td>\n",
       "      <td>NaN</td>\n",
       "      <td>・県内企業の、採用を抑える方針は今後も続くと見込まれる。</td>\n",
       "      <td>2009-12-01</td>\n",
       "      <td>future</td>\n",
       "      <td>2.0</td>\n",
       "    </tr>\n",
       "    <tr>\n",
       "      <th>656078</th>\n",
       "      <td>沖縄</td>\n",
       "      <td>×</td>\n",
       "      <td>－</td>\n",
       "      <td>NaN</td>\n",
       "      <td>－</td>\n",
       "      <td>2009-12-01</td>\n",
       "      <td>future</td>\n",
       "      <td>1.0</td>\n",
       "    </tr>\n",
       "  </tbody>\n",
       "</table>\n",
       "<p>656079 rows × 8 columns</p>\n",
       "</div>"
      ],
      "text/plain": [
       "       region symbol         industry   topic  \\\n",
       "0         北海道      ◎                －       －   \n",
       "1         北海道      ○         商店街（代表者）  販売量の動き   \n",
       "2         北海道      ○      百貨店（販売促進担当）  来客数の動き   \n",
       "3         北海道      ○         スーパー（店長）  販売量の動き   \n",
       "4         北海道      ○       旅行代理店（従業員）  来客数の動き   \n",
       "...       ...    ...              ...     ...   \n",
       "656074     沖縄      ○                ＊     NaN   \n",
       "656075     沖縄      □  求人情報誌製作会社（総務担当）     NaN   \n",
       "656076     沖縄      ▲   学校［専門学校］（就職担当）     NaN   \n",
       "656077     沖縄      ▲     学校［大学］（就職担当）     NaN   \n",
       "656078     沖縄      ×                －     NaN   \n",
       "\n",
       "                                                     text       date    type  \\\n",
       "0                                                       － 2010-02-08     now   \n",
       "1       ・例年にないほど寒く、雪も多かったことから、防寒靴や手袋・マフラーなどの軽衣料などが良く売れ... 2010-02-08     now   \n",
       "2                                     ・年末から来客数が微増で推移している。 2010-02-08     now   \n",
       "3       ・３か月前と比較して販売量は減っているが、日曜が１日多かったこともあり、前年比は104.7％... 2010-02-08     now   \n",
       "4       ・１月半ばから来客数が増えてきている。ただ、低価格志向は相変わらずであり、売上が一気に好転す... 2010-02-08     now   \n",
       "...                                                   ...        ...     ...   \n",
       "656074                                                  ＊ 2009-12-01  future   \n",
       "656075                       ・まだまだ景気回復の兆しが見られず、当面この状況が続く。 2009-12-01  future   \n",
       "656076  ・県内外のほとんどの企業の求人数が減少している。理由として次年度の景気の先行きが「不透明」だ... 2009-12-01  future   \n",
       "656077                       ・県内企業の、採用を抑える方針は今後も続くと見込まれる。 2009-12-01  future   \n",
       "656078                                                  － 2009-12-01  future   \n",
       "\n",
       "        label  \n",
       "0         5.0  \n",
       "1         4.0  \n",
       "2         4.0  \n",
       "3         4.0  \n",
       "4         4.0  \n",
       "...       ...  \n",
       "656074    4.0  \n",
       "656075    3.0  \n",
       "656076    2.0  \n",
       "656077    2.0  \n",
       "656078    1.0  \n",
       "\n",
       "[656079 rows x 8 columns]"
      ]
     },
     "execution_count": 13,
     "metadata": {},
     "output_type": "execute_result"
    }
   ],
   "source": [
    "df"
   ]
  },
  {
   "cell_type": "code",
   "execution_count": null,
   "metadata": {},
   "outputs": [],
   "source": []
  }
 ],
 "metadata": {
  "kernelspec": {
   "display_name": "Python 3 (ipykernel)",
   "language": "python",
   "name": "python3"
  },
  "language_info": {
   "codemirror_mode": {
    "name": "ipython",
    "version": 3
   },
   "file_extension": ".py",
   "mimetype": "text/x-python",
   "name": "python",
   "nbconvert_exporter": "python",
   "pygments_lexer": "ipython3",
   "version": "3.12.5"
  }
 },
 "nbformat": 4,
 "nbformat_minor": 4
}
